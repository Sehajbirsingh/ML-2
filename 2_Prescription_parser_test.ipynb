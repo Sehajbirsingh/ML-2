{
  "cells": [
    {
      "cell_type": "markdown",
      "metadata": {
        "id": "rUHeGJuFvnYv"
      },
      "source": [
        "# Task 1: Create a Prescription Parser using CRF\n",
        "This task tests your ability to build a Doctor Prescription Parser with the help of CRF model\n",
        "\n",
        "Your job is to build a Prescription Parser that takes a prescription (sentence) as an input and find / label the words in that sentence with one of the already pre-defined labels\n",
        "\n",
        "### Problem: SEQUENCE PREDICTION - Label words in a sentence\n",
        "#### Input : Doctor Prescription in the form of a sentence split into tokens\n",
        "- Ex: Take 2 tablets once a day for 10 days\n",
        "\n",
        "#### Output : FHIR Labels\n",
        "- ('Take', 'Method')\n",
        "- ('2', 'Qty')\n",
        "- ('tablets', 'Form')\n",
        "- ('once', 'Frequency')\n",
        "- ('a', 'Period')\n",
        "- ('day', 'PeriodUnit')\n",
        "- ('for', 'FOR')\n",
        "- ('10', 'Duration')\n",
        "- ('days', 'DurationUnit')"
      ]
    },
    {
      "cell_type": "markdown",
      "metadata": {
        "id": "JzkSwHJovnY3"
      },
      "source": [
        "### Major Steps\n",
        "- Install necessary library\n",
        "- Import the libraries\n",
        "- Create training data with labels\n",
        "    - Split the sentence into tokens\n",
        "    - Compute POS tags\n",
        "    - Create triples\n",
        "- Extract features\n",
        "- Split the data into training and testing set\n",
        "- Create CRF model\n",
        "- Save the CRF model\n",
        "- Load the CRF model\n",
        "- Predict on test data\n",
        "- Accuracy"
      ]
    },
    {
      "cell_type": "markdown",
      "metadata": {
        "id": "GpOgAVxEvnY4"
      },
      "source": [
        "#### Install necesaary library"
      ]
    },
    {
      "cell_type": "code",
      "execution_count": 1,
      "metadata": {
        "colab": {
          "base_uri": "https://localhost:8080/"
        },
        "id": "SU97YlzDvnY6",
        "outputId": "4de58afd-6e64-40bb-cc50-41e456a1c68a"
      },
      "outputs": [
        {
          "output_type": "stream",
          "name": "stdout",
          "text": [
            "Collecting sklearn-crfsuite==0.3.6\n",
            "  Downloading sklearn_crfsuite-0.3.6-py2.py3-none-any.whl.metadata (3.8 kB)\n",
            "Collecting python-crfsuite>=0.8.3 (from sklearn-crfsuite==0.3.6)\n",
            "  Downloading python_crfsuite-0.9.11-cp310-cp310-manylinux_2_17_x86_64.manylinux2014_x86_64.whl.metadata (4.3 kB)\n",
            "Requirement already satisfied: six in /usr/local/lib/python3.10/dist-packages (from sklearn-crfsuite==0.3.6) (1.16.0)\n",
            "Requirement already satisfied: tabulate in /usr/local/lib/python3.10/dist-packages (from sklearn-crfsuite==0.3.6) (0.9.0)\n",
            "Requirement already satisfied: tqdm>=2.0 in /usr/local/lib/python3.10/dist-packages (from sklearn-crfsuite==0.3.6) (4.66.6)\n",
            "Downloading sklearn_crfsuite-0.3.6-py2.py3-none-any.whl (12 kB)\n",
            "Downloading python_crfsuite-0.9.11-cp310-cp310-manylinux_2_17_x86_64.manylinux2014_x86_64.whl (1.2 MB)\n",
            "\u001b[2K   \u001b[90m━━━━━━━━━━━━━━━━━━━━━━━━━━━━━━━━━━━━━━━━\u001b[0m \u001b[32m1.2/1.2 MB\u001b[0m \u001b[31m10.6 MB/s\u001b[0m eta \u001b[36m0:00:00\u001b[0m\n",
            "\u001b[?25hInstalling collected packages: python-crfsuite, sklearn-crfsuite\n",
            "Successfully installed python-crfsuite-0.9.11 sklearn-crfsuite-0.3.6\n",
            "Requirement already satisfied: nltk==3.8.1 in /usr/local/lib/python3.10/dist-packages (3.8.1)\n",
            "Requirement already satisfied: click in /usr/local/lib/python3.10/dist-packages (from nltk==3.8.1) (8.1.7)\n",
            "Requirement already satisfied: joblib in /usr/local/lib/python3.10/dist-packages (from nltk==3.8.1) (1.4.2)\n",
            "Requirement already satisfied: regex>=2021.8.3 in /usr/local/lib/python3.10/dist-packages (from nltk==3.8.1) (2024.9.11)\n",
            "Requirement already satisfied: tqdm in /usr/local/lib/python3.10/dist-packages (from nltk==3.8.1) (4.66.6)\n"
          ]
        }
      ],
      "source": [
        "!pip install sklearn-crfsuite==0.3.6\n",
        "!pip install nltk==3.8.1"
      ]
    },
    {
      "cell_type": "markdown",
      "metadata": {
        "id": "34ypgfPjvnY8"
      },
      "source": [
        "#### Import the necessary libraries"
      ]
    },
    {
      "cell_type": "code",
      "execution_count": 2,
      "metadata": {
        "colab": {
          "base_uri": "https://localhost:8080/"
        },
        "id": "8q6salYHvnY9",
        "outputId": "8bbb0826-a4d2-4f71-cb1b-0e046a5bb44f"
      },
      "outputs": [
        {
          "output_type": "stream",
          "name": "stderr",
          "text": [
            "[nltk_data] Downloading package averaged_perceptron_tagger to\n",
            "[nltk_data]     /root/nltk_data...\n",
            "[nltk_data]   Unzipping taggers/averaged_perceptron_tagger.zip.\n"
          ]
        },
        {
          "output_type": "execute_result",
          "data": {
            "text/plain": [
              "True"
            ]
          },
          "metadata": {},
          "execution_count": 2
        }
      ],
      "source": [
        "import nltk\n",
        "import sklearn_crfsuite\n",
        "from sklearn_crfsuite import metrics\n",
        "from sklearn.model_selection import train_test_split\n",
        "import pickle\n",
        "nltk.download('averaged_perceptron_tagger')\n"
      ]
    },
    {
      "cell_type": "markdown",
      "metadata": {
        "id": "Cyca2ZtSvnY9"
      },
      "source": [
        "### Input data (GIVEN)\n",
        "#### Creating the inputs to the ML model in the following form:\n",
        "- sigs --> ['take 3 tabs for 10 days']       INPUT SIG\n",
        "- input_sigs --> [['take', '3', 'tabs', 'for', '10', 'days']]      TOKENS\n",
        "- output_labels --> [['Method','Qty', 'Form', 'FOR', 'Duration', 'DurationUnit']]       LABELS"
      ]
    },
    {
      "cell_type": "code",
      "execution_count": 3,
      "metadata": {
        "id": "OAdkP9XwvnY-"
      },
      "outputs": [],
      "source": [
        "sigs = [\"for 5 to 6 days\", \"inject 2 units\", \"x 2 weeks\", \"x 3 days\", \"every day\", \"every 2 weeks\", \"every 3 days\", \"every 1 to 2 months\", \"every 2 to 6 weeks\", \"every 4 to 6 days\", \"take two to four tabs\", \"take 2 to 4 tabs\", \"take 3 tabs orally bid for 10 days at bedtime\", \"swallow three capsules tid orally\", \"take 2 capsules po every 6 hours\", \"take 2 tabs po for 10 days\", \"take 100 caps by mouth tid for 10 weeks\", \"take 2 tabs after an hour\", \"2 tabs every 4-6 hours\", \"every 4 to 6 hours\", \"q46h\", \"q4-6h\", \"2 hours before breakfast\", \"before 30 mins at bedtime\", \"30 mins before bed\", \"and 100 tabs twice a month\", \"100 tabs twice a month\", \"100 tabs once a month\", \"100 tabs thrice a month\", \"3 tabs daily for 3 days then 1 tab per day at bed\", \"30 tabs 10 days tid\", \"take 30 tabs for 10 days three times a day\", \"qid q6h\", \"bid\", \"qid\", \"30 tabs before dinner and bedtime\", \"30 tabs before dinner & bedtime\", \"take 3 tabs at bedtime\", \"30 tabs thrice daily for 10 days \", \"30 tabs for 10 days three times a day\", \"Take 2 tablets a day\", \"qid for 10 days\", \"every day\", \"take 2 caps at bedtime\", \"apply 3 drops before bedtime\", \"take three capsules daily\", \"swallow 3 pills once a day\", \"swallow three pills thrice a day\", \"apply daily\", \"apply three drops before bedtime\", \"every 6 hours\", \"before food\", \"after food\", \"for 20 days\", \"for twenty days\", \"with meals\"]\n",
        "input_sigs = [['for', '5', 'to', '6', 'days'], ['inject', '2', 'units'], ['x', '2', 'weeks'], ['x', '3', 'days'], ['every', 'day'], ['every', '2', 'weeks'], ['every', '3', 'days'], ['every', '1', 'to', '2', 'months'], ['every', '2', 'to', '6', 'weeks'], ['every', '4', 'to', '6', 'days'], ['take', 'two', 'to', 'four', 'tabs'], ['take', '2', 'to', '4', 'tabs'], ['take', '3', 'tabs', 'orally', 'bid', 'for', '10', 'days', 'at', 'bedtime'], ['swallow', 'three', 'capsules', 'tid', 'orally'], ['take', '2', 'capsules', 'po', 'every', '6', 'hours'], ['take', '2', 'tabs', 'po', 'for', '10', 'days'], ['take', '100', 'caps', 'by', 'mouth', 'tid', 'for', '10', 'weeks'], ['take', '2', 'tabs', 'after', 'an', 'hour'], ['2', 'tabs', 'every', '4-6', 'hours'], ['every', '4', 'to', '6', 'hours'], ['q46h'], ['q4-6h'], ['2', 'hours', 'before', 'breakfast'], ['before', '30', 'mins', 'at', 'bedtime'], ['30', 'mins', 'before', 'bed'], ['and', '100', 'tabs', 'twice', 'a', 'month'], ['100', 'tabs', 'twice', 'a', 'month'], ['100', 'tabs', 'once', 'a', 'month'], ['100', 'tabs', 'thrice', 'a', 'month'], ['3', 'tabs', 'daily', 'for', '3', 'days', 'then', '1', 'tab', 'per', 'day', 'at', 'bed'], ['30', 'tabs', '10', 'days', 'tid'], ['take', '30', 'tabs', 'for', '10', 'days', 'three', 'times', 'a', 'day'], ['qid', 'q6h'], ['bid'], ['qid'], ['30', 'tabs', 'before', 'dinner', 'and', 'bedtime'], ['30', 'tabs', 'before', 'dinner', '&', 'bedtime'], ['take', '3', 'tabs', 'at', 'bedtime'], ['30', 'tabs', 'thrice', 'daily', 'for', '10', 'days'], ['30', 'tabs', 'for', '10', 'days', 'three', 'times', 'a', 'day'], ['take', '2', 'tablets', 'a', 'day'], ['qid', 'for', '10', 'days'], ['every', 'day'], ['take', '2', 'caps', 'at', 'bedtime'], ['apply', '3', 'drops', 'before', 'bedtime'], ['take', 'three', 'capsules', 'daily'], ['swallow', '3', 'pills', 'once', 'a', 'day'], ['swallow', 'three', 'pills', 'thrice', 'a', 'day'], ['apply', 'daily'], ['apply', 'three', 'drops', 'before', 'bedtime'], ['every', '6', 'hours'], ['before', 'food'], ['after', 'food'], ['for', '20', 'days'], ['for', 'twenty', 'days'], ['with', 'meals']]\n",
        "output_labels = [['FOR', 'Duration', 'TO', 'DurationMax', 'DurationUnit'], ['Method', 'Qty', 'Form'], ['FOR', 'Duration', 'DurationUnit'], ['FOR', 'Duration', 'DurationUnit'], ['EVERY', 'Period'], ['EVERY', 'Period', 'PeriodUnit'], ['EVERY', 'Period', 'PeriodUnit'], ['EVERY', 'Period', 'TO', 'PeriodMax', 'PeriodUnit'], ['EVERY', 'Period', 'TO', 'PeriodMax', 'PeriodUnit'], ['EVERY', 'Period', 'TO', 'PeriodMax', 'PeriodUnit'], ['Method', 'Qty', 'TO', 'Qty', 'Form'], ['Method', 'Qty', 'TO', 'Qty', 'Form'], ['Method', 'Qty', 'Form', 'PO', 'BID', 'FOR', 'Duration', 'DurationUnit', 'AT', 'WHEN'], ['Method', 'Qty', 'Form', 'TID', 'PO'], ['Method', 'Qty', 'Form', 'PO', 'EVERY', 'Period', 'PeriodUnit'], ['Method', 'Qty', 'Form', 'PO', 'FOR', 'Duration', 'DurationUnit'], ['Method', 'Qty', 'Form', 'BY', 'PO', 'TID', 'FOR', 'Duration', 'DurationUnit'], ['Method', 'Qty', 'Form', 'AFTER', 'Period', 'PeriodUnit'], ['Qty', 'Form', 'EVERY', 'Period', 'PeriodUnit'], ['EVERY', 'Period', 'TO', 'PeriodMax', 'PeriodUnit'], ['Q46H'], ['Q4-6H'], ['Qty', 'PeriodUnit', 'BEFORE', 'WHEN'], ['BEFORE', 'Qty', 'M', 'AT', 'WHEN'], ['Qty', 'M', 'BEFORE', 'WHEN'], ['AND', 'Qty', 'Form', 'Frequency', 'Period', 'PeriodUnit'], ['Qty', 'Form', 'Frequency', 'Period', 'PeriodUnit'], ['Qty', 'Form', 'Frequency', 'Period', 'PeriodUnit'], ['Qty', 'Form', 'Frequency', 'Period', 'PeriodUnit'], ['Qty', 'Form', 'Frequency', 'FOR', 'Duration', 'DurationUnit', 'THEN', 'Qty', 'Form', 'Frequency', 'PeriodUnit', 'AT', 'WHEN'], ['Qty', 'Form', 'Duration', 'DurationUnit', 'TID'], ['Method', 'Qty', 'Form', 'FOR', 'Duration', 'DurationUnit', 'Qty', 'TIMES', 'Period', 'PeriodUnit'], ['QID', 'Q6H'], ['BID'], ['QID'],['Qty', 'Form', 'BEFORE', 'WHEN', 'AND', 'WHEN'], ['Qty', 'Form', 'BEFORE', 'WHEN', 'AND', 'WHEN'], ['Method', 'Qty', 'Form', 'AT', 'WHEN'], ['Qty', 'Form', 'Frequency', 'DAILY', 'FOR', 'Duration', 'DurationUnit'], ['Qty', 'Form', 'FOR', 'Duration', 'DurationUnit', 'Frequency', 'TIMES', 'Period', 'PeriodUnit'], ['Method', 'Qty', 'Form', 'Period', 'PeriodUnit'], ['QID', 'FOR', 'Duration', 'DurationUnit'], ['EVERY', 'PeriodUnit'], ['Method', 'Qty', 'Form', 'AT', 'WHEN'], ['Method', 'Qty', 'Form', 'BEFORE', 'WHEN'], ['Method', 'Qty', 'Form', 'DAILY'], ['Method', 'Qty', 'Form', 'Frequency', 'Period', 'PeriodUnit'], ['Method', 'Qty', 'Form', 'Frequency', 'Period', 'PeriodUnit'], ['Method', 'DAILY'], ['Method', 'Qty', 'Form', 'BEFORE', 'WHEN'], ['EVERY', 'Period', 'PeriodUnit'], ['BEFORE', 'FOOD'], ['AFTER', 'FOOD'], ['FOR', 'Duration', 'DurationUnit'], ['FOR', 'Duration', 'DurationUnit'], ['WITH', 'FOOD']]"
      ]
    },
    {
      "cell_type": "code",
      "execution_count": 4,
      "metadata": {
        "colab": {
          "base_uri": "https://localhost:8080/"
        },
        "id": "yuDxBEgfvnZB",
        "outputId": "591fdc31-5db7-44da-cfd8-13541e06122f"
      },
      "outputs": [
        {
          "output_type": "execute_result",
          "data": {
            "text/plain": [
              "(56, 56, 56)"
            ]
          },
          "metadata": {},
          "execution_count": 4
        }
      ],
      "source": [
        "len(sigs), len(input_sigs) , len(output_labels)"
      ]
    },
    {
      "cell_type": "markdown",
      "metadata": {
        "id": "sL5iYZTIvnZE"
      },
      "source": [
        "### Creating a Tuples Maker method\n",
        "Create the tuples as given below by writing a function **tuples_maker(input_sigs, output_labels)** and returns **output** as given below\n",
        "\n",
        "Input(s):\n",
        "- input_sigs\n",
        "- output_lables\n",
        "\n",
        "Output:\n",
        "\n",
        "[[('for', 'FOR'),\n",
        "  ('5', 'Duration'),\n",
        "  ('to', 'TO'),\n",
        "  ('6', 'DurationMax'),\n",
        "  ('days', 'DurationUnit')], [second sentence], ...]"
      ]
    },
    {
      "cell_type": "code",
      "execution_count": 5,
      "metadata": {
        "id": "xkZV2RvEvnZF"
      },
      "outputs": [],
      "source": [
        "def tuples_maker(inp, out):\n",
        "  # Input validation\n",
        "    if len(input_sigs) != len(output_labels):\n",
        "        raise ValueError(\"Input signatures and output labels must have the same length\")\n",
        "\n",
        "    # Initialize result list\n",
        "    sample_data = []\n",
        "\n",
        "    # Process each prescription\n",
        "    for tokens, labels in zip(input_sigs, output_labels):\n",
        "        # Validate that tokens and labels have same length\n",
        "        if len(tokens) != len(labels):\n",
        "            raise ValueError(f\"Mismatch in tokens and labels length: {tokens} vs {labels}\")\n",
        "\n",
        "        # Create tuples for current prescription\n",
        "        prescription_tuples = []\n",
        "        for token, label in zip(tokens, labels):\n",
        "            prescription_tuples.append((token, label))\n",
        "\n",
        "        # Add to result\n",
        "        sample_data.append(prescription_tuples)\n",
        "\n",
        "\n",
        "    return sample_data"
      ]
    },
    {
      "cell_type": "code",
      "source": [
        "from pprint import pprint\n",
        "\n",
        "# Create the tuples using our function\n",
        "tuples_maker_output = tuples_maker(input_sigs, output_labels)\n",
        "\n",
        "# Print in a nicely formatted way\n",
        "pprint(tuples_maker_output)"
      ],
      "metadata": {
        "colab": {
          "base_uri": "https://localhost:8080/"
        },
        "id": "Z4WmYscd060h",
        "outputId": "7e388015-2727-4df3-98b2-c6d1e4d6b46b"
      },
      "execution_count": 6,
      "outputs": [
        {
          "output_type": "stream",
          "name": "stdout",
          "text": [
            "[[('for', 'FOR'),\n",
            "  ('5', 'Duration'),\n",
            "  ('to', 'TO'),\n",
            "  ('6', 'DurationMax'),\n",
            "  ('days', 'DurationUnit')],\n",
            " [('inject', 'Method'), ('2', 'Qty'), ('units', 'Form')],\n",
            " [('x', 'FOR'), ('2', 'Duration'), ('weeks', 'DurationUnit')],\n",
            " [('x', 'FOR'), ('3', 'Duration'), ('days', 'DurationUnit')],\n",
            " [('every', 'EVERY'), ('day', 'Period')],\n",
            " [('every', 'EVERY'), ('2', 'Period'), ('weeks', 'PeriodUnit')],\n",
            " [('every', 'EVERY'), ('3', 'Period'), ('days', 'PeriodUnit')],\n",
            " [('every', 'EVERY'),\n",
            "  ('1', 'Period'),\n",
            "  ('to', 'TO'),\n",
            "  ('2', 'PeriodMax'),\n",
            "  ('months', 'PeriodUnit')],\n",
            " [('every', 'EVERY'),\n",
            "  ('2', 'Period'),\n",
            "  ('to', 'TO'),\n",
            "  ('6', 'PeriodMax'),\n",
            "  ('weeks', 'PeriodUnit')],\n",
            " [('every', 'EVERY'),\n",
            "  ('4', 'Period'),\n",
            "  ('to', 'TO'),\n",
            "  ('6', 'PeriodMax'),\n",
            "  ('days', 'PeriodUnit')],\n",
            " [('take', 'Method'),\n",
            "  ('two', 'Qty'),\n",
            "  ('to', 'TO'),\n",
            "  ('four', 'Qty'),\n",
            "  ('tabs', 'Form')],\n",
            " [('take', 'Method'),\n",
            "  ('2', 'Qty'),\n",
            "  ('to', 'TO'),\n",
            "  ('4', 'Qty'),\n",
            "  ('tabs', 'Form')],\n",
            " [('take', 'Method'),\n",
            "  ('3', 'Qty'),\n",
            "  ('tabs', 'Form'),\n",
            "  ('orally', 'PO'),\n",
            "  ('bid', 'BID'),\n",
            "  ('for', 'FOR'),\n",
            "  ('10', 'Duration'),\n",
            "  ('days', 'DurationUnit'),\n",
            "  ('at', 'AT'),\n",
            "  ('bedtime', 'WHEN')],\n",
            " [('swallow', 'Method'),\n",
            "  ('three', 'Qty'),\n",
            "  ('capsules', 'Form'),\n",
            "  ('tid', 'TID'),\n",
            "  ('orally', 'PO')],\n",
            " [('take', 'Method'),\n",
            "  ('2', 'Qty'),\n",
            "  ('capsules', 'Form'),\n",
            "  ('po', 'PO'),\n",
            "  ('every', 'EVERY'),\n",
            "  ('6', 'Period'),\n",
            "  ('hours', 'PeriodUnit')],\n",
            " [('take', 'Method'),\n",
            "  ('2', 'Qty'),\n",
            "  ('tabs', 'Form'),\n",
            "  ('po', 'PO'),\n",
            "  ('for', 'FOR'),\n",
            "  ('10', 'Duration'),\n",
            "  ('days', 'DurationUnit')],\n",
            " [('take', 'Method'),\n",
            "  ('100', 'Qty'),\n",
            "  ('caps', 'Form'),\n",
            "  ('by', 'BY'),\n",
            "  ('mouth', 'PO'),\n",
            "  ('tid', 'TID'),\n",
            "  ('for', 'FOR'),\n",
            "  ('10', 'Duration'),\n",
            "  ('weeks', 'DurationUnit')],\n",
            " [('take', 'Method'),\n",
            "  ('2', 'Qty'),\n",
            "  ('tabs', 'Form'),\n",
            "  ('after', 'AFTER'),\n",
            "  ('an', 'Period'),\n",
            "  ('hour', 'PeriodUnit')],\n",
            " [('2', 'Qty'),\n",
            "  ('tabs', 'Form'),\n",
            "  ('every', 'EVERY'),\n",
            "  ('4-6', 'Period'),\n",
            "  ('hours', 'PeriodUnit')],\n",
            " [('every', 'EVERY'),\n",
            "  ('4', 'Period'),\n",
            "  ('to', 'TO'),\n",
            "  ('6', 'PeriodMax'),\n",
            "  ('hours', 'PeriodUnit')],\n",
            " [('q46h', 'Q46H')],\n",
            " [('q4-6h', 'Q4-6H')],\n",
            " [('2', 'Qty'),\n",
            "  ('hours', 'PeriodUnit'),\n",
            "  ('before', 'BEFORE'),\n",
            "  ('breakfast', 'WHEN')],\n",
            " [('before', 'BEFORE'),\n",
            "  ('30', 'Qty'),\n",
            "  ('mins', 'M'),\n",
            "  ('at', 'AT'),\n",
            "  ('bedtime', 'WHEN')],\n",
            " [('30', 'Qty'), ('mins', 'M'), ('before', 'BEFORE'), ('bed', 'WHEN')],\n",
            " [('and', 'AND'),\n",
            "  ('100', 'Qty'),\n",
            "  ('tabs', 'Form'),\n",
            "  ('twice', 'Frequency'),\n",
            "  ('a', 'Period'),\n",
            "  ('month', 'PeriodUnit')],\n",
            " [('100', 'Qty'),\n",
            "  ('tabs', 'Form'),\n",
            "  ('twice', 'Frequency'),\n",
            "  ('a', 'Period'),\n",
            "  ('month', 'PeriodUnit')],\n",
            " [('100', 'Qty'),\n",
            "  ('tabs', 'Form'),\n",
            "  ('once', 'Frequency'),\n",
            "  ('a', 'Period'),\n",
            "  ('month', 'PeriodUnit')],\n",
            " [('100', 'Qty'),\n",
            "  ('tabs', 'Form'),\n",
            "  ('thrice', 'Frequency'),\n",
            "  ('a', 'Period'),\n",
            "  ('month', 'PeriodUnit')],\n",
            " [('3', 'Qty'),\n",
            "  ('tabs', 'Form'),\n",
            "  ('daily', 'Frequency'),\n",
            "  ('for', 'FOR'),\n",
            "  ('3', 'Duration'),\n",
            "  ('days', 'DurationUnit'),\n",
            "  ('then', 'THEN'),\n",
            "  ('1', 'Qty'),\n",
            "  ('tab', 'Form'),\n",
            "  ('per', 'Frequency'),\n",
            "  ('day', 'PeriodUnit'),\n",
            "  ('at', 'AT'),\n",
            "  ('bed', 'WHEN')],\n",
            " [('30', 'Qty'),\n",
            "  ('tabs', 'Form'),\n",
            "  ('10', 'Duration'),\n",
            "  ('days', 'DurationUnit'),\n",
            "  ('tid', 'TID')],\n",
            " [('take', 'Method'),\n",
            "  ('30', 'Qty'),\n",
            "  ('tabs', 'Form'),\n",
            "  ('for', 'FOR'),\n",
            "  ('10', 'Duration'),\n",
            "  ('days', 'DurationUnit'),\n",
            "  ('three', 'Qty'),\n",
            "  ('times', 'TIMES'),\n",
            "  ('a', 'Period'),\n",
            "  ('day', 'PeriodUnit')],\n",
            " [('qid', 'QID'), ('q6h', 'Q6H')],\n",
            " [('bid', 'BID')],\n",
            " [('qid', 'QID')],\n",
            " [('30', 'Qty'),\n",
            "  ('tabs', 'Form'),\n",
            "  ('before', 'BEFORE'),\n",
            "  ('dinner', 'WHEN'),\n",
            "  ('and', 'AND'),\n",
            "  ('bedtime', 'WHEN')],\n",
            " [('30', 'Qty'),\n",
            "  ('tabs', 'Form'),\n",
            "  ('before', 'BEFORE'),\n",
            "  ('dinner', 'WHEN'),\n",
            "  ('&', 'AND'),\n",
            "  ('bedtime', 'WHEN')],\n",
            " [('take', 'Method'),\n",
            "  ('3', 'Qty'),\n",
            "  ('tabs', 'Form'),\n",
            "  ('at', 'AT'),\n",
            "  ('bedtime', 'WHEN')],\n",
            " [('30', 'Qty'),\n",
            "  ('tabs', 'Form'),\n",
            "  ('thrice', 'Frequency'),\n",
            "  ('daily', 'DAILY'),\n",
            "  ('for', 'FOR'),\n",
            "  ('10', 'Duration'),\n",
            "  ('days', 'DurationUnit')],\n",
            " [('30', 'Qty'),\n",
            "  ('tabs', 'Form'),\n",
            "  ('for', 'FOR'),\n",
            "  ('10', 'Duration'),\n",
            "  ('days', 'DurationUnit'),\n",
            "  ('three', 'Frequency'),\n",
            "  ('times', 'TIMES'),\n",
            "  ('a', 'Period'),\n",
            "  ('day', 'PeriodUnit')],\n",
            " [('take', 'Method'),\n",
            "  ('2', 'Qty'),\n",
            "  ('tablets', 'Form'),\n",
            "  ('a', 'Period'),\n",
            "  ('day', 'PeriodUnit')],\n",
            " [('qid', 'QID'), ('for', 'FOR'), ('10', 'Duration'), ('days', 'DurationUnit')],\n",
            " [('every', 'EVERY'), ('day', 'PeriodUnit')],\n",
            " [('take', 'Method'),\n",
            "  ('2', 'Qty'),\n",
            "  ('caps', 'Form'),\n",
            "  ('at', 'AT'),\n",
            "  ('bedtime', 'WHEN')],\n",
            " [('apply', 'Method'),\n",
            "  ('3', 'Qty'),\n",
            "  ('drops', 'Form'),\n",
            "  ('before', 'BEFORE'),\n",
            "  ('bedtime', 'WHEN')],\n",
            " [('take', 'Method'),\n",
            "  ('three', 'Qty'),\n",
            "  ('capsules', 'Form'),\n",
            "  ('daily', 'DAILY')],\n",
            " [('swallow', 'Method'),\n",
            "  ('3', 'Qty'),\n",
            "  ('pills', 'Form'),\n",
            "  ('once', 'Frequency'),\n",
            "  ('a', 'Period'),\n",
            "  ('day', 'PeriodUnit')],\n",
            " [('swallow', 'Method'),\n",
            "  ('three', 'Qty'),\n",
            "  ('pills', 'Form'),\n",
            "  ('thrice', 'Frequency'),\n",
            "  ('a', 'Period'),\n",
            "  ('day', 'PeriodUnit')],\n",
            " [('apply', 'Method'), ('daily', 'DAILY')],\n",
            " [('apply', 'Method'),\n",
            "  ('three', 'Qty'),\n",
            "  ('drops', 'Form'),\n",
            "  ('before', 'BEFORE'),\n",
            "  ('bedtime', 'WHEN')],\n",
            " [('every', 'EVERY'), ('6', 'Period'), ('hours', 'PeriodUnit')],\n",
            " [('before', 'BEFORE'), ('food', 'FOOD')],\n",
            " [('after', 'AFTER'), ('food', 'FOOD')],\n",
            " [('for', 'FOR'), ('20', 'Duration'), ('days', 'DurationUnit')],\n",
            " [('for', 'FOR'), ('twenty', 'Duration'), ('days', 'DurationUnit')],\n",
            " [('with', 'WITH'), ('meals', 'FOOD')]]\n"
          ]
        }
      ]
    },
    {
      "cell_type": "markdown",
      "metadata": {
        "id": "Fveno0s-vnZG"
      },
      "source": [
        "### Creating the triples_maker( ) for feature extraction\n",
        "- input: tuples_maker_output\n",
        "- output:\n",
        "[[('for', 'IN', 'FOR'),\n",
        "  ('5', 'CD', 'Duration'),\n",
        "  ('to', 'TO', 'TO'),\n",
        "  ('6', 'CD', 'DurationMax'),\n",
        "  ('days', 'NNS', 'DurationUnit')], [second sentence], ... ]"
      ]
    },
    {
      "cell_type": "code",
      "execution_count": 7,
      "metadata": {
        "id": "1XNuxXPSvnZH"
      },
      "outputs": [],
      "source": [
        "def triples_maker(whole_data):\n",
        "    sample_data = []\n",
        "\n",
        "    # Process each prescription\n",
        "    for prescription in whole_data:\n",
        "        # Extract just the tokens from the current prescription\n",
        "        tokens = [token for token, _ in prescription]\n",
        "\n",
        "        # Get POS tags for the tokens\n",
        "        pos_tags = nltk.pos_tag(tokens)\n",
        "\n",
        "        # Create triples for current prescription\n",
        "        prescription_triples = []\n",
        "        for (token, pos_tag), (_, label) in zip(pos_tags, prescription):\n",
        "            prescription_triples.append((token, pos_tag, label))\n",
        "\n",
        "        # Add to result\n",
        "        sample_data.append(prescription_triples)\n",
        "    return sample_data"
      ]
    },
    {
      "cell_type": "code",
      "source": [
        "sample_data = triples_maker(tuples_maker_output)\n",
        "sample_data"
      ],
      "metadata": {
        "colab": {
          "base_uri": "https://localhost:8080/"
        },
        "id": "-lSKcKk72MdL",
        "outputId": "322cf2f7-90be-4193-e8cb-28615c686bf8"
      },
      "execution_count": 8,
      "outputs": [
        {
          "output_type": "execute_result",
          "data": {
            "text/plain": [
              "[[('for', 'IN', 'FOR'),\n",
              "  ('5', 'CD', 'Duration'),\n",
              "  ('to', 'TO', 'TO'),\n",
              "  ('6', 'CD', 'DurationMax'),\n",
              "  ('days', 'NNS', 'DurationUnit')],\n",
              " [('inject', 'JJ', 'Method'), ('2', 'CD', 'Qty'), ('units', 'NNS', 'Form')],\n",
              " [('x', 'RB', 'FOR'),\n",
              "  ('2', 'CD', 'Duration'),\n",
              "  ('weeks', 'NNS', 'DurationUnit')],\n",
              " [('x', 'RB', 'FOR'),\n",
              "  ('3', 'CD', 'Duration'),\n",
              "  ('days', 'NNS', 'DurationUnit')],\n",
              " [('every', 'DT', 'EVERY'), ('day', 'NN', 'Period')],\n",
              " [('every', 'DT', 'EVERY'),\n",
              "  ('2', 'CD', 'Period'),\n",
              "  ('weeks', 'NNS', 'PeriodUnit')],\n",
              " [('every', 'DT', 'EVERY'),\n",
              "  ('3', 'CD', 'Period'),\n",
              "  ('days', 'NNS', 'PeriodUnit')],\n",
              " [('every', 'DT', 'EVERY'),\n",
              "  ('1', 'CD', 'Period'),\n",
              "  ('to', 'TO', 'TO'),\n",
              "  ('2', 'CD', 'PeriodMax'),\n",
              "  ('months', 'NNS', 'PeriodUnit')],\n",
              " [('every', 'DT', 'EVERY'),\n",
              "  ('2', 'CD', 'Period'),\n",
              "  ('to', 'TO', 'TO'),\n",
              "  ('6', 'CD', 'PeriodMax'),\n",
              "  ('weeks', 'NNS', 'PeriodUnit')],\n",
              " [('every', 'DT', 'EVERY'),\n",
              "  ('4', 'CD', 'Period'),\n",
              "  ('to', 'TO', 'TO'),\n",
              "  ('6', 'CD', 'PeriodMax'),\n",
              "  ('days', 'NNS', 'PeriodUnit')],\n",
              " [('take', 'VB', 'Method'),\n",
              "  ('two', 'CD', 'Qty'),\n",
              "  ('to', 'TO', 'TO'),\n",
              "  ('four', 'CD', 'Qty'),\n",
              "  ('tabs', 'NNS', 'Form')],\n",
              " [('take', 'VB', 'Method'),\n",
              "  ('2', 'CD', 'Qty'),\n",
              "  ('to', 'TO', 'TO'),\n",
              "  ('4', 'CD', 'Qty'),\n",
              "  ('tabs', 'NNS', 'Form')],\n",
              " [('take', 'VB', 'Method'),\n",
              "  ('3', 'CD', 'Qty'),\n",
              "  ('tabs', 'NNS', 'Form'),\n",
              "  ('orally', 'RB', 'PO'),\n",
              "  ('bid', 'VBP', 'BID'),\n",
              "  ('for', 'IN', 'FOR'),\n",
              "  ('10', 'CD', 'Duration'),\n",
              "  ('days', 'NNS', 'DurationUnit'),\n",
              "  ('at', 'IN', 'AT'),\n",
              "  ('bedtime', 'NN', 'WHEN')],\n",
              " [('swallow', 'JJ', 'Method'),\n",
              "  ('three', 'CD', 'Qty'),\n",
              "  ('capsules', 'NNS', 'Form'),\n",
              "  ('tid', 'VBP', 'TID'),\n",
              "  ('orally', 'RB', 'PO')],\n",
              " [('take', 'VB', 'Method'),\n",
              "  ('2', 'CD', 'Qty'),\n",
              "  ('capsules', 'NNS', 'Form'),\n",
              "  ('po', 'RB', 'PO'),\n",
              "  ('every', 'DT', 'EVERY'),\n",
              "  ('6', 'CD', 'Period'),\n",
              "  ('hours', 'NNS', 'PeriodUnit')],\n",
              " [('take', 'VB', 'Method'),\n",
              "  ('2', 'CD', 'Qty'),\n",
              "  ('tabs', 'NNS', 'Form'),\n",
              "  ('po', 'NN', 'PO'),\n",
              "  ('for', 'IN', 'FOR'),\n",
              "  ('10', 'CD', 'Duration'),\n",
              "  ('days', 'NNS', 'DurationUnit')],\n",
              " [('take', 'VB', 'Method'),\n",
              "  ('100', 'CD', 'Qty'),\n",
              "  ('caps', 'NNS', 'Form'),\n",
              "  ('by', 'IN', 'BY'),\n",
              "  ('mouth', 'NN', 'PO'),\n",
              "  ('tid', 'NN', 'TID'),\n",
              "  ('for', 'IN', 'FOR'),\n",
              "  ('10', 'CD', 'Duration'),\n",
              "  ('weeks', 'NNS', 'DurationUnit')],\n",
              " [('take', 'VB', 'Method'),\n",
              "  ('2', 'CD', 'Qty'),\n",
              "  ('tabs', 'NNS', 'Form'),\n",
              "  ('after', 'IN', 'AFTER'),\n",
              "  ('an', 'DT', 'Period'),\n",
              "  ('hour', 'NN', 'PeriodUnit')],\n",
              " [('2', 'CD', 'Qty'),\n",
              "  ('tabs', 'JJ', 'Form'),\n",
              "  ('every', 'DT', 'EVERY'),\n",
              "  ('4-6', 'JJ', 'Period'),\n",
              "  ('hours', 'NNS', 'PeriodUnit')],\n",
              " [('every', 'DT', 'EVERY'),\n",
              "  ('4', 'CD', 'Period'),\n",
              "  ('to', 'TO', 'TO'),\n",
              "  ('6', 'CD', 'PeriodMax'),\n",
              "  ('hours', 'NNS', 'PeriodUnit')],\n",
              " [('q46h', 'NN', 'Q46H')],\n",
              " [('q4-6h', 'NN', 'Q4-6H')],\n",
              " [('2', 'CD', 'Qty'),\n",
              "  ('hours', 'NNS', 'PeriodUnit'),\n",
              "  ('before', 'IN', 'BEFORE'),\n",
              "  ('breakfast', 'NN', 'WHEN')],\n",
              " [('before', 'IN', 'BEFORE'),\n",
              "  ('30', 'CD', 'Qty'),\n",
              "  ('mins', 'NNS', 'M'),\n",
              "  ('at', 'IN', 'AT'),\n",
              "  ('bedtime', 'NN', 'WHEN')],\n",
              " [('30', 'CD', 'Qty'),\n",
              "  ('mins', 'NNS', 'M'),\n",
              "  ('before', 'IN', 'BEFORE'),\n",
              "  ('bed', 'NN', 'WHEN')],\n",
              " [('and', 'CC', 'AND'),\n",
              "  ('100', 'CD', 'Qty'),\n",
              "  ('tabs', 'NNS', 'Form'),\n",
              "  ('twice', 'RB', 'Frequency'),\n",
              "  ('a', 'DT', 'Period'),\n",
              "  ('month', 'NN', 'PeriodUnit')],\n",
              " [('100', 'CD', 'Qty'),\n",
              "  ('tabs', 'JJ', 'Form'),\n",
              "  ('twice', 'RB', 'Frequency'),\n",
              "  ('a', 'DT', 'Period'),\n",
              "  ('month', 'NN', 'PeriodUnit')],\n",
              " [('100', 'CD', 'Qty'),\n",
              "  ('tabs', 'NNS', 'Form'),\n",
              "  ('once', 'RB', 'Frequency'),\n",
              "  ('a', 'DT', 'Period'),\n",
              "  ('month', 'NN', 'PeriodUnit')],\n",
              " [('100', 'CD', 'Qty'),\n",
              "  ('tabs', 'JJ', 'Form'),\n",
              "  ('thrice', 'NN', 'Frequency'),\n",
              "  ('a', 'DT', 'Period'),\n",
              "  ('month', 'NN', 'PeriodUnit')],\n",
              " [('3', 'CD', 'Qty'),\n",
              "  ('tabs', 'JJ', 'Form'),\n",
              "  ('daily', 'RB', 'Frequency'),\n",
              "  ('for', 'IN', 'FOR'),\n",
              "  ('3', 'CD', 'Duration'),\n",
              "  ('days', 'NNS', 'DurationUnit'),\n",
              "  ('then', 'RB', 'THEN'),\n",
              "  ('1', 'CD', 'Qty'),\n",
              "  ('tab', 'NNS', 'Form'),\n",
              "  ('per', 'IN', 'Frequency'),\n",
              "  ('day', 'NN', 'PeriodUnit'),\n",
              "  ('at', 'IN', 'AT'),\n",
              "  ('bed', 'NN', 'WHEN')],\n",
              " [('30', 'CD', 'Qty'),\n",
              "  ('tabs', 'NNS', 'Form'),\n",
              "  ('10', 'CD', 'Duration'),\n",
              "  ('days', 'NNS', 'DurationUnit'),\n",
              "  ('tid', 'NN', 'TID')],\n",
              " [('take', 'VB', 'Method'),\n",
              "  ('30', 'CD', 'Qty'),\n",
              "  ('tabs', 'NNS', 'Form'),\n",
              "  ('for', 'IN', 'FOR'),\n",
              "  ('10', 'CD', 'Duration'),\n",
              "  ('days', 'NNS', 'DurationUnit'),\n",
              "  ('three', 'CD', 'Qty'),\n",
              "  ('times', 'NNS', 'TIMES'),\n",
              "  ('a', 'DT', 'Period'),\n",
              "  ('day', 'NN', 'PeriodUnit')],\n",
              " [('qid', 'NN', 'QID'), ('q6h', 'NN', 'Q6H')],\n",
              " [('bid', 'NN', 'BID')],\n",
              " [('qid', 'NN', 'QID')],\n",
              " [('30', 'CD', 'Qty'),\n",
              "  ('tabs', 'NNS', 'Form'),\n",
              "  ('before', 'IN', 'BEFORE'),\n",
              "  ('dinner', 'NN', 'WHEN'),\n",
              "  ('and', 'CC', 'AND'),\n",
              "  ('bedtime', 'NN', 'WHEN')],\n",
              " [('30', 'CD', 'Qty'),\n",
              "  ('tabs', 'NNS', 'Form'),\n",
              "  ('before', 'IN', 'BEFORE'),\n",
              "  ('dinner', 'NN', 'WHEN'),\n",
              "  ('&', 'CC', 'AND'),\n",
              "  ('bedtime', 'NN', 'WHEN')],\n",
              " [('take', 'VB', 'Method'),\n",
              "  ('3', 'CD', 'Qty'),\n",
              "  ('tabs', 'NNS', 'Form'),\n",
              "  ('at', 'IN', 'AT'),\n",
              "  ('bedtime', 'NN', 'WHEN')],\n",
              " [('30', 'CD', 'Qty'),\n",
              "  ('tabs', 'JJ', 'Form'),\n",
              "  ('thrice', 'JJ', 'Frequency'),\n",
              "  ('daily', 'RB', 'DAILY'),\n",
              "  ('for', 'IN', 'FOR'),\n",
              "  ('10', 'CD', 'Duration'),\n",
              "  ('days', 'NNS', 'DurationUnit')],\n",
              " [('30', 'CD', 'Qty'),\n",
              "  ('tabs', 'NNS', 'Form'),\n",
              "  ('for', 'IN', 'FOR'),\n",
              "  ('10', 'CD', 'Duration'),\n",
              "  ('days', 'NNS', 'DurationUnit'),\n",
              "  ('three', 'CD', 'Frequency'),\n",
              "  ('times', 'NNS', 'TIMES'),\n",
              "  ('a', 'DT', 'Period'),\n",
              "  ('day', 'NN', 'PeriodUnit')],\n",
              " [('take', 'VB', 'Method'),\n",
              "  ('2', 'CD', 'Qty'),\n",
              "  ('tablets', 'NNS', 'Form'),\n",
              "  ('a', 'DT', 'Period'),\n",
              "  ('day', 'NN', 'PeriodUnit')],\n",
              " [('qid', 'NN', 'QID'),\n",
              "  ('for', 'IN', 'FOR'),\n",
              "  ('10', 'CD', 'Duration'),\n",
              "  ('days', 'NNS', 'DurationUnit')],\n",
              " [('every', 'DT', 'EVERY'), ('day', 'NN', 'PeriodUnit')],\n",
              " [('take', 'VB', 'Method'),\n",
              "  ('2', 'CD', 'Qty'),\n",
              "  ('caps', 'NNS', 'Form'),\n",
              "  ('at', 'IN', 'AT'),\n",
              "  ('bedtime', 'NN', 'WHEN')],\n",
              " [('apply', 'RB', 'Method'),\n",
              "  ('3', 'CD', 'Qty'),\n",
              "  ('drops', 'NNS', 'Form'),\n",
              "  ('before', 'IN', 'BEFORE'),\n",
              "  ('bedtime', 'NN', 'WHEN')],\n",
              " [('take', 'VB', 'Method'),\n",
              "  ('three', 'CD', 'Qty'),\n",
              "  ('capsules', 'NNS', 'Form'),\n",
              "  ('daily', 'RB', 'DAILY')],\n",
              " [('swallow', 'JJ', 'Method'),\n",
              "  ('3', 'CD', 'Qty'),\n",
              "  ('pills', 'NNS', 'Form'),\n",
              "  ('once', 'RB', 'Frequency'),\n",
              "  ('a', 'DT', 'Period'),\n",
              "  ('day', 'NN', 'PeriodUnit')],\n",
              " [('swallow', 'JJ', 'Method'),\n",
              "  ('three', 'CD', 'Qty'),\n",
              "  ('pills', 'NNS', 'Form'),\n",
              "  ('thrice', 'VBP', 'Frequency'),\n",
              "  ('a', 'DT', 'Period'),\n",
              "  ('day', 'NN', 'PeriodUnit')],\n",
              " [('apply', 'VB', 'Method'), ('daily', 'JJ', 'DAILY')],\n",
              " [('apply', 'RB', 'Method'),\n",
              "  ('three', 'CD', 'Qty'),\n",
              "  ('drops', 'NNS', 'Form'),\n",
              "  ('before', 'IN', 'BEFORE'),\n",
              "  ('bedtime', 'NN', 'WHEN')],\n",
              " [('every', 'DT', 'EVERY'),\n",
              "  ('6', 'CD', 'Period'),\n",
              "  ('hours', 'NNS', 'PeriodUnit')],\n",
              " [('before', 'IN', 'BEFORE'), ('food', 'NN', 'FOOD')],\n",
              " [('after', 'IN', 'AFTER'), ('food', 'NN', 'FOOD')],\n",
              " [('for', 'IN', 'FOR'),\n",
              "  ('20', 'CD', 'Duration'),\n",
              "  ('days', 'NNS', 'DurationUnit')],\n",
              " [('for', 'IN', 'FOR'),\n",
              "  ('twenty', 'JJ', 'Duration'),\n",
              "  ('days', 'NNS', 'DurationUnit')],\n",
              " [('with', 'IN', 'WITH'), ('meals', 'NNS', 'FOOD')]]"
            ]
          },
          "metadata": {},
          "execution_count": 8
        }
      ]
    },
    {
      "cell_type": "markdown",
      "metadata": {
        "id": "2bby-L-3vnZI"
      },
      "source": [
        "### Creating the features extractor method (GIVEN as a BASELINE)\n",
        "#### The features used are:\n",
        "- SOS, EOS, lowercase, uppercase, title, digit, postag, previous_tag, next_tag\n",
        "#### Feel free to include more features"
      ]
    },
    {
      "cell_type": "code",
      "execution_count": 10,
      "metadata": {
        "id": "1g8m6BUdvnZJ"
      },
      "outputs": [],
      "source": [
        "def token_to_features(doc, i):\n",
        "    word = doc[i][0]\n",
        "    postag = doc[i][1]\n",
        "\n",
        "    # Common features for all words\n",
        "    features = [\n",
        "        'bias',\n",
        "        'word.lower=' + word.lower(),\n",
        "        'word[-3:]=' + word[-3:],\n",
        "        'word[-2:]=' + word[-2:],\n",
        "        'word.isupper=%s' % word.isupper(),\n",
        "        'word.istitle=%s' % word.istitle(),\n",
        "        'word.isdigit=%s' % word.isdigit(),\n",
        "        'postag=' + postag\n",
        "    ]\n",
        "\n",
        "    # Features for words that are not\n",
        "    # at the beginning of a document\n",
        "    if i > 0:\n",
        "        word1 = doc[i-1][0]\n",
        "        postag1 = doc[i-1][1]\n",
        "        features.extend([\n",
        "            '-1:word.lower=' + word1.lower(),\n",
        "            '-1:word.istitle=%s' % word1.istitle(),\n",
        "            '-1:word.isupper=%s' % word1.isupper(),\n",
        "            '-1:word.isdigit=%s' % word1.isdigit(),\n",
        "            '-1:postag=' + postag1\n",
        "        ])\n",
        "    else:\n",
        "        # Indicate that it is the 'beginning of a document'\n",
        "        features.append('BOS')\n",
        "\n",
        "    # Features for words that are not\n",
        "    # at the end of a document\n",
        "    if i < len(doc)-1:\n",
        "        word1 = doc[i+1][0]\n",
        "        postag1 = doc[i+1][1]\n",
        "        features.extend([\n",
        "            '+1:word.lower=' + word1.lower(),\n",
        "            '+1:word.istitle=%s' % word1.istitle(),\n",
        "            '+1:word.isupper=%s' % word1.isupper(),\n",
        "            '+1:word.isdigit=%s' % word1.isdigit(),\n",
        "            '+1:postag=' + postag1\n",
        "        ])\n",
        "    else:\n",
        "        # Indicate that it is the 'end of a document'\n",
        "        features.append('EOS')\n",
        "\n",
        "    return features"
      ]
    },
    {
      "cell_type": "markdown",
      "metadata": {
        "id": "mMtFmmg_vnZK"
      },
      "source": [
        "### Running the feature extractor on the training data\n",
        "- Feature extraction\n",
        "- Train-test-split"
      ]
    },
    {
      "cell_type": "code",
      "source": [
        "\n",
        "# Feature extraction\n",
        "def extract_features(doc):\n",
        "    return [token_to_features(doc, i) for i in range(len(doc))]\n",
        "\n",
        "def get_labels(doc):\n",
        "    return [label for token, postag, label in doc]\n",
        "\n",
        "X = [extract_features(doc) for doc in sample_data]\n",
        "y = [get_labels(doc) for doc in sample_data]\n",
        "\n",
        "# Train-test-split\n",
        "X_train, X_test, y_train, y_test = train_test_split(X, y, test_size=0.2, random_state=0)"
      ],
      "metadata": {
        "id": "xSnc4AUzHPZw"
      },
      "execution_count": 11,
      "outputs": []
    },
    {
      "cell_type": "code",
      "execution_count": 12,
      "metadata": {
        "colab": {
          "base_uri": "https://localhost:8080/",
          "height": 174
        },
        "id": "ajKdTUeBvnZK",
        "outputId": "fd4fb76b-4788-4172-8a2c-a665eaf4f801"
      },
      "outputs": [
        {
          "output_type": "execute_result",
          "data": {
            "text/plain": [
              "'# First, let\\'s extract features for each sentence in our data\\ndef extract_features_and_labels(data):\\n    X = []  # Features for all sentences\\n    y = []  # Labels for all sentences\\n    \\n    # Process each prescription\\n    for doc in data:\\n        # Extract features for each token in the prescription\\n        sentence_features = []\\n        sentence_labels = []\\n        \\n        for i in range(len(doc)):\\n            # Get features for current token\\n            token_features = token_to_features(doc, i)\\n            sentence_features.append(token_features)\\n            \\n            # Get label (it\\'s the third element in our triple)\\n            sentence_labels.append(doc[i][2])\\n            \\n        X.append(sentence_features)\\n        y.append(sentence_labels)\\n    \\n    return X, y\\n\\n# Extract features from our sample data\\nX, y = extract_features_and_labels(sample_data)\\n\\n# Split into train and test sets (using sklearn)\\nfrom sklearn.model_selection import train_test_split\\n\\nX_train, X_test, y_train, y_test = train_test_split(\\n    X, y, test_size=0.2, random_state=42\\n)\\n\\n# Print some information about the split\\nprint(f\"Training samples: {len(X_train)}\")\\nprint(f\"Test samples: {len(X_test)}\")\\n\\n# Optional: Print example of features for first token of first prescription\\nprint(\"\\nExample features for first token:\")\\nif X_train:\\n    pprint(X_train[0][0])'"
            ],
            "application/vnd.google.colaboratory.intrinsic+json": {
              "type": "string"
            }
          },
          "metadata": {},
          "execution_count": 12
        }
      ],
      "source": [
        "\"\"\"# First, let's extract features for each sentence in our data\n",
        "def extract_features_and_labels(data):\n",
        "    X = []  # Features for all sentences\n",
        "    y = []  # Labels for all sentences\n",
        "\n",
        "    # Process each prescription\n",
        "    for doc in data:\n",
        "        # Extract features for each token in the prescription\n",
        "        sentence_features = []\n",
        "        sentence_labels = []\n",
        "\n",
        "        for i in range(len(doc)):\n",
        "            # Get features for current token\n",
        "            token_features = token_to_features(doc, i)\n",
        "            sentence_features.append(token_features)\n",
        "\n",
        "            # Get label (it's the third element in our triple)\n",
        "            sentence_labels.append(doc[i][2])\n",
        "\n",
        "        X.append(sentence_features)\n",
        "        y.append(sentence_labels)\n",
        "\n",
        "    return X, y\n",
        "\n",
        "# Extract features from our sample data\n",
        "X, y = extract_features_and_labels(sample_data)\n",
        "\n",
        "# Split into train and test sets (using sklearn)\n",
        "from sklearn.model_selection import train_test_split\n",
        "\n",
        "X_train, X_test, y_train, y_test = train_test_split(\n",
        "    X, y, test_size=0.2, random_state=42\n",
        ")\n",
        "\n",
        "# Print some information about the split\n",
        "print(f\"Training samples: {len(X_train)}\")\n",
        "print(f\"Test samples: {len(X_test)}\")\n",
        "\n",
        "# Optional: Print example of features for first token of first prescription\n",
        "print(\"\\nExample features for first token:\")\n",
        "if X_train:\n",
        "    pprint(X_train[0][0])\"\"\""
      ]
    },
    {
      "cell_type": "markdown",
      "metadata": {
        "id": "7iLTWTMpvnZL"
      },
      "source": [
        "### Training the CRF model with the features extracted using the feature extractor method"
      ]
    },
    {
      "cell_type": "code",
      "source": [
        "from sklearn_crfsuite import CRF\n"
      ],
      "metadata": {
        "id": "KVu4A_68I5P3"
      },
      "execution_count": 17,
      "outputs": []
    },
    {
      "cell_type": "code",
      "source": [
        "# Training the CRF model\n",
        "crf = sklearn_crfsuite.CRF(\n",
        "    algorithm='lbfgs',\n",
        "    c1=0.1,                # L1 penalty\n",
        "    c2=0.01,               # L2 penalty (adjusted to match output)\n",
        "    max_iterations=1000,   # Maximum iterations\n",
        "    all_possible_transitions=True,\n",
        "    verbose=True           # Set verbose to True for output during training\n",
        ")\n",
        "\n",
        "# Train the model\n",
        "crf.fit(X_train, y_train)\n",
        "\n",
        "# Save the trained model as a pickle file\n",
        "model_filename = 'crf_model.pkl'\n",
        "with open(model_filename, 'wb') as model_file:\n",
        "    pickle.dump(crf, model_file)\n"
      ],
      "metadata": {
        "colab": {
          "base_uri": "https://localhost:8080/"
        },
        "id": "QaVbdIngMpdF",
        "outputId": "f1201b26-25ae-4496-b163-915b29820b60"
      },
      "execution_count": 22,
      "outputs": [
        {
          "output_type": "stream",
          "name": "stderr",
          "text": [
            "loading training data to CRFsuite: 100%|██████████| 44/44 [00:00<00:00, 10829.09it/s]\n"
          ]
        },
        {
          "output_type": "stream",
          "name": "stdout",
          "text": [
            "\n",
            "Feature generation\n",
            "type: CRF1d\n",
            "feature.minfreq: 0.000000\n",
            "feature.possible_states: 0\n",
            "feature.possible_transitions: 1\n",
            "0....1....2....3....4....5....6....7....8....9....10\n",
            "Number of features: 1841\n",
            "Seconds required: 0.006\n",
            "\n",
            "L-BFGS optimization\n",
            "c1: 0.100000\n",
            "c2: 0.010000\n",
            "num_memories: 6\n",
            "max_iterations: 1000\n",
            "epsilon: 0.000010\n",
            "stop: 10\n",
            "delta: 0.000010\n",
            "linesearch: MoreThuente\n",
            "linesearch.max_iterations: 20\n",
            "\n",
            "Iter 1   time=0.00  loss=598.93   active=1828  feature_norm=1.00\n",
            "Iter 2   time=0.01  loss=326.10   active=1568  feature_norm=6.31\n",
            "Iter 3   time=0.00  loss=256.46   active=1435  feature_norm=7.88\n",
            "Iter 4   time=0.00  loss=216.98   active=1338  feature_norm=8.21\n",
            "Iter 5   time=0.01  loss=154.74   active=1137  feature_norm=9.44\n",
            "Iter 6   time=0.00  loss=113.99   active=1118  feature_norm=10.83\n",
            "Iter 7   time=0.00  loss=80.21    active=1050  feature_norm=14.53\n",
            "Iter 8   time=0.00  loss=63.27    active=1088  feature_norm=16.00\n",
            "Iter 9   time=0.00  loss=58.92    active=1066  feature_norm=16.56\n",
            "Iter 10  time=0.00  loss=56.20    active=1033  feature_norm=17.31\n",
            "Iter 11  time=0.00  loss=54.33    active=966   feature_norm=17.85\n",
            "Iter 12  time=0.01  loss=52.65    active=894   feature_norm=18.02\n",
            "Iter 13  time=0.00  loss=50.94    active=824   feature_norm=18.14\n",
            "Iter 14  time=0.00  loss=47.89    active=628   feature_norm=18.89\n",
            "Iter 15  time=0.00  loss=47.36    active=573   feature_norm=18.95\n",
            "Iter 16  time=0.00  loss=45.92    active=611   feature_norm=19.03\n",
            "Iter 17  time=0.00  loss=45.52    active=584   feature_norm=19.13\n",
            "Iter 18  time=0.00  loss=45.06    active=544   feature_norm=19.16\n",
            "Iter 19  time=0.00  loss=44.60    active=499   feature_norm=19.40\n",
            "Iter 20  time=0.00  loss=44.56    active=471   feature_norm=19.75\n",
            "Iter 21  time=0.00  loss=44.11    active=474   feature_norm=19.78\n",
            "Iter 22  time=0.00  loss=44.00    active=462   feature_norm=19.87\n",
            "Iter 23  time=0.00  loss=43.86    active=448   feature_norm=19.99\n",
            "Iter 24  time=0.00  loss=43.63    active=422   feature_norm=20.32\n",
            "Iter 25  time=0.00  loss=43.53    active=412   feature_norm=20.56\n",
            "Iter 26  time=0.00  loss=43.37    active=436   feature_norm=20.70\n",
            "Iter 27  time=0.00  loss=43.28    active=427   feature_norm=20.80\n",
            "Iter 28  time=0.00  loss=43.18    active=392   feature_norm=20.87\n",
            "Iter 29  time=0.00  loss=43.12    active=383   feature_norm=21.07\n",
            "Iter 30  time=0.00  loss=43.02    active=388   feature_norm=21.01\n",
            "Iter 31  time=0.00  loss=42.95    active=372   feature_norm=21.01\n",
            "Iter 32  time=0.00  loss=42.86    active=353   feature_norm=21.08\n",
            "Iter 33  time=0.00  loss=42.79    active=358   feature_norm=21.12\n",
            "Iter 34  time=0.00  loss=42.74    active=349   feature_norm=21.16\n",
            "Iter 35  time=0.00  loss=42.70    active=343   feature_norm=21.21\n",
            "Iter 36  time=0.00  loss=42.67    active=339   feature_norm=21.24\n",
            "Iter 37  time=0.00  loss=42.64    active=341   feature_norm=21.27\n",
            "Iter 38  time=0.00  loss=42.62    active=336   feature_norm=21.31\n",
            "Iter 39  time=0.00  loss=42.59    active=329   feature_norm=21.39\n",
            "Iter 40  time=0.00  loss=42.59    active=328   feature_norm=21.45\n",
            "Iter 41  time=0.00  loss=42.55    active=324   feature_norm=21.45\n",
            "Iter 42  time=0.00  loss=42.54    active=321   feature_norm=21.48\n",
            "Iter 43  time=0.00  loss=42.53    active=321   feature_norm=21.50\n",
            "Iter 44  time=0.00  loss=42.53    active=318   feature_norm=21.56\n",
            "Iter 45  time=0.00  loss=42.51    active=312   feature_norm=21.57\n",
            "Iter 46  time=0.00  loss=42.50    active=312   feature_norm=21.58\n",
            "Iter 47  time=0.00  loss=42.49    active=313   feature_norm=21.58\n",
            "Iter 48  time=0.00  loss=42.48    active=306   feature_norm=21.61\n",
            "Iter 49  time=0.00  loss=42.47    active=317   feature_norm=21.60\n",
            "Iter 50  time=0.00  loss=42.47    active=317   feature_norm=21.61\n",
            "Iter 51  time=0.00  loss=42.46    active=317   feature_norm=21.61\n",
            "Iter 52  time=0.00  loss=42.46    active=312   feature_norm=21.62\n",
            "Iter 53  time=0.00  loss=42.45    active=313   feature_norm=21.61\n",
            "Iter 54  time=0.00  loss=42.45    active=308   feature_norm=21.62\n",
            "Iter 55  time=0.00  loss=42.44    active=313   feature_norm=21.61\n",
            "Iter 56  time=0.00  loss=42.44    active=309   feature_norm=21.62\n",
            "Iter 57  time=0.00  loss=42.44    active=310   feature_norm=21.62\n",
            "Iter 58  time=0.00  loss=42.43    active=306   feature_norm=21.62\n",
            "Iter 59  time=0.00  loss=42.43    active=305   feature_norm=21.61\n",
            "Iter 60  time=0.00  loss=42.43    active=300   feature_norm=21.62\n",
            "Iter 61  time=0.00  loss=42.42    active=303   feature_norm=21.62\n",
            "Iter 62  time=0.00  loss=42.42    active=303   feature_norm=21.62\n",
            "Iter 63  time=0.00  loss=42.42    active=303   feature_norm=21.61\n",
            "Iter 64  time=0.00  loss=42.42    active=299   feature_norm=21.61\n",
            "Iter 65  time=0.00  loss=42.42    active=300   feature_norm=21.61\n",
            "Iter 66  time=0.00  loss=42.41    active=303   feature_norm=21.61\n",
            "Iter 67  time=0.00  loss=42.41    active=303   feature_norm=21.61\n",
            "Iter 68  time=0.00  loss=42.41    active=303   feature_norm=21.60\n",
            "Iter 69  time=0.00  loss=42.41    active=302   feature_norm=21.60\n",
            "Iter 70  time=0.00  loss=42.41    active=302   feature_norm=21.60\n",
            "Iter 71  time=0.00  loss=42.41    active=300   feature_norm=21.60\n",
            "Iter 72  time=0.00  loss=42.41    active=300   feature_norm=21.60\n",
            "Iter 73  time=0.00  loss=42.41    active=300   feature_norm=21.59\n",
            "Iter 74  time=0.00  loss=42.41    active=299   feature_norm=21.60\n",
            "Iter 75  time=0.00  loss=42.41    active=298   feature_norm=21.60\n",
            "Iter 76  time=0.00  loss=42.41    active=298   feature_norm=21.59\n",
            "Iter 77  time=0.00  loss=42.41    active=301   feature_norm=21.59\n",
            "Iter 78  time=0.00  loss=42.40    active=303   feature_norm=21.59\n",
            "Iter 79  time=0.00  loss=42.40    active=303   feature_norm=21.59\n",
            "Iter 80  time=0.00  loss=42.40    active=301   feature_norm=21.59\n",
            "Iter 81  time=0.00  loss=42.40    active=301   feature_norm=21.59\n",
            "Iter 82  time=0.00  loss=42.40    active=300   feature_norm=21.60\n",
            "Iter 83  time=0.00  loss=42.40    active=299   feature_norm=21.59\n",
            "Iter 84  time=0.00  loss=42.40    active=299   feature_norm=21.60\n",
            "Iter 85  time=0.00  loss=42.40    active=298   feature_norm=21.60\n",
            "Iter 86  time=0.00  loss=42.40    active=299   feature_norm=21.60\n",
            "Iter 87  time=0.00  loss=42.40    active=297   feature_norm=21.60\n",
            "Iter 88  time=0.00  loss=42.39    active=297   feature_norm=21.60\n",
            "Iter 89  time=0.00  loss=42.39    active=297   feature_norm=21.60\n",
            "Iter 90  time=0.00  loss=42.39    active=297   feature_norm=21.61\n",
            "Iter 91  time=0.00  loss=42.39    active=297   feature_norm=21.60\n",
            "Iter 92  time=0.00  loss=42.39    active=298   feature_norm=21.61\n",
            "Iter 93  time=0.00  loss=42.39    active=298   feature_norm=21.61\n",
            "Iter 94  time=0.00  loss=42.39    active=298   feature_norm=21.61\n",
            "Iter 95  time=0.00  loss=42.39    active=298   feature_norm=21.61\n",
            "Iter 96  time=0.00  loss=42.39    active=298   feature_norm=21.62\n",
            "Iter 97  time=0.00  loss=42.39    active=298   feature_norm=21.62\n",
            "Iter 98  time=0.00  loss=42.39    active=299   feature_norm=21.62\n",
            "Iter 99  time=0.00  loss=42.39    active=298   feature_norm=21.63\n",
            "Iter 100 time=0.00  loss=42.39    active=298   feature_norm=21.64\n",
            "Iter 101 time=0.00  loss=42.39    active=299   feature_norm=21.64\n",
            "Iter 102 time=0.00  loss=42.39    active=299   feature_norm=21.65\n",
            "Iter 103 time=0.00  loss=42.39    active=297   feature_norm=21.65\n",
            "Iter 104 time=0.00  loss=42.39    active=297   feature_norm=21.65\n",
            "Iter 105 time=0.00  loss=42.39    active=297   feature_norm=21.66\n",
            "Iter 106 time=0.00  loss=42.39    active=297   feature_norm=21.66\n",
            "Iter 107 time=0.00  loss=42.39    active=296   feature_norm=21.66\n",
            "Iter 108 time=0.00  loss=42.39    active=296   feature_norm=21.67\n",
            "Iter 109 time=0.00  loss=42.39    active=296   feature_norm=21.67\n",
            "Iter 110 time=0.00  loss=42.38    active=296   feature_norm=21.67\n",
            "Iter 111 time=0.00  loss=42.38    active=294   feature_norm=21.67\n",
            "Iter 112 time=0.00  loss=42.38    active=294   feature_norm=21.67\n",
            "Iter 113 time=0.00  loss=42.38    active=294   feature_norm=21.67\n",
            "Iter 114 time=0.00  loss=42.38    active=294   feature_norm=21.67\n",
            "Iter 115 time=0.00  loss=42.38    active=295   feature_norm=21.67\n",
            "Iter 116 time=0.00  loss=42.38    active=295   feature_norm=21.67\n",
            "Iter 117 time=0.00  loss=42.38    active=296   feature_norm=21.67\n",
            "Iter 118 time=0.00  loss=42.38    active=296   feature_norm=21.67\n",
            "Iter 119 time=0.00  loss=42.38    active=296   feature_norm=21.67\n",
            "Iter 120 time=0.00  loss=42.38    active=296   feature_norm=21.67\n",
            "Iter 121 time=0.00  loss=42.38    active=296   feature_norm=21.67\n",
            "Iter 122 time=0.00  loss=42.38    active=295   feature_norm=21.67\n",
            "Iter 123 time=0.00  loss=42.38    active=295   feature_norm=21.67\n",
            "Iter 124 time=0.00  loss=42.38    active=295   feature_norm=21.67\n",
            "Iter 125 time=0.00  loss=42.38    active=295   feature_norm=21.67\n",
            "Iter 126 time=0.00  loss=42.38    active=294   feature_norm=21.67\n",
            "Iter 127 time=0.00  loss=42.38    active=294   feature_norm=21.67\n",
            "Iter 128 time=0.00  loss=42.38    active=294   feature_norm=21.67\n",
            "Iter 129 time=0.00  loss=42.38    active=294   feature_norm=21.67\n",
            "Iter 130 time=0.00  loss=42.38    active=294   feature_norm=21.67\n",
            "Iter 131 time=0.00  loss=42.38    active=294   feature_norm=21.67\n",
            "Iter 132 time=0.00  loss=42.38    active=294   feature_norm=21.66\n",
            "Iter 133 time=0.00  loss=42.38    active=294   feature_norm=21.67\n",
            "Iter 134 time=0.00  loss=42.38    active=294   feature_norm=21.66\n",
            "Iter 135 time=0.00  loss=42.38    active=292   feature_norm=21.67\n",
            "Iter 136 time=0.00  loss=42.38    active=292   feature_norm=21.67\n",
            "Iter 137 time=0.00  loss=42.38    active=291   feature_norm=21.67\n",
            "Iter 138 time=0.00  loss=42.38    active=291   feature_norm=21.66\n",
            "Iter 139 time=0.00  loss=42.38    active=291   feature_norm=21.67\n",
            "Iter 140 time=0.00  loss=42.38    active=292   feature_norm=21.66\n",
            "Iter 141 time=0.00  loss=42.38    active=292   feature_norm=21.66\n",
            "Iter 142 time=0.00  loss=42.38    active=292   feature_norm=21.66\n",
            "Iter 143 time=0.00  loss=42.38    active=292   feature_norm=21.66\n",
            "Iter 144 time=0.00  loss=42.38    active=292   feature_norm=21.66\n",
            "Iter 145 time=0.00  loss=42.38    active=291   feature_norm=21.66\n",
            "Iter 146 time=0.00  loss=42.38    active=291   feature_norm=21.66\n",
            "Iter 147 time=0.00  loss=42.38    active=291   feature_norm=21.66\n",
            "Iter 148 time=0.00  loss=42.38    active=288   feature_norm=21.66\n",
            "Iter 149 time=0.00  loss=42.38    active=288   feature_norm=21.66\n",
            "Iter 150 time=0.00  loss=42.38    active=288   feature_norm=21.66\n",
            "Iter 151 time=0.00  loss=42.38    active=288   feature_norm=21.66\n",
            "Iter 152 time=0.00  loss=42.38    active=288   feature_norm=21.66\n",
            "Iter 153 time=0.00  loss=42.38    active=288   feature_norm=21.66\n",
            "Iter 154 time=0.00  loss=42.38    active=288   feature_norm=21.66\n",
            "Iter 155 time=0.00  loss=42.38    active=288   feature_norm=21.66\n",
            "Iter 156 time=0.00  loss=42.38    active=288   feature_norm=21.66\n",
            "Iter 157 time=0.00  loss=42.38    active=288   feature_norm=21.66\n",
            "Iter 158 time=0.00  loss=42.38    active=288   feature_norm=21.66\n",
            "Iter 159 time=0.00  loss=42.38    active=288   feature_norm=21.66\n",
            "Iter 160 time=0.00  loss=42.38    active=289   feature_norm=21.66\n",
            "Iter 161 time=0.00  loss=42.38    active=289   feature_norm=21.66\n",
            "Iter 162 time=0.00  loss=42.38    active=289   feature_norm=21.66\n",
            "Iter 163 time=0.00  loss=42.38    active=288   feature_norm=21.66\n",
            "Iter 164 time=0.01  loss=42.38    active=288   feature_norm=21.65\n",
            "Iter 165 time=0.00  loss=42.38    active=288   feature_norm=21.66\n",
            "Iter 166 time=0.00  loss=42.38    active=288   feature_norm=21.66\n",
            "Iter 167 time=0.00  loss=42.38    active=288   feature_norm=21.65\n",
            "Iter 168 time=0.00  loss=42.38    active=288   feature_norm=21.65\n",
            "Iter 169 time=0.00  loss=42.38    active=288   feature_norm=21.65\n",
            "L-BFGS terminated with the stopping criteria\n",
            "Total seconds required for training: 0.405\n",
            "\n",
            "Storing the model\n",
            "Number of active features: 288 (1841)\n",
            "Number of active attributes: 187 (341)\n",
            "Number of active labels: 31 (31)\n",
            "Writing labels\n",
            "Writing attributes\n",
            "Writing feature references for transitions\n",
            "Writing feature references for attributes\n",
            "Seconds required: 0.001\n",
            "\n"
          ]
        }
      ]
    },
    {
      "cell_type": "code",
      "execution_count": null,
      "metadata": {
        "id": "zYHfTV_8vnZL",
        "outputId": "6352c8f4-5697-4116-c42c-a81cea217ae9"
      },
      "outputs": [
        {
          "name": "stdout",
          "output_type": "stream",
          "text": [
            "Feature generation\n",
            "type: CRF1d\n",
            "feature.minfreq: 0.000000\n",
            "feature.possible_states: 0\n",
            "feature.possible_transitions: 1\n",
            "0....1....2....3....4....5....6....7....8....9....10\n",
            "Number of features: 1971\n",
            "Seconds required: 0.010\n",
            "\n",
            "L-BFGS optimization\n",
            "c1: 0.100000\n",
            "c2: 0.010000\n",
            "num_memories: 6\n",
            "max_iterations: 1000\n",
            "epsilon: 0.000010\n",
            "stop: 10\n",
            "delta: 0.000010\n",
            "linesearch: MoreThuente\n",
            "linesearch.max_iterations: 20\n",
            "\n",
            "***** Iteration #1 *****\n",
            "Loss: 734.228583\n",
            "Feature norm: 1.000000\n",
            "Error norm: 148.137282\n",
            "Active features: 1948\n",
            "Line search trials: 1\n",
            "Line search step: 0.005207\n",
            "Seconds required for this iteration: 0.001\n",
            "\n",
            "***** Iteration #2 *****\n",
            "Loss: 457.872349\n",
            "Feature norm: 5.727530\n",
            "Error norm: 185.004580\n",
            "Active features: 1861\n",
            "Line search trials: 1\n",
            "Line search step: 1.000000\n",
            "Seconds required for this iteration: 0.003\n",
            "\n",
            "***** Iteration #3 *****\n",
            "Loss: 331.095715\n",
            "Feature norm: 7.055854\n",
            "Error norm: 87.348079\n",
            "Active features: 1853\n",
            "Line search trials: 1\n",
            "Line search step: 1.000000\n",
            "Seconds required for this iteration: 0.001\n",
            "\n",
            "***** Iteration #4 *****\n",
            "Loss: 289.842250\n",
            "Feature norm: 7.430415\n",
            "Error norm: 61.278677\n",
            "Active features: 1532\n",
            "Line search trials: 1\n",
            "Line search step: 1.000000\n",
            "Seconds required for this iteration: 0.001\n",
            "\n",
            "***** Iteration #5 *****\n",
            "Loss: 208.677347\n",
            "Feature norm: 8.846322\n",
            "Error norm: 43.234769\n",
            "Active features: 1301\n",
            "Line search trials: 1\n",
            "Line search step: 1.000000\n",
            "Seconds required for this iteration: 0.001\n",
            "\n",
            "***** Iteration #6 *****\n",
            "Loss: 149.052352\n",
            "Feature norm: 11.000585\n",
            "Error norm: 38.736935\n",
            "Active features: 1174\n",
            "Line search trials: 1\n",
            "Line search step: 1.000000\n",
            "Seconds required for this iteration: 0.001\n",
            "\n",
            "***** Iteration #7 *****\n",
            "Loss: 98.958501\n",
            "Feature norm: 13.617353\n",
            "Error norm: 16.385119\n",
            "Active features: 1183\n",
            "Line search trials: 1\n",
            "Line search step: 1.000000\n",
            "Seconds required for this iteration: 0.002\n",
            "\n",
            "***** Iteration #8 *****\n",
            "Loss: 78.972870\n",
            "Feature norm: 15.751985\n",
            "Error norm: 13.809241\n",
            "Active features: 1154\n",
            "Line search trials: 1\n",
            "Line search step: 1.000000\n",
            "Seconds required for this iteration: 0.002\n",
            "\n",
            "***** Iteration #9 *****\n",
            "Loss: 68.634129\n",
            "Feature norm: 18.043790\n",
            "Error norm: 16.756838\n",
            "Active features: 1123\n",
            "Line search trials: 1\n",
            "Line search step: 1.000000\n",
            "Seconds required for this iteration: 0.002\n",
            "\n",
            "***** Iteration #10 *****\n",
            "Loss: 63.267501\n",
            "Feature norm: 18.523400\n",
            "Error norm: 5.957631\n",
            "Active features: 1093\n",
            "Line search trials: 1\n",
            "Line search step: 1.000000\n",
            "Seconds required for this iteration: 0.001\n",
            "\n",
            "***** Iteration #11 *****\n",
            "Loss: 61.856639\n",
            "Feature norm: 18.686405\n",
            "Error norm: 4.129349\n",
            "Active features: 1071\n",
            "Line search trials: 1\n",
            "Line search step: 1.000000\n",
            "Seconds required for this iteration: 0.001\n",
            "\n",
            "***** Iteration #12 *****\n",
            "Loss: 59.882053\n",
            "Feature norm: 19.053499\n",
            "Error norm: 3.198127\n",
            "Active features: 1004\n",
            "Line search trials: 1\n",
            "Line search step: 1.000000\n",
            "Seconds required for this iteration: 0.002\n",
            "\n",
            "***** Iteration #13 *****\n",
            "Loss: 57.724483\n",
            "Feature norm: 19.285576\n",
            "Error norm: 3.404607\n",
            "Active features: 929\n",
            "Line search trials: 1\n",
            "Line search step: 1.000000\n",
            "Seconds required for this iteration: 0.001\n",
            "\n",
            "***** Iteration #14 *****\n",
            "Loss: 55.273565\n",
            "Feature norm: 19.828450\n",
            "Error norm: 6.434375\n",
            "Active features: 782\n",
            "Line search trials: 1\n",
            "Line search step: 1.000000\n",
            "Seconds required for this iteration: 0.001\n",
            "\n",
            "***** Iteration #15 *****\n",
            "Loss: 53.725544\n",
            "Feature norm: 19.762104\n",
            "Error norm: 4.670955\n",
            "Active features: 740\n",
            "Line search trials: 1\n",
            "Line search step: 1.000000\n",
            "Seconds required for this iteration: 0.001\n",
            "\n",
            "***** Iteration #16 *****\n",
            "Loss: 52.969088\n",
            "Feature norm: 19.794758\n",
            "Error norm: 2.478303\n",
            "Active features: 710\n",
            "Line search trials: 1\n",
            "Line search step: 1.000000\n",
            "Seconds required for this iteration: 0.001\n",
            "\n",
            "***** Iteration #17 *****\n",
            "Loss: 51.887515\n",
            "Feature norm: 19.794719\n",
            "Error norm: 4.639684\n",
            "Active features: 634\n",
            "Line search trials: 1\n",
            "Line search step: 1.000000\n",
            "Seconds required for this iteration: 0.001\n",
            "\n",
            "***** Iteration #18 *****\n",
            "Loss: 51.213343\n",
            "Feature norm: 19.897339\n",
            "Error norm: 1.542301\n",
            "Active features: 620\n",
            "Line search trials: 1\n",
            "Line search step: 1.000000\n",
            "Seconds required for this iteration: 0.001\n",
            "\n",
            "***** Iteration #19 *****\n",
            "Loss: 50.639716\n",
            "Feature norm: 20.297901\n",
            "Error norm: 2.895886\n",
            "Active features: 586\n",
            "Line search trials: 1\n",
            "Line search step: 1.000000\n",
            "Seconds required for this iteration: 0.001\n",
            "\n",
            "***** Iteration #20 *****\n",
            "Loss: 50.150316\n",
            "Feature norm: 20.442960\n",
            "Error norm: 1.342341\n",
            "Active features: 564\n",
            "Line search trials: 1\n",
            "Line search step: 1.000000\n",
            "Seconds required for this iteration: 0.001\n",
            "\n",
            "***** Iteration #21 *****\n",
            "Loss: 49.923293\n",
            "Feature norm: 20.826025\n",
            "Error norm: 3.669611\n",
            "Active features: 538\n",
            "Line search trials: 1\n",
            "Line search step: 1.000000\n",
            "Seconds required for this iteration: 0.001\n",
            "\n",
            "***** Iteration #22 *****\n",
            "Loss: 49.569231\n",
            "Feature norm: 21.003936\n",
            "Error norm: 2.098974\n",
            "Active features: 539\n",
            "Line search trials: 1\n",
            "Line search step: 1.000000\n",
            "Seconds required for this iteration: 0.001\n",
            "\n",
            "***** Iteration #23 *****\n",
            "Loss: 49.379120\n",
            "Feature norm: 21.095025\n",
            "Error norm: 1.409953\n",
            "Active features: 526\n",
            "Line search trials: 1\n",
            "Line search step: 1.000000\n",
            "Seconds required for this iteration: 0.001\n",
            "\n",
            "***** Iteration #24 *****\n",
            "Loss: 49.159393\n",
            "Feature norm: 21.284080\n",
            "Error norm: 1.223909\n",
            "Active features: 500\n",
            "Line search trials: 1\n",
            "Line search step: 1.000000\n",
            "Seconds required for this iteration: 0.001\n",
            "\n",
            "***** Iteration #25 *****\n",
            "Loss: 49.001320\n",
            "Feature norm: 21.663131\n",
            "Error norm: 2.438626\n",
            "Active features: 480\n",
            "Line search trials: 1\n",
            "Line search step: 1.000000\n",
            "Seconds required for this iteration: 0.001\n",
            "\n",
            "***** Iteration #26 *****\n",
            "Loss: 48.822490\n",
            "Feature norm: 21.721030\n",
            "Error norm: 0.924980\n",
            "Active features: 478\n",
            "Line search trials: 1\n",
            "Line search step: 1.000000\n",
            "Seconds required for this iteration: 0.001\n",
            "\n",
            "***** Iteration #27 *****\n",
            "Loss: 48.685252\n",
            "Feature norm: 21.855459\n",
            "Error norm: 1.513567\n",
            "Active features: 463\n",
            "Line search trials: 1\n",
            "Line search step: 1.000000\n",
            "Seconds required for this iteration: 0.002\n",
            "\n",
            "***** Iteration #28 *****\n",
            "Loss: 48.573836\n",
            "Feature norm: 22.029428\n",
            "Error norm: 1.630285\n",
            "Active features: 464\n",
            "Line search trials: 1\n",
            "Line search step: 1.000000\n",
            "Seconds required for this iteration: 0.002\n",
            "\n",
            "***** Iteration #29 *****\n",
            "Loss: 48.423837\n",
            "Feature norm: 22.127992\n",
            "Error norm: 0.967729\n",
            "Active features: 446\n",
            "Line search trials: 1\n",
            "Line search step: 1.000000\n",
            "Seconds required for this iteration: 0.001\n",
            "\n",
            "***** Iteration #30 *****\n",
            "Loss: 48.300011\n",
            "Feature norm: 22.202055\n",
            "Error norm: 1.458447\n",
            "Active features: 431\n",
            "Line search trials: 1\n",
            "Line search step: 1.000000\n",
            "Seconds required for this iteration: 0.001\n",
            "\n",
            "***** Iteration #31 *****\n",
            "Loss: 48.202133\n",
            "Feature norm: 22.290859\n",
            "Error norm: 1.597304\n",
            "Active features: 429\n",
            "Line search trials: 1\n",
            "Line search step: 1.000000\n",
            "Seconds required for this iteration: 0.001\n",
            "\n",
            "***** Iteration #32 *****\n",
            "Loss: 48.107620\n",
            "Feature norm: 22.334763\n",
            "Error norm: 1.362698\n",
            "Active features: 437\n",
            "Line search trials: 1\n",
            "Line search step: 1.000000\n",
            "Seconds required for this iteration: 0.001\n",
            "\n",
            "***** Iteration #33 *****\n",
            "Loss: 48.029373\n",
            "Feature norm: 22.372812\n",
            "Error norm: 1.092536\n",
            "Active features: 443\n",
            "Line search trials: 1\n",
            "Line search step: 1.000000\n",
            "Seconds required for this iteration: 0.002\n",
            "\n",
            "***** Iteration #34 *****\n",
            "Loss: 47.962720\n",
            "Feature norm: 22.374591\n",
            "Error norm: 0.924360\n",
            "Active features: 423\n",
            "Line search trials: 1\n",
            "Line search step: 1.000000\n",
            "Seconds required for this iteration: 0.002\n",
            "\n",
            "***** Iteration #35 *****\n",
            "Loss: 47.886242\n",
            "Feature norm: 22.380740\n",
            "Error norm: 1.064021\n",
            "Active features: 410\n",
            "Line search trials: 1\n",
            "Line search step: 1.000000\n",
            "Seconds required for this iteration: 0.002\n",
            "\n",
            "***** Iteration #36 *****\n",
            "Loss: 47.813934\n",
            "Feature norm: 22.398344\n",
            "Error norm: 0.958666\n",
            "Active features: 392\n",
            "Line search trials: 1\n",
            "Line search step: 1.000000\n",
            "Seconds required for this iteration: 0.001\n",
            "\n",
            "***** Iteration #37 *****\n",
            "Loss: 47.753611\n",
            "Feature norm: 22.399357\n",
            "Error norm: 0.686644\n",
            "Active features: 393\n",
            "Line search trials: 1\n",
            "Line search step: 1.000000\n",
            "Seconds required for this iteration: 0.001\n",
            "\n",
            "***** Iteration #38 *****\n",
            "Loss: 47.683841\n",
            "Feature norm: 22.460199\n",
            "Error norm: 0.881692\n",
            "Active features: 384\n",
            "Line search trials: 1\n",
            "Line search step: 1.000000\n",
            "Seconds required for this iteration: 0.001\n",
            "\n",
            "***** Iteration #39 *****\n",
            "Loss: 47.651515\n",
            "Feature norm: 22.503480\n",
            "Error norm: 1.084329\n",
            "Active features: 373\n",
            "Line search trials: 1\n",
            "Line search step: 1.000000\n",
            "Seconds required for this iteration: 0.001\n",
            "\n",
            "***** Iteration #40 *****\n",
            "Loss: 47.617810\n",
            "Feature norm: 22.555838\n",
            "Error norm: 0.873129\n",
            "Active features: 374\n",
            "Line search trials: 1\n",
            "Line search step: 1.000000\n",
            "Seconds required for this iteration: 0.001\n",
            "\n",
            "***** Iteration #41 *****\n",
            "Loss: 47.595848\n",
            "Feature norm: 22.547216\n",
            "Error norm: 0.438072\n",
            "Active features: 372\n",
            "Line search trials: 1\n",
            "Line search step: 1.000000\n",
            "Seconds required for this iteration: 0.001\n",
            "\n",
            "***** Iteration #42 *****\n",
            "Loss: 47.582794\n",
            "Feature norm: 22.588108\n",
            "Error norm: 0.669464\n",
            "Active features: 359\n",
            "Line search trials: 1\n",
            "Line search step: 1.000000\n",
            "Seconds required for this iteration: 0.001\n",
            "\n",
            "***** Iteration #43 *****\n",
            "Loss: 47.564169\n",
            "Feature norm: 22.595967\n",
            "Error norm: 0.284396\n",
            "Active features: 356\n",
            "Line search trials: 1\n",
            "Line search step: 1.000000\n",
            "Seconds required for this iteration: 0.001\n",
            "\n",
            "***** Iteration #44 *****\n",
            "Loss: 47.541684\n",
            "Feature norm: 22.622787\n",
            "Error norm: 0.273705\n",
            "Active features: 351\n",
            "Line search trials: 1\n",
            "Line search step: 1.000000\n",
            "Seconds required for this iteration: 0.001\n",
            "\n",
            "***** Iteration #45 *****\n",
            "Loss: 47.487699\n",
            "Feature norm: 22.686966\n",
            "Error norm: 0.892536\n",
            "Active features: 345\n",
            "Line search trials: 1\n",
            "Line search step: 1.000000\n",
            "Seconds required for this iteration: 0.001\n",
            "\n",
            "***** Iteration #46 *****\n",
            "Loss: 47.459366\n",
            "Feature norm: 22.724488\n",
            "Error norm: 0.732822\n",
            "Active features: 361\n",
            "Line search trials: 1\n",
            "Line search step: 1.000000\n",
            "Seconds required for this iteration: 0.001\n",
            "\n",
            "***** Iteration #47 *****\n",
            "Loss: 47.446022\n",
            "Feature norm: 22.751555\n",
            "Error norm: 0.774685\n",
            "Active features: 350\n",
            "Line search trials: 1\n",
            "Line search step: 1.000000\n",
            "Seconds required for this iteration: 0.001\n",
            "\n",
            "***** Iteration #48 *****\n",
            "Loss: 47.422939\n",
            "Feature norm: 22.761744\n",
            "Error norm: 0.290842\n",
            "Active features: 352\n",
            "Line search trials: 1\n",
            "Line search step: 1.000000\n",
            "Seconds required for this iteration: 0.001\n",
            "\n",
            "***** Iteration #49 *****\n",
            "Loss: 47.409761\n",
            "Feature norm: 22.795847\n",
            "Error norm: 0.486281\n",
            "Active features: 348\n",
            "Line search trials: 1\n",
            "Line search step: 1.000000\n",
            "Seconds required for this iteration: 0.001\n",
            "\n",
            "***** Iteration #50 *****\n",
            "Loss: 47.405119\n",
            "Feature norm: 22.807508\n",
            "Error norm: 0.922748\n",
            "Active features: 344\n",
            "Line search trials: 1\n",
            "Line search step: 1.000000\n",
            "Seconds required for this iteration: 0.001\n",
            "\n",
            "***** Iteration #51 *****\n",
            "Loss: 47.383084\n",
            "Feature norm: 22.824130\n",
            "Error norm: 0.282561\n",
            "Active features: 348\n",
            "Line search trials: 1\n",
            "Line search step: 1.000000\n",
            "Seconds required for this iteration: 0.001\n",
            "\n",
            "***** Iteration #52 *****\n",
            "Loss: 47.372114\n",
            "Feature norm: 22.824959\n",
            "Error norm: 0.249488\n",
            "Active features: 345\n",
            "Line search trials: 1\n",
            "Line search step: 1.000000\n",
            "Seconds required for this iteration: 0.001\n",
            "\n",
            "***** Iteration #53 *****\n",
            "Loss: 47.361834\n",
            "Feature norm: 22.837094\n",
            "Error norm: 0.312975\n",
            "Active features: 338\n",
            "Line search trials: 1\n",
            "Line search step: 1.000000\n",
            "Seconds required for this iteration: 0.001\n",
            "\n",
            "***** Iteration #54 *****\n",
            "Loss: 47.356349\n",
            "Feature norm: 22.841922\n",
            "Error norm: 0.328721\n",
            "Active features: 330\n",
            "Line search trials: 2\n",
            "Line search step: 0.500000\n",
            "Seconds required for this iteration: 0.001\n",
            "\n",
            "***** Iteration #55 *****\n",
            "Loss: 47.355959\n",
            "Feature norm: 22.866037\n",
            "Error norm: 0.502102\n",
            "Active features: 327\n",
            "Line search trials: 1\n",
            "Line search step: 1.000000\n",
            "Seconds required for this iteration: 0.001\n",
            "\n",
            "***** Iteration #56 *****\n",
            "Loss: 47.346850\n",
            "Feature norm: 22.866965\n",
            "Error norm: 0.295005\n",
            "Active features: 322\n",
            "Line search trials: 1\n",
            "Line search step: 1.000000\n",
            "Seconds required for this iteration: 0.001\n",
            "\n",
            "***** Iteration #57 *****\n",
            "Loss: 47.342204\n",
            "Feature norm: 22.877368\n",
            "Error norm: 0.194821\n",
            "Active features: 322\n",
            "Line search trials: 1\n",
            "Line search step: 1.000000\n",
            "Seconds required for this iteration: 0.001\n",
            "\n",
            "***** Iteration #58 *****\n",
            "Loss: 47.336711\n",
            "Feature norm: 22.885520\n",
            "Error norm: 0.188908\n",
            "Active features: 323\n",
            "Line search trials: 1\n",
            "Line search step: 1.000000\n",
            "Seconds required for this iteration: 0.001\n",
            "\n",
            "***** Iteration #59 *****\n",
            "Loss: 47.331682\n",
            "Feature norm: 22.903702\n",
            "Error norm: 0.199510\n",
            "Active features: 323\n",
            "Line search trials: 2\n",
            "Line search step: 0.500000\n",
            "Seconds required for this iteration: 0.001\n",
            "\n",
            "***** Iteration #60 *****\n",
            "Loss: 47.329855\n",
            "Feature norm: 22.914642\n",
            "Error norm: 0.392514\n",
            "Active features: 323\n",
            "Line search trials: 1\n",
            "Line search step: 1.000000\n",
            "Seconds required for this iteration: 0.001\n",
            "\n",
            "***** Iteration #61 *****\n",
            "Loss: 47.320324\n",
            "Feature norm: 22.930445\n",
            "Error norm: 0.162263\n",
            "Active features: 321\n",
            "Line search trials: 2\n",
            "Line search step: 0.500000\n",
            "Seconds required for this iteration: 0.001\n",
            "\n",
            "***** Iteration #62 *****\n",
            "Loss: 47.319232\n",
            "Feature norm: 22.937771\n",
            "Error norm: 0.384757\n",
            "Active features: 317\n",
            "Line search trials: 1\n",
            "Line search step: 1.000000\n",
            "Seconds required for this iteration: 0.001\n",
            "\n",
            "***** Iteration #63 *****\n",
            "Loss: 47.316099\n",
            "Feature norm: 22.946076\n",
            "Error norm: 0.323592\n",
            "Active features: 314\n",
            "Line search trials: 1\n",
            "Line search step: 1.000000\n",
            "Seconds required for this iteration: 0.001\n",
            "\n",
            "***** Iteration #64 *****\n",
            "Loss: 47.313286\n",
            "Feature norm: 22.955253\n",
            "Error norm: 0.318418\n",
            "Active features: 314\n",
            "Line search trials: 1\n",
            "Line search step: 1.000000\n",
            "Seconds required for this iteration: 0.001\n",
            "\n",
            "***** Iteration #65 *****\n",
            "Loss: 47.309970\n",
            "Feature norm: 22.958662\n",
            "Error norm: 0.145346\n",
            "Active features: 313\n",
            "Line search trials: 1\n",
            "Line search step: 1.000000\n",
            "Seconds required for this iteration: 0.001\n",
            "\n",
            "***** Iteration #66 *****\n",
            "Loss: 47.308270\n",
            "Feature norm: 22.961955\n",
            "Error norm: 0.202166\n",
            "Active features: 313\n",
            "Line search trials: 1\n",
            "Line search step: 1.000000\n",
            "Seconds required for this iteration: 0.001\n",
            "\n",
            "***** Iteration #67 *****\n",
            "Loss: 47.306648\n",
            "Feature norm: 22.968040\n",
            "Error norm: 0.246550\n",
            "Active features: 316\n",
            "Line search trials: 1\n",
            "Line search step: 1.000000\n",
            "Seconds required for this iteration: 0.001\n",
            "\n",
            "***** Iteration #68 *****\n",
            "Loss: 47.304429\n",
            "Feature norm: 22.971550\n",
            "Error norm: 0.147260\n",
            "Active features: 313\n",
            "Line search trials: 2\n",
            "Line search step: 0.500000\n",
            "Seconds required for this iteration: 0.001\n",
            "\n",
            "***** Iteration #69 *****\n",
            "Loss: 47.302345\n",
            "Feature norm: 22.982556\n",
            "Error norm: 0.253531\n",
            "Active features: 312\n",
            "Line search trials: 1\n",
            "Line search step: 1.000000\n",
            "Seconds required for this iteration: 0.001\n",
            "\n",
            "***** Iteration #70 *****\n",
            "Loss: 47.299689\n",
            "Feature norm: 22.984870\n",
            "Error norm: 0.143902\n",
            "Active features: 312\n",
            "Line search trials: 2\n",
            "Line search step: 0.500000\n",
            "Seconds required for this iteration: 0.001\n",
            "\n",
            "***** Iteration #71 *****\n",
            "Loss: 47.297860\n",
            "Feature norm: 22.994176\n",
            "Error norm: 0.165983\n",
            "Active features: 311\n",
            "Line search trials: 2\n",
            "Line search step: 0.500000\n",
            "Seconds required for this iteration: 0.002\n",
            "\n",
            "***** Iteration #72 *****\n",
            "Loss: 47.296667\n",
            "Feature norm: 22.999470\n",
            "Error norm: 0.191605\n",
            "Active features: 311\n",
            "Line search trials: 2\n",
            "Line search step: 0.500000\n",
            "Seconds required for this iteration: 0.001\n",
            "\n",
            "***** Iteration #73 *****\n",
            "Loss: 47.294716\n",
            "Feature norm: 23.007073\n",
            "Error norm: 0.150782\n",
            "Active features: 309\n",
            "Line search trials: 2\n",
            "Line search step: 0.500000\n",
            "Seconds required for this iteration: 0.001\n",
            "\n",
            "***** Iteration #74 *****\n",
            "Loss: 47.293236\n",
            "Feature norm: 23.009291\n",
            "Error norm: 0.127866\n",
            "Active features: 309\n",
            "Line search trials: 2\n",
            "Line search step: 0.500000\n",
            "Seconds required for this iteration: 0.001\n",
            "\n",
            "***** Iteration #75 *****\n",
            "Loss: 47.291758\n",
            "Feature norm: 23.013966\n",
            "Error norm: 0.139624\n",
            "Active features: 307\n",
            "Line search trials: 2\n",
            "Line search step: 0.500000\n",
            "Seconds required for this iteration: 0.001\n",
            "\n",
            "***** Iteration #76 *****\n",
            "Loss: 47.290732\n",
            "Feature norm: 23.018116\n",
            "Error norm: 0.175951\n",
            "Active features: 307\n",
            "Line search trials: 2\n",
            "Line search step: 0.500000\n",
            "Seconds required for this iteration: 0.001\n",
            "\n",
            "***** Iteration #77 *****\n",
            "Loss: 47.289500\n",
            "Feature norm: 23.023131\n",
            "Error norm: 0.157102\n",
            "Active features: 307\n",
            "Line search trials: 2\n",
            "Line search step: 0.500000\n",
            "Seconds required for this iteration: 0.001\n",
            "\n",
            "***** Iteration #78 *****\n",
            "Loss: 47.288130\n",
            "Feature norm: 23.027070\n",
            "Error norm: 0.151953\n",
            "Active features: 306\n",
            "Line search trials: 2\n",
            "Line search step: 0.500000\n",
            "Seconds required for this iteration: 0.001\n",
            "\n",
            "***** Iteration #79 *****\n",
            "Loss: 47.287121\n",
            "Feature norm: 23.032055\n",
            "Error norm: 0.123485\n",
            "Active features: 305\n",
            "Line search trials: 2\n",
            "Line search step: 0.500000\n",
            "Seconds required for this iteration: 0.001\n",
            "\n",
            "***** Iteration #80 *****\n",
            "Loss: 47.286226\n",
            "Feature norm: 23.034511\n",
            "Error norm: 0.147835\n",
            "Active features: 305\n",
            "Line search trials: 2\n",
            "Line search step: 0.500000\n",
            "Seconds required for this iteration: 0.002\n",
            "\n",
            "***** Iteration #81 *****\n",
            "Loss: 47.285516\n",
            "Feature norm: 23.040055\n",
            "Error norm: 0.114114\n",
            "Active features: 305\n",
            "Line search trials: 2\n",
            "Line search step: 0.500000\n",
            "Seconds required for this iteration: 0.001\n",
            "\n",
            "***** Iteration #82 *****\n",
            "Loss: 47.285388\n",
            "Feature norm: 23.043067\n",
            "Error norm: 0.251216\n",
            "Active features: 305\n",
            "Line search trials: 1\n",
            "Line search step: 1.000000\n",
            "Seconds required for this iteration: 0.001\n",
            "\n",
            "***** Iteration #83 *****\n",
            "Loss: 47.284179\n",
            "Feature norm: 23.051299\n",
            "Error norm: 0.177402\n",
            "Active features: 305\n",
            "Line search trials: 1\n",
            "Line search step: 1.000000\n",
            "Seconds required for this iteration: 0.001\n",
            "\n",
            "***** Iteration #84 *****\n",
            "Loss: 47.283442\n",
            "Feature norm: 23.055562\n",
            "Error norm: 0.145860\n",
            "Active features: 305\n",
            "Line search trials: 1\n",
            "Line search step: 1.000000\n",
            "Seconds required for this iteration: 0.001\n",
            "\n",
            "***** Iteration #85 *****\n",
            "Loss: 47.282956\n",
            "Feature norm: 23.056811\n",
            "Error norm: 0.097082\n",
            "Active features: 305\n",
            "Line search trials: 1\n",
            "Line search step: 1.000000\n",
            "Seconds required for this iteration: 0.001\n",
            "\n",
            "***** Iteration #86 *****\n",
            "Loss: 47.282586\n",
            "Feature norm: 23.056775\n",
            "Error norm: 0.078877\n",
            "Active features: 304\n",
            "Line search trials: 1\n",
            "Line search step: 1.000000\n",
            "Seconds required for this iteration: 0.001\n",
            "\n",
            "***** Iteration #87 *****\n",
            "Loss: 47.281635\n",
            "Feature norm: 23.057033\n",
            "Error norm: 0.083472\n",
            "Active features: 304\n",
            "Line search trials: 1\n",
            "Line search step: 1.000000\n",
            "Seconds required for this iteration: 0.001\n",
            "\n",
            "***** Iteration #88 *****\n",
            "Loss: 47.279791\n",
            "Feature norm: 23.055188\n",
            "Error norm: 0.124711\n",
            "Active features: 302\n",
            "Line search trials: 1\n",
            "Line search step: 1.000000\n",
            "Seconds required for this iteration: 0.001\n",
            "\n",
            "***** Iteration #89 *****\n",
            "Loss: 47.278881\n",
            "Feature norm: 23.055845\n",
            "Error norm: 0.171549\n",
            "Active features: 302\n",
            "Line search trials: 2\n",
            "Line search step: 0.500000\n",
            "Seconds required for this iteration: 0.001\n",
            "\n",
            "***** Iteration #90 *****\n",
            "Loss: 47.277911\n",
            "Feature norm: 23.054624\n",
            "Error norm: 0.218796\n",
            "Active features: 303\n",
            "Line search trials: 1\n",
            "Line search step: 1.000000\n",
            "Seconds required for this iteration: 0.001\n",
            "\n",
            "***** Iteration #91 *****\n",
            "Loss: 47.276809\n",
            "Feature norm: 23.055737\n",
            "Error norm: 0.199661\n",
            "Active features: 304\n",
            "Line search trials: 1\n",
            "Line search step: 1.000000\n",
            "Seconds required for this iteration: 0.001\n",
            "\n",
            "***** Iteration #92 *****\n",
            "Loss: 47.275761\n",
            "Feature norm: 23.051379\n",
            "Error norm: 0.142885\n",
            "Active features: 304\n",
            "Line search trials: 1\n",
            "Line search step: 1.000000\n",
            "Seconds required for this iteration: 0.001\n",
            "\n",
            "***** Iteration #93 *****\n",
            "Loss: 47.275103\n",
            "Feature norm: 23.053209\n",
            "Error norm: 0.083912\n",
            "Active features: 304\n",
            "Line search trials: 1\n",
            "Line search step: 1.000000\n",
            "Seconds required for this iteration: 0.001\n",
            "\n",
            "***** Iteration #94 *****\n",
            "Loss: 47.274700\n",
            "Feature norm: 23.051929\n",
            "Error norm: 0.088302\n",
            "Active features: 304\n",
            "Line search trials: 1\n",
            "Line search step: 1.000000\n",
            "Seconds required for this iteration: 0.001\n",
            "\n",
            "***** Iteration #95 *****\n",
            "Loss: 47.274391\n",
            "Feature norm: 23.052330\n",
            "Error norm: 0.109667\n",
            "Active features: 304\n",
            "Line search trials: 1\n",
            "Line search step: 1.000000\n",
            "Seconds required for this iteration: 0.001\n",
            "\n",
            "***** Iteration #96 *****\n",
            "Loss: 47.274155\n",
            "Feature norm: 23.050176\n",
            "Error norm: 0.131363\n",
            "Active features: 305\n",
            "Line search trials: 1\n",
            "Line search step: 1.000000\n",
            "Seconds required for this iteration: 0.001\n",
            "\n",
            "***** Iteration #97 *****\n",
            "Loss: 47.273733\n",
            "Feature norm: 23.051196\n",
            "Error norm: 0.116408\n",
            "Active features: 304\n",
            "Line search trials: 1\n",
            "Line search step: 1.000000\n",
            "Seconds required for this iteration: 0.001\n",
            "\n",
            "***** Iteration #98 *****\n",
            "Loss: 47.273367\n",
            "Feature norm: 23.050586\n",
            "Error norm: 0.089457\n",
            "Active features: 304\n",
            "Line search trials: 1\n",
            "Line search step: 1.000000\n",
            "Seconds required for this iteration: 0.001\n",
            "\n",
            "***** Iteration #99 *****\n",
            "Loss: 47.273177\n",
            "Feature norm: 23.051284\n",
            "Error norm: 0.096913\n",
            "Active features: 304\n",
            "Line search trials: 1\n",
            "Line search step: 1.000000\n",
            "Seconds required for this iteration: 0.001\n",
            "\n",
            "***** Iteration #100 *****\n",
            "Loss: 47.272894\n",
            "Feature norm: 23.050391\n",
            "Error norm: 0.079372\n",
            "Active features: 304\n",
            "Line search trials: 1\n",
            "Line search step: 1.000000\n",
            "Seconds required for this iteration: 0.001\n",
            "\n",
            "***** Iteration #101 *****\n",
            "Loss: 47.272460\n",
            "Feature norm: 23.050140\n",
            "Error norm: 0.063994\n",
            "Active features: 304\n",
            "Line search trials: 1\n",
            "Line search step: 1.000000\n",
            "Seconds required for this iteration: 0.001\n",
            "\n",
            "***** Iteration #102 *****\n",
            "Loss: 47.271768\n",
            "Feature norm: 23.048612\n",
            "Error norm: 0.066829\n",
            "Active features: 304\n",
            "Line search trials: 1\n",
            "Line search step: 1.000000\n",
            "Seconds required for this iteration: 0.001\n",
            "\n",
            "***** Iteration #103 *****\n",
            "Loss: 47.271577\n",
            "Feature norm: 23.049098\n",
            "Error norm: 0.206592\n",
            "Active features: 304\n",
            "Line search trials: 1\n",
            "Line search step: 1.000000\n",
            "Seconds required for this iteration: 0.001\n",
            "\n",
            "***** Iteration #104 *****\n",
            "Loss: 47.271033\n",
            "Feature norm: 23.043740\n",
            "Error norm: 0.176267\n",
            "Active features: 297\n",
            "Line search trials: 1\n",
            "Line search step: 1.000000\n",
            "Seconds required for this iteration: 0.001\n",
            "\n",
            "***** Iteration #105 *****\n",
            "Loss: 47.270178\n",
            "Feature norm: 23.046234\n",
            "Error norm: 0.144931\n",
            "Active features: 298\n",
            "Line search trials: 1\n",
            "Line search step: 1.000000\n",
            "Seconds required for this iteration: 0.001\n",
            "\n",
            "***** Iteration #106 *****\n",
            "Loss: 47.269479\n",
            "Feature norm: 23.045402\n",
            "Error norm: 0.072125\n",
            "Active features: 298\n",
            "Line search trials: 1\n",
            "Line search step: 1.000000\n",
            "Seconds required for this iteration: 0.001\n",
            "\n",
            "***** Iteration #107 *****\n",
            "Loss: 47.269232\n",
            "Feature norm: 23.046498\n",
            "Error norm: 0.102698\n",
            "Active features: 298\n",
            "Line search trials: 1\n",
            "Line search step: 1.000000\n",
            "Seconds required for this iteration: 0.001\n",
            "\n",
            "***** Iteration #108 *****\n",
            "Loss: 47.268815\n",
            "Feature norm: 23.046795\n",
            "Error norm: 0.084625\n",
            "Active features: 298\n",
            "Line search trials: 1\n",
            "Line search step: 1.000000\n",
            "Seconds required for this iteration: 0.001\n",
            "\n",
            "***** Iteration #109 *****\n",
            "Loss: 47.268420\n",
            "Feature norm: 23.047446\n",
            "Error norm: 0.062190\n",
            "Active features: 298\n",
            "Line search trials: 2\n",
            "Line search step: 0.500000\n",
            "Seconds required for this iteration: 0.001\n",
            "\n",
            "***** Iteration #110 *****\n",
            "Loss: 47.268162\n",
            "Feature norm: 23.048639\n",
            "Error norm: 0.116624\n",
            "Active features: 297\n",
            "Line search trials: 1\n",
            "Line search step: 1.000000\n",
            "Seconds required for this iteration: 0.001\n",
            "\n",
            "***** Iteration #111 *****\n",
            "Loss: 47.267519\n",
            "Feature norm: 23.050049\n",
            "Error norm: 0.052530\n",
            "Active features: 299\n",
            "Line search trials: 2\n",
            "Line search step: 0.500000\n",
            "Seconds required for this iteration: 0.001\n",
            "\n",
            "***** Iteration #112 *****\n",
            "Loss: 47.267136\n",
            "Feature norm: 23.051996\n",
            "Error norm: 0.115338\n",
            "Active features: 298\n",
            "Line search trials: 1\n",
            "Line search step: 1.000000\n",
            "Seconds required for this iteration: 0.001\n",
            "\n",
            "***** Iteration #113 *****\n",
            "Loss: 47.266657\n",
            "Feature norm: 23.052803\n",
            "Error norm: 0.071794\n",
            "Active features: 298\n",
            "Line search trials: 2\n",
            "Line search step: 0.500000\n",
            "Seconds required for this iteration: 0.001\n",
            "\n",
            "***** Iteration #114 *****\n",
            "Loss: 47.266497\n",
            "Feature norm: 23.052129\n",
            "Error norm: 0.080849\n",
            "Active features: 295\n",
            "Line search trials: 2\n",
            "Line search step: 0.500000\n",
            "Seconds required for this iteration: 0.001\n",
            "\n",
            "***** Iteration #115 *****\n",
            "Loss: 47.266285\n",
            "Feature norm: 23.053634\n",
            "Error norm: 0.077746\n",
            "Active features: 295\n",
            "Line search trials: 2\n",
            "Line search step: 0.500000\n",
            "Seconds required for this iteration: 0.001\n",
            "\n",
            "***** Iteration #116 *****\n",
            "Loss: 47.266036\n",
            "Feature norm: 23.052781\n",
            "Error norm: 0.065369\n",
            "Active features: 296\n",
            "Line search trials: 2\n",
            "Line search step: 0.500000\n",
            "Seconds required for this iteration: 0.002\n",
            "\n",
            "***** Iteration #117 *****\n",
            "Loss: 47.265949\n",
            "Feature norm: 23.052370\n",
            "Error norm: 0.124383\n",
            "Active features: 296\n",
            "Line search trials: 1\n",
            "Line search step: 1.000000\n",
            "Seconds required for this iteration: 0.001\n",
            "\n",
            "***** Iteration #118 *****\n",
            "Loss: 47.265826\n",
            "Feature norm: 23.053100\n",
            "Error norm: 0.133188\n",
            "Active features: 296\n",
            "Line search trials: 1\n",
            "Line search step: 1.000000\n",
            "Seconds required for this iteration: 0.001\n",
            "\n",
            "***** Iteration #119 *****\n",
            "Loss: 47.265424\n",
            "Feature norm: 23.051635\n",
            "Error norm: 0.111299\n",
            "Active features: 296\n",
            "Line search trials: 1\n",
            "Line search step: 1.000000\n",
            "Seconds required for this iteration: 0.001\n",
            "\n",
            "***** Iteration #120 *****\n",
            "Loss: 47.265120\n",
            "Feature norm: 23.052795\n",
            "Error norm: 0.088898\n",
            "Active features: 296\n",
            "Line search trials: 1\n",
            "Line search step: 1.000000\n",
            "Seconds required for this iteration: 0.001\n",
            "\n",
            "***** Iteration #121 *****\n",
            "Loss: 47.264985\n",
            "Feature norm: 23.052792\n",
            "Error norm: 0.087831\n",
            "Active features: 296\n",
            "Line search trials: 1\n",
            "Line search step: 1.000000\n",
            "Seconds required for this iteration: 0.001\n",
            "\n",
            "***** Iteration #122 *****\n",
            "Loss: 47.264828\n",
            "Feature norm: 23.052381\n",
            "Error norm: 0.075442\n",
            "Active features: 294\n",
            "Line search trials: 1\n",
            "Line search step: 1.000000\n",
            "Seconds required for this iteration: 0.001\n",
            "\n",
            "***** Iteration #123 *****\n",
            "Loss: 47.264733\n",
            "Feature norm: 23.052122\n",
            "Error norm: 0.076133\n",
            "Active features: 294\n",
            "Line search trials: 1\n",
            "Line search step: 1.000000\n",
            "Seconds required for this iteration: 0.001\n",
            "\n",
            "***** Iteration #124 *****\n",
            "Loss: 47.264574\n",
            "Feature norm: 23.051810\n",
            "Error norm: 0.050300\n",
            "Active features: 294\n",
            "Line search trials: 1\n",
            "Line search step: 1.000000\n",
            "Seconds required for this iteration: 0.001\n",
            "\n",
            "***** Iteration #125 *****\n",
            "Loss: 47.264446\n",
            "Feature norm: 23.051489\n",
            "Error norm: 0.047549\n",
            "Active features: 294\n",
            "Line search trials: 1\n",
            "Line search step: 1.000000\n",
            "Seconds required for this iteration: 0.001\n",
            "\n",
            "***** Iteration #126 *****\n",
            "Loss: 47.264221\n",
            "Feature norm: 23.051261\n",
            "Error norm: 0.040754\n",
            "Active features: 294\n",
            "Line search trials: 1\n",
            "Line search step: 1.000000\n",
            "Seconds required for this iteration: 0.001\n",
            "\n",
            "***** Iteration #127 *****\n",
            "Loss: 47.264130\n",
            "Feature norm: 23.049824\n",
            "Error norm: 0.096555\n",
            "Active features: 294\n",
            "Line search trials: 1\n",
            "Line search step: 1.000000\n",
            "Seconds required for this iteration: 0.001\n",
            "\n",
            "***** Iteration #128 *****\n",
            "Loss: 47.263789\n",
            "Feature norm: 23.049564\n",
            "Error norm: 0.032590\n",
            "Active features: 293\n",
            "Line search trials: 2\n",
            "Line search step: 0.500000\n",
            "Seconds required for this iteration: 0.001\n",
            "\n",
            "***** Iteration #129 *****\n",
            "Loss: 47.263550\n",
            "Feature norm: 23.047859\n",
            "Error norm: 0.037962\n",
            "Active features: 296\n",
            "Line search trials: 1\n",
            "Line search step: 1.000000\n",
            "Seconds required for this iteration: 0.001\n",
            "\n",
            "***** Iteration #130 *****\n",
            "Loss: 47.263537\n",
            "Feature norm: 23.046613\n",
            "Error norm: 0.078612\n",
            "Active features: 296\n",
            "Line search trials: 2\n",
            "Line search step: 0.500000\n",
            "Seconds required for this iteration: 0.002\n",
            "\n",
            "***** Iteration #131 *****\n",
            "Loss: 47.263328\n",
            "Feature norm: 23.046208\n",
            "Error norm: 0.034030\n",
            "Active features: 296\n",
            "Line search trials: 2\n",
            "Line search step: 0.500000\n",
            "Seconds required for this iteration: 0.002\n",
            "\n",
            "***** Iteration #132 *****\n",
            "Loss: 47.263219\n",
            "Feature norm: 23.044727\n",
            "Error norm: 0.064647\n",
            "Active features: 296\n",
            "Line search trials: 1\n",
            "Line search step: 1.000000\n",
            "Seconds required for this iteration: 0.001\n",
            "\n",
            "***** Iteration #133 *****\n",
            "Loss: 47.263214\n",
            "Feature norm: 23.043430\n",
            "Error norm: 0.088780\n",
            "Active features: 296\n",
            "Line search trials: 1\n",
            "Line search step: 1.000000\n",
            "Seconds required for this iteration: 0.001\n",
            "\n",
            "***** Iteration #134 *****\n",
            "Loss: 47.262944\n",
            "Feature norm: 23.042972\n",
            "Error norm: 0.033076\n",
            "Active features: 296\n",
            "Line search trials: 2\n",
            "Line search step: 0.500000\n",
            "Seconds required for this iteration: 0.001\n",
            "\n",
            "***** Iteration #135 *****\n",
            "Loss: 47.262808\n",
            "Feature norm: 23.040294\n",
            "Error norm: 0.047590\n",
            "Active features: 298\n",
            "Line search trials: 1\n",
            "Line search step: 1.000000\n",
            "Seconds required for this iteration: 0.001\n",
            "\n",
            "***** Iteration #136 *****\n",
            "Loss: 47.262721\n",
            "Feature norm: 23.039923\n",
            "Error norm: 0.056246\n",
            "Active features: 297\n",
            "Line search trials: 2\n",
            "Line search step: 0.500000\n",
            "Seconds required for this iteration: 0.001\n",
            "\n",
            "***** Iteration #137 *****\n",
            "Loss: 47.262590\n",
            "Feature norm: 23.038744\n",
            "Error norm: 0.040295\n",
            "Active features: 297\n",
            "Line search trials: 2\n",
            "Line search step: 0.500000\n",
            "Seconds required for this iteration: 0.001\n",
            "\n",
            "***** Iteration #138 *****\n",
            "Loss: 47.262534\n",
            "Feature norm: 23.037777\n",
            "Error norm: 0.057718\n",
            "Active features: 297\n",
            "Line search trials: 2\n",
            "Line search step: 0.500000\n",
            "Seconds required for this iteration: 0.001\n",
            "\n",
            "***** Iteration #139 *****\n",
            "Loss: 47.262400\n",
            "Feature norm: 23.036324\n",
            "Error norm: 0.035606\n",
            "Active features: 297\n",
            "Line search trials: 2\n",
            "Line search step: 0.500000\n",
            "Seconds required for this iteration: 0.001\n",
            "\n",
            "***** Iteration #140 *****\n",
            "Loss: 47.262333\n",
            "Feature norm: 23.035962\n",
            "Error norm: 0.040814\n",
            "Active features: 296\n",
            "Line search trials: 2\n",
            "Line search step: 0.500000\n",
            "Seconds required for this iteration: 0.001\n",
            "\n",
            "***** Iteration #141 *****\n",
            "Loss: 47.262258\n",
            "Feature norm: 23.034875\n",
            "Error norm: 0.044261\n",
            "Active features: 296\n",
            "Line search trials: 2\n",
            "Line search step: 0.500000\n",
            "Seconds required for this iteration: 0.001\n",
            "\n",
            "***** Iteration #142 *****\n",
            "Loss: 47.262212\n",
            "Feature norm: 23.034474\n",
            "Error norm: 0.062475\n",
            "Active features: 296\n",
            "Line search trials: 1\n",
            "Line search step: 1.000000\n",
            "Seconds required for this iteration: 0.001\n",
            "\n",
            "***** Iteration #143 *****\n",
            "Loss: 47.262051\n",
            "Feature norm: 23.033252\n",
            "Error norm: 0.028273\n",
            "Active features: 296\n",
            "Line search trials: 2\n",
            "Line search step: 0.500000\n",
            "Seconds required for this iteration: 0.001\n",
            "\n",
            "***** Iteration #144 *****\n",
            "Loss: 47.262032\n",
            "Feature norm: 23.032790\n",
            "Error norm: 0.061924\n",
            "Active features: 296\n",
            "Line search trials: 1\n",
            "Line search step: 1.000000\n",
            "Seconds required for this iteration: 0.001\n",
            "\n",
            "***** Iteration #145 *****\n",
            "Loss: 47.261969\n",
            "Feature norm: 23.031303\n",
            "Error norm: 0.071024\n",
            "Active features: 296\n",
            "Line search trials: 1\n",
            "Line search step: 1.000000\n",
            "Seconds required for this iteration: 0.001\n",
            "\n",
            "***** Iteration #146 *****\n",
            "Loss: 47.261838\n",
            "Feature norm: 23.030358\n",
            "Error norm: 0.050518\n",
            "Active features: 296\n",
            "Line search trials: 1\n",
            "Line search step: 1.000000\n",
            "Seconds required for this iteration: 0.001\n",
            "\n",
            "***** Iteration #147 *****\n",
            "Loss: 47.261777\n",
            "Feature norm: 23.028905\n",
            "Error norm: 0.054154\n",
            "Active features: 296\n",
            "Line search trials: 1\n",
            "Line search step: 1.000000\n",
            "Seconds required for this iteration: 0.001\n",
            "\n",
            "***** Iteration #148 *****\n",
            "Loss: 47.261694\n",
            "Feature norm: 23.028934\n",
            "Error norm: 0.040417\n",
            "Active features: 295\n",
            "Line search trials: 1\n",
            "Line search step: 1.000000\n",
            "Seconds required for this iteration: 0.001\n",
            "\n",
            "***** Iteration #149 *****\n",
            "Loss: 47.261641\n",
            "Feature norm: 23.027486\n",
            "Error norm: 0.039149\n",
            "Active features: 295\n",
            "Line search trials: 1\n",
            "Line search step: 1.000000\n",
            "Seconds required for this iteration: 0.001\n",
            "\n"
          ]
        },
        {
          "name": "stdout",
          "output_type": "stream",
          "text": [
            "***** Iteration #150 *****\n",
            "Loss: 47.261611\n",
            "Feature norm: 23.027520\n",
            "Error norm: 0.046637\n",
            "Active features: 295\n",
            "Line search trials: 1\n",
            "Line search step: 1.000000\n",
            "Seconds required for this iteration: 0.001\n",
            "\n",
            "***** Iteration #151 *****\n",
            "Loss: 47.261590\n",
            "Feature norm: 23.026657\n",
            "Error norm: 0.053513\n",
            "Active features: 295\n",
            "Line search trials: 1\n",
            "Line search step: 1.000000\n",
            "Seconds required for this iteration: 0.001\n",
            "\n",
            "***** Iteration #152 *****\n",
            "Loss: 47.261530\n",
            "Feature norm: 23.026726\n",
            "Error norm: 0.045319\n",
            "Active features: 295\n",
            "Line search trials: 1\n",
            "Line search step: 1.000000\n",
            "Seconds required for this iteration: 0.001\n",
            "\n",
            "***** Iteration #153 *****\n",
            "Loss: 47.261508\n",
            "Feature norm: 23.025995\n",
            "Error norm: 0.048871\n",
            "Active features: 295\n",
            "Line search trials: 1\n",
            "Line search step: 1.000000\n",
            "Seconds required for this iteration: 0.001\n",
            "\n",
            "***** Iteration #154 *****\n",
            "Loss: 47.261456\n",
            "Feature norm: 23.026147\n",
            "Error norm: 0.040011\n",
            "Active features: 295\n",
            "Line search trials: 1\n",
            "Line search step: 1.000000\n",
            "Seconds required for this iteration: 0.001\n",
            "\n",
            "***** Iteration #155 *****\n",
            "Loss: 47.261435\n",
            "Feature norm: 23.025514\n",
            "Error norm: 0.041238\n",
            "Active features: 295\n",
            "Line search trials: 1\n",
            "Line search step: 1.000000\n",
            "Seconds required for this iteration: 0.001\n",
            "\n",
            "***** Iteration #156 *****\n",
            "Loss: 47.261391\n",
            "Feature norm: 23.025907\n",
            "Error norm: 0.030803\n",
            "Active features: 295\n",
            "Line search trials: 1\n",
            "Line search step: 1.000000\n",
            "Seconds required for this iteration: 0.001\n",
            "\n",
            "L-BFGS terminated with the stopping criteria\n",
            "Total seconds required for training: 0.178\n",
            "\n",
            "Storing the model\n",
            "Number of active features: 295 (1971)\n",
            "Number of active attributes: 194 (356)\n",
            "Number of active labels: 32 (32)\n",
            "Writing labels\n",
            "Writing attributes\n",
            "Writing feature references for transitions\n",
            "Writing feature references for attributes\n",
            "Seconds required: 0.002\n",
            "\n"
          ]
        }
      ],
      "source": [
        "\n",
        "\n",
        "# Submit training data to the trainer\n",
        "\n",
        "\n",
        "# Set the parameters of the model\n",
        "\n",
        "\n",
        "# Providing a file name as a parameter to the train function, such that\n",
        "# the model will be saved to the file when training is finished\n"
      ]
    },
    {
      "cell_type": "markdown",
      "metadata": {
        "id": "7cGm7m1hvnZM"
      },
      "source": [
        "### Predicting the test data with the built model"
      ]
    },
    {
      "cell_type": "code",
      "execution_count": 25,
      "metadata": {
        "id": "QtbFf6kGvnZN"
      },
      "outputs": [],
      "source": [
        "# Load the trained CRF model\n",
        "model_filename = 'crf_model.pkl'\n",
        "with open(model_filename, 'rb') as model_file:\n",
        "    crf = pickle.load(model_file)"
      ]
    },
    {
      "cell_type": "code",
      "execution_count": 30,
      "metadata": {
        "colab": {
          "base_uri": "https://localhost:8080/"
        },
        "id": "d1yKhBeGvnZO",
        "outputId": "c521d5a1-5f70-41d9-fafb-a67583d3d605"
      },
      "outputs": [
        {
          "output_type": "stream",
          "name": "stdout",
          "text": [
            "['take', '2', 'tabs', 'every', '6', 'hours', 'x', '10', 'days']\n"
          ]
        },
        {
          "output_type": "stream",
          "name": "stderr",
          "text": [
            "[nltk_data] Downloading package punkt to /root/nltk_data...\n",
            "[nltk_data]   Package punkt is already up-to-date!\n"
          ]
        }
      ],
      "source": [
        "import nltk\n",
        "\n",
        "# Download the necessary NLTK data\n",
        "nltk.download('punkt')\n",
        "\n",
        "# Tokenize the input sentence\n",
        "sig = \"take 2 tabs every 6 hours x 10 days\"\n",
        "tokens = nltk.word_tokenize(sig)\n",
        "print(tokens)"
      ]
    },
    {
      "cell_type": "code",
      "execution_count": 31,
      "metadata": {
        "colab": {
          "base_uri": "https://localhost:8080/"
        },
        "id": "fXUVbKC7vnZO",
        "outputId": "d1af4051-dd6a-4bf6-95b6-89f3a2454aa9"
      },
      "outputs": [
        {
          "output_type": "stream",
          "name": "stdout",
          "text": [
            "[('take', 'VB'), ('2', 'CD'), ('tabs', 'NNS'), ('every', 'DT'), ('6', 'CD'), ('hours', 'NNS'), ('x', 'RB'), ('10', 'CD'), ('days', 'NNS')]\n"
          ]
        }
      ],
      "source": [
        "# Get POS tags for the tokens\n",
        "pos_tags = nltk.pos_tag(tokens)\n",
        "print(pos_tags)"
      ]
    },
    {
      "cell_type": "code",
      "source": [
        "# Create features for the input sentence\n",
        "input_data = [(token, pos_tag) for token, pos_tag in pos_tags]\n",
        "X_test = [token_to_features(input_data, i) for i in range(len(input_data))]\n",
        "print(X_test)"
      ],
      "metadata": {
        "colab": {
          "base_uri": "https://localhost:8080/"
        },
        "id": "x11z7GbzT_67",
        "outputId": "11c3b69c-521f-45d9-8293-5b678bd1cee8"
      },
      "execution_count": 32,
      "outputs": [
        {
          "output_type": "stream",
          "name": "stdout",
          "text": [
            "[['bias', 'word.lower=take', 'word[-3:]=ake', 'word[-2:]=ke', 'word.isupper=False', 'word.istitle=False', 'word.isdigit=False', 'postag=VB', 'BOS', '+1:word.lower=2', '+1:word.istitle=False', '+1:word.isupper=False', '+1:word.isdigit=True', '+1:postag=CD'], ['bias', 'word.lower=2', 'word[-3:]=2', 'word[-2:]=2', 'word.isupper=False', 'word.istitle=False', 'word.isdigit=True', 'postag=CD', '-1:word.lower=take', '-1:word.istitle=False', '-1:word.isupper=False', '-1:word.isdigit=False', '-1:postag=VB', '+1:word.lower=tabs', '+1:word.istitle=False', '+1:word.isupper=False', '+1:word.isdigit=False', '+1:postag=NNS'], ['bias', 'word.lower=tabs', 'word[-3:]=abs', 'word[-2:]=bs', 'word.isupper=False', 'word.istitle=False', 'word.isdigit=False', 'postag=NNS', '-1:word.lower=2', '-1:word.istitle=False', '-1:word.isupper=False', '-1:word.isdigit=True', '-1:postag=CD', '+1:word.lower=every', '+1:word.istitle=False', '+1:word.isupper=False', '+1:word.isdigit=False', '+1:postag=DT'], ['bias', 'word.lower=every', 'word[-3:]=ery', 'word[-2:]=ry', 'word.isupper=False', 'word.istitle=False', 'word.isdigit=False', 'postag=DT', '-1:word.lower=tabs', '-1:word.istitle=False', '-1:word.isupper=False', '-1:word.isdigit=False', '-1:postag=NNS', '+1:word.lower=6', '+1:word.istitle=False', '+1:word.isupper=False', '+1:word.isdigit=True', '+1:postag=CD'], ['bias', 'word.lower=6', 'word[-3:]=6', 'word[-2:]=6', 'word.isupper=False', 'word.istitle=False', 'word.isdigit=True', 'postag=CD', '-1:word.lower=every', '-1:word.istitle=False', '-1:word.isupper=False', '-1:word.isdigit=False', '-1:postag=DT', '+1:word.lower=hours', '+1:word.istitle=False', '+1:word.isupper=False', '+1:word.isdigit=False', '+1:postag=NNS'], ['bias', 'word.lower=hours', 'word[-3:]=urs', 'word[-2:]=rs', 'word.isupper=False', 'word.istitle=False', 'word.isdigit=False', 'postag=NNS', '-1:word.lower=6', '-1:word.istitle=False', '-1:word.isupper=False', '-1:word.isdigit=True', '-1:postag=CD', '+1:word.lower=x', '+1:word.istitle=False', '+1:word.isupper=False', '+1:word.isdigit=False', '+1:postag=RB'], ['bias', 'word.lower=x', 'word[-3:]=x', 'word[-2:]=x', 'word.isupper=False', 'word.istitle=False', 'word.isdigit=False', 'postag=RB', '-1:word.lower=hours', '-1:word.istitle=False', '-1:word.isupper=False', '-1:word.isdigit=False', '-1:postag=NNS', '+1:word.lower=10', '+1:word.istitle=False', '+1:word.isupper=False', '+1:word.isdigit=True', '+1:postag=CD'], ['bias', 'word.lower=10', 'word[-3:]=10', 'word[-2:]=10', 'word.isupper=False', 'word.istitle=False', 'word.isdigit=True', 'postag=CD', '-1:word.lower=x', '-1:word.istitle=False', '-1:word.isupper=False', '-1:word.isdigit=False', '-1:postag=RB', '+1:word.lower=days', '+1:word.istitle=False', '+1:word.isupper=False', '+1:word.isdigit=False', '+1:postag=NNS'], ['bias', 'word.lower=days', 'word[-3:]=ays', 'word[-2:]=ys', 'word.isupper=False', 'word.istitle=False', 'word.isdigit=False', 'postag=NNS', '-1:word.lower=10', '-1:word.istitle=False', '-1:word.isupper=False', '-1:word.isdigit=True', '-1:postag=CD', 'EOS']]\n"
          ]
        }
      ]
    },
    {
      "cell_type": "code",
      "source": [
        "# Predict labels using the loaded model\n",
        "y_pred = crf.predict_single(X_test)\n",
        "print(y_pred)"
      ],
      "metadata": {
        "colab": {
          "base_uri": "https://localhost:8080/"
        },
        "id": "GFtuySvcV37q",
        "outputId": "0a3d996c-c637-4bc1-ae7a-7306fe74ef6a"
      },
      "execution_count": 33,
      "outputs": [
        {
          "output_type": "stream",
          "name": "stdout",
          "text": [
            "['Method', 'Qty', 'Form', 'EVERY', 'Period', 'PeriodUnit', 'FOR', 'Duration', 'DurationUnit']\n"
          ]
        }
      ]
    },
    {
      "cell_type": "code",
      "execution_count": null,
      "metadata": {
        "id": "guyU-eU_vnZP"
      },
      "outputs": [],
      "source": []
    },
    {
      "cell_type": "markdown",
      "metadata": {
        "id": "_Ecs4kkwvnZP"
      },
      "source": [
        "### Putting all the prediction logic inside a predict method"
      ]
    },
    {
      "cell_type": "code",
      "execution_count": 38,
      "metadata": {
        "id": "lVZNDZY2vnZP"
      },
      "outputs": [],
      "source": [
        "def predict(sig):\n",
        "    \"\"\"\n",
        "    predict(sig)\n",
        "    Purpose: Labels the given sig into corresponding labels\n",
        "    @param sig. A Sentence  # A medical prescription sig written by a doctor\n",
        "    @return     A list      # A list with predicted labels (first level of labeling)\n",
        "    >>> predict('2 tabs every 4 hours')\n",
        "    [['Qty', 'Form', 'EVERY', 'Period', 'PeriodUnit']]\n",
        "    >>> predict('2 tabs with food')\n",
        "    [['Qty', 'Form', 'WITH', 'FOOD']]\n",
        "    >>> predict('2 tabs qid x 30 days')\n",
        "    [['Qty', 'Form', 'QID', 'FOR', 'Duration', 'DurationUnit']]\n",
        "    \"\"\"\n",
        "    # Load the trained CRF model\n",
        "    model_filename = 'crf_model.pkl'\n",
        "    with open(model_filename, 'rb') as model_file:\n",
        "        crf = pickle.load(model_file)\n",
        "\n",
        "    # Tokenize the input sentence\n",
        "    tokens = nltk.word_tokenize(sig)\n",
        "\n",
        "    # Get POS tags for the tokens\n",
        "    pos_tags = nltk.pos_tag(tokens)\n",
        "\n",
        "    # Create features for the input sentence\n",
        "    input_data = [(token, pos_tag) for token, pos_tag in pos_tags]\n",
        "    X_test = [token_to_features(input_data, i) for i in range(len(input_data))]\n",
        "\n",
        "    # Predict labels using the loaded model\n",
        "    y_pred = crf.predict_single(X_test)\n",
        "\n",
        "    return print(sig, \"\\n\", y_pred)\n"
      ]
    },
    {
      "cell_type": "markdown",
      "metadata": {
        "id": "KxVjfZD2vnZQ"
      },
      "source": [
        "### Sample predictions"
      ]
    },
    {
      "cell_type": "code",
      "execution_count": null,
      "metadata": {
        "id": "evvHHevLvnZQ",
        "outputId": "18fc0b36-7f2a-4f4b-c95a-52ac05b7d1b1"
      },
      "outputs": [
        {
          "name": "stdout",
          "output_type": "stream",
          "text": [
            "take 2 tabs every 6 hours x 10 days\n",
            "[['Method', 'Qty', 'Form', 'EVERY', 'Period', 'PeriodUnit', 'FOR', 'Duration', 'DurationUnit']]\n"
          ]
        }
      ],
      "source": [
        "predictions = predict(\"take 2 tabs every 6 hours x 10 days\")"
      ]
    },
    {
      "cell_type": "code",
      "execution_count": null,
      "metadata": {
        "id": "LmXEkcmCvnZS",
        "outputId": "8e976557-e0e1-4a4e-e2d2-4b828332b11a"
      },
      "outputs": [
        {
          "name": "stdout",
          "output_type": "stream",
          "text": [
            "2 capsu for 10 day at bed\n",
            "[['Qty', 'Form', 'FOR', 'Duration', 'PeriodUnit', 'AT', 'WHEN']]\n"
          ]
        }
      ],
      "source": [
        "predictions = predict(\"2 capsu for 10 day at bed\")"
      ]
    },
    {
      "cell_type": "code",
      "execution_count": null,
      "metadata": {
        "id": "HGS3flTwvnZS",
        "outputId": "48669e15-f477-414e-bb5d-4b0b592f1f3d"
      },
      "outputs": [
        {
          "name": "stdout",
          "output_type": "stream",
          "text": [
            "2 capsu for 10 days at bed\n",
            "[['Qty', 'Form', 'FOR', 'Duration', 'DurationUnit', 'AT', 'WHEN']]\n"
          ]
        }
      ],
      "source": [
        "predictions = predict(\"2 capsu for 10 days at bed\")"
      ]
    },
    {
      "cell_type": "code",
      "execution_count": null,
      "metadata": {
        "id": "FtE5MfQTvnZT",
        "outputId": "6bd3d805-32f9-440d-e17e-1a1777515936"
      },
      "outputs": [
        {
          "name": "stdout",
          "output_type": "stream",
          "text": [
            "5 days 2 tabs at bed\n",
            "[['Duration', 'DurationUnit', 'Qty', 'Form', 'AT', 'WHEN']]\n"
          ]
        }
      ],
      "source": [
        "predictions = predict(\"5 days 2 tabs at bed\")"
      ]
    },
    {
      "cell_type": "code",
      "execution_count": null,
      "metadata": {
        "id": "agCZMYM1vnZU",
        "outputId": "89e775d8-dfe7-4533-e0d8-65f82c79f0f8"
      },
      "outputs": [
        {
          "name": "stdout",
          "output_type": "stream",
          "text": [
            "3 tabs qid x 10 weeks\n",
            "[['Qty', 'Form', 'QID', 'FOR', 'Duration', 'DurationUnit']]\n"
          ]
        }
      ],
      "source": [
        "predictions = predict(\"3 tabs qid x 10 weeks\")"
      ]
    },
    {
      "cell_type": "code",
      "execution_count": null,
      "metadata": {
        "id": "tMNqy1-4vnZV",
        "outputId": "777e7cf3-3a01-407e-c431-36a8c5c31e54"
      },
      "outputs": [
        {
          "name": "stdout",
          "output_type": "stream",
          "text": [
            "x 30 days\n",
            "[['FOR', 'Duration', 'DurationUnit']]\n"
          ]
        }
      ],
      "source": [
        "predictions = predict(\"x 30 days\")"
      ]
    },
    {
      "cell_type": "code",
      "execution_count": null,
      "metadata": {
        "id": "uD7yCQD0vnZW",
        "outputId": "f06fb834-c078-4230-d669-fd491d2f64f4"
      },
      "outputs": [
        {
          "name": "stdout",
          "output_type": "stream",
          "text": [
            "x 20 months\n",
            "[['FOR', 'Duration', 'DurationUnit']]\n"
          ]
        }
      ],
      "source": [
        "predictions = predict(\"x 20 months\")"
      ]
    },
    {
      "cell_type": "code",
      "execution_count": null,
      "metadata": {
        "id": "XAOvUqQxvnZY",
        "outputId": "a6647f26-62b9-474f-d600-0c177e711b0c"
      },
      "outputs": [
        {
          "name": "stdout",
          "output_type": "stream",
          "text": [
            "take 2 tabs po tid for 10 days\n",
            "[['Method', 'Qty', 'Form', 'PO', 'TID', 'FOR', 'Duration', 'DurationUnit']]\n"
          ]
        }
      ],
      "source": [
        "predictions = predict(\"take 2 tabs po tid for 10 days\")"
      ]
    },
    {
      "cell_type": "code",
      "execution_count": null,
      "metadata": {
        "id": "j336Hfu-vnZr",
        "outputId": "c4c18521-1442-469e-8449-453e8362a2e1"
      },
      "outputs": [
        {
          "name": "stdout",
          "output_type": "stream",
          "text": [
            "take 2 capsules po every 6 hours\n",
            "[['Method', 'Qty', 'Form', 'PO', 'EVERY', 'Period', 'PeriodUnit']]\n"
          ]
        }
      ],
      "source": [
        "predictions = predict(\"take 2 capsules po every 6 hours\")"
      ]
    },
    {
      "cell_type": "code",
      "execution_count": null,
      "metadata": {
        "id": "IGBG-IMFvnZt",
        "outputId": "6a5b271a-d0a9-4f7e-c5fe-f28d60a06550"
      },
      "outputs": [
        {
          "name": "stdout",
          "output_type": "stream",
          "text": [
            "inject 2 units pu tid\n",
            "[['Method', 'Qty', 'Form', 'Frequency', 'TID']]\n"
          ]
        }
      ],
      "source": [
        "predictions = predict(\"inject 2 units pu tid\")"
      ]
    },
    {
      "cell_type": "code",
      "execution_count": null,
      "metadata": {
        "id": "6HYjve6kvnZu",
        "outputId": "1f30852e-9eec-45ba-a98b-3e399f15bcb1"
      },
      "outputs": [
        {
          "name": "stdout",
          "output_type": "stream",
          "text": [
            "swallow 3 caps tid by mouth\n",
            "[['Method', 'Qty', 'Form', 'TID', 'BY', 'PO']]\n"
          ]
        }
      ],
      "source": [
        "predictions = predict(\"swallow 3 caps tid by mouth\")"
      ]
    },
    {
      "cell_type": "code",
      "execution_count": null,
      "metadata": {
        "id": "FOaMZIMyvnZv",
        "outputId": "0d8dcffa-86e9-4ebb-edb2-4dc9c9dbc6fd"
      },
      "outputs": [
        {
          "name": "stdout",
          "output_type": "stream",
          "text": [
            "inject 3 units orally\n",
            "[['Method', 'Qty', 'Form', 'PO']]\n"
          ]
        }
      ],
      "source": [
        "predictions = predict(\"inject 3 units orally\")"
      ]
    },
    {
      "cell_type": "code",
      "execution_count": null,
      "metadata": {
        "id": "TqLVjxmDvnZw",
        "outputId": "44172b21-2d4a-4a8b-addb-f978ba7a99a4"
      },
      "outputs": [
        {
          "name": "stdout",
          "output_type": "stream",
          "text": [
            "orally take 3 tabs tid\n",
            "[['PO', 'Method', 'Qty', 'Form', 'TID']]\n"
          ]
        }
      ],
      "source": [
        "predictions = predict(\"orally take 3 tabs tid\")"
      ]
    },
    {
      "cell_type": "code",
      "execution_count": null,
      "metadata": {
        "id": "jrPjtLIWvnZy",
        "outputId": "2cda8c95-a498-431a-d3d1-001d8be86d03"
      },
      "outputs": [
        {
          "name": "stdout",
          "output_type": "stream",
          "text": [
            "by mouth take three caps\n",
            "[['BY', 'PO', 'Method', 'Qty', 'Form']]\n"
          ]
        }
      ],
      "source": [
        "predictions = predict(\"by mouth take three caps\")"
      ]
    },
    {
      "cell_type": "code",
      "execution_count": null,
      "metadata": {
        "id": "J2ydStWivnZy",
        "outputId": "1915acd0-dbcc-49e8-fc6b-dce0f7f4a06e"
      },
      "outputs": [
        {
          "name": "stdout",
          "output_type": "stream",
          "text": [
            "take 3 tabs orally three times a day for 10 days at bedtime\n",
            "[['Method', 'Qty', 'Form', 'PO', 'Qty', 'TIMES', 'Period', 'PeriodUnit', 'FOR', 'Duration', 'DurationUnit', 'AT', 'WHEN']]\n"
          ]
        }
      ],
      "source": [
        "predictions = predict(\"take 3 tabs orally three times a day for 10 days at bedtime\")"
      ]
    },
    {
      "cell_type": "code",
      "execution_count": null,
      "metadata": {
        "id": "vDGUu8-6vnZz",
        "outputId": "cec65954-7053-4929-da75-f8fe6fcd00e5"
      },
      "outputs": [
        {
          "name": "stdout",
          "output_type": "stream",
          "text": [
            "take 3 tabs orally bid for 10 days at bedtime\n",
            "[['Method', 'Qty', 'Form', 'PO', 'BID', 'FOR', 'Duration', 'DurationUnit', 'AT', 'WHEN']]\n"
          ]
        }
      ],
      "source": [
        "predictions = predict(\"take 3 tabs orally bid for 10 days at bedtime\")"
      ]
    },
    {
      "cell_type": "code",
      "execution_count": null,
      "metadata": {
        "id": "TMHqUFazvnZ0",
        "outputId": "ddef26ff-e195-4a3f-dbbf-ee680dcc49bb"
      },
      "outputs": [
        {
          "name": "stdout",
          "output_type": "stream",
          "text": [
            "take 3 tabs bid orally at bed\n",
            "[['Method', 'Qty', 'Form', 'BID', 'PO', 'AT', 'WHEN']]\n"
          ]
        }
      ],
      "source": [
        "predictions = predict(\"take 3 tabs bid orally at bed\")"
      ]
    },
    {
      "cell_type": "code",
      "execution_count": null,
      "metadata": {
        "id": "rWsNXtJ2vnZ1",
        "outputId": "9fb1d5fc-4638-4249-c5e5-06a0c33eafa7"
      },
      "outputs": [
        {
          "name": "stdout",
          "output_type": "stream",
          "text": [
            "take 10 capsules by mouth qid\n",
            "[['Method', 'Qty', 'Form', 'BY', 'PO', 'QID']]\n"
          ]
        }
      ],
      "source": [
        "predictions = predict(\"take 10 capsules by mouth qid\")"
      ]
    },
    {
      "cell_type": "code",
      "execution_count": null,
      "metadata": {
        "id": "vGgTqtMlvnZ2",
        "outputId": "c4519434-508c-46c6-cf69-1407bb755ddd"
      },
      "outputs": [
        {
          "name": "stdout",
          "output_type": "stream",
          "text": [
            "inject 10 units orally qid x 3 months\n",
            "[['Method', 'Qty', 'Form', 'PO', 'QID', 'FOR', 'Duration', 'DurationUnit']]\n"
          ]
        }
      ],
      "source": [
        "predictions = predict(\"inject 10 units orally qid x 3 months\")"
      ]
    },
    {
      "cell_type": "code",
      "execution_count": null,
      "metadata": {
        "id": "90H5ow9-vnZ2",
        "outputId": "d231b6f7-0933-4c89-a3fa-c610ced3f27f"
      },
      "outputs": [
        {
          "name": "stdout",
          "output_type": "stream",
          "text": [
            "please take 2 tablets per day for a month in the morning and evening each day\n",
            "[['Method', 'Method', 'Qty', 'Form', 'Frequency', 'PeriodUnit', 'FOR', 'Period', 'PeriodUnit', 'EVERY', 'Period', 'PeriodUnit', 'AND', 'EVERY', 'Period', 'PeriodUnit']]\n"
          ]
        }
      ],
      "source": [
        "prediction = predict(\"please take 2 tablets per day for a month in the morning and evening each day\")"
      ]
    },
    {
      "cell_type": "code",
      "execution_count": null,
      "metadata": {
        "id": "aPz7lCd4vnZ3",
        "outputId": "02ce3e1c-5c0e-4377-c01a-4f4b6131bd60"
      },
      "outputs": [
        {
          "name": "stdout",
          "output_type": "stream",
          "text": [
            "Amoxcicillin QID 30 tablets\n",
            "[['WHEN', 'QID', 'Qty', 'Form']]\n"
          ]
        }
      ],
      "source": [
        "prediction = predict(\"Amoxcicillin QID 30 tablets\")"
      ]
    },
    {
      "cell_type": "code",
      "execution_count": null,
      "metadata": {
        "id": "N0vjIebWvnZ4",
        "outputId": "30d96ff7-c78b-4783-bdf4-3c4fd5aaaed4"
      },
      "outputs": [
        {
          "name": "stdout",
          "output_type": "stream",
          "text": [
            "take 3 tabs TID for 90 days with food\n",
            "[['Method', 'Qty', 'Form', 'TID', 'FOR', 'Duration', 'DurationUnit', 'WITH', 'FOOD']]\n"
          ]
        }
      ],
      "source": [
        "prediction = predict(\"take 3 tabs TID for 90 days with food\")"
      ]
    },
    {
      "cell_type": "code",
      "execution_count": null,
      "metadata": {
        "id": "_U1p5JhfvnZ5",
        "outputId": "ffcaf0d9-a22e-4d21-b6ef-1c506af7fb5c"
      },
      "outputs": [
        {
          "name": "stdout",
          "output_type": "stream",
          "text": [
            "with food take 3 tablets per day for 90 days\n",
            "[['WITH', 'FOOD', 'Method', 'Qty', 'Form', 'Frequency', 'PeriodUnit', 'FOR', 'Duration', 'DurationUnit']]\n"
          ]
        }
      ],
      "source": [
        "prediction = predict(\"with food take 3 tablets per day for 90 days\")"
      ]
    },
    {
      "cell_type": "code",
      "execution_count": null,
      "metadata": {
        "id": "gLGRIPfMvnZ6",
        "outputId": "0b54bf04-9d2f-40c2-d552-bf72be3f7315"
      },
      "outputs": [
        {
          "name": "stdout",
          "output_type": "stream",
          "text": [
            "with food take 3 tablets per week for 90 weeks\n",
            "[['WITH', 'FOOD', 'Method', 'Qty', 'Form', 'Frequency', 'PeriodUnit', 'FOR', 'Duration', 'DurationUnit']]\n"
          ]
        }
      ],
      "source": [
        "prediction = predict(\"with food take 3 tablets per week for 90 weeks\")"
      ]
    },
    {
      "cell_type": "code",
      "execution_count": null,
      "metadata": {
        "id": "qb0l2oxfvnZ7",
        "outputId": "9a1c5b09-a0b2-49c7-df3d-64710e027781"
      },
      "outputs": [
        {
          "name": "stdout",
          "output_type": "stream",
          "text": [
            "take 2-4 tabs\n",
            "[['Method', 'Qty', 'Form']]\n"
          ]
        }
      ],
      "source": [
        "prediction = predict(\"take 2-4 tabs\")"
      ]
    },
    {
      "cell_type": "code",
      "execution_count": null,
      "metadata": {
        "id": "wDsUps3LvnZ8",
        "outputId": "e226800c-3191-4852-9157-804dfbd44661"
      },
      "outputs": [
        {
          "name": "stdout",
          "output_type": "stream",
          "text": [
            "take 2 to 4 tabs\n",
            "[['Method', 'Qty', 'TO', 'Qty', 'Form']]\n"
          ]
        }
      ],
      "source": [
        "prediction = predict(\"take 2 to 4 tabs\")"
      ]
    },
    {
      "cell_type": "code",
      "execution_count": null,
      "metadata": {
        "id": "ssgFnW3EvnZ9",
        "outputId": "4684224f-7631-4e46-a799-15afe1b4b8c4"
      },
      "outputs": [
        {
          "name": "stdout",
          "output_type": "stream",
          "text": [
            "take two to four tabs\n",
            "[['Method', 'Qty', 'TO', 'Qty', 'Form']]\n"
          ]
        }
      ],
      "source": [
        "prediction = predict(\"take two to four tabs\")"
      ]
    },
    {
      "cell_type": "code",
      "execution_count": null,
      "metadata": {
        "id": "ecdZpqLAvnZ-",
        "outputId": "b3606241-d247-402e-e48d-1d1ba4c6d777"
      },
      "outputs": [
        {
          "name": "stdout",
          "output_type": "stream",
          "text": [
            "take 2-4 tabs for 8 to 9 days\n",
            "[['Method', 'Qty', 'Form', 'FOR', 'Duration', 'TO', 'PeriodMax', 'PeriodUnit']]\n"
          ]
        }
      ],
      "source": [
        "prediction = predict(\"take 2-4 tabs for 8 to 9 days\")"
      ]
    },
    {
      "cell_type": "code",
      "execution_count": null,
      "metadata": {
        "id": "6kgKwPG6vnZ_",
        "outputId": "bdcd02e3-d2d5-49ab-d0fe-c7e52ff7d90a"
      },
      "outputs": [
        {
          "name": "stdout",
          "output_type": "stream",
          "text": [
            "take 20 tabs every 6 to 8 days\n",
            "[['Method', 'Qty', 'Form', 'EVERY', 'Period', 'TO', 'PeriodMax', 'PeriodUnit']]\n"
          ]
        }
      ],
      "source": [
        "prediction = predict(\"take 20 tabs every 6 to 8 days\")"
      ]
    },
    {
      "cell_type": "code",
      "execution_count": null,
      "metadata": {
        "id": "tHDILYvevnaA",
        "outputId": "9613f7a7-aa56-415e-833d-d64e06eae668"
      },
      "outputs": [
        {
          "name": "stdout",
          "output_type": "stream",
          "text": [
            "take 2 tabs every 4 to 6 days\n",
            "[['Method', 'Qty', 'Form', 'EVERY', 'Period', 'TO', 'PeriodMax', 'PeriodUnit']]\n"
          ]
        }
      ],
      "source": [
        "prediction = predict(\"take 2 tabs every 4 to 6 days\")"
      ]
    },
    {
      "cell_type": "code",
      "execution_count": null,
      "metadata": {
        "id": "j3BhesJ6vnaA",
        "outputId": "658e6217-d70c-408a-cc2f-568ad96eeb88"
      },
      "outputs": [
        {
          "name": "stdout",
          "output_type": "stream",
          "text": [
            "take 2 tabs every 2 to 10 weeks\n",
            "[['Method', 'Qty', 'Form', 'EVERY', 'Period', 'TO', 'PeriodMax', 'PeriodUnit']]\n"
          ]
        }
      ],
      "source": [
        "prediction = predict(\"take 2 tabs every 2 to 10 weeks\")"
      ]
    },
    {
      "cell_type": "code",
      "execution_count": null,
      "metadata": {
        "id": "oVuof68kvnaB",
        "outputId": "524aee94-2214-4333-cbe4-2d9c5740bcd2"
      },
      "outputs": [
        {
          "name": "stdout",
          "output_type": "stream",
          "text": [
            "take 2 tabs every 4 to 6 days\n",
            "[['Method', 'Qty', 'Form', 'EVERY', 'Period', 'TO', 'PeriodMax', 'PeriodUnit']]\n"
          ]
        }
      ],
      "source": [
        "prediction = predict(\"take 2 tabs every 4 to 6 days\")"
      ]
    },
    {
      "cell_type": "code",
      "execution_count": null,
      "metadata": {
        "id": "O2KJA5QhvnaC",
        "outputId": "db815895-1098-457c-a842-2773801671b7"
      },
      "outputs": [
        {
          "name": "stdout",
          "output_type": "stream",
          "text": [
            "take 2 tabs every 2 to 10 months\n",
            "[['Method', 'Qty', 'Form', 'EVERY', 'Period', 'TO', 'PeriodMax', 'PeriodUnit']]\n"
          ]
        }
      ],
      "source": [
        "prediction = predict(\"take 2 tabs every 2 to 10 months\")"
      ]
    },
    {
      "cell_type": "code",
      "execution_count": null,
      "metadata": {
        "id": "KsxMf7DXvnaD",
        "outputId": "c7b8ecdd-83c6-4b12-d4b1-31455abdc93c"
      },
      "outputs": [
        {
          "name": "stdout",
          "output_type": "stream",
          "text": [
            "every 60 mins\n",
            "[['EVERY', 'Period', 'PeriodUnit']]\n"
          ]
        }
      ],
      "source": [
        "prediction = predict(\"every 60 mins\")"
      ]
    },
    {
      "cell_type": "code",
      "execution_count": null,
      "metadata": {
        "id": "oZ8neSxCvnaE",
        "outputId": "2aa609ec-0077-4e20-fa35-9b8994236f19"
      },
      "outputs": [
        {
          "name": "stdout",
          "output_type": "stream",
          "text": [
            "every 10 mins\n",
            "[['EVERY', 'Period', 'PeriodUnit']]\n"
          ]
        }
      ],
      "source": [
        "prediction = predict(\"every 10 mins\")"
      ]
    },
    {
      "cell_type": "code",
      "execution_count": null,
      "metadata": {
        "id": "ScSGZl4vvnaF",
        "outputId": "ea2c6c28-5859-4692-baf0-dd6cf1643b1e"
      },
      "outputs": [
        {
          "name": "stdout",
          "output_type": "stream",
          "text": [
            "every two to four months\n",
            "[['EVERY', 'Period', 'TO', 'PeriodMax', 'PeriodUnit']]\n"
          ]
        }
      ],
      "source": [
        "prediction = predict(\"every two to four months\")"
      ]
    },
    {
      "cell_type": "code",
      "execution_count": null,
      "metadata": {
        "id": "SMftTWKyvnaF",
        "outputId": "d7df195f-618a-4cb2-8b15-66d72d85b923"
      },
      "outputs": [
        {
          "name": "stdout",
          "output_type": "stream",
          "text": [
            "take 2 tabs every 3 to 4 days\n",
            "[['Method', 'Qty', 'Form', 'EVERY', 'Period', 'TO', 'PeriodMax', 'PeriodUnit']]\n"
          ]
        }
      ],
      "source": [
        "prediction = predict(\"take 2 tabs every 3 to 4 days\")"
      ]
    },
    {
      "cell_type": "code",
      "execution_count": null,
      "metadata": {
        "id": "y1jPeQhLvnaG",
        "outputId": "fb152499-8c3e-4509-f677-35b54829ec12"
      },
      "outputs": [
        {
          "name": "stdout",
          "output_type": "stream",
          "text": [
            "every 3 to 4 days take 20 tabs\n",
            "[['EVERY', 'Period', 'TO', 'DurationMax', 'DurationUnit', 'Method', 'Qty', 'Form']]\n"
          ]
        }
      ],
      "source": [
        "prediction = predict(\"every 3 to 4 days take 20 tabs\")"
      ]
    },
    {
      "cell_type": "code",
      "execution_count": null,
      "metadata": {
        "id": "a-saKCabvnaH",
        "outputId": "81dc0eba-c8aa-42e1-c575-b78d31564eb3"
      },
      "outputs": [
        {
          "name": "stdout",
          "output_type": "stream",
          "text": [
            "once in every 3 days take 3 tabs\n",
            "[['FOR', 'Duration', 'EVERY', 'Period', 'PeriodUnit', 'Method', 'Qty', 'Form']]\n"
          ]
        }
      ],
      "source": [
        "prediction = predict(\"once in every 3 days take 3 tabs\")"
      ]
    },
    {
      "cell_type": "code",
      "execution_count": null,
      "metadata": {
        "id": "zcOfxnSAvnaI",
        "outputId": "a7cbed14-1f19-4f39-d3d6-2abaff1c0141"
      },
      "outputs": [
        {
          "name": "stdout",
          "output_type": "stream",
          "text": [
            "take 3 tabs once in every 3 days\n",
            "[['Method', 'Qty', 'Form', 'Frequency', 'PeriodUnit', 'EVERY', 'Period', 'PeriodUnit']]\n"
          ]
        }
      ],
      "source": [
        "prediction = predict(\"take 3 tabs once in every 3 days\")"
      ]
    },
    {
      "cell_type": "code",
      "execution_count": null,
      "metadata": {
        "id": "VTTC3oY9vnaJ",
        "outputId": "1828d91e-2b59-4036-9ffb-9d32fcbd6253"
      },
      "outputs": [
        {
          "name": "stdout",
          "output_type": "stream",
          "text": [
            "orally take 20 tabs every 4-6 weeks\n",
            "[['PO', 'Method', 'Qty', 'Form', 'EVERY', 'Period', 'PeriodUnit']]\n"
          ]
        }
      ],
      "source": [
        "prediction = predict(\"orally take 20 tabs every 4-6 weeks\")"
      ]
    },
    {
      "cell_type": "code",
      "execution_count": null,
      "metadata": {
        "id": "Rb1DumQkvnaJ",
        "outputId": "fdc16fa9-fdc8-4562-bcd6-e09fdc53ba76"
      },
      "outputs": [
        {
          "name": "stdout",
          "output_type": "stream",
          "text": [
            "10 tabs x 2 days\n",
            "[['Qty', 'Form', 'FOR', 'Duration', 'DurationUnit']]\n"
          ]
        }
      ],
      "source": [
        "prediction = predict(\"10 tabs x 2 days\")"
      ]
    },
    {
      "cell_type": "code",
      "execution_count": null,
      "metadata": {
        "id": "TdZxYUukvnaK",
        "outputId": "5f62e667-fd2f-4eb5-d481-5e57cfb2f655"
      },
      "outputs": [
        {
          "name": "stdout",
          "output_type": "stream",
          "text": [
            "3 capsule x 15 days\n",
            "[['Qty', 'Form', 'FOR', 'Duration', 'DurationUnit']]\n"
          ]
        }
      ],
      "source": [
        "prediction = predict(\"3 capsule x 15 days\")"
      ]
    },
    {
      "cell_type": "code",
      "execution_count": null,
      "metadata": {
        "id": "qyi-yBUrvnaL",
        "outputId": "f238cb8a-1c94-4b26-ee0a-dd40bb4c75da"
      },
      "outputs": [
        {
          "name": "stdout",
          "output_type": "stream",
          "text": [
            "10 tabs\n",
            "[['Qty', 'Form']]\n"
          ]
        }
      ],
      "source": [
        "prediction = predict(\"10 tabs\")"
      ]
    }
  ],
  "metadata": {
    "kernelspec": {
      "display_name": "Python 3",
      "name": "python3"
    },
    "language_info": {
      "name": "python"
    },
    "colab": {
      "provenance": []
    }
  },
  "nbformat": 4,
  "nbformat_minor": 0
}