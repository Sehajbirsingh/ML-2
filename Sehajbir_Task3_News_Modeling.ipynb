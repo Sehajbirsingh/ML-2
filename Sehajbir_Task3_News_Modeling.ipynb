{
  "cells": [
    {
      "cell_type": "markdown",
      "metadata": {
        "id": "qNn2uD8RLNiA"
      },
      "source": [
        "# News Modeling\n",
        "\n",
        "Topic modeling involves **extracting features from document terms** and using\n",
        "mathematical structures and frameworks like matrix factorization and SVD to generate **clusters or groups of terms** that are distinguishable from each other and these clusters of words form topics or concepts\n",
        "\n",
        "Topic modeling is a method for **unsupervised classification** of documents, similar to clustering on numeric data\n",
        "\n",
        "These concepts can be used to interpret the main **themes** of a corpus and also make **semantic connections among words that co-occur together** frequently in various documents\n",
        "\n",
        "Topic modeling can help in the following areas:\n",
        "- discovering the **hidden themes** in the collection\n",
        "- **classifying** the documents into the discovered themes\n",
        "- using the classification to **organize/summarize/search** the documents\n",
        "\n",
        "Frameworks and algorithms to build topic models:\n",
        "- Latent semantic indexing\n",
        "- Latent Dirichlet allocation\n",
        "- Non-negative matrix factorization"
      ]
    },
    {
      "cell_type": "markdown",
      "metadata": {
        "id": "PWOExzhPLNiE"
      },
      "source": [
        "## Latent Dirichlet Allocation (LDA)\n",
        "The latent Dirichlet allocation (LDA) technique is a **generative probabilistic model** where each **document is assumed to have a combination of topics** similar to a probabilistic latent semantic indexing model\n",
        "\n",
        "In simple words, the idea behind LDA is that of two folds:\n",
        "- each **document** can be described by a **distribution of topics**\n",
        "- each **topic** can be described by a **distribution of words**"
      ]
    },
    {
      "cell_type": "markdown",
      "metadata": {
        "id": "gp7Zw3ReLNiF"
      },
      "source": [
        "### LDA Algorithm\n",
        "\n",
        "- 1. For each document, **randomly initialize each word to one of the K topics** (k is chosen beforehand)\n",
        "- 2. For each document D, go through each word w and compute:\n",
        "    - **P(T |D)** , which is a proportion of words in D assigned to topic T\n",
        "    - **P(W |T )** , which is a proportion of assignments to topic T over all documents having the word W\n",
        "- **Reassign word W with topic T** with probability P(T |D)´ P(W |T ) considering all other words and their topic assignments\n",
        "\n",
        "![LDA](https://raw.githubusercontent.com/subashgandyer/datasets/main/images/LDA.png)"
      ]
    },
    {
      "cell_type": "markdown",
      "metadata": {
        "id": "EnstbW_xLNiG"
      },
      "source": [
        "### Steps\n",
        "- Install the necessary library\n",
        "- Import the necessary libraries\n",
        "- Download the dataset\n",
        "- Load the dataset\n",
        "- Pre-process the dataset\n",
        "    - Stop words removal\n",
        "    - Email removal\n",
        "    - Non-alphabetic words removal\n",
        "    - Tokenize\n",
        "    - Lowercase\n",
        "    - BiGrams & TriGrams\n",
        "    - Lemmatization\n",
        "- Create a dictionary for the document\n",
        "- Filter low frequency words\n",
        "- Create an Index to word dictionary\n",
        "- Train the Topic Model\n",
        "- Predict on the dataset\n",
        "- Evaluate the Topic Model\n",
        "    - Model Perplexity\n",
        "    - Topic Coherence\n",
        "- Visualize the topics"
      ]
    },
    {
      "cell_type": "markdown",
      "metadata": {
        "id": "-qAF7ArILNiH"
      },
      "source": [
        "### Install the necessary library"
      ]
    },
    {
      "cell_type": "code",
      "execution_count": null,
      "metadata": {
        "colab": {
          "base_uri": "https://localhost:8080/"
        },
        "id": "Z9V_CgKPLNiH",
        "outputId": "d2983f5c-5c60-405b-d30a-3690da3244db"
      },
      "outputs": [
        {
          "name": "stdout",
          "output_type": "stream",
          "text": [
            "Collecting pyLDAvis\n",
            "  Downloading pyLDAvis-3.4.1-py3-none-any.whl.metadata (4.2 kB)\n",
            "Requirement already satisfied: gensim in /usr/local/lib/python3.10/dist-packages (4.3.3)\n",
            "Requirement already satisfied: spacy in /usr/local/lib/python3.10/dist-packages (3.7.5)\n",
            "Requirement already satisfied: numpy>=1.24.2 in /usr/local/lib/python3.10/dist-packages (from pyLDAvis) (1.26.4)\n",
            "Requirement already satisfied: scipy in /usr/local/lib/python3.10/dist-packages (from pyLDAvis) (1.13.1)\n",
            "Requirement already satisfied: pandas>=2.0.0 in /usr/local/lib/python3.10/dist-packages (from pyLDAvis) (2.2.2)\n",
            "Requirement already satisfied: joblib>=1.2.0 in /usr/local/lib/python3.10/dist-packages (from pyLDAvis) (1.4.2)\n",
            "Requirement already satisfied: jinja2 in /usr/local/lib/python3.10/dist-packages (from pyLDAvis) (3.1.4)\n",
            "Requirement already satisfied: numexpr in /usr/local/lib/python3.10/dist-packages (from pyLDAvis) (2.10.1)\n",
            "Collecting funcy (from pyLDAvis)\n",
            "  Downloading funcy-2.0-py2.py3-none-any.whl.metadata (5.9 kB)\n",
            "Requirement already satisfied: scikit-learn>=1.0.0 in /usr/local/lib/python3.10/dist-packages (from pyLDAvis) (1.5.2)\n",
            "Requirement already satisfied: setuptools in /usr/local/lib/python3.10/dist-packages (from pyLDAvis) (75.1.0)\n",
            "Requirement already satisfied: smart-open>=1.8.1 in /usr/local/lib/python3.10/dist-packages (from gensim) (7.0.5)\n",
            "Requirement already satisfied: spacy-legacy<3.1.0,>=3.0.11 in /usr/local/lib/python3.10/dist-packages (from spacy) (3.0.12)\n",
            "Requirement already satisfied: spacy-loggers<2.0.0,>=1.0.0 in /usr/local/lib/python3.10/dist-packages (from spacy) (1.0.5)\n",
            "Requirement already satisfied: murmurhash<1.1.0,>=0.28.0 in /usr/local/lib/python3.10/dist-packages (from spacy) (1.0.10)\n",
            "Requirement already satisfied: cymem<2.1.0,>=2.0.2 in /usr/local/lib/python3.10/dist-packages (from spacy) (2.0.8)\n",
            "Requirement already satisfied: preshed<3.1.0,>=3.0.2 in /usr/local/lib/python3.10/dist-packages (from spacy) (3.0.9)\n",
            "Requirement already satisfied: thinc<8.3.0,>=8.2.2 in /usr/local/lib/python3.10/dist-packages (from spacy) (8.2.5)\n",
            "Requirement already satisfied: wasabi<1.2.0,>=0.9.1 in /usr/local/lib/python3.10/dist-packages (from spacy) (1.1.3)\n",
            "Requirement already satisfied: srsly<3.0.0,>=2.4.3 in /usr/local/lib/python3.10/dist-packages (from spacy) (2.4.8)\n",
            "Requirement already satisfied: catalogue<2.1.0,>=2.0.6 in /usr/local/lib/python3.10/dist-packages (from spacy) (2.0.10)\n",
            "Requirement already satisfied: weasel<0.5.0,>=0.1.0 in /usr/local/lib/python3.10/dist-packages (from spacy) (0.4.1)\n",
            "Requirement already satisfied: typer<1.0.0,>=0.3.0 in /usr/local/lib/python3.10/dist-packages (from spacy) (0.13.0)\n",
            "Requirement already satisfied: tqdm<5.0.0,>=4.38.0 in /usr/local/lib/python3.10/dist-packages (from spacy) (4.66.6)\n",
            "Requirement already satisfied: requests<3.0.0,>=2.13.0 in /usr/local/lib/python3.10/dist-packages (from spacy) (2.32.3)\n",
            "Requirement already satisfied: pydantic!=1.8,!=1.8.1,<3.0.0,>=1.7.4 in /usr/local/lib/python3.10/dist-packages (from spacy) (2.9.2)\n",
            "Requirement already satisfied: packaging>=20.0 in /usr/local/lib/python3.10/dist-packages (from spacy) (24.2)\n",
            "Requirement already satisfied: langcodes<4.0.0,>=3.2.0 in /usr/local/lib/python3.10/dist-packages (from spacy) (3.4.1)\n",
            "Requirement already satisfied: language-data>=1.2 in /usr/local/lib/python3.10/dist-packages (from langcodes<4.0.0,>=3.2.0->spacy) (1.2.0)\n",
            "Requirement already satisfied: python-dateutil>=2.8.2 in /usr/local/lib/python3.10/dist-packages (from pandas>=2.0.0->pyLDAvis) (2.8.2)\n",
            "Requirement already satisfied: pytz>=2020.1 in /usr/local/lib/python3.10/dist-packages (from pandas>=2.0.0->pyLDAvis) (2024.2)\n",
            "Requirement already satisfied: tzdata>=2022.7 in /usr/local/lib/python3.10/dist-packages (from pandas>=2.0.0->pyLDAvis) (2024.2)\n",
            "Requirement already satisfied: annotated-types>=0.6.0 in /usr/local/lib/python3.10/dist-packages (from pydantic!=1.8,!=1.8.1,<3.0.0,>=1.7.4->spacy) (0.7.0)\n",
            "Requirement already satisfied: pydantic-core==2.23.4 in /usr/local/lib/python3.10/dist-packages (from pydantic!=1.8,!=1.8.1,<3.0.0,>=1.7.4->spacy) (2.23.4)\n",
            "Requirement already satisfied: typing-extensions>=4.6.1 in /usr/local/lib/python3.10/dist-packages (from pydantic!=1.8,!=1.8.1,<3.0.0,>=1.7.4->spacy) (4.12.2)\n",
            "Requirement already satisfied: charset-normalizer<4,>=2 in /usr/local/lib/python3.10/dist-packages (from requests<3.0.0,>=2.13.0->spacy) (3.4.0)\n",
            "Requirement already satisfied: idna<4,>=2.5 in /usr/local/lib/python3.10/dist-packages (from requests<3.0.0,>=2.13.0->spacy) (3.10)\n",
            "Requirement already satisfied: urllib3<3,>=1.21.1 in /usr/local/lib/python3.10/dist-packages (from requests<3.0.0,>=2.13.0->spacy) (2.2.3)\n",
            "Requirement already satisfied: certifi>=2017.4.17 in /usr/local/lib/python3.10/dist-packages (from requests<3.0.0,>=2.13.0->spacy) (2024.8.30)\n",
            "Requirement already satisfied: threadpoolctl>=3.1.0 in /usr/local/lib/python3.10/dist-packages (from scikit-learn>=1.0.0->pyLDAvis) (3.5.0)\n",
            "Requirement already satisfied: wrapt in /usr/local/lib/python3.10/dist-packages (from smart-open>=1.8.1->gensim) (1.16.0)\n",
            "Requirement already satisfied: blis<0.8.0,>=0.7.8 in /usr/local/lib/python3.10/dist-packages (from thinc<8.3.0,>=8.2.2->spacy) (0.7.11)\n",
            "Requirement already satisfied: confection<1.0.0,>=0.0.1 in /usr/local/lib/python3.10/dist-packages (from thinc<8.3.0,>=8.2.2->spacy) (0.1.5)\n",
            "Requirement already satisfied: click>=8.0.0 in /usr/local/lib/python3.10/dist-packages (from typer<1.0.0,>=0.3.0->spacy) (8.1.7)\n",
            "Requirement already satisfied: shellingham>=1.3.0 in /usr/local/lib/python3.10/dist-packages (from typer<1.0.0,>=0.3.0->spacy) (1.5.4)\n",
            "Requirement already satisfied: rich>=10.11.0 in /usr/local/lib/python3.10/dist-packages (from typer<1.0.0,>=0.3.0->spacy) (13.9.4)\n",
            "Requirement already satisfied: cloudpathlib<1.0.0,>=0.7.0 in /usr/local/lib/python3.10/dist-packages (from weasel<0.5.0,>=0.1.0->spacy) (0.20.0)\n",
            "Requirement already satisfied: MarkupSafe>=2.0 in /usr/local/lib/python3.10/dist-packages (from jinja2->pyLDAvis) (3.0.2)\n",
            "Requirement already satisfied: marisa-trie>=0.7.7 in /usr/local/lib/python3.10/dist-packages (from language-data>=1.2->langcodes<4.0.0,>=3.2.0->spacy) (1.2.1)\n",
            "Requirement already satisfied: six>=1.5 in /usr/local/lib/python3.10/dist-packages (from python-dateutil>=2.8.2->pandas>=2.0.0->pyLDAvis) (1.16.0)\n",
            "Requirement already satisfied: markdown-it-py>=2.2.0 in /usr/local/lib/python3.10/dist-packages (from rich>=10.11.0->typer<1.0.0,>=0.3.0->spacy) (3.0.0)\n",
            "Requirement already satisfied: pygments<3.0.0,>=2.13.0 in /usr/local/lib/python3.10/dist-packages (from rich>=10.11.0->typer<1.0.0,>=0.3.0->spacy) (2.18.0)\n",
            "Requirement already satisfied: mdurl~=0.1 in /usr/local/lib/python3.10/dist-packages (from markdown-it-py>=2.2.0->rich>=10.11.0->typer<1.0.0,>=0.3.0->spacy) (0.1.2)\n",
            "Downloading pyLDAvis-3.4.1-py3-none-any.whl (2.6 MB)\n",
            "\u001b[2K   \u001b[90m━━━━━━━━━━━━━━━━━━━━━━━━━━━━━━━━━━━━━━━━\u001b[0m \u001b[32m2.6/2.6 MB\u001b[0m \u001b[31m22.8 MB/s\u001b[0m eta \u001b[36m0:00:00\u001b[0m\n",
            "\u001b[?25hDownloading funcy-2.0-py2.py3-none-any.whl (30 kB)\n",
            "Installing collected packages: funcy, pyLDAvis\n",
            "Successfully installed funcy-2.0 pyLDAvis-3.4.1\n"
          ]
        }
      ],
      "source": [
        "! pip install pyLDAvis gensim spacy"
      ]
    },
    {
      "cell_type": "markdown",
      "metadata": {
        "id": "LccjNnQcLNiJ"
      },
      "source": [
        "### Import the libraries"
      ]
    },
    {
      "cell_type": "code",
      "execution_count": null,
      "metadata": {
        "colab": {
          "base_uri": "https://localhost:8080/"
        },
        "id": "o9Ld4mhtLNiJ",
        "outputId": "18f1a44b-71dd-4aa3-d171-659fff32437c"
      },
      "outputs": [
        {
          "name": "stderr",
          "output_type": "stream",
          "text": [
            "[nltk_data] Downloading package punkt to /root/nltk_data...\n",
            "[nltk_data]   Unzipping tokenizers/punkt.zip.\n",
            "[nltk_data] Downloading package stopwords to /root/nltk_data...\n",
            "[nltk_data]   Unzipping corpora/stopwords.zip.\n",
            "[nltk_data] Downloading package wordnet to /root/nltk_data...\n"
          ]
        }
      ],
      "source": [
        "import pandas as pd\n",
        "import numpy as np\n",
        "import json\n",
        "import re\n",
        "import nltk\n",
        "from nltk.corpus import stopwords\n",
        "from nltk.tokenize import word_tokenize\n",
        "import gensim\n",
        "from gensim import corpora, models\n",
        "import pyLDAvis\n",
        "import pyLDAvis.gensim_models\n",
        "import spacy\n",
        "\n",
        "# Download necessary NLTK data\n",
        "nltk.download('punkt')\n",
        "nltk.download('stopwords')\n",
        "nltk.download('wordnet')\n",
        "\n",
        "# Load English language model in spaCy\n",
        "nlp = spacy.load('en_core_web_sm')"
      ]
    },
    {
      "cell_type": "markdown",
      "metadata": {
        "id": "_yf97yDZLNiK"
      },
      "source": [
        "### Download the dataset\n",
        "Dataset: https://raw.githubusercontent.com/subashgandyer/datasets/main/newsgroups.json\n",
        "\n",
        "#### 20-Newsgroups dataset\n",
        "- 11K newsgroups posts\n",
        "- 20 news topics"
      ]
    },
    {
      "cell_type": "code",
      "execution_count": null,
      "metadata": {
        "colab": {
          "base_uri": "https://localhost:8080/",
          "height": 275
        },
        "id": "21cYw_EVLNiL",
        "outputId": "ec9f801c-2997-48db-f54c-650d017a4740"
      },
      "outputs": [
        {
          "name": "stderr",
          "output_type": "stream",
          "text": [
            "/usr/local/lib/python3.10/dist-packages/ipykernel/ipkernel.py:283: DeprecationWarning: `should_run_async` will not call `transform_cell` automatically in the future. Please pass the result to `transformed_cell` argument and any exception that happen during thetransform in `preprocessing_exc_tuple` in IPython 7.17 and above.\n",
            "  and should_run_async(code)\n"
          ]
        },
        {
          "name": "stdout",
          "output_type": "stream",
          "text": [
            "Collecting wget\n",
            "  Downloading wget-3.2.zip (10 kB)\n",
            "  Preparing metadata (setup.py) ... \u001b[?25l\u001b[?25hdone\n",
            "Building wheels for collected packages: wget\n",
            "  Building wheel for wget (setup.py) ... \u001b[?25l\u001b[?25hdone\n",
            "  Created wheel for wget: filename=wget-3.2-py3-none-any.whl size=9656 sha256=5172fd1478fb83966e870c30426f8d50ae53a74c9a1587854b9ce917f2007a08\n",
            "  Stored in directory: /root/.cache/pip/wheels/8b/f1/7f/5c94f0a7a505ca1c81cd1d9208ae2064675d97582078e6c769\n",
            "Successfully built wget\n",
            "Installing collected packages: wget\n",
            "Successfully installed wget-3.2\n"
          ]
        },
        {
          "data": {
            "application/vnd.google.colaboratory.intrinsic+json": {
              "type": "string"
            },
            "text/plain": [
              "'newsgroups.json'"
            ]
          },
          "execution_count": 3,
          "metadata": {},
          "output_type": "execute_result"
        }
      ],
      "source": [
        "!pip install wget\n",
        "import wget\n",
        "\n",
        "# Download the dataset\n",
        "url = \"https://raw.githubusercontent.com/subashgandyer/datasets/main/newsgroups.json\"\n",
        "wget.download(url)"
      ]
    },
    {
      "cell_type": "markdown",
      "metadata": {
        "id": "PZyYGINALNiM"
      },
      "source": [
        "### Load the dataset"
      ]
    },
    {
      "cell_type": "code",
      "execution_count": 99,
      "metadata": {
        "colab": {
          "base_uri": "https://localhost:8080/"
        },
        "id": "kTnvJOIJLNiM",
        "outputId": "03711c13-d21d-4b5a-9f2c-419634af2e6e"
      },
      "outputs": [
        {
          "output_type": "stream",
          "name": "stderr",
          "text": [
            "/usr/local/lib/python3.10/dist-packages/ipykernel/ipkernel.py:283: DeprecationWarning: `should_run_async` will not call `transform_cell` automatically in the future. Please pass the result to `transformed_cell` argument and any exception that happen during thetransform in `preprocessing_exc_tuple` in IPython 7.17 and above.\n",
            "  and should_run_async(code)\n"
          ]
        }
      ],
      "source": [
        "# prompt: load the dataset\n",
        "import pandas as pd\n",
        "# Load the dataset\n",
        "df = pd.read_json('newsgroups.json')"
      ]
    },
    {
      "cell_type": "code",
      "execution_count": 100,
      "metadata": {
        "colab": {
          "base_uri": "https://localhost:8080/",
          "height": 262
        },
        "id": "dOJPgCq6LNiN",
        "outputId": "931ea6e9-eb92-4406-8f2e-81dfd8e603ec"
      },
      "outputs": [
        {
          "output_type": "stream",
          "name": "stderr",
          "text": [
            "/usr/local/lib/python3.10/dist-packages/ipykernel/ipkernel.py:283: DeprecationWarning: `should_run_async` will not call `transform_cell` automatically in the future. Please pass the result to `transformed_cell` argument and any exception that happen during thetransform in `preprocessing_exc_tuple` in IPython 7.17 and above.\n",
            "  and should_run_async(code)\n"
          ]
        },
        {
          "output_type": "execute_result",
          "data": {
            "text/plain": [
              "                                             content  target  \\\n",
              "0  From: lerxst@wam.umd.edu (where's my thing)\\nS...       7   \n",
              "1  From: guykuo@carson.u.washington.edu (Guy Kuo)...       4   \n",
              "2  From: twillis@ec.ecn.purdue.edu (Thomas E Will...       4   \n",
              "3  From: jgreen@amber (Joe Green)\\nSubject: Re: W...       1   \n",
              "4  From: jcm@head-cfa.harvard.edu (Jonathan McDow...      14   \n",
              "\n",
              "            target_names  \n",
              "0              rec.autos  \n",
              "1  comp.sys.mac.hardware  \n",
              "2  comp.sys.mac.hardware  \n",
              "3          comp.graphics  \n",
              "4              sci.space  "
            ],
            "text/html": [
              "\n",
              "  <div id=\"df-00765f24-7366-44b3-b582-c55485009f62\" class=\"colab-df-container\">\n",
              "    <div>\n",
              "<style scoped>\n",
              "    .dataframe tbody tr th:only-of-type {\n",
              "        vertical-align: middle;\n",
              "    }\n",
              "\n",
              "    .dataframe tbody tr th {\n",
              "        vertical-align: top;\n",
              "    }\n",
              "\n",
              "    .dataframe thead th {\n",
              "        text-align: right;\n",
              "    }\n",
              "</style>\n",
              "<table border=\"1\" class=\"dataframe\">\n",
              "  <thead>\n",
              "    <tr style=\"text-align: right;\">\n",
              "      <th></th>\n",
              "      <th>content</th>\n",
              "      <th>target</th>\n",
              "      <th>target_names</th>\n",
              "    </tr>\n",
              "  </thead>\n",
              "  <tbody>\n",
              "    <tr>\n",
              "      <th>0</th>\n",
              "      <td>From: lerxst@wam.umd.edu (where's my thing)\\nS...</td>\n",
              "      <td>7</td>\n",
              "      <td>rec.autos</td>\n",
              "    </tr>\n",
              "    <tr>\n",
              "      <th>1</th>\n",
              "      <td>From: guykuo@carson.u.washington.edu (Guy Kuo)...</td>\n",
              "      <td>4</td>\n",
              "      <td>comp.sys.mac.hardware</td>\n",
              "    </tr>\n",
              "    <tr>\n",
              "      <th>2</th>\n",
              "      <td>From: twillis@ec.ecn.purdue.edu (Thomas E Will...</td>\n",
              "      <td>4</td>\n",
              "      <td>comp.sys.mac.hardware</td>\n",
              "    </tr>\n",
              "    <tr>\n",
              "      <th>3</th>\n",
              "      <td>From: jgreen@amber (Joe Green)\\nSubject: Re: W...</td>\n",
              "      <td>1</td>\n",
              "      <td>comp.graphics</td>\n",
              "    </tr>\n",
              "    <tr>\n",
              "      <th>4</th>\n",
              "      <td>From: jcm@head-cfa.harvard.edu (Jonathan McDow...</td>\n",
              "      <td>14</td>\n",
              "      <td>sci.space</td>\n",
              "    </tr>\n",
              "  </tbody>\n",
              "</table>\n",
              "</div>\n",
              "    <div class=\"colab-df-buttons\">\n",
              "\n",
              "  <div class=\"colab-df-container\">\n",
              "    <button class=\"colab-df-convert\" onclick=\"convertToInteractive('df-00765f24-7366-44b3-b582-c55485009f62')\"\n",
              "            title=\"Convert this dataframe to an interactive table.\"\n",
              "            style=\"display:none;\">\n",
              "\n",
              "  <svg xmlns=\"http://www.w3.org/2000/svg\" height=\"24px\" viewBox=\"0 -960 960 960\">\n",
              "    <path d=\"M120-120v-720h720v720H120Zm60-500h600v-160H180v160Zm220 220h160v-160H400v160Zm0 220h160v-160H400v160ZM180-400h160v-160H180v160Zm440 0h160v-160H620v160ZM180-180h160v-160H180v160Zm440 0h160v-160H620v160Z\"/>\n",
              "  </svg>\n",
              "    </button>\n",
              "\n",
              "  <style>\n",
              "    .colab-df-container {\n",
              "      display:flex;\n",
              "      gap: 12px;\n",
              "    }\n",
              "\n",
              "    .colab-df-convert {\n",
              "      background-color: #E8F0FE;\n",
              "      border: none;\n",
              "      border-radius: 50%;\n",
              "      cursor: pointer;\n",
              "      display: none;\n",
              "      fill: #1967D2;\n",
              "      height: 32px;\n",
              "      padding: 0 0 0 0;\n",
              "      width: 32px;\n",
              "    }\n",
              "\n",
              "    .colab-df-convert:hover {\n",
              "      background-color: #E2EBFA;\n",
              "      box-shadow: 0px 1px 2px rgba(60, 64, 67, 0.3), 0px 1px 3px 1px rgba(60, 64, 67, 0.15);\n",
              "      fill: #174EA6;\n",
              "    }\n",
              "\n",
              "    .colab-df-buttons div {\n",
              "      margin-bottom: 4px;\n",
              "    }\n",
              "\n",
              "    [theme=dark] .colab-df-convert {\n",
              "      background-color: #3B4455;\n",
              "      fill: #D2E3FC;\n",
              "    }\n",
              "\n",
              "    [theme=dark] .colab-df-convert:hover {\n",
              "      background-color: #434B5C;\n",
              "      box-shadow: 0px 1px 3px 1px rgba(0, 0, 0, 0.15);\n",
              "      filter: drop-shadow(0px 1px 2px rgba(0, 0, 0, 0.3));\n",
              "      fill: #FFFFFF;\n",
              "    }\n",
              "  </style>\n",
              "\n",
              "    <script>\n",
              "      const buttonEl =\n",
              "        document.querySelector('#df-00765f24-7366-44b3-b582-c55485009f62 button.colab-df-convert');\n",
              "      buttonEl.style.display =\n",
              "        google.colab.kernel.accessAllowed ? 'block' : 'none';\n",
              "\n",
              "      async function convertToInteractive(key) {\n",
              "        const element = document.querySelector('#df-00765f24-7366-44b3-b582-c55485009f62');\n",
              "        const dataTable =\n",
              "          await google.colab.kernel.invokeFunction('convertToInteractive',\n",
              "                                                    [key], {});\n",
              "        if (!dataTable) return;\n",
              "\n",
              "        const docLinkHtml = 'Like what you see? Visit the ' +\n",
              "          '<a target=\"_blank\" href=https://colab.research.google.com/notebooks/data_table.ipynb>data table notebook</a>'\n",
              "          + ' to learn more about interactive tables.';\n",
              "        element.innerHTML = '';\n",
              "        dataTable['output_type'] = 'display_data';\n",
              "        await google.colab.output.renderOutput(dataTable, element);\n",
              "        const docLink = document.createElement('div');\n",
              "        docLink.innerHTML = docLinkHtml;\n",
              "        element.appendChild(docLink);\n",
              "      }\n",
              "    </script>\n",
              "  </div>\n",
              "\n",
              "\n",
              "<div id=\"df-27dfe841-4a43-4133-9367-4c1537a8b4ad\">\n",
              "  <button class=\"colab-df-quickchart\" onclick=\"quickchart('df-27dfe841-4a43-4133-9367-4c1537a8b4ad')\"\n",
              "            title=\"Suggest charts\"\n",
              "            style=\"display:none;\">\n",
              "\n",
              "<svg xmlns=\"http://www.w3.org/2000/svg\" height=\"24px\"viewBox=\"0 0 24 24\"\n",
              "     width=\"24px\">\n",
              "    <g>\n",
              "        <path d=\"M19 3H5c-1.1 0-2 .9-2 2v14c0 1.1.9 2 2 2h14c1.1 0 2-.9 2-2V5c0-1.1-.9-2-2-2zM9 17H7v-7h2v7zm4 0h-2V7h2v10zm4 0h-2v-4h2v4z\"/>\n",
              "    </g>\n",
              "</svg>\n",
              "  </button>\n",
              "\n",
              "<style>\n",
              "  .colab-df-quickchart {\n",
              "      --bg-color: #E8F0FE;\n",
              "      --fill-color: #1967D2;\n",
              "      --hover-bg-color: #E2EBFA;\n",
              "      --hover-fill-color: #174EA6;\n",
              "      --disabled-fill-color: #AAA;\n",
              "      --disabled-bg-color: #DDD;\n",
              "  }\n",
              "\n",
              "  [theme=dark] .colab-df-quickchart {\n",
              "      --bg-color: #3B4455;\n",
              "      --fill-color: #D2E3FC;\n",
              "      --hover-bg-color: #434B5C;\n",
              "      --hover-fill-color: #FFFFFF;\n",
              "      --disabled-bg-color: #3B4455;\n",
              "      --disabled-fill-color: #666;\n",
              "  }\n",
              "\n",
              "  .colab-df-quickchart {\n",
              "    background-color: var(--bg-color);\n",
              "    border: none;\n",
              "    border-radius: 50%;\n",
              "    cursor: pointer;\n",
              "    display: none;\n",
              "    fill: var(--fill-color);\n",
              "    height: 32px;\n",
              "    padding: 0;\n",
              "    width: 32px;\n",
              "  }\n",
              "\n",
              "  .colab-df-quickchart:hover {\n",
              "    background-color: var(--hover-bg-color);\n",
              "    box-shadow: 0 1px 2px rgba(60, 64, 67, 0.3), 0 1px 3px 1px rgba(60, 64, 67, 0.15);\n",
              "    fill: var(--button-hover-fill-color);\n",
              "  }\n",
              "\n",
              "  .colab-df-quickchart-complete:disabled,\n",
              "  .colab-df-quickchart-complete:disabled:hover {\n",
              "    background-color: var(--disabled-bg-color);\n",
              "    fill: var(--disabled-fill-color);\n",
              "    box-shadow: none;\n",
              "  }\n",
              "\n",
              "  .colab-df-spinner {\n",
              "    border: 2px solid var(--fill-color);\n",
              "    border-color: transparent;\n",
              "    border-bottom-color: var(--fill-color);\n",
              "    animation:\n",
              "      spin 1s steps(1) infinite;\n",
              "  }\n",
              "\n",
              "  @keyframes spin {\n",
              "    0% {\n",
              "      border-color: transparent;\n",
              "      border-bottom-color: var(--fill-color);\n",
              "      border-left-color: var(--fill-color);\n",
              "    }\n",
              "    20% {\n",
              "      border-color: transparent;\n",
              "      border-left-color: var(--fill-color);\n",
              "      border-top-color: var(--fill-color);\n",
              "    }\n",
              "    30% {\n",
              "      border-color: transparent;\n",
              "      border-left-color: var(--fill-color);\n",
              "      border-top-color: var(--fill-color);\n",
              "      border-right-color: var(--fill-color);\n",
              "    }\n",
              "    40% {\n",
              "      border-color: transparent;\n",
              "      border-right-color: var(--fill-color);\n",
              "      border-top-color: var(--fill-color);\n",
              "    }\n",
              "    60% {\n",
              "      border-color: transparent;\n",
              "      border-right-color: var(--fill-color);\n",
              "    }\n",
              "    80% {\n",
              "      border-color: transparent;\n",
              "      border-right-color: var(--fill-color);\n",
              "      border-bottom-color: var(--fill-color);\n",
              "    }\n",
              "    90% {\n",
              "      border-color: transparent;\n",
              "      border-bottom-color: var(--fill-color);\n",
              "    }\n",
              "  }\n",
              "</style>\n",
              "\n",
              "  <script>\n",
              "    async function quickchart(key) {\n",
              "      const quickchartButtonEl =\n",
              "        document.querySelector('#' + key + ' button');\n",
              "      quickchartButtonEl.disabled = true;  // To prevent multiple clicks.\n",
              "      quickchartButtonEl.classList.add('colab-df-spinner');\n",
              "      try {\n",
              "        const charts = await google.colab.kernel.invokeFunction(\n",
              "            'suggestCharts', [key], {});\n",
              "      } catch (error) {\n",
              "        console.error('Error during call to suggestCharts:', error);\n",
              "      }\n",
              "      quickchartButtonEl.classList.remove('colab-df-spinner');\n",
              "      quickchartButtonEl.classList.add('colab-df-quickchart-complete');\n",
              "    }\n",
              "    (() => {\n",
              "      let quickchartButtonEl =\n",
              "        document.querySelector('#df-27dfe841-4a43-4133-9367-4c1537a8b4ad button');\n",
              "      quickchartButtonEl.style.display =\n",
              "        google.colab.kernel.accessAllowed ? 'block' : 'none';\n",
              "    })();\n",
              "  </script>\n",
              "</div>\n",
              "\n",
              "    </div>\n",
              "  </div>\n"
            ],
            "application/vnd.google.colaboratory.intrinsic+json": {
              "type": "dataframe",
              "variable_name": "df",
              "summary": "{\n  \"name\": \"df\",\n  \"rows\": 11314,\n  \"fields\": [\n    {\n      \"column\": \"content\",\n      \"properties\": {\n        \"dtype\": \"string\",\n        \"num_unique_values\": 11314,\n        \"samples\": [\n          \"From: rrn@po.CWRU.Edu (Robert R. Novitskey)\\nSubject: CYCLONE AND TEMPEST?????\\nArticle-I.D.: usenet.1pskav$qtu\\nReply-To: rrn@po.CWRU.Edu (Robert R. Novitskey)\\nOrganization: Case Western Reserve University, Cleveland, OH (USA)\\nLines: 10\\nNNTP-Posting-Host: thor.ins.cwru.edu\\n\\n\\nCould someone please post any info on these systems.\\n\\nThanks.\\nBoB\\n-- \\n---------------------------------------------------------------------- \\nRobert Novitskey | \\\"Pursuing women is similar to banging one's head\\nrrn@po.cwru.edu  |  against a wall...with less opportunity for reward\\\" \\n---------------------------------------------------------------------- \\n\",\n          \"From: ardie@ux1.cso.uiuc.edu (Ardie Mack)\\nSubject: Re: does dos6 defragment??\\nArticle-I.D.: ux1.ardie.272.734097933\\nOrganization: Department of Plant Pathology\\nLines: 30\\n\\nIn article <1993Apr6.040254.8443@cs.brown.edu> ksl@engin1.NoSubdomain.NoDomain (Kiseok Lee  ) writes:\\n>From: ksl@engin1.NoSubdomain.NoDomain (Kiseok Lee  )\\n>Subject: Re: does dos6 defragment??\\n>Date: Tue, 6 Apr 1993 04:02:54 GMT\\n>In article <C51H9M.46p@news.cso.uiuc.edu>, rhc52134@uxa.cso.uiuc.edu (Richard) writes:\\n>|> Geoffrey S. Elbo writes:\\n>|> \\n>|> >Yes, and it is the fastest defrag I've ever watched.  It did a 170MB \\n>|> >hard disk in 20 minutes.\\n>|> \\n>|> \\tI found the MS defrag looks very much like Norton Speedisk.\\n>|> Is it just a strip-down version of the later?\\n>|> \\n>|> \\tI have both Norton Speedisk and Backup, so I was wondering \\n>|> if I need to install MS Backup?\\n>|> \\n>|> Richard\\n>|> \\n>\\n>Yes, defragger IS come from Norton.\\n>If you have Norton Utility, don't bother.\\n\\n\\n     Don't bother if you have CPBackup or Fastback.  They all offer options \\nnot available in the stripped-down MS version (FROM CPS!).  Examples - no \\nproprietary format (to save space), probably no direct DMA access, and no \\ntape drive!\\n\\n     You NEED MS Defrag if you use doublespace to work on the compressed \\nvolume.\\n\",\n          \"From: tsa@cellar.org (The Silent Assassin)\\nSubject: For Sale:  Misc IBM stuff\\nOrganization: The Cellar BBS and public access system\\nLines: 10\\n\\n5.25\\\" Internal Low density disk drive.\\n\\nMonochrome monitor\\n\\n8088 motherboard, built in parallel and serial ports, built in mono and\\ncolor output, 7Mhz.\\n\\nLibertarian, atheist, semi-anarchal Techno-Rat.\\n\\nI define myself--tsa@cellar.org\\n\"\n        ],\n        \"semantic_type\": \"\",\n        \"description\": \"\"\n      }\n    },\n    {\n      \"column\": \"target\",\n      \"properties\": {\n        \"dtype\": \"number\",\n        \"std\": 5,\n        \"min\": 0,\n        \"max\": 19,\n        \"num_unique_values\": 20,\n        \"samples\": [\n          7,\n          17,\n          9\n        ],\n        \"semantic_type\": \"\",\n        \"description\": \"\"\n      }\n    },\n    {\n      \"column\": \"target_names\",\n      \"properties\": {\n        \"dtype\": \"category\",\n        \"num_unique_values\": 20,\n        \"samples\": [\n          \"rec.autos\",\n          \"talk.politics.mideast\",\n          \"rec.sport.baseball\"\n        ],\n        \"semantic_type\": \"\",\n        \"description\": \"\"\n      }\n    }\n  ]\n}"
            }
          },
          "metadata": {},
          "execution_count": 100
        }
      ],
      "source": [
        "df.head()"
      ]
    },
    {
      "cell_type": "markdown",
      "metadata": {
        "id": "Ry5-Ov-zLNiN"
      },
      "source": [
        "### Preprocess the data"
      ]
    },
    {
      "cell_type": "markdown",
      "metadata": {
        "id": "1JVra9F3LNiO"
      },
      "source": [
        "### Email Removal"
      ]
    },
    {
      "cell_type": "code",
      "source": [
        "import re\n",
        "import pandas as pd\n",
        "from gensim.utils import simple_preprocess\n",
        "from gensim.models import Phrases\n",
        "from gensim.models.phrases import Phraser\n",
        "from nltk.corpus import stopwords\n",
        "import nltk\n",
        "import string\n",
        "\n",
        "# Download required NLTK data\n",
        "nltk.download('stopwords')\n",
        "\n",
        "# 1. Email Removal\n",
        "def remove_emails(text):\n",
        "    # Updated regular expression to match email patterns with or without TLD\n",
        "    email_pattern = r'\\S+@\\S+'\n",
        "    # Substitute found email addresses with an empty string\n",
        "    return re.sub(email_pattern, '', text)\n",
        "\n",
        "# 2. Newline Removal\n",
        "def remove_newlines(text):\n",
        "    return re.sub(r'\\n+', ' ', text)\n",
        "\n",
        "# 3. Single Quotes Removal\n",
        "def remove_quotes(text):\n",
        "    return re.sub(r\"\\'\", \"\", text)\n",
        "\n",
        "# 4. Tokenization\n",
        "def sent_to_words(texts):\n",
        "    for sentence in texts:\n",
        "        # Use simple_preprocess to tokenize while keeping important phrases\n",
        "        yield simple_preprocess(str(sentence), deacc=True, min_len=1)\n",
        "\n",
        "# 5. Bigrams Creation\n",
        "def make_bigrams(texts):\n",
        "    bigram = Phrases(texts, min_count=1, threshold=100)  # Adjust threshold as needed\n",
        "    bigram_mod = Phraser(bigram)\n",
        "    return [bigram_mod[doc] for doc in texts]\n",
        "\n",
        "def remove_stopwords(texts):\n",
        "    stop_words = set(stopwords.words('english'))\n",
        "    # Specify words to always keep\n",
        "    always_keep = ['from', 'subject', 're', 'edu', 'use']\n",
        "    # Remove always-keep words from stopwords\n",
        "    stop_words = stop_words - set(always_keep)\n",
        "    # Add single-letter words (a-z) to stopwords\n",
        "    single_letter_words = set(string.ascii_lowercase)  # {'a', 'b', ..., 'z'}\n",
        "    stop_words = stop_words.union(single_letter_words)\n",
        "    return [[word for word in doc if word not in stop_words] for doc in texts]\n",
        "\n",
        "# Apply preprocessing pipeline\n",
        "# Start with the dataset\n",
        "data = df['content'].copy()\n",
        "\n",
        "# Apply initial cleaning\n",
        "data = data.apply(remove_emails)\n",
        "data = data.apply(remove_newlines)\n",
        "data = data.apply(remove_quotes)\n",
        "\n",
        "# Convert to words\n",
        "data_words = list(sent_to_words(data))\n",
        "\n",
        "# Create and apply bigrams\n",
        "data_bigrams = make_bigrams(data_words)\n",
        "\n",
        "data_bigrams_nostops = remove_stopwords(data_bigrams)\n",
        "\n",
        "# For first document\n",
        "print(\"First document tokens:\")\n",
        "print(data_bigrams_nostops[0])"
      ],
      "metadata": {
        "colab": {
          "base_uri": "https://localhost:8080/"
        },
        "id": "2blX8t0uYHz3",
        "outputId": "96df09ec-e429-4b25-f44f-c499ff6beae5"
      },
      "execution_count": 103,
      "outputs": [
        {
          "output_type": "stream",
          "name": "stderr",
          "text": [
            "/usr/local/lib/python3.10/dist-packages/ipykernel/ipkernel.py:283: DeprecationWarning: `should_run_async` will not call `transform_cell` automatically in the future. Please pass the result to `transformed_cell` argument and any exception that happen during thetransform in `preprocessing_exc_tuple` in IPython 7.17 and above.\n",
            "  and should_run_async(code)\n",
            "[nltk_data] Downloading package stopwords to /root/nltk_data...\n",
            "[nltk_data]   Package stopwords is already up-to-date!\n"
          ]
        },
        {
          "output_type": "stream",
          "name": "stdout",
          "text": [
            "First document tokens:\n",
            "['from', 'wheres', 'thing', 'subject', 'car', 'nntp_posting', 'host_rac', 'wam_umd', 'edu', 'organization', 'university', 'maryland_college', 'park', 'lines', 'wondering', 'anyone', 'could', 'enlighten', 'car', 'saw', 'day', 'door', 'sports', 'car', 'looked', 'from', 'late', 'early', 'called', 'bricklin', 'doors', 'really', 'small', 'addition', 'front_bumper', 'separate', 'from', 'rest', 'body', 'know', 'anyone', 'tellme', 'model', 'name', 'engine', 'specs', 'years', 'production', 'car', 'made', 'history', 'whatever', 'info', 'funky_looking', 'car', 'please', 'mail', 'thanks', 'il', 'brought', 'neighborhood_lerxst']\n"
          ]
        }
      ]
    },
    {
      "cell_type": "markdown",
      "metadata": {
        "id": "h50dzJbELNiP"
      },
      "source": [
        "### Newline Removal"
      ]
    },
    {
      "cell_type": "markdown",
      "metadata": {
        "id": "1yA3eyQyLNiP"
      },
      "source": [
        "### Single Quotes Removal"
      ]
    },
    {
      "cell_type": "markdown",
      "metadata": {
        "id": "kbytOwv-LNiQ"
      },
      "source": [
        "### Tokenize\n",
        "- Create **sent_to_words()**\n",
        "    - Use **gensim.utils.simple_preprocess**\n",
        "    - Use **generator** instead of an usual function"
      ]
    },
    {
      "cell_type": "markdown",
      "metadata": {
        "id": "thhsYjNXLNiR"
      },
      "source": [
        "### Stop words Removal\n",
        "- Extend the stop words corpus with the following words\n",
        "    - from\n",
        "    - subject\n",
        "    - re\n",
        "    - edu\n",
        "    - use"
      ]
    },
    {
      "cell_type": "code",
      "execution_count": 104,
      "metadata": {
        "id": "JjMr1D13LNiR",
        "colab": {
          "base_uri": "https://localhost:8080/"
        },
        "outputId": "6303005c-c790-423d-9e97-0164f835ecb5"
      },
      "outputs": [
        {
          "output_type": "stream",
          "name": "stdout",
          "text": [
            "['from', 'tsung', 'kun', 'chen', 'subject', 'software', 'forsale', 'lots', 'nntp_posting', 'host_magnusug', 'magnus_acs', 'ohio_state', 'edu', 'organization', 'ohio_state', 'university', 'post', 'friend', 'either', 'call', 'lee', 'drop', 'mail', 'distribution_usa', 'lines', 'software', 'publishing', 'superbase', 'windows', 'ocr', 'system_readright', 'windows', 'ocr', 'system_readright', 'dos', 'unregistered', 'zortech', 'bit', 'compiler', 'multiscope', 'windows', 'debugger', 'whitewater', 'resource', 'toolkit', 'library', 'source_code', 'glockenspiel', 'imagesoft', 'commonview', 'windows', 'applications', 'framework', 'borland', 'spontaneous', 'assembly', 'library', 'source_code', 'microsoft_macro', 'assembly', 'microsoft', 'windows', 'sdk', 'documentation', 'microsoft', 'foxpro', 'wordperfect', 'developers_toolkit', 'kedwell', 'software', 'databoss', 'code', 'generator', 'kedwell', 'installboss', 'installation', 'generator', 'liant', 'software', 'views', 'windows', 'application_framework', 'source_code', 'ibm', 'os', 'developers_toolkit', 'cbtree', 'dos', 'windows', 'library', 'source_code', 'symantec', 'timeline', 'windows', 'timeslip', 'timesheet', 'professional', 'windows', 'many', 'software', 'books', 'available', 'price', 'negotiable']\n"
          ]
        },
        {
          "output_type": "stream",
          "name": "stderr",
          "text": [
            "/usr/local/lib/python3.10/dist-packages/ipykernel/ipkernel.py:283: DeprecationWarning: `should_run_async` will not call `transform_cell` automatically in the future. Please pass the result to `transformed_cell` argument and any exception that happen during thetransform in `preprocessing_exc_tuple` in IPython 7.17 and above.\n",
            "  and should_run_async(code)\n"
          ]
        }
      ],
      "source": [
        "print(data_bigrams_nostops[100])"
      ]
    },
    {
      "cell_type": "markdown",
      "metadata": {
        "id": "LMn9c5XQLNiR"
      },
      "source": [
        "#### remove_stopwords( )"
      ]
    },
    {
      "cell_type": "markdown",
      "metadata": {
        "id": "55SLQY5eLNiS"
      },
      "source": [
        "### Bigrams\n",
        "- Use **gensim.models.Phrases**\n",
        "- 100 as threshold"
      ]
    },
    {
      "cell_type": "markdown",
      "metadata": {
        "id": "tTWj8MqNLNiU"
      },
      "source": [
        "#### make_bigrams( )"
      ]
    },
    {
      "cell_type": "markdown",
      "metadata": {
        "id": "SY4VH5TvLNiV"
      },
      "source": [
        "### Lemmatization\n",
        "- Use spacy\n",
        "    - Download spacy en model (if you have not done that before)\n",
        "    - Load the spacy model"
      ]
    },
    {
      "cell_type": "code",
      "execution_count": 83,
      "metadata": {
        "id": "sKuIE43LLNiW",
        "outputId": "d6416c0b-197c-4ca2-9edb-83c875ada71e",
        "colab": {
          "base_uri": "https://localhost:8080/"
        }
      },
      "outputs": [
        {
          "output_type": "stream",
          "name": "stderr",
          "text": [
            "/usr/local/lib/python3.10/dist-packages/ipykernel/ipkernel.py:283: DeprecationWarning: `should_run_async` will not call `transform_cell` automatically in the future. Please pass the result to `transformed_cell` argument and any exception that happen during thetransform in `preprocessing_exc_tuple` in IPython 7.17 and above.\n",
            "  and should_run_async(code)\n"
          ]
        },
        {
          "output_type": "stream",
          "name": "stdout",
          "text": [
            "Collecting en-core-web-sm==3.7.1\n",
            "  Downloading https://github.com/explosion/spacy-models/releases/download/en_core_web_sm-3.7.1/en_core_web_sm-3.7.1-py3-none-any.whl (12.8 MB)\n",
            "\u001b[2K     \u001b[90m━━━━━━━━━━━━━━━━━━━━━━━━━━━━━━━━━━━━━━━━\u001b[0m \u001b[32m12.8/12.8 MB\u001b[0m \u001b[31m83.3 MB/s\u001b[0m eta \u001b[36m0:00:00\u001b[0m\n",
            "\u001b[?25hRequirement already satisfied: spacy<3.8.0,>=3.7.2 in /usr/local/lib/python3.10/dist-packages (from en-core-web-sm==3.7.1) (3.7.5)\n",
            "Requirement already satisfied: spacy-legacy<3.1.0,>=3.0.11 in /usr/local/lib/python3.10/dist-packages (from spacy<3.8.0,>=3.7.2->en-core-web-sm==3.7.1) (3.0.12)\n",
            "Requirement already satisfied: spacy-loggers<2.0.0,>=1.0.0 in /usr/local/lib/python3.10/dist-packages (from spacy<3.8.0,>=3.7.2->en-core-web-sm==3.7.1) (1.0.5)\n",
            "Requirement already satisfied: murmurhash<1.1.0,>=0.28.0 in /usr/local/lib/python3.10/dist-packages (from spacy<3.8.0,>=3.7.2->en-core-web-sm==3.7.1) (1.0.10)\n",
            "Requirement already satisfied: cymem<2.1.0,>=2.0.2 in /usr/local/lib/python3.10/dist-packages (from spacy<3.8.0,>=3.7.2->en-core-web-sm==3.7.1) (2.0.8)\n",
            "Requirement already satisfied: preshed<3.1.0,>=3.0.2 in /usr/local/lib/python3.10/dist-packages (from spacy<3.8.0,>=3.7.2->en-core-web-sm==3.7.1) (3.0.9)\n",
            "Requirement already satisfied: thinc<8.3.0,>=8.2.2 in /usr/local/lib/python3.10/dist-packages (from spacy<3.8.0,>=3.7.2->en-core-web-sm==3.7.1) (8.2.5)\n",
            "Requirement already satisfied: wasabi<1.2.0,>=0.9.1 in /usr/local/lib/python3.10/dist-packages (from spacy<3.8.0,>=3.7.2->en-core-web-sm==3.7.1) (1.1.3)\n",
            "Requirement already satisfied: srsly<3.0.0,>=2.4.3 in /usr/local/lib/python3.10/dist-packages (from spacy<3.8.0,>=3.7.2->en-core-web-sm==3.7.1) (2.4.8)\n",
            "Requirement already satisfied: catalogue<2.1.0,>=2.0.6 in /usr/local/lib/python3.10/dist-packages (from spacy<3.8.0,>=3.7.2->en-core-web-sm==3.7.1) (2.0.10)\n",
            "Requirement already satisfied: weasel<0.5.0,>=0.1.0 in /usr/local/lib/python3.10/dist-packages (from spacy<3.8.0,>=3.7.2->en-core-web-sm==3.7.1) (0.4.1)\n",
            "Requirement already satisfied: typer<1.0.0,>=0.3.0 in /usr/local/lib/python3.10/dist-packages (from spacy<3.8.0,>=3.7.2->en-core-web-sm==3.7.1) (0.13.0)\n",
            "Requirement already satisfied: tqdm<5.0.0,>=4.38.0 in /usr/local/lib/python3.10/dist-packages (from spacy<3.8.0,>=3.7.2->en-core-web-sm==3.7.1) (4.66.6)\n",
            "Requirement already satisfied: requests<3.0.0,>=2.13.0 in /usr/local/lib/python3.10/dist-packages (from spacy<3.8.0,>=3.7.2->en-core-web-sm==3.7.1) (2.32.3)\n",
            "Requirement already satisfied: pydantic!=1.8,!=1.8.1,<3.0.0,>=1.7.4 in /usr/local/lib/python3.10/dist-packages (from spacy<3.8.0,>=3.7.2->en-core-web-sm==3.7.1) (2.9.2)\n",
            "Requirement already satisfied: jinja2 in /usr/local/lib/python3.10/dist-packages (from spacy<3.8.0,>=3.7.2->en-core-web-sm==3.7.1) (3.1.4)\n",
            "Requirement already satisfied: setuptools in /usr/local/lib/python3.10/dist-packages (from spacy<3.8.0,>=3.7.2->en-core-web-sm==3.7.1) (75.1.0)\n",
            "Requirement already satisfied: packaging>=20.0 in /usr/local/lib/python3.10/dist-packages (from spacy<3.8.0,>=3.7.2->en-core-web-sm==3.7.1) (24.2)\n",
            "Requirement already satisfied: langcodes<4.0.0,>=3.2.0 in /usr/local/lib/python3.10/dist-packages (from spacy<3.8.0,>=3.7.2->en-core-web-sm==3.7.1) (3.4.1)\n",
            "Requirement already satisfied: numpy>=1.19.0 in /usr/local/lib/python3.10/dist-packages (from spacy<3.8.0,>=3.7.2->en-core-web-sm==3.7.1) (1.26.4)\n",
            "Requirement already satisfied: language-data>=1.2 in /usr/local/lib/python3.10/dist-packages (from langcodes<4.0.0,>=3.2.0->spacy<3.8.0,>=3.7.2->en-core-web-sm==3.7.1) (1.2.0)\n",
            "Requirement already satisfied: annotated-types>=0.6.0 in /usr/local/lib/python3.10/dist-packages (from pydantic!=1.8,!=1.8.1,<3.0.0,>=1.7.4->spacy<3.8.0,>=3.7.2->en-core-web-sm==3.7.1) (0.7.0)\n",
            "Requirement already satisfied: pydantic-core==2.23.4 in /usr/local/lib/python3.10/dist-packages (from pydantic!=1.8,!=1.8.1,<3.0.0,>=1.7.4->spacy<3.8.0,>=3.7.2->en-core-web-sm==3.7.1) (2.23.4)\n",
            "Requirement already satisfied: typing-extensions>=4.6.1 in /usr/local/lib/python3.10/dist-packages (from pydantic!=1.8,!=1.8.1,<3.0.0,>=1.7.4->spacy<3.8.0,>=3.7.2->en-core-web-sm==3.7.1) (4.12.2)\n",
            "Requirement already satisfied: charset-normalizer<4,>=2 in /usr/local/lib/python3.10/dist-packages (from requests<3.0.0,>=2.13.0->spacy<3.8.0,>=3.7.2->en-core-web-sm==3.7.1) (3.4.0)\n",
            "Requirement already satisfied: idna<4,>=2.5 in /usr/local/lib/python3.10/dist-packages (from requests<3.0.0,>=2.13.0->spacy<3.8.0,>=3.7.2->en-core-web-sm==3.7.1) (3.10)\n",
            "Requirement already satisfied: urllib3<3,>=1.21.1 in /usr/local/lib/python3.10/dist-packages (from requests<3.0.0,>=2.13.0->spacy<3.8.0,>=3.7.2->en-core-web-sm==3.7.1) (2.2.3)\n",
            "Requirement already satisfied: certifi>=2017.4.17 in /usr/local/lib/python3.10/dist-packages (from requests<3.0.0,>=2.13.0->spacy<3.8.0,>=3.7.2->en-core-web-sm==3.7.1) (2024.8.30)\n",
            "Requirement already satisfied: blis<0.8.0,>=0.7.8 in /usr/local/lib/python3.10/dist-packages (from thinc<8.3.0,>=8.2.2->spacy<3.8.0,>=3.7.2->en-core-web-sm==3.7.1) (0.7.11)\n",
            "Requirement already satisfied: confection<1.0.0,>=0.0.1 in /usr/local/lib/python3.10/dist-packages (from thinc<8.3.0,>=8.2.2->spacy<3.8.0,>=3.7.2->en-core-web-sm==3.7.1) (0.1.5)\n",
            "Requirement already satisfied: click>=8.0.0 in /usr/local/lib/python3.10/dist-packages (from typer<1.0.0,>=0.3.0->spacy<3.8.0,>=3.7.2->en-core-web-sm==3.7.1) (8.1.7)\n",
            "Requirement already satisfied: shellingham>=1.3.0 in /usr/local/lib/python3.10/dist-packages (from typer<1.0.0,>=0.3.0->spacy<3.8.0,>=3.7.2->en-core-web-sm==3.7.1) (1.5.4)\n",
            "Requirement already satisfied: rich>=10.11.0 in /usr/local/lib/python3.10/dist-packages (from typer<1.0.0,>=0.3.0->spacy<3.8.0,>=3.7.2->en-core-web-sm==3.7.1) (13.9.4)\n",
            "Requirement already satisfied: cloudpathlib<1.0.0,>=0.7.0 in /usr/local/lib/python3.10/dist-packages (from weasel<0.5.0,>=0.1.0->spacy<3.8.0,>=3.7.2->en-core-web-sm==3.7.1) (0.20.0)\n",
            "Requirement already satisfied: smart-open<8.0.0,>=5.2.1 in /usr/local/lib/python3.10/dist-packages (from weasel<0.5.0,>=0.1.0->spacy<3.8.0,>=3.7.2->en-core-web-sm==3.7.1) (7.0.5)\n",
            "Requirement already satisfied: MarkupSafe>=2.0 in /usr/local/lib/python3.10/dist-packages (from jinja2->spacy<3.8.0,>=3.7.2->en-core-web-sm==3.7.1) (3.0.2)\n",
            "Requirement already satisfied: marisa-trie>=0.7.7 in /usr/local/lib/python3.10/dist-packages (from language-data>=1.2->langcodes<4.0.0,>=3.2.0->spacy<3.8.0,>=3.7.2->en-core-web-sm==3.7.1) (1.2.1)\n",
            "Requirement already satisfied: markdown-it-py>=2.2.0 in /usr/local/lib/python3.10/dist-packages (from rich>=10.11.0->typer<1.0.0,>=0.3.0->spacy<3.8.0,>=3.7.2->en-core-web-sm==3.7.1) (3.0.0)\n",
            "Requirement already satisfied: pygments<3.0.0,>=2.13.0 in /usr/local/lib/python3.10/dist-packages (from rich>=10.11.0->typer<1.0.0,>=0.3.0->spacy<3.8.0,>=3.7.2->en-core-web-sm==3.7.1) (2.18.0)\n",
            "Requirement already satisfied: wrapt in /usr/local/lib/python3.10/dist-packages (from smart-open<8.0.0,>=5.2.1->weasel<0.5.0,>=0.1.0->spacy<3.8.0,>=3.7.2->en-core-web-sm==3.7.1) (1.16.0)\n",
            "Requirement already satisfied: mdurl~=0.1 in /usr/local/lib/python3.10/dist-packages (from markdown-it-py>=2.2.0->rich>=10.11.0->typer<1.0.0,>=0.3.0->spacy<3.8.0,>=3.7.2->en-core-web-sm==3.7.1) (0.1.2)\n",
            "\u001b[38;5;2m✔ Download and installation successful\u001b[0m\n",
            "You can now load the package via spacy.load('en_core_web_sm')\n",
            "\u001b[38;5;3m⚠ Restart to reload dependencies\u001b[0m\n",
            "If you are in a Jupyter or Colab notebook, you may need to restart Python in\n",
            "order to load all the package's dependencies. You can do this by selecting the\n",
            "'Restart kernel' or 'Restart runtime' option.\n"
          ]
        }
      ],
      "source": [
        "!python -m spacy download en_core_web_sm # Download the en_core_web_sm model\n",
        "\n",
        "import spacy\n",
        "\n",
        "# Load the model using its full name\n",
        "nlp = spacy.load(\"en_core_web_sm\", disable=['parser', 'ner'])"
      ]
    },
    {
      "cell_type": "markdown",
      "metadata": {
        "id": "uJl_h0z9LNij"
      },
      "source": [
        "#### lemmatizaton( )"
      ]
    },
    {
      "cell_type": "code",
      "execution_count": 84,
      "metadata": {
        "id": "Xs8on3GXLNik",
        "outputId": "1d24edfd-2a40-4455-b1d6-3d851150c56d",
        "colab": {
          "base_uri": "https://localhost:8080/"
        }
      },
      "outputs": [
        {
          "output_type": "stream",
          "name": "stderr",
          "text": [
            "/usr/local/lib/python3.10/dist-packages/ipykernel/ipkernel.py:283: DeprecationWarning: `should_run_async` will not call `transform_cell` automatically in the future. Please pass the result to `transformed_cell` argument and any exception that happen during thetransform in `preprocessing_exc_tuple` in IPython 7.17 and above.\n",
            "  and should_run_async(code)\n"
          ]
        }
      ],
      "source": [
        "def lemmatization(texts, allowed_postags=['NOUN', 'ADJ', 'VERB', 'ADV']):\n",
        "    \"\"\"https://spacy.io/api/annotation\"\"\"\n",
        "    texts_out = []\n",
        "    for sent in texts:\n",
        "        doc = nlp(\" \".join(sent))\n",
        "        texts_out.append([token.lemma_ for token in doc if token.pos_ in allowed_postags])\n",
        "    return texts_out"
      ]
    },
    {
      "cell_type": "code",
      "execution_count": 105,
      "metadata": {
        "id": "hKxepJZeLNik",
        "outputId": "43b28a0c-31bf-4245-aa95-f780fde198f1",
        "colab": {
          "base_uri": "https://localhost:8080/"
        }
      },
      "outputs": [
        {
          "output_type": "stream",
          "name": "stderr",
          "text": [
            "/usr/local/lib/python3.10/dist-packages/ipykernel/ipkernel.py:283: DeprecationWarning: `should_run_async` will not call `transform_cell` automatically in the future. Please pass the result to `transformed_cell` argument and any exception that happen during thetransform in `preprocessing_exc_tuple` in IPython 7.17 and above.\n",
            "  and should_run_async(code)\n"
          ]
        }
      ],
      "source": [
        "data_lemmatized = lemmatization(data_bigrams_nostops, allowed_postags=['NOUN', 'ADJ', 'VERB', 'ADV'])"
      ]
    },
    {
      "cell_type": "code",
      "execution_count": 107,
      "metadata": {
        "id": "Ztx5SS18LNil",
        "outputId": "5af834e8-0a1c-4727-89ff-c10114789bea",
        "colab": {
          "base_uri": "https://localhost:8080/"
        }
      },
      "outputs": [
        {
          "output_type": "stream",
          "name": "stdout",
          "text": [
            "[['thing', 'subject', 'car', 'nntp_poste', 'wam_umd', 'park', 'line', 'wonder', 'enlighten', 'car', 'see', 'day', 'door', 'sport', 'car', 'look', 'late', 'early', 'call', 'door', 'really', 'small', 'addition', 'separate', 'rest', 'body', 'know', 'model', 'name', 'engine', 'spec', 'year', 'production', 'car', 'make', 'history', 'info', 'funky_looke', 'car', 'mail', 'thank', 'bring']]\n"
          ]
        },
        {
          "output_type": "stream",
          "name": "stderr",
          "text": [
            "/usr/local/lib/python3.10/dist-packages/ipykernel/ipkernel.py:283: DeprecationWarning: `should_run_async` will not call `transform_cell` automatically in the future. Please pass the result to `transformed_cell` argument and any exception that happen during thetransform in `preprocessing_exc_tuple` in IPython 7.17 and above.\n",
            "  and should_run_async(code)\n"
          ]
        }
      ],
      "source": [
        "print(data_lemmatized[:1])"
      ]
    },
    {
      "cell_type": "markdown",
      "metadata": {
        "id": "6rxsp5KuLNil"
      },
      "source": [
        "### Create a Dictionary"
      ]
    },
    {
      "cell_type": "markdown",
      "metadata": {
        "id": "o5P3mTaELNim"
      },
      "source": [
        "### Create Corpus"
      ]
    },
    {
      "cell_type": "markdown",
      "metadata": {
        "id": "7hRdnSplLNin"
      },
      "source": [
        "### Filter low-frequency words"
      ]
    },
    {
      "cell_type": "markdown",
      "metadata": {
        "id": "8InR-onuLNio"
      },
      "source": [
        "### Create Index 2 word dictionary"
      ]
    },
    {
      "cell_type": "markdown",
      "metadata": {
        "id": "53X9vQdiLNip"
      },
      "source": [
        "### Build a News Topic Model\n",
        "\n",
        "#### LdaModel\n",
        "- **num_topics** : this is the number of topics you need to define beforehand\n",
        "- **chunksize** : the number of documents to be used in each training chunk\n",
        "- **alpha** : this is the hyperparameters that affect the sparsity of the topics\n",
        "- **passess** : total number of training assess"
      ]
    },
    {
      "cell_type": "code",
      "execution_count": 109,
      "metadata": {
        "id": "MHRVAhNYLNip",
        "colab": {
          "base_uri": "https://localhost:8080/"
        },
        "outputId": "ccb82dfb-18d0-42d6-f82d-f30bc84859c4"
      },
      "outputs": [
        {
          "output_type": "stream",
          "name": "stderr",
          "text": [
            "/usr/local/lib/python3.10/dist-packages/ipykernel/ipkernel.py:283: DeprecationWarning: `should_run_async` will not call `transform_cell` automatically in the future. Please pass the result to `transformed_cell` argument and any exception that happen during thetransform in `preprocessing_exc_tuple` in IPython 7.17 and above.\n",
            "  and should_run_async(code)\n"
          ]
        }
      ],
      "source": [
        "import gensim\n",
        "from gensim import corpora\n",
        "from gensim.models import LdaModel\n",
        "import pyLDAvis.gensim_models\n",
        "import pyLDAvis\n",
        "\n",
        "# Step 1: Create a Dictionary\n",
        "dictionary = corpora.Dictionary(data_lemmatized)\n",
        "\n",
        "# Step 2: Filter low-frequency words\n",
        "dictionary.filter_extremes(no_below=5, no_above=0.5)  # Adjust thresholds as needed\n",
        "\n",
        "# Step 3: Create a Bag of Words representation\n",
        "corpus = [dictionary.doc2bow(text) for text in data_lemmatized]\n",
        "\n",
        "# Step 4: Make an index to word dictionary\n",
        "temp = dictionary[0]  # Load the dictionary\n",
        "id2word = dictionary.id2token  # Create the mapping\n",
        "\n",
        "# Step 5: Train the Topic Model\n",
        "lda_model = LdaModel(corpus, num_topics=10, id2word=id2word, passes=10,alpha='auto',chunksize=2000)\n"
      ]
    },
    {
      "cell_type": "code",
      "source": [
        "for idx, topic in lda_model.print_topics(-1):\n",
        "    print(f\" {idx}: {topic}\")"
      ],
      "metadata": {
        "colab": {
          "base_uri": "https://localhost:8080/"
        },
        "id": "ogniDm9pqoSx",
        "outputId": "9d314dea-99d9-4a9e-c6d7-9d53acb4d411"
      },
      "execution_count": 110,
      "outputs": [
        {
          "output_type": "stream",
          "name": "stdout",
          "text": [
            " 0: 0.022*\"file\" + 0.018*\"use\" + 0.014*\"program\" + 0.009*\"include\" + 0.009*\"image\" + 0.009*\"information\" + 0.008*\"available\" + 0.007*\"source\" + 0.006*\"also\" + 0.006*\"system\"\n",
            " 1: 0.011*\"article\" + 0.008*\"think\" + 0.007*\"make\" + 0.007*\"people\" + 0.007*\"use\" + 0.006*\"much\" + 0.006*\"say\" + 0.006*\"get\" + 0.006*\"year\" + 0.005*\"well\"\n",
            " 2: 0.014*\"say\" + 0.014*\"people\" + 0.008*\"think\" + 0.008*\"know\" + 0.008*\"believe\" + 0.007*\"make\" + 0.005*\"see\" + 0.005*\"article\" + 0.005*\"come\" + 0.005*\"many\"\n",
            " 3: 0.022*\"nntp_poste\" + 0.018*\"host\" + 0.014*\"thank\" + 0.013*\"mail\" + 0.012*\"know\" + 0.012*\"article\" + 0.011*\"get\" + 0.010*\"reply\" + 0.009*\"new\" + 0.009*\"look\"\n",
            " 4: 0.891*\"ax\" + 0.059*\"max\" + 0.001*\"ei\" + 0.001*\"wm\" + 0.001*\"tq\" + 0.001*\"fq\" + 0.001*\"tm\" + 0.001*\"pl\" + 0.001*\"qq\" + 0.001*\"qax\"\n",
            " 5: 0.026*\"use\" + 0.019*\"window\" + 0.016*\"problem\" + 0.015*\"drive\" + 0.012*\"get\" + 0.011*\"run\" + 0.010*\"work\" + 0.009*\"bit\" + 0.009*\"system\" + 0.008*\"do\"\n",
            " 6: 0.035*\"_\" + 0.015*\"qs\" + 0.014*\"m\" + 0.012*\"ai\" + 0.011*\"sp\" + 0.011*\"rk\" + 0.010*\"zd\" + 0.010*\"r\" + 0.009*\"mp\" + 0.008*\"pp\"\n",
            " 7: 0.018*\"game\" + 0.016*\"team\" + 0.015*\"year\" + 0.012*\"go\" + 0.011*\"play\" + 0.011*\"get\" + 0.010*\"good\" + 0.010*\"think\" + 0.010*\"article\" + 0.009*\"player\"\n",
            " 8: 0.019*\"key\" + 0.015*\"use\" + 0.013*\"government\" + 0.009*\"gun\" + 0.009*\"right\" + 0.008*\"public\" + 0.008*\"people\" + 0.007*\"state\" + 0.007*\"law\" + 0.007*\"encryption\"\n",
            " 9: 0.016*\"go\" + 0.015*\"get\" + 0.011*\"car\" + 0.010*\"say\" + 0.009*\"article\" + 0.008*\"time\" + 0.008*\"take\" + 0.008*\"see\" + 0.007*\"know\" + 0.007*\"think\"\n"
          ]
        },
        {
          "output_type": "stream",
          "name": "stderr",
          "text": [
            "/usr/local/lib/python3.10/dist-packages/ipykernel/ipkernel.py:283: DeprecationWarning: `should_run_async` will not call `transform_cell` automatically in the future. Please pass the result to `transformed_cell` argument and any exception that happen during thetransform in `preprocessing_exc_tuple` in IPython 7.17 and above.\n",
            "  and should_run_async(code)\n"
          ]
        }
      ]
    },
    {
      "cell_type": "markdown",
      "metadata": {
        "id": "GlhqcPL8LNiq"
      },
      "source": [
        "### Print the Keyword in the 10 topics"
      ]
    },
    {
      "cell_type": "code",
      "execution_count": null,
      "metadata": {
        "id": "y-A1QppNLNiq",
        "outputId": "17ee3ad3-bee9-4e84-fe6c-6375d16129b0"
      },
      "outputs": [
        {
          "name": "stdout",
          "output_type": "stream",
          "text": [
            "[(0,\n",
            "  '0.165*\"gun\" + 0.063*\"crime\" + 0.054*\"police\" + 0.053*\"bus\" + 0.051*\"weapon\" '\n",
            "  '+ 0.041*\"criminal\" + 0.040*\"carry\" + 0.039*\"master\" + 0.038*\"shoot\" + '\n",
            "  '0.034*\"cop\"'),\n",
            " (1,\n",
            "  '0.149*\"team\" + 0.130*\"game\" + 0.079*\"win\" + 0.070*\"test\" + 0.043*\"run\" + '\n",
            "  '0.043*\"score\" + 0.039*\"division\" + 0.036*\"wing\" + 0.028*\"cpu\" + '\n",
            "  '0.020*\"resource\"'),\n",
            " (2,\n",
            "  '0.118*\"list\" + 0.077*\"entry\" + 0.056*\"section\" + 0.041*\"author\" + '\n",
            "  '0.039*\"special\" + 0.032*\"site\" + 0.032*\"sun\" + 0.027*\"send\" + '\n",
            "  '0.023*\"laboratory\" + 0.022*\"student\"'),\n",
            " (3,\n",
            "  '0.070*\"suggest\" + 0.064*\"church\" + 0.060*\"member\" + 0.050*\"process\" + '\n",
            "  '0.043*\"community\" + 0.040*\"perform\" + 0.038*\"scientific\" + 0.036*\"ignore\" + '\n",
            "  '0.031*\"weight\" + 0.030*\"significant\"'),\n",
            " (4,\n",
            "  '0.176*\"question\" + 0.097*\"answer\" + 0.056*\"access\" + 0.054*\"page\" + '\n",
            "  '0.048*\"format\" + 0.036*\"recommend\" + 0.036*\"trial\" + 0.033*\"ask\" + '\n",
            "  '0.031*\"faq\" + 0.029*\"step\"'),\n",
            " (5,\n",
            "  '0.042*\"people\" + 0.028*\"say\" + 0.021*\"believe\" + 0.021*\"reason\" + '\n",
            "  '0.019*\"evidence\" + 0.015*\"state\" + 0.013*\"fact\" + 0.013*\"claim\" + '\n",
            "  '0.012*\"would\" + 0.012*\"law\"'),\n",
            " (6,\n",
            "  '0.042*\"year\" + 0.029*\"also\" + 0.028*\"post\" + 0.027*\"new\" + 0.024*\"hear\" + '\n",
            "  '0.022*\"old\" + 0.022*\"last\" + 0.022*\"day\" + 0.021*\"talk\" + 0.020*\"call\"'),\n",
            " (7,\n",
            "  '0.071*\"car\" + 0.052*\"buy\" + 0.046*\"price\" + 0.043*\"sell\" + 0.042*\"high\" + '\n",
            "  '0.039*\"cost\" + 0.037*\"low\" + 0.034*\"power\" + 0.032*\"rate\" + 0.029*\"pay\"'),\n",
            " (8,\n",
            "  '0.072*\"may\" + 0.042*\"case\" + 0.025*\"must\" + 0.023*\"group\" + 0.021*\"many\" + '\n",
            "  '0.019*\"however\" + 0.019*\"cause\" + 0.019*\"example\" + 0.017*\"rule\" + '\n",
            "  '0.017*\"other\"'),\n",
            " (9,\n",
            "  '0.115*\"book\" + 0.072*\"science\" + 0.062*\"truth\" + 0.051*\"drug\" + '\n",
            "  '0.044*\"reality\" + 0.040*\"shall\" + 0.036*\"revelation\" + 0.034*\"moral\" + '\n",
            "  '0.029*\"atheism\" + 0.029*\"authority\"'),\n",
            " (10,\n",
            "  '0.145*\"space\" + 0.040*\"project\" + 0.039*\"orbit\" + 0.039*\"launch\" + '\n",
            "  '0.036*\"mission\" + 0.033*\"earth\" + 0.031*\"operation\" + 0.029*\"satellite\" + '\n",
            "  '0.029*\"plane\" + 0.027*\"surface\"'),\n",
            " (11,\n",
            "  '0.036*\"use\" + 0.028*\"system\" + 0.020*\"drive\" + 0.018*\"thank\" + 0.017*\"mail\" '\n",
            "  '+ 0.015*\"problem\" + 0.015*\"also\" + 0.014*\"window\" + 0.014*\"run\" + '\n",
            "  '0.014*\"card\"'),\n",
            " (12,\n",
            "  '0.096*\"key\" + 0.051*\"government\" + 0.048*\"public\" + 0.028*\"encryption\" + '\n",
            "  '0.024*\"security\" + 0.023*\"chip\" + 0.023*\"private\" + 0.021*\"technology\" + '\n",
            "  '0.017*\"secure\" + 0.016*\"clearly\"'),\n",
            " (13,\n",
            "  '0.033*\"come\" + 0.031*\"time\" + 0.024*\"take\" + 0.022*\"first\" + 0.019*\"say\" + '\n",
            "  '0.017*\"start\" + 0.016*\"back\" + 0.016*\"go\" + 0.015*\"see\" + 0.015*\"happen\"'),\n",
            " (14,\n",
            "  '0.043*\"would\" + 0.030*\"article\" + 0.030*\"know\" + 0.030*\"be\" + 0.024*\"get\" + '\n",
            "  '0.024*\"think\" + 0.022*\"good\" + 0.021*\"make\" + 0.021*\"go\" + '\n",
            "  '0.019*\"nntp_poste\"'),\n",
            " (15,\n",
            "  '0.038*\"receive\" + 0.038*\"information\" + 0.036*\"issue\" + 0.032*\"die\" + '\n",
            "  '0.030*\"patient\" + 0.027*\"service\" + 0.026*\"internet\" + 0.026*\"local\" + '\n",
            "  '0.025*\"pass\" + 0.023*\"study\"'),\n",
            " (16,\n",
            "  '0.063*\"play\" + 0.047*\"player\" + 0.045*\"year\" + 0.031*\"season\" + '\n",
            "  '0.031*\"point\" + 0.031*\"tape\" + 0.029*\"graphic\" + 0.027*\"fan\" + 0.025*\"goal\" '\n",
            "  '+ 0.025*\"lose\"'),\n",
            " (17,\n",
            "  '0.050*\"kill\" + 0.033*\"attack\" + 0.030*\"war\" + 0.028*\"soldier\" + '\n",
            "  '0.027*\"death\" + 0.027*\"government\" + 0.025*\"murder\" + 0.025*\"village\" + '\n",
            "  '0.023*\"military\" + 0.022*\"land\"'),\n",
            " (18,\n",
            "  '0.096*\"program\" + 0.092*\"file\" + 0.055*\"source\" + 0.042*\"info\" + '\n",
            "  '0.039*\"image\" + 0.035*\"copy\" + 0.033*\"user\" + 0.032*\"disk\" + 0.029*\"code\" + '\n",
            "  '0.028*\"display\"'),\n",
            " (19,\n",
            "  '0.769*\"ax\" + 0.025*\"bike\" + 0.025*\"wire\" + 0.016*\"kid\" + 0.015*\"internal\" + '\n",
            "  '0.013*\"apple\" + 0.013*\"doctor\" + 0.012*\"cable\" + 0.012*\"worry\" + '\n",
            "  '0.009*\"aware\"')]\n"
          ]
        },
        {
          "name": "stderr",
          "output_type": "stream",
          "text": [
            "/Users/subashgandyer/.local/lib/python3.8/site-packages/ipykernel/ipkernel.py:283: DeprecationWarning: `should_run_async` will not call `transform_cell` automatically in the future. Please pass the result to `transformed_cell` argument and any exception that happen during thetransform in `preprocessing_exc_tuple` in IPython 7.17 and above.\n",
            "  and should_run_async(code)\n"
          ]
        }
      ],
      "source": []
    },
    {
      "cell_type": "markdown",
      "metadata": {
        "id": "3EJm7EtoLNiq"
      },
      "source": [
        "## Evaluation of Topic Models\n",
        "- Model Perplexity\n",
        "- Topic Coherence\n",
        "\n",
        "### Model Perplexity\n",
        "\n",
        "Model perplexity is a measurement of **how well** a **probability distribution** or probability model **predicts a sample**"
      ]
    },
    {
      "cell_type": "code",
      "source": [
        "# Step 7: Evaluate the Topic Model\n",
        "# Perplexity\n",
        "print(f'Perplexity: {lda_model.log_perplexity(corpus)}')\n",
        "\n",
        "# Topic Coherence\n",
        "coherence_model_lda = gensim.models.CoherenceModel(model=lda_model, texts=data_lemmatized, dictionary=dictionary, coherence='c_v')\n",
        "coherence_lda = coherence_model_lda.get_coherence()\n",
        "print(f'Coherence Score: {coherence_lda}')"
      ],
      "metadata": {
        "colab": {
          "base_uri": "https://localhost:8080/"
        },
        "id": "-emaQq2sx0Py",
        "outputId": "e3c87999-b776-4437-cfea-6f73d487c660"
      },
      "execution_count": 111,
      "outputs": [
        {
          "output_type": "stream",
          "name": "stderr",
          "text": [
            "/usr/local/lib/python3.10/dist-packages/ipykernel/ipkernel.py:283: DeprecationWarning: `should_run_async` will not call `transform_cell` automatically in the future. Please pass the result to `transformed_cell` argument and any exception that happen during thetransform in `preprocessing_exc_tuple` in IPython 7.17 and above.\n",
            "  and should_run_async(code)\n"
          ]
        },
        {
          "output_type": "stream",
          "name": "stdout",
          "text": [
            "Perplexity: -7.310263172263326\n",
            "Coherence Score: 0.5781158742763122\n"
          ]
        }
      ]
    },
    {
      "cell_type": "markdown",
      "metadata": {
        "id": "f9ilDITxLNir"
      },
      "source": [
        "### Topic Coherence\n",
        "Topic Coherence measures score a single topic by measuring the **degree of semantic similarity** between **high scoring words** in the topic."
      ]
    },
    {
      "cell_type": "markdown",
      "metadata": {
        "id": "1eL7rdo1LNis"
      },
      "source": [
        "### Visualize the Topic Model\n",
        "- Use **pyLDAvis**\n",
        "    - designed to help users **interpret the topics** in a topic model that has been fit to a corpus of text data\n",
        "    - extracts information from a fitted LDA topic model to inform an interactive web-based visualization"
      ]
    },
    {
      "cell_type": "code",
      "source": [
        "# Step 8: Visualize the Topics\n",
        "vis = pyLDAvis.gensim_models.prepare(lda_model, corpus, dictionary)\n",
        "pyLDAvis.display(vis)"
      ],
      "metadata": {
        "colab": {
          "base_uri": "https://localhost:8080/",
          "height": 917
        },
        "id": "v5Xwj20qynYs",
        "outputId": "db4a962f-5052-488e-deaa-a3933313826d"
      },
      "execution_count": 112,
      "outputs": [
        {
          "output_type": "stream",
          "name": "stderr",
          "text": [
            "/usr/local/lib/python3.10/dist-packages/ipykernel/ipkernel.py:283: DeprecationWarning: `should_run_async` will not call `transform_cell` automatically in the future. Please pass the result to `transformed_cell` argument and any exception that happen during thetransform in `preprocessing_exc_tuple` in IPython 7.17 and above.\n",
            "  and should_run_async(code)\n"
          ]
        },
        {
          "output_type": "execute_result",
          "data": {
            "text/plain": [
              "<IPython.core.display.HTML object>"
            ],
            "text/html": [
              "\n",
              "<link rel=\"stylesheet\" type=\"text/css\" href=\"https://cdn.jsdelivr.net/gh/bmabey/pyLDAvis@3.4.0/pyLDAvis/js/ldavis.v1.0.0.css\">\n",
              "\n",
              "\n",
              "<div id=\"ldavis_el2371349182565734885945031076\" style=\"background-color:white;\"></div>\n",
              "<script type=\"text/javascript\">\n",
              "\n",
              "var ldavis_el2371349182565734885945031076_data = {\"mdsDat\": {\"x\": [-0.10396240803142089, -0.1120099975734332, -0.10463916630759632, -0.08163017042155593, -0.0635973064112516, -0.09471539631142256, -0.09479957959153747, -0.08776801702317584, 0.4987645122201114, 0.24435752945128242], \"y\": [-0.011216743218394883, -0.006943171980252547, -0.0012669061164502272, -0.027303530427098103, -0.03974875851228039, -0.047928020187872046, -0.02495968456499297, -0.0014418017290171972, -0.20895703002526198, 0.3697656467616208], \"topics\": [1, 2, 3, 4, 5, 6, 7, 8, 9, 10], \"cluster\": [1, 1, 1, 1, 1, 1, 1, 1, 1, 1], \"Freq\": [18.403725056642195, 15.843261718363808, 14.752558042337515, 9.546213118319278, 9.413993510375503, 8.6400768810623, 8.592400962649679, 8.534017229204787, 5.861530121355869, 0.41222335968906915]}, \"tinfo\": {\"Term\": [\"ax\", \"max\", \"use\", \"m\", \"file\", \"window\", \"nntp_poste\", \"key\", \"game\", \"team\", \"drive\", \"car\", \"host\", \"program\", \"government\", \"thank\", \"problem\", \"mail\", \"year\", \"go\", \"get\", \"system\", \"people\", \"gun\", \"play\", \"run\", \"player\", \"image\", \"sale\", \"law\", \"religion\", \"faith\", \"church\", \"atheist\", \"jewish\", \"israeli\", \"christian\", \"god\", \"religious\", \"sin\", \"greek\", \"turkish\", \"turk\", \"arab\", \"bible\", \"scripture\", \"atheism\", \"muslim\", \"serdar_argic\", \"worship\", \"marriage\", \"prayer\", \"revelation\", \"doctrine\", \"gay\", \"nazi\", \"policy_research\", \"soul\", \"catholic\", \"christianity\", \"belief\", \"village\", \"existence\", \"truth\", \"peace\", \"armenian\", \"war\", \"believe\", \"claim\", \"evidence\", \"man\", \"argument\", \"people\", \"say\", \"word\", \"life\", \"child\", \"accept\", \"exist\", \"think\", \"true\", \"know\", \"world\", \"many\", \"make\", \"come\", \"law\", \"fact\", \"way\", \"see\", \"question\", \"give\", \"mean\", \"even\", \"also\", \"live\", \"article\", \"reason\", \"time\", \"thing\", \"right\", \"take\", \"well\", \"tell\", \"find\", \"disease\", \"ide\", \"moon\", \"patient\", \"flight\", \"schneider\", \"diet\", \"methodology\", \"spacecraft\", \"henry_spencer\", \"mormon\", \"prize\", \"space_station\", \"political_atheist\", \"chemical\", \"hypothesis\", \"specie\", \"ron_baalke\", \"seizure\", \"ati\", \"creator\", \"physics\", \"researcher\", \"atmosphere\", \"objective_morality\", \"idle\", \"comet\", \"reserve_university\", \"slavery\", \"quicktime\", \"orbit\", \"profit\", \"health\", \"launch\", \"mar\", \"science\", \"energy\", \"scientific\", \"investment\", \"drug\", \"food\", \"study\", \"objective\", \"msg\", \"treatment\", \"rate\", \"planet\", \"increase\", \"scientist\", \"medical\", \"medicine\", \"fund\", \"money\", \"theory\", \"earth\", \"cost\", \"probe\", \"research\", \"spend\", \"space\", \"much\", \"article\", \"cause\", \"high\", \"idea\", \"think\", \"year\", \"make\", \"people\", \"system\", \"problem\", \"thing\", \"case\", \"well\", \"work\", \"say\", \"use\", \"time\", \"get\", \"many\", \"seem\", \"know\", \"mean\", \"m\", \"good\", \"go\", \"nntp_poste\", \"see\", \"also\", \"take\", \"even\", \"car\", \"bike\", \"ride\", \"mile\", \"dog\", \"motorcycle\", \"helmet\", \"tank\", \"tire\", \"rider\", \"apartment\", \"mph\", \"brake\", \"metal\", \"floor\", \"azerbaijani\", \"leg\", \"rear\", \"radar_detector\", \"shout\", \"glock\", \"bed\", \"sumgait\", \"biker\", \"revolver\", \"lamp\", \"passenger\", \"jim_frost\", \"lane\", \"honda\", \"oil\", \"foot\", \"fire\", \"compound\", \"engine\", \"truck\", \"wheel\", \"accident\", \"burn\", \"door\", \"water\", \"light\", \"shoot\", \"front\", \"go\", \"pull\", \"road\", \"back\", \"get\", \"leave\", \"take\", \"kill\", \"s\", \"happen\", \"day\", \"see\", \"say\", \"time\", \"article\", \"come\", \"thing\", \"re\", \"turn\", \"hand\", \"know\", \"well\", \"look\", \"think\", \"never\", \"tell\", \"m\", \"start\", \"make\", \"people\", \"good\", \"want\", \"right\", \"even\", \"ve\", \"way\", \"sale\", \"c\", \"catalog\", \"stereo\", \"video_card\", \"forsale\", \"clone\", \"cd\", \"sy\", \"best_offer\", \"diamond\", \"powerbook\", \"sphere\", \"ff\", \"expose_event\", \"greeting\", \"brand_new\", \"chipset\", \"hst\", \"benchmark\", \"tolerate\", \"excellent_condition\", \"fpu\", \"cmu_edu\", \"adobe\", \"baud\", \"deskjet\", \"id_aa\", \"chapel_hill\", \"ver\", \"printer\", \"shipping\", \"price\", \"thank\", \"mail\", \"processor\", \"sc\", \"bb\", \"interested\", \"sell\", \"email\", \"stack\", \"host\", \"phone\", \"engineering\", \"nntp_poste\", \"info\", \"advance\", \"appreciate\", \"graphic\", \"buy\", \"computer\", \"reply\", \"edu\", \"fax\", \"offer\", \"university\", \"keyword\", \"post\", \"purchase\", \"item\", \"new\", \"internet\", \"company\", \"look\", \"know\", \"send\", \"m\", \"want\", \"article\", \"need\", \"card\", \"software\", \"get\", \"good\", \"help\", \"use\", \"also\", \"question\", \"find\", \"entry\", \"pub\", \"anonymous\", \"toolkit\", \"binary\", \"jpeg\", \"public_domain\", \"variable\", \"image_processe\", \"compiler\", \"source_code\", \"tiff\", \"pem\", \"ascii\", \"filename\", \"plaintext\", \"administrator\", \"functionality\", \"swap_file\", \"news_answer\", \"capacitor\", \"arithmetic\", \"virtual_reality\", \"last_modifie\", \"graphics_library\", \"cursor\", \"viewer\", \"printf\", \"login\", \"space_dig\", \"compile\", \"file\", \"motif\", \"image\", \"frequently_aske\", \"index\", \"widget\", \"postscript\", \"string\", \"directory\", \"section\", \"sequence\", \"format\", \"program\", \"output\", \"archive\", \"available\", \"server\", \"site\", \"gif\", \"source\", \"application\", \"information\", \"include\", \"function\", \"version\", \"faq\", \"user\", \"contain\", \"datum\", \"resource\", \"library\", \"use\", \"code\", \"software\", \"list\", \"space\", \"send\", \"system\", \"build\", \"set\", \"also\", \"provide\", \"number\", \"name\", \"follow\", \"base\", \"need\", \"scsi\", \"cpu\", \"hard_drive\", \"bio\", \"hard_disk\", \"window_manag\", \"cache\", \"connector\", \"jumper\", \"wiring\", \"vram\", \"socket\", \"serial_port\", \"pixmap\", \"quadra\", \"ethernet\", \"canon\", \"comp_graphic\", \"interrupt\", \"uart\", \"simm\", \"tape_drive\", \"centris\", \"adaptec\", \"reset\", \"mouse\", \"sx\", \"western_digital\", \"xputimage\", \"width\", \"floppy\", \"ram\", \"screen\", \"instal\", \"window\", \"icon\", \"pin\", \"mhz\", \"install\", \"serial\", \"mode\", \"controller\", \"wire\", \"drive\", \"disk\", \"memory\", \"font\", \"driver\", \"color\", \"keyboard\", \"problem\", \"display\", \"speed\", \"bit\", \"card\", \"connect\", \"run\", \"bus\", \"use\", \"machine\", \"do\", \"fast\", \"chip\", \"pc\", \"work\", \"system\", \"device\", \"get\", \"set\", \"try\", \"help\", \"need\", \"time\", \"know\", \"also\", \"article\", \"encryption\", \"clipper\", \"clipper_chip\", \"encrypt\", \"constitution\", \"crypto\", \"militia\", \"law_enforcement\", \"rsa\", \"amendment\", \"firearm\", \"bear_arm\", \"gun_control\", \"cryptography\", \"second_amendment\", \"once_tappe\", \"federal_government\", \"wiretap\", \"white_house\", \"libertarian\", \"serial_number\", \"constitutional\", \"privacy\", \"well_regulate\", \"key_escrow\", \"escrow\", \"court_order\", \"initiative\", \"password\", \"nra\", \"security\", \"federal\", \"secure\", \"key\", \"ripem\", \"pgp\", \"ban\", \"agency\", \"secret\", \"government\", \"weapon\", \"private\", \"gun\", \"public\", \"citizen\", \"crime\", \"criminal\", \"protect\", \"law\", \"state\", \"right\", \"use\", \"chip\", \"police\", \"people\", \"system\", \"make\", \"issue\", \"new\", \"get\", \"even\", \"article\", \"keep\", \"know\", \"say\", \"bit\", \"mean\", \"need\", \"team\", \"player\", \"season\", \"hockey\", \"nhl\", \"score\", \"baseball\", \"playoff\", \"gordon_bank\", \"fan\", \"pitch\", \"leafs\", \"brave\", \"ranger\", \"coach\", \"gary_l\", \"power_play\", \"flyer\", \"jet\", \"pitcher\", \"talent\", \"scoring\", \"hitter\", \"penguin\", \"puck\", \"intellect\", \"phillie\", \"shameful\", \"islander\", \"chastity\", \"game\", \"league\", \"pen\", \"play\", \"stat\", \"win\", \"wing\", \"ice\", \"year\", \"goal\", \"offense\", \"last\", \"hit\", \"go\", \"lose\", \"good\", \"s\", \"well\", \"think\", \"get\", \"article\", \"first\", \"run\", \"make\", \"time\", \"point\", \"give\", \"say\", \"see\", \"nntp_poste\", \"come\", \"look\", \"take\", \"know\", \"even\", \"ax\", \"max\", \"tq\", \"fq\", \"qax\", \"giz_giz\", \"qtm\", \"wm_wm\", \"pmfq\", \"qq\", \"giz\", \"bhj_giz\", \"gizw\", \"bhj_bhj\", \"fork\", \"bxn\", \"f_pne\", \"tct\", \"orion_drive\", \"bill_ranck\", \"pmf\", \"bxlt\", \"pmf_l\", \"mwt\", \"inst_state\", \"virginia_polytchnic\", \"mq\", \"michael_panayiotaki\", \"assemble_worthwhile\", \"low_dollar\", \"pl_pl\", \"ei\", \"wm\", \"pl\", \"gq\", \"tm\", \"bhj\", \"bj\", \"sl\", \"ex\", \"mb\", \"part\", \"qs\", \"ai\", \"zd\", \"r\", \"cal\", \"tor\", \"que\", \"lunatic\", \"convertible\", \"bh\", \"disappoint\", \"rk\", \"nyr\", \"checker\", \"dn\", \"national_capital\", \"temp\", \"moon_resident\", \"mario\", \"hh\", \"freenet\", \"projectile\", \"speedy_mercer\", \"recall_reade\", \"ultrasound\", \"twm\", \"stl\", \"god_shape\", \"nb\", \"ld\", \"pit\", \"_\", \"mp\", \"maxtor\", \"rlk\", \"tz\", \"sp\", \"bj\", \"pp\", \"newsreader_tin\", \"ei\", \"log\", \"wm\", \"m\", \"cf\", \"version_pl\", \"cut\", \"crazy\"], \"Freq\": [57436.0, 3812.0, 8880.0, 3864.0, 2490.0, 2136.0, 4715.0, 1915.0, 1715.0, 1497.0, 1968.0, 1749.0, 3249.0, 2202.0, 1630.0, 1915.0, 3112.0, 1770.0, 3501.0, 5791.0, 7730.0, 3473.0, 5929.0, 1276.0, 1182.0, 2439.0, 873.0, 1056.0, 878.0, 1469.0, 771.5809486887124, 556.5223737202596, 528.1464094744593, 476.0786403898747, 429.8988917822419, 403.2272738824183, 395.61713528318137, 385.68773273569747, 368.87803648737474, 365.6255421529765, 342.82140689980696, 318.2623676611626, 316.8066611935391, 274.7368126322059, 269.5975401897255, 241.66323051218578, 236.1680747136288, 209.37122942981716, 192.02477368298906, 179.79845154261682, 168.34793579109558, 159.5185449151194, 159.45378635357093, 159.44081107126615, 147.97420879808638, 141.52248831822516, 130.3104419921695, 136.962177450484, 128.60487000644758, 123.77391666992378, 524.3508860228582, 178.1087068086073, 352.47171713526336, 528.8190499947398, 328.64528048444424, 611.3183697381422, 468.54043741569546, 1520.0953573687614, 869.1546002209041, 610.2999102496947, 937.7938200432994, 563.8611745358581, 2769.006230347434, 2931.9852040937603, 775.5338254276286, 744.3827770982634, 604.5403933860503, 483.7393601986049, 629.3018988826387, 1621.2668272336214, 695.664869997852, 1569.398884567529, 674.8327183850658, 1002.5014704023527, 1367.3214372626617, 1023.6420589710709, 699.9835059207934, 722.5226908589979, 991.6673807327886, 1100.7626115517403, 899.5854437798687, 942.8680628692875, 818.2376597172715, 895.0863088344202, 911.3266011410184, 661.7231813881532, 1038.7406207148272, 674.9756939753672, 873.0765531262437, 795.7944046591406, 757.0234126125754, 759.6708416026565, 715.4054479973777, 687.3409848068732, 689.4995720984956, 279.3357548953066, 220.41726698412162, 248.21502220147252, 266.72411306907554, 185.0098673734492, 97.57333263758505, 96.17483246287664, 92.49864355057035, 130.3370691856719, 82.987298235581, 81.29094996858777, 80.03817804504015, 97.68979146486679, 71.8024824875143, 70.38963167153136, 67.36388341909847, 66.9715361764769, 65.4569931351034, 60.5525993390842, 58.84081487506083, 58.50542887346839, 69.30018516230511, 56.25424494345599, 54.52800331165872, 54.310496490673174, 53.03508514966069, 52.50113375321172, 50.83720505086514, 50.405640838397986, 50.14088697858928, 250.92509692738997, 78.377125558177, 219.92734654075244, 336.7797740196492, 96.2801618073177, 568.6338274317199, 144.919086016842, 296.29866942390873, 89.47858685681895, 411.254052710968, 302.192263220541, 531.0400373661142, 239.19652934493072, 119.25175933341315, 209.75329480038891, 458.00615927259594, 156.12188952523366, 356.63229593446823, 132.7849669785277, 200.06605901684102, 126.91521482699625, 217.6790083900808, 516.8245325651193, 274.3579237596865, 338.81956372066463, 490.41216969036185, 140.795313335637, 441.94131386072684, 307.98454524356623, 683.4081968328691, 1036.2605673353903, 1838.8278860287298, 506.7462735111565, 615.1210989704919, 544.3842568559362, 1395.7812126288445, 981.1109261002161, 1295.550043831565, 1238.6852650839821, 915.6789007474928, 820.7394814614543, 839.8168556944514, 628.2340037759316, 949.573157379355, 858.5675486626631, 1035.3817338608321, 1148.885333432728, 882.1004495320976, 1016.5981698585241, 679.3314581374885, 618.1996539304779, 844.7010855459438, 583.2993813291707, 656.267639099067, 674.5104948812508, 713.728925661691, 615.1868410386847, 604.69489393339, 584.4793702901851, 579.6142137547733, 573.4077972836568, 1748.922472667446, 658.8297994851974, 465.962348252077, 308.22176996961696, 229.23642656331393, 220.83613319464106, 178.1935215231318, 175.83849420232897, 159.64253042854384, 157.1454967268741, 131.78983797901654, 129.94368889917678, 123.70453388371016, 119.01391159478163, 112.10787829045418, 107.56688606183371, 96.50982070689302, 88.55512053757685, 82.54566783389699, 82.36505181501765, 76.9722763685377, 69.10727488112222, 68.63171599256185, 60.42432438640306, 60.13596130944912, 57.77072657150107, 56.237342010990126, 55.918177190767395, 52.60995848982356, 52.249463313274816, 217.0500269347747, 256.9095704980224, 562.043192924591, 164.90394619394647, 342.6482846810578, 137.74341204094364, 100.1883357831715, 149.52480251830366, 232.87183525881167, 245.99155463217033, 225.72331793478682, 423.64210391297206, 305.3487858998672, 278.49506941835153, 2536.5677037292207, 254.30117628426785, 330.42281251451533, 806.5297368763019, 2375.245129742044, 657.7002479320113, 1269.3428158926608, 555.1439425221704, 1076.0605684799832, 592.9035450003901, 776.2288702914861, 1232.552204799372, 1602.2004823590546, 1289.9205154043364, 1535.458692559753, 953.7887667495897, 937.2804305044272, 641.3560616917679, 459.4761935802675, 467.75575507377545, 1208.973250685788, 1016.5300425708134, 855.2963453818802, 1120.8102631220936, 636.7786798557033, 719.424201830484, 883.2018462181189, 605.8398804018628, 950.2061097591718, 945.3776660831712, 847.8439956189623, 726.0878455844999, 694.0575846338634, 664.9223191198886, 630.7040338288222, 641.954241843211, 876.6634828890132, 225.2643531164343, 87.50750424984469, 84.4975941391396, 82.26345516889778, 78.37833363451033, 76.62360111728212, 73.64949488798196, 73.32573170361289, 66.46337408039321, 61.617116697357076, 56.26782608964435, 52.66307150365301, 52.303504437879, 51.57735257441143, 51.2298709232759, 48.56418728753284, 48.348288109889076, 43.9367144213966, 43.66230154171971, 42.667162092197714, 41.936743349914934, 41.565249807681816, 42.32264830591144, 41.07068921056664, 39.34147849713998, 38.306014597611565, 37.35183535081345, 37.10406906820743, 35.75383116095429, 262.51383839274496, 138.0103980537217, 805.027600247407, 1471.186169492119, 1345.8421418004868, 120.85176231207849, 53.13511178335384, 105.30073735063556, 537.6551928757322, 637.6136145595264, 701.0365990768181, 74.70445316650992, 1838.1936938387362, 524.0478351357316, 271.2982782100482, 2348.9431470551485, 616.0564136080708, 313.59906334678686, 285.45905869059027, 410.99432569003733, 677.8989168697782, 696.10716812192, 1090.4562650676976, 492.49958461330516, 323.25076767880427, 364.57520780573066, 771.3913910887044, 381.4195249586631, 916.2781149864089, 221.74196518539432, 208.00097711459097, 985.7630505686559, 406.27320155821496, 370.02989276538165, 943.8726193590046, 1297.6853405751922, 564.8591494635918, 926.4204248000782, 863.808562942144, 1249.4544008022315, 815.2155864486224, 502.7474782821265, 499.5107144854154, 1109.1339952496498, 864.6807178623772, 595.8991401404435, 882.8087664640096, 627.8172520322611, 538.8082526889684, 541.5965662996003, 622.1709619075376, 223.57355699514252, 126.56491356554587, 103.14408173273239, 99.76504107868867, 98.14542536880195, 95.28066832914388, 90.57586334174437, 74.9599459124608, 70.54627954911625, 69.11099235579914, 66.93405069224212, 62.139152180947754, 58.669867294538314, 58.543591680953476, 56.97269700553435, 54.71571708725992, 53.591775509774, 53.1944838671667, 51.50758586753824, 48.02536718015748, 46.524790063083714, 46.00521658137003, 45.935293879218385, 45.463085055734325, 45.13115567694971, 44.993595013065026, 43.928068038894004, 44.091550559770845, 42.575155081593024, 204.35147521785325, 2277.095327527061, 350.45774344208814, 951.7329155780799, 83.38829906166868, 108.45295038479296, 285.0231877800988, 128.1746006013707, 186.5216021245634, 299.12376167633136, 454.07483275320027, 132.7477466686054, 447.8870564122957, 1469.9969215299445, 305.2935253407957, 208.8999292092182, 858.6631766868469, 487.7155194703217, 311.9171505794987, 140.77903725208174, 683.6896292288368, 520.0163717112456, 935.4482986351422, 973.1154816539055, 333.58413368157795, 552.993555342789, 291.6571094215326, 472.40445513594364, 352.52922534605887, 583.6526738986391, 230.43860514752504, 220.54817486721558, 1818.630996020907, 403.06640539790965, 495.2385005231983, 503.2533940250424, 497.20359430340216, 519.7051647472076, 665.8802766009426, 425.4299027690294, 478.86606274010677, 668.7887330688184, 436.13632899409674, 498.8841504905758, 438.7853257584975, 402.01962052917787, 374.65778629608593, 385.90350771336693, 548.0933419962633, 202.7932524970506, 154.98605235347753, 137.15944124943178, 131.39026152217303, 129.34285480939204, 124.4958081391247, 118.45815705289213, 110.67686958388227, 119.27194771949063, 100.42977747306001, 95.87061106307885, 92.11509931422178, 90.75945837680673, 83.29458358087317, 82.40986853972424, 78.53245362022439, 68.87190536767623, 64.51371624964803, 55.30656612844082, 55.19452232556844, 53.37114235823732, 52.85011737377757, 52.451001092714684, 50.186107349806285, 278.3931140792483, 48.96608528039813, 44.77703798734702, 44.70303463515111, 44.25267675217709, 129.6707147506597, 223.8797069774419, 478.2500675930386, 338.4005902444436, 1834.6481513384108, 111.32318378448171, 240.21757567917209, 315.4784786154178, 184.17445059833435, 138.71084762445648, 405.9328111374713, 237.15165533332757, 275.1485300386551, 1431.6168492265451, 540.969721939225, 485.527586737564, 254.37312699263663, 690.5137795107137, 554.1925615698973, 244.24840833655395, 1474.4295658691294, 469.2955485558744, 473.33552132299627, 900.0062013028079, 661.0535459924024, 248.40501155968042, 1042.586690327282, 248.8045649283156, 2487.8658126445425, 496.6513879943815, 735.426950912197, 476.8094712167264, 485.4192332816629, 389.828247609783, 965.4782458866381, 892.77794580061, 368.61746107970777, 1187.421798770338, 547.6707723706558, 658.6465323954433, 562.4059571325486, 592.8997976370533, 566.8160047545679, 527.9619957871797, 455.6463770268201, 471.08099042847954, 653.2767652525906, 347.74282442383145, 346.7085162887449, 272.9005122597194, 211.14834398906225, 177.46778710217836, 178.0083476321467, 160.81882650193833, 160.82588035356713, 145.45648403701117, 365.3609468227424, 119.38895883612362, 119.83273523960949, 114.56503769127103, 99.82354421416505, 88.33652290785078, 84.82885487871097, 84.00283894897514, 80.72577464496361, 75.51923982260463, 72.91299570804668, 71.9270026050603, 308.3772042620485, 65.45579251813389, 64.68003390569716, 63.5275379913699, 57.8474872428623, 99.26869990975963, 50.970697193953235, 50.34779587644596, 510.2431857122567, 209.1859426579236, 324.20937066057917, 1770.9959365427317, 289.2654040207305, 167.67547840969186, 170.95557443932546, 244.56383671965472, 270.1734778137988, 1222.3652720975176, 333.0354667466514, 308.55424383303773, 889.1638582641856, 735.7490779626236, 293.39504349146085, 342.75309925013164, 266.0313813071187, 353.80422884046715, 672.103000049654, 672.9230515681842, 867.1542565417276, 1434.9094203620814, 413.2116352047998, 255.40931517233193, 726.4823637498478, 532.1603500654762, 565.117617551415, 343.1339852291892, 423.6321438568517, 468.234539066073, 391.8526605083962, 442.512828666176, 346.00343925042944, 396.04482725674717, 393.134854855324, 344.06271668326696, 342.57145981957797, 333.8725751606959, 1496.5934820128339, 872.5167009549112, 574.0545850868062, 453.39822400142884, 342.7396524956526, 334.0404395309199, 318.7534301891185, 248.87999235449334, 175.90030793134622, 317.0050755648312, 180.99615987320632, 145.00066142322416, 137.26104118528346, 129.31253298768073, 126.94254213517354, 114.55142684570447, 112.98969643192518, 111.74686116250858, 106.33548041636406, 104.6870776752449, 101.61298619227577, 101.06644776495783, 100.76519311697935, 96.21205421598458, 93.73896373374257, 87.74221142294863, 84.2403051136363, 84.00677620038185, 82.9194647496138, 81.13933209358113, 1659.373249965933, 185.0060283198812, 180.6859647506044, 1029.2250778426887, 180.59300785980668, 700.6896535885969, 177.05100603563352, 149.56782309798652, 1400.5974419049887, 314.0598121679094, 120.20013456736707, 612.8416866247478, 314.7728204839681, 1115.1844405852235, 334.4252734080495, 943.737002711112, 692.2606440635234, 820.0701717843098, 903.0246606793157, 1027.523983135604, 902.9343378403325, 568.9008058643784, 490.2320176386295, 673.0726804921898, 600.6222656089461, 436.74756275636275, 473.5786021153175, 604.0749938429916, 524.4553675605893, 485.38352611446874, 416.5688896718643, 403.67082324002376, 402.7998155337979, 411.05377537480143, 377.9678549309762, 57435.4633356131, 3811.543257208635, 59.07807766404931, 50.186449232319816, 40.03868304235995, 36.36453480658965, 24.10705256069851, 23.995414513390156, 23.024509760859807, 44.04655368835756, 19.953790647575097, 19.527038095209846, 18.941828392128638, 39.44317002113597, 19.077445582590038, 17.87716156775622, 16.723906851527097, 16.04005179175728, 15.610011185951933, 15.18431242468635, 15.082683985267701, 14.134240090940033, 14.058275171365345, 13.146410871558768, 12.52213488970525, 12.52213488970525, 12.145475418616474, 11.863774442924596, 11.845989489485618, 11.845989489485618, 31.889614186157278, 80.24364549955591, 70.14563551553434, 44.74768228914488, 26.77676991000358, 49.58299758892025, 19.56897766725658, 20.20196361258926, 19.10966362677164, 21.282894290336046, 19.581863383534955, 16.873535803965535, 66.06888380154916, 52.36261386363185, 45.5780290179864, 43.343296265037154, 32.33599130206056, 32.2354901185296, 29.380345066885308, 25.34551745661399, 23.281383936955685, 23.07221113684798, 22.390426616603133, 48.50087315016347, 19.95748747833209, 19.108524790067474, 18.3453970518102, 19.04959377311857, 17.480973049111718, 17.458193400296846, 17.15931477818053, 17.086949744736234, 16.594441995924825, 16.288152121605318, 15.613602520878388, 15.506676281120551, 15.118482514202512, 15.109627868102507, 14.947184285476537, 14.891062976764234, 14.710706316260064, 14.304624812688056, 25.514794722707553, 157.96230810957988, 42.15538414384115, 30.25753999071181, 29.3263302474372, 18.80056345083307, 48.92409693604333, 26.227586342567562, 35.80434540941226, 31.855169025272613, 34.027059765666664, 30.544550472813334, 27.411667715367336, 61.26075395149187, 21.30853584228305, 24.163970206237302, 20.05323084701371, 19.180878208783994], \"Total\": [57436.0, 3812.0, 8880.0, 3864.0, 2490.0, 2136.0, 4715.0, 1915.0, 1715.0, 1497.0, 1968.0, 1749.0, 3249.0, 2202.0, 1630.0, 1915.0, 3112.0, 1770.0, 3501.0, 5791.0, 7730.0, 3473.0, 5929.0, 1276.0, 1182.0, 2439.0, 873.0, 1056.0, 878.0, 1469.0, 772.4825972204884, 557.4240683699309, 529.04805647545, 476.98027557101005, 430.8005348030259, 404.1289825168963, 396.5187756611369, 386.58943202513774, 369.78632569464907, 366.5272262344442, 343.72302666849316, 319.1639748769352, 317.7083054412926, 275.6385462329971, 270.49924214741463, 242.56485088496595, 237.0696999858054, 210.27284886751815, 192.9263801062086, 180.70010827994292, 169.24966522496055, 160.42018629106502, 160.3554108036165, 160.34244084466317, 148.88860599049144, 142.4241137783048, 131.21210423007702, 137.91281903254594, 129.5065035078722, 124.67553018728513, 533.58403763887, 180.52152591476866, 368.14812691949936, 564.7626039548281, 353.55128520314116, 713.217761916056, 553.4217342385383, 2326.0901357518514, 1255.5839073280788, 832.2815326273737, 1449.0878308389422, 769.35830784767, 5929.557477382062, 6885.862615521003, 1233.9161036529247, 1283.1468404902282, 977.4551383902839, 701.6573058096653, 1097.3164159538103, 5794.82800963309, 1336.547259260974, 6321.074946164548, 1289.157477870578, 2888.303883078501, 5854.482653210462, 3324.6462989510687, 1469.6079396912196, 1580.9805103105068, 3346.6563642598185, 4393.857239243367, 2744.0863745521137, 3179.2074019580605, 2357.160029016188, 3208.988424784267, 4271.812559783323, 1314.3266959638338, 7484.724520414191, 1460.4261607525218, 4839.184095941285, 3314.217062492944, 3062.3188911790735, 3633.1892203607667, 4514.586139487285, 2405.649352121602, 3044.607245763223, 280.2429680075864, 221.32111813490198, 249.53392088129206, 268.3342523122907, 186.5163635830694, 98.47700890503322, 97.08656416274948, 93.40221211682483, 131.6683737053045, 83.89087315136676, 82.19477814157659, 80.9419300733271, 98.89554690539387, 72.70603794414369, 71.29328073644052, 68.26749703528043, 67.87508787075402, 66.36076502315917, 61.45636637443466, 59.74665217219843, 59.40930093588709, 70.41149301776923, 57.16551264071748, 55.43176948532343, 55.21422916918403, 53.93884103309562, 53.4060527262928, 51.74097647461603, 51.30927616120746, 51.04470710105386, 256.295364465982, 80.01859492316504, 227.0008103588838, 353.7089138057404, 98.67528436471582, 649.1235200621023, 154.48481511885853, 331.6246532595533, 93.21588240438001, 482.39730946443484, 353.5278526959736, 667.9429801378618, 277.74144094319354, 129.23438354881236, 245.7439982921722, 607.7406013062182, 176.9490761998947, 462.47120703025064, 148.20612993461444, 242.70070178888216, 141.11058323940426, 275.5531951461426, 821.2265907479075, 371.87316525952735, 495.6880686427782, 835.5039853522919, 161.15951947404406, 748.1273312595747, 459.94502333365654, 1352.7140722654583, 2830.6821537985056, 7484.724520414191, 1059.0313449958396, 1464.52518794879, 1228.8605470952455, 5794.82800963309, 3501.1304345877993, 5854.482653210462, 5929.557477382062, 3473.8332654164033, 3112.344927744446, 3314.217062492944, 1877.945069739572, 4514.586139487285, 3666.1999023249573, 6885.862615521003, 8880.49487274731, 4839.184095941285, 7730.116184761396, 2888.303883078501, 2300.3187743550343, 6321.074946164548, 2357.160029016188, 3864.971592072667, 4467.0792758786165, 5791.039067920618, 4715.912362770677, 4393.857239243367, 4271.812559783323, 3633.1892203607667, 3208.988424784267, 1749.8259420067207, 659.7292927312382, 466.86686143047467, 309.1222117029014, 230.13627711409302, 221.73591510451908, 179.09595637891408, 176.73804067660816, 160.5419880239291, 158.04508802075676, 132.68926225193405, 130.84312149380386, 124.60396999999038, 119.91384672729941, 113.008230895736, 108.47695610152851, 97.40933676673221, 89.45458553783136, 83.44515027016746, 83.2644946554725, 77.871698436883, 70.00676304243672, 69.53112016670285, 61.323743552199005, 61.0353923227134, 58.67152670333316, 57.13694534135224, 56.81788587308106, 53.509546659017055, 53.148922104889024, 221.14035428680782, 271.6429492130706, 615.1964406390703, 174.17373584194198, 385.89665942355686, 148.28348895436145, 106.50603178016397, 166.15920679124997, 275.96251482461565, 296.99626721308243, 274.8129632741936, 588.9457005582789, 400.4921217698357, 364.3740131332106, 5791.039067920618, 328.0663413784627, 483.20622023884096, 1677.6784700750118, 7730.116184761396, 1321.717425535994, 3633.1892203607667, 1125.1309271786504, 3231.787055747203, 1323.9109456778876, 2066.216591949084, 4393.857239243367, 6885.862615521003, 4839.184095941285, 7484.724520414191, 3324.6462989510687, 3314.217062492944, 1700.3950332947106, 939.1321074979177, 979.412378770201, 6321.074946164548, 4514.586139487285, 3276.951643536829, 5794.82800963309, 1834.9712568510154, 2405.649352121602, 3864.971592072667, 1778.6916495969356, 5854.482653210462, 5929.557477382062, 4467.0792758786165, 3551.521346141563, 3062.3188911790735, 3208.988424784267, 2139.836605021692, 3346.6563642598185, 878.959159209913, 226.1698381246014, 88.41199522434407, 85.40259777361689, 83.16778479131425, 79.28257801690836, 77.52813420579919, 74.55381562134596, 74.23061645276293, 67.36762481761801, 62.52148103061515, 57.17211397730084, 53.56736244101679, 53.20835414582081, 52.48171925396846, 52.13424387202539, 49.46843987891045, 49.25262072772172, 44.84621865722182, 44.56662561967387, 43.57273532236018, 42.840982594840575, 42.46957729128684, 43.24409737651707, 41.975050101141015, 40.24578278113661, 39.210295288781936, 38.256463803894874, 38.00840906249186, 36.658166403557786, 269.95698362272424, 147.31302933018605, 948.8649929933783, 1915.808443028043, 1770.4776578440305, 133.3237771151272, 55.61782906404328, 118.12056340949152, 737.3854306339638, 904.8167035024086, 1024.5798298095247, 81.84834918362202, 3249.4661886056465, 781.3263470608601, 368.3561934325157, 4715.912362770677, 995.7729586728608, 454.9355771509761, 415.3265583479757, 658.6070134963044, 1245.7515223413602, 1321.8374866219358, 2426.6831272209483, 885.8437097747595, 514.5461235659618, 620.577060064791, 1725.4267918752826, 674.3141614661986, 2286.845820699272, 328.16933369182937, 300.4027105221138, 2813.1690359409363, 786.436599731491, 698.2221858637884, 3276.951643536829, 6321.074946164548, 1492.9209817948665, 3864.971592072667, 3551.521346141563, 7484.724520414191, 3408.2241618447715, 1242.8784115353264, 1228.6772101338943, 7730.116184761396, 4467.0792758786165, 2158.9663630452164, 8880.49487274731, 4271.812559783323, 2744.0863745521137, 3044.607245763223, 623.0683329477164, 224.47495023573762, 127.464047851455, 104.04146862821885, 100.66239760478707, 99.04276732765183, 96.17804134648564, 91.47347839753405, 75.85729024059394, 71.44380401177123, 70.00833816678733, 67.83140246177882, 63.03690905583735, 59.56725636026409, 59.44090998003322, 57.87009731756167, 55.622299677200836, 54.495808301366445, 54.09194435183363, 52.40493407801762, 48.92279940366246, 47.422281685381044, 46.90271702385933, 46.83501898575762, 46.3604507374014, 46.028615534030465, 45.8913520453886, 44.825388672482504, 45.00095871737148, 43.47251469523115, 211.81836631192522, 2490.6587909317823, 370.4832800634381, 1056.0991234608314, 86.19124911576111, 113.07080534362795, 309.6352322106242, 135.25993545530145, 200.53130148704227, 330.92430456366054, 564.5972828746553, 147.6139998232455, 566.5922393344592, 2202.8752235549755, 387.64964477185185, 252.70294263631678, 1370.0316064398646, 719.8445924881888, 429.90428411788764, 165.0411042166571, 1183.5058768943059, 862.280874308614, 1862.4811932242549, 1994.4422629185221, 509.7723112270375, 1025.8319117470367, 435.916666076653, 872.966829375385, 586.1069813348157, 1209.1652299883233, 324.69294920497316, 308.28407476152546, 8880.49487274731, 809.3133412800648, 1228.6772101338943, 1267.4084110696663, 1352.7140722654583, 1492.9209817948665, 3473.8332654164033, 1144.86921365061, 1603.0390539600282, 4271.812559783323, 1229.0875338965745, 2075.4636635567053, 1501.0654025795957, 1734.5249340838568, 1324.0779520729873, 3408.2241618447715, 549.1819114109252, 203.9225561811266, 155.88996373985125, 138.06878755966676, 132.29376171906054, 130.25222580678707, 125.39931155215335, 119.36159929463352, 111.58030313808783, 120.31943610349037, 101.33322482703505, 96.7956701259822, 93.0191219733911, 91.66488962875837, 84.19809779207341, 83.31332757195815, 79.43619469166389, 69.77569180015045, 65.41724018658178, 56.210017824590636, 56.09799389494465, 54.27479098352827, 53.75359086047772, 53.354458230422715, 51.089583115325574, 283.5697911375156, 49.9494457265676, 45.68046980913144, 45.60646998822989, 45.15616735523425, 132.52108778035387, 230.75685379911792, 505.858622165285, 365.1832893216833, 2136.9394042876943, 116.57133731011055, 261.7311961331673, 354.5604775475357, 201.0342150962742, 149.58428832212977, 476.5976505629761, 267.25754023555186, 317.3005841489781, 1968.3473444136032, 693.9426299605318, 619.8926606137729, 306.7012399402279, 1009.1365537268036, 786.6095439867129, 299.648048902933, 3112.344927744446, 736.2178917450527, 747.2041990997607, 1778.725417292525, 1242.8784115353264, 324.2963726993692, 2439.003671786984, 325.57216814125474, 8880.49487274731, 906.9615018009276, 1638.778926762507, 876.244485028561, 965.744962920897, 677.3195998556196, 3666.1999023249573, 3473.8332654164033, 636.3512435154056, 7730.116184761396, 1603.0390539600282, 2862.798714065859, 2158.9663630452164, 3408.2241618447715, 4839.184095941285, 6321.074946164548, 4271.812559783323, 7484.724520414191, 654.1833364728069, 348.64937854572094, 347.61503477573245, 273.80870040024047, 212.21522233710715, 178.37440678229078, 178.9481899064877, 161.72536793946338, 161.73268767730283, 146.36308739313552, 367.7386192825642, 120.29548332754474, 120.76620560873121, 115.47182751177589, 100.73006720971237, 89.24306106568012, 85.73543670790171, 84.9093573808749, 81.63234685789149, 76.42597112816574, 73.81961310186486, 72.83393111421906, 312.5750208015695, 66.36233546626633, 65.58654365031668, 64.43405368229922, 58.754008908305174, 100.91852195053833, 51.87756566820963, 51.25541280038596, 521.747862647038, 213.93869327064203, 333.7681451619477, 1915.883695765214, 305.54299688192054, 174.6295115303846, 180.68434240359377, 271.03099850668616, 306.4976434288082, 1630.3354423095361, 398.11583058436, 365.5084081394502, 1276.9593429655629, 1037.0485862193561, 366.45692438473867, 456.2794172703932, 331.5117289154041, 482.3335073058839, 1469.6079396912196, 1839.8380770041392, 3062.3188911790735, 8880.49487274731, 965.744962920897, 405.1937548245292, 5929.557477382062, 3473.8332654164033, 5854.482653210462, 1152.1261445166383, 2813.1690359409363, 7730.116184761396, 3208.988424784267, 7484.724520414191, 1545.4225010520277, 6321.074946164548, 6885.862615521003, 1778.725417292525, 2357.160029016188, 3408.2241618447715, 1497.498090810579, 873.4212470390663, 574.9591219838943, 454.3027249257885, 343.6441448865737, 334.9449850630936, 319.6579341891048, 249.78448314032724, 176.80485887639122, 318.6667388299877, 182.01099937783133, 145.9051560394699, 138.16590416359526, 130.21705805880745, 127.84719814740265, 115.45593701166686, 113.89694316189424, 112.65137090278866, 107.24007178907152, 105.59156482667711, 102.51761568285605, 101.9709407072782, 101.66969138697459, 97.11657039996176, 94.6434551265293, 88.64675667123542, 85.14479199029883, 84.91130881245839, 83.82395843426089, 82.04384803668081, 1715.097526362233, 190.97777905302723, 188.88005349688495, 1182.1617165487428, 190.3369354086005, 954.0161501890451, 210.46722246822185, 172.144706101844, 3501.1304345877993, 489.971412506178, 129.92491288573913, 1664.5821165596155, 605.2173134106661, 5791.039067920618, 727.8755656514454, 4467.0792758786165, 3231.787055747203, 4514.586139487285, 5794.82800963309, 7730.116184761396, 7484.724520414191, 2855.8652228812375, 2439.003671786984, 5854.482653210462, 4839.184095941285, 2375.510169930177, 3179.2074019580605, 6885.862615521003, 4393.857239243367, 4715.912362770677, 3324.6462989510687, 3276.951643536829, 3633.1892203607667, 6321.074946164548, 3208.988424784267, 57436.35101456972, 3812.430943085801, 59.96594468864599, 51.07410736667453, 40.92634111897099, 37.25219302343533, 24.994710851786053, 24.883072664243063, 23.91216777972717, 45.86405489876885, 20.841448732435232, 20.414696163571787, 19.829486608974314, 41.30726537631661, 19.98576105985981, 18.765054857607968, 17.611564928138133, 16.927710049848436, 16.49933579028564, 16.072321852108065, 15.970342606319104, 15.021898382027578, 14.945933214979997, 14.034068898675226, 13.410198907127766, 13.410198907127766, 13.033133495227512, 12.752188185742996, 12.734022407729618, 12.734022407729618, 35.05678805463739, 115.08301773388293, 100.83057084460265, 61.9272405716008, 35.391865796550185, 157.798281839331, 33.58534704198473, 47.241907829537006, 39.64218865820901, 82.66137579603648, 142.85097958562872, 1805.0316344964087, 66.99771627481408, 53.29324564105776, 46.50677493573206, 44.27209500215928, 33.264893641655846, 33.16433821556033, 30.309184404966608, 26.274303124469856, 24.21017291968212, 24.00097962171587, 23.31956179404566, 50.678918277774365, 20.886324469645338, 20.03741126862425, 19.274220382672848, 20.0493619797107, 18.40996097368383, 18.387066910256383, 18.08827647795636, 18.015802521279504, 17.523226336792604, 17.217046349683432, 16.542403020331413, 16.43549819366076, 16.047548452005593, 16.0386199055455, 15.875969724936189, 15.819848910724172, 15.639546677985601, 15.233723024423176, 27.592400036200722, 193.81496459812314, 50.384105857142835, 35.40470540008655, 34.85302101555836, 20.739502763471506, 79.80339113562634, 47.241907829537006, 93.0273836416773, 84.5244320816354, 115.08301773388293, 87.17018861697039, 100.83057084460265, 3864.971592072667, 52.89701600505191, 393.87998211488843, 458.0084211027008, 102.43522274681015], \"Category\": [\"Default\", \"Default\", \"Default\", \"Default\", \"Default\", \"Default\", \"Default\", \"Default\", \"Default\", \"Default\", \"Default\", \"Default\", \"Default\", \"Default\", \"Default\", \"Default\", \"Default\", \"Default\", \"Default\", \"Default\", \"Default\", \"Default\", \"Default\", \"Default\", \"Default\", \"Default\", \"Default\", \"Default\", \"Default\", \"Default\", \"Topic1\", \"Topic1\", \"Topic1\", \"Topic1\", \"Topic1\", \"Topic1\", \"Topic1\", \"Topic1\", \"Topic1\", \"Topic1\", \"Topic1\", \"Topic1\", \"Topic1\", \"Topic1\", \"Topic1\", \"Topic1\", \"Topic1\", \"Topic1\", \"Topic1\", \"Topic1\", \"Topic1\", \"Topic1\", \"Topic1\", \"Topic1\", \"Topic1\", \"Topic1\", \"Topic1\", \"Topic1\", \"Topic1\", \"Topic1\", \"Topic1\", \"Topic1\", \"Topic1\", \"Topic1\", \"Topic1\", \"Topic1\", \"Topic1\", \"Topic1\", \"Topic1\", \"Topic1\", \"Topic1\", \"Topic1\", \"Topic1\", \"Topic1\", \"Topic1\", \"Topic1\", \"Topic1\", \"Topic1\", \"Topic1\", \"Topic1\", \"Topic1\", \"Topic1\", \"Topic1\", \"Topic1\", \"Topic1\", \"Topic1\", \"Topic1\", \"Topic1\", \"Topic1\", \"Topic1\", \"Topic1\", \"Topic1\", \"Topic1\", \"Topic1\", \"Topic1\", \"Topic1\", \"Topic1\", \"Topic1\", \"Topic1\", \"Topic1\", \"Topic1\", \"Topic1\", \"Topic1\", \"Topic1\", \"Topic1\", \"Topic2\", \"Topic2\", \"Topic2\", \"Topic2\", \"Topic2\", \"Topic2\", \"Topic2\", \"Topic2\", \"Topic2\", \"Topic2\", \"Topic2\", \"Topic2\", \"Topic2\", \"Topic2\", \"Topic2\", \"Topic2\", \"Topic2\", \"Topic2\", \"Topic2\", \"Topic2\", \"Topic2\", \"Topic2\", \"Topic2\", \"Topic2\", \"Topic2\", \"Topic2\", \"Topic2\", \"Topic2\", \"Topic2\", \"Topic2\", \"Topic2\", \"Topic2\", \"Topic2\", \"Topic2\", \"Topic2\", \"Topic2\", \"Topic2\", \"Topic2\", \"Topic2\", \"Topic2\", \"Topic2\", \"Topic2\", \"Topic2\", \"Topic2\", \"Topic2\", \"Topic2\", \"Topic2\", \"Topic2\", \"Topic2\", \"Topic2\", \"Topic2\", \"Topic2\", \"Topic2\", \"Topic2\", \"Topic2\", \"Topic2\", \"Topic2\", \"Topic2\", \"Topic2\", \"Topic2\", \"Topic2\", \"Topic2\", \"Topic2\", \"Topic2\", \"Topic2\", \"Topic2\", \"Topic2\", \"Topic2\", \"Topic2\", \"Topic2\", \"Topic2\", \"Topic2\", \"Topic2\", \"Topic2\", \"Topic2\", \"Topic2\", \"Topic2\", \"Topic2\", \"Topic2\", \"Topic2\", \"Topic2\", \"Topic2\", \"Topic2\", \"Topic2\", \"Topic2\", \"Topic2\", \"Topic2\", \"Topic2\", \"Topic2\", \"Topic2\", \"Topic2\", \"Topic3\", \"Topic3\", \"Topic3\", \"Topic3\", \"Topic3\", \"Topic3\", \"Topic3\", \"Topic3\", \"Topic3\", \"Topic3\", \"Topic3\", \"Topic3\", \"Topic3\", \"Topic3\", \"Topic3\", \"Topic3\", \"Topic3\", \"Topic3\", \"Topic3\", \"Topic3\", \"Topic3\", \"Topic3\", \"Topic3\", \"Topic3\", \"Topic3\", \"Topic3\", \"Topic3\", \"Topic3\", \"Topic3\", \"Topic3\", \"Topic3\", \"Topic3\", \"Topic3\", \"Topic3\", \"Topic3\", \"Topic3\", \"Topic3\", \"Topic3\", \"Topic3\", \"Topic3\", \"Topic3\", \"Topic3\", \"Topic3\", \"Topic3\", \"Topic3\", \"Topic3\", \"Topic3\", \"Topic3\", \"Topic3\", \"Topic3\", \"Topic3\", \"Topic3\", \"Topic3\", \"Topic3\", \"Topic3\", \"Topic3\", \"Topic3\", \"Topic3\", \"Topic3\", \"Topic3\", \"Topic3\", \"Topic3\", \"Topic3\", \"Topic3\", \"Topic3\", \"Topic3\", \"Topic3\", \"Topic3\", \"Topic3\", \"Topic3\", \"Topic3\", \"Topic3\", \"Topic3\", \"Topic3\", \"Topic3\", \"Topic3\", \"Topic3\", \"Topic3\", \"Topic3\", \"Topic3\", \"Topic4\", \"Topic4\", \"Topic4\", \"Topic4\", \"Topic4\", \"Topic4\", \"Topic4\", \"Topic4\", \"Topic4\", \"Topic4\", \"Topic4\", \"Topic4\", \"Topic4\", \"Topic4\", \"Topic4\", \"Topic4\", \"Topic4\", \"Topic4\", \"Topic4\", \"Topic4\", \"Topic4\", \"Topic4\", \"Topic4\", \"Topic4\", \"Topic4\", \"Topic4\", \"Topic4\", \"Topic4\", \"Topic4\", \"Topic4\", \"Topic4\", \"Topic4\", \"Topic4\", \"Topic4\", \"Topic4\", \"Topic4\", \"Topic4\", \"Topic4\", \"Topic4\", \"Topic4\", \"Topic4\", \"Topic4\", \"Topic4\", \"Topic4\", \"Topic4\", \"Topic4\", \"Topic4\", \"Topic4\", \"Topic4\", \"Topic4\", \"Topic4\", \"Topic4\", \"Topic4\", \"Topic4\", \"Topic4\", \"Topic4\", \"Topic4\", \"Topic4\", \"Topic4\", \"Topic4\", \"Topic4\", \"Topic4\", \"Topic4\", \"Topic4\", \"Topic4\", \"Topic4\", \"Topic4\", \"Topic4\", \"Topic4\", \"Topic4\", \"Topic4\", \"Topic4\", \"Topic4\", \"Topic4\", \"Topic4\", \"Topic4\", \"Topic4\", \"Topic4\", \"Topic4\", \"Topic4\", \"Topic5\", \"Topic5\", \"Topic5\", \"Topic5\", \"Topic5\", \"Topic5\", \"Topic5\", \"Topic5\", \"Topic5\", \"Topic5\", \"Topic5\", \"Topic5\", \"Topic5\", \"Topic5\", \"Topic5\", \"Topic5\", \"Topic5\", \"Topic5\", \"Topic5\", \"Topic5\", \"Topic5\", \"Topic5\", \"Topic5\", \"Topic5\", \"Topic5\", \"Topic5\", \"Topic5\", \"Topic5\", \"Topic5\", \"Topic5\", \"Topic5\", \"Topic5\", \"Topic5\", \"Topic5\", \"Topic5\", \"Topic5\", \"Topic5\", \"Topic5\", \"Topic5\", \"Topic5\", \"Topic5\", \"Topic5\", \"Topic5\", \"Topic5\", \"Topic5\", \"Topic5\", \"Topic5\", \"Topic5\", \"Topic5\", \"Topic5\", \"Topic5\", \"Topic5\", \"Topic5\", \"Topic5\", \"Topic5\", \"Topic5\", \"Topic5\", \"Topic5\", \"Topic5\", \"Topic5\", \"Topic5\", \"Topic5\", \"Topic5\", \"Topic5\", \"Topic5\", \"Topic5\", \"Topic5\", \"Topic5\", \"Topic5\", \"Topic5\", \"Topic5\", \"Topic5\", \"Topic5\", \"Topic5\", \"Topic5\", \"Topic5\", \"Topic5\", \"Topic5\", \"Topic6\", \"Topic6\", \"Topic6\", \"Topic6\", \"Topic6\", \"Topic6\", \"Topic6\", \"Topic6\", \"Topic6\", \"Topic6\", \"Topic6\", \"Topic6\", \"Topic6\", \"Topic6\", \"Topic6\", \"Topic6\", \"Topic6\", \"Topic6\", \"Topic6\", \"Topic6\", \"Topic6\", \"Topic6\", \"Topic6\", \"Topic6\", \"Topic6\", \"Topic6\", \"Topic6\", \"Topic6\", \"Topic6\", \"Topic6\", \"Topic6\", \"Topic6\", \"Topic6\", \"Topic6\", \"Topic6\", \"Topic6\", \"Topic6\", \"Topic6\", \"Topic6\", \"Topic6\", \"Topic6\", \"Topic6\", \"Topic6\", \"Topic6\", \"Topic6\", \"Topic6\", \"Topic6\", \"Topic6\", \"Topic6\", \"Topic6\", \"Topic6\", \"Topic6\", \"Topic6\", \"Topic6\", \"Topic6\", \"Topic6\", \"Topic6\", \"Topic6\", \"Topic6\", \"Topic6\", \"Topic6\", \"Topic6\", \"Topic6\", \"Topic6\", \"Topic6\", \"Topic6\", \"Topic6\", \"Topic6\", \"Topic6\", \"Topic6\", \"Topic6\", \"Topic6\", \"Topic6\", \"Topic6\", \"Topic6\", \"Topic6\", \"Topic7\", \"Topic7\", \"Topic7\", \"Topic7\", \"Topic7\", \"Topic7\", \"Topic7\", \"Topic7\", \"Topic7\", \"Topic7\", \"Topic7\", \"Topic7\", \"Topic7\", \"Topic7\", \"Topic7\", \"Topic7\", \"Topic7\", \"Topic7\", \"Topic7\", \"Topic7\", \"Topic7\", \"Topic7\", \"Topic7\", \"Topic7\", \"Topic7\", \"Topic7\", \"Topic7\", \"Topic7\", \"Topic7\", \"Topic7\", \"Topic7\", \"Topic7\", \"Topic7\", \"Topic7\", \"Topic7\", \"Topic7\", \"Topic7\", \"Topic7\", \"Topic7\", \"Topic7\", \"Topic7\", \"Topic7\", \"Topic7\", \"Topic7\", \"Topic7\", \"Topic7\", \"Topic7\", \"Topic7\", \"Topic7\", \"Topic7\", \"Topic7\", \"Topic7\", \"Topic7\", \"Topic7\", \"Topic7\", \"Topic7\", \"Topic7\", \"Topic7\", \"Topic7\", \"Topic7\", \"Topic7\", \"Topic7\", \"Topic7\", \"Topic7\", \"Topic7\", \"Topic7\", \"Topic7\", \"Topic7\", \"Topic8\", \"Topic8\", \"Topic8\", \"Topic8\", \"Topic8\", \"Topic8\", \"Topic8\", \"Topic8\", \"Topic8\", \"Topic8\", \"Topic8\", \"Topic8\", \"Topic8\", \"Topic8\", \"Topic8\", \"Topic8\", \"Topic8\", \"Topic8\", \"Topic8\", \"Topic8\", \"Topic8\", \"Topic8\", \"Topic8\", \"Topic8\", \"Topic8\", \"Topic8\", \"Topic8\", \"Topic8\", \"Topic8\", \"Topic8\", \"Topic8\", \"Topic8\", \"Topic8\", \"Topic8\", \"Topic8\", \"Topic8\", \"Topic8\", \"Topic8\", \"Topic8\", \"Topic8\", \"Topic8\", \"Topic8\", \"Topic8\", \"Topic8\", \"Topic8\", \"Topic8\", \"Topic8\", \"Topic8\", \"Topic8\", \"Topic8\", \"Topic8\", \"Topic8\", \"Topic8\", \"Topic8\", \"Topic8\", \"Topic8\", \"Topic8\", \"Topic8\", \"Topic8\", \"Topic8\", \"Topic8\", \"Topic8\", \"Topic8\", \"Topic8\", \"Topic8\", \"Topic9\", \"Topic9\", \"Topic9\", \"Topic9\", \"Topic9\", \"Topic9\", \"Topic9\", \"Topic9\", \"Topic9\", \"Topic9\", \"Topic9\", \"Topic9\", \"Topic9\", \"Topic9\", \"Topic9\", \"Topic9\", \"Topic9\", \"Topic9\", \"Topic9\", \"Topic9\", \"Topic9\", \"Topic9\", \"Topic9\", \"Topic9\", \"Topic9\", \"Topic9\", \"Topic9\", \"Topic9\", \"Topic9\", \"Topic9\", \"Topic9\", \"Topic9\", \"Topic9\", \"Topic9\", \"Topic9\", \"Topic9\", \"Topic9\", \"Topic9\", \"Topic9\", \"Topic9\", \"Topic9\", \"Topic9\", \"Topic10\", \"Topic10\", \"Topic10\", \"Topic10\", \"Topic10\", \"Topic10\", \"Topic10\", \"Topic10\", \"Topic10\", \"Topic10\", \"Topic10\", \"Topic10\", \"Topic10\", \"Topic10\", \"Topic10\", \"Topic10\", \"Topic10\", \"Topic10\", \"Topic10\", \"Topic10\", \"Topic10\", \"Topic10\", \"Topic10\", \"Topic10\", \"Topic10\", \"Topic10\", \"Topic10\", \"Topic10\", \"Topic10\", \"Topic10\", \"Topic10\", \"Topic10\", \"Topic10\", \"Topic10\", \"Topic10\", \"Topic10\", \"Topic10\", \"Topic10\", \"Topic10\", \"Topic10\", \"Topic10\", \"Topic10\", \"Topic10\", \"Topic10\", \"Topic10\", \"Topic10\", \"Topic10\", \"Topic10\"], \"logprob\": [30.0, 29.0, 28.0, 27.0, 26.0, 25.0, 24.0, 23.0, 22.0, 21.0, 20.0, 19.0, 18.0, 17.0, 16.0, 15.0, 14.0, 13.0, 12.0, 11.0, 10.0, 9.0, 8.0, 7.0, 6.0, 5.0, 4.0, 3.0, 2.0, 1.0, -5.5699, -5.8966, -5.9489, -6.0527, -6.1548, -6.2188, -6.2379, -6.2633, -6.3079, -6.3167, -6.3811, -6.4554, -6.46, -6.6025, -6.6214, -6.7308, -6.7538, -6.8742, -6.9607, -7.0265, -7.0923, -7.1462, -7.1466, -7.1466, -7.2213, -7.2659, -7.3484, -7.2986, -7.3616, -7.3999, -5.9562, -7.0359, -6.3534, -5.9477, -6.4233, -5.8027, -6.0687, -4.8918, -5.4508, -5.8044, -5.3748, -5.8835, -4.2921, -4.2349, -5.5648, -5.6058, -5.8139, -6.0368, -5.7737, -4.8274, -5.6735, -4.8599, -5.7039, -5.3081, -4.9977, -5.2872, -5.6673, -5.6356, -5.3189, -5.2146, -5.4164, -5.3694, -5.5112, -5.4214, -5.4034, -5.7235, -5.2726, -5.7036, -5.4463, -5.539, -5.5889, -5.5854, -5.6455, -5.6855, -5.6824, -6.4361, -6.673, -6.5542, -6.4823, -6.8481, -7.4879, -7.5023, -7.5413, -7.1984, -7.6498, -7.6705, -7.686, -7.4867, -7.7946, -7.8145, -7.8584, -7.8642, -7.8871, -7.965, -7.9937, -7.9994, -7.8301, -8.0386, -8.0698, -8.0738, -8.0976, -8.1077, -8.1399, -8.1484, -8.1537, -6.5434, -7.707, -6.6752, -6.2491, -7.5012, -5.7253, -7.0923, -6.3771, -7.5745, -6.0493, -6.3574, -5.7937, -6.5912, -7.2873, -6.7226, -5.9416, -7.0179, -6.1918, -7.1798, -6.7699, -7.225, -6.6855, -5.8208, -6.4541, -6.243, -5.8733, -7.1212, -5.9773, -6.3385, -5.5414, -5.1251, -4.5516, -5.8405, -5.6467, -5.7689, -4.8273, -5.1798, -4.9018, -4.9467, -5.2488, -5.3583, -5.3353, -5.6256, -5.2125, -5.3132, -5.126, -5.022, -5.2862, -5.1443, -5.5474, -5.6417, -5.3295, -5.6998, -5.5819, -5.5545, -5.498, -5.6466, -5.6638, -5.6978, -5.7061, -5.7169, -4.5304, -5.5067, -5.8531, -6.2664, -6.5624, -6.5998, -6.8143, -6.8276, -6.9242, -6.94, -7.116, -7.1301, -7.1793, -7.2179, -7.2777, -7.3191, -7.4275, -7.5136, -7.5838, -7.586, -7.6537, -7.7615, -7.7684, -7.8958, -7.9006, -7.9407, -7.9676, -7.9733, -8.0343, -8.0412, -6.6171, -6.4485, -5.6656, -6.8918, -6.1605, -7.0718, -7.3901, -6.9897, -6.5467, -6.4919, -6.5779, -5.9483, -6.2757, -6.3678, -4.1586, -6.4587, -6.1968, -5.3044, -4.2243, -5.5084, -4.8509, -5.678, -5.0161, -5.6122, -5.3427, -4.8803, -4.6181, -4.8348, -4.6606, -5.1367, -5.1542, -5.5336, -5.8671, -5.8492, -4.8997, -5.073, -5.2457, -4.9754, -5.5408, -5.4187, -5.2136, -5.5906, -5.1405, -5.1456, -5.2545, -5.4095, -5.4546, -5.4975, -5.5503, -5.5327, -4.7858, -6.1446, -7.0902, -7.1252, -7.152, -7.2004, -7.223, -7.2626, -7.267, -7.3653, -7.441, -7.5318, -7.598, -7.6048, -7.6188, -7.6256, -7.679, -7.6835, -7.7792, -7.7854, -7.8085, -7.8257, -7.8346, -7.8166, -7.8466, -7.8896, -7.9163, -7.9415, -7.9482, -7.9853, -5.9916, -6.6346, -4.871, -4.2681, -4.3571, -6.7673, -7.5891, -6.9051, -5.2747, -5.1042, -5.0094, -7.2484, -4.0454, -5.3003, -5.9587, -3.8002, -5.1386, -5.8138, -5.9078, -5.5433, -5.0429, -5.0164, -4.5676, -5.3624, -5.7835, -5.6632, -4.9137, -5.618, -4.7416, -6.1604, -6.2244, -4.6685, -5.5549, -5.6483, -4.7119, -4.3936, -5.2253, -4.7306, -4.8006, -4.4315, -4.8585, -5.3418, -5.3483, -4.5506, -4.7996, -5.1718, -4.7788, -5.1197, -5.2726, -5.2674, -5.1148, -6.1382, -6.7072, -6.9118, -6.9451, -6.9615, -6.9911, -7.0418, -7.231, -7.2917, -7.3123, -7.3443, -7.4186, -7.476, -7.4782, -7.5054, -7.5458, -7.5666, -7.574, -7.6062, -7.6762, -7.708, -7.7192, -7.7207, -7.7311, -7.7384, -7.7414, -7.7654, -7.7617, -7.7967, -6.2281, -3.8173, -5.6887, -4.6897, -7.1245, -6.8616, -5.8954, -6.6946, -6.3194, -5.8471, -5.4297, -6.6595, -5.4434, -4.2549, -5.8267, -6.2061, -4.7926, -5.3582, -5.8052, -6.6008, -5.0205, -5.2941, -4.7069, -4.6675, -5.7381, -5.2326, -5.8724, -5.3901, -5.6828, -5.1787, -6.108, -6.1518, -4.0421, -5.5489, -5.3429, -5.3269, -5.339, -5.2947, -5.0469, -5.4949, -5.3765, -5.0425, -5.47, -5.3356, -5.464, -5.5515, -5.622, -5.5924, -5.1557, -6.15, -6.4188, -6.541, -6.584, -6.5997, -6.6379, -6.6876, -6.7556, -6.6808, -6.8527, -6.8992, -6.9391, -6.954, -7.0398, -7.0505, -7.0987, -7.2299, -7.2953, -7.4493, -7.4513, -7.4849, -7.4947, -7.5023, -7.5464, -5.8331, -7.5711, -7.6605, -7.6621, -7.6723, -6.5972, -6.0511, -5.292, -5.6379, -3.9476, -6.7497, -5.9806, -5.7081, -6.2463, -6.5298, -5.456, -5.9935, -5.8449, -4.1956, -5.1688, -5.2769, -5.9234, -4.9247, -5.1447, -5.964, -4.1662, -5.3109, -5.3024, -4.6598, -4.9683, -5.9471, -4.5127, -5.9455, -3.643, -5.2543, -4.8617, -5.2951, -5.2772, -5.4965, -4.5896, -4.6678, -5.5524, -4.3826, -5.1565, -4.972, -5.13, -5.0772, -5.1221, -5.1932, -5.3405, -5.3071, -4.9746, -5.6052, -5.6082, -5.8475, -6.1041, -6.2779, -6.2748, -6.3764, -6.3763, -6.4768, -5.5558, -6.6743, -6.6705, -6.7155, -6.8532, -6.9755, -7.016, -7.0258, -7.0656, -7.1323, -7.1674, -7.181, -5.7253, -7.2753, -7.2872, -7.3052, -7.3988, -6.8588, -7.5254, -7.5377, -5.2218, -6.1134, -5.6753, -3.9773, -5.7893, -6.3346, -6.3152, -5.9572, -5.8576, -4.3481, -5.6484, -5.7247, -4.6664, -4.8558, -5.7751, -5.6196, -5.873, -5.5879, -4.9462, -4.945, -4.6914, -4.1878, -5.4327, -5.9138, -4.8684, -5.1797, -5.1196, -5.6185, -5.4078, -5.3077, -5.4858, -5.3642, -5.6102, -5.4751, -5.4825, -5.6158, -5.6202, -5.6459, -4.1389, -4.6784, -5.0971, -5.3331, -5.6129, -5.6386, -5.6854, -5.9329, -6.2799, -5.6909, -6.2514, -6.4731, -6.5279, -6.5876, -6.6061, -6.7088, -6.7225, -6.7336, -6.7832, -6.7989, -6.8287, -6.834, -6.837, -6.8833, -6.9093, -6.9754, -7.0162, -7.0189, -7.032, -7.0537, -4.0356, -6.2294, -6.2531, -4.5133, -6.2536, -4.8978, -6.2734, -6.4421, -4.2052, -5.7002, -6.6607, -5.0317, -5.698, -4.4331, -5.6374, -4.6, -4.9099, -4.7404, -4.6441, -4.5149, -4.6442, -5.1061, -5.2549, -4.938, -5.0519, -5.3705, -5.2895, -5.0461, -5.1875, -5.2649, -5.4178, -5.4492, -5.4514, -5.4311, -5.515, -0.1158, -2.8284, -6.9953, -7.1584, -7.3843, -7.4806, -7.8917, -7.8963, -7.9376, -7.2889, -8.0808, -8.1024, -8.1328, -7.3993, -8.1257, -8.1907, -8.2573, -8.2991, -8.3263, -8.3539, -8.3606, -8.4256, -8.431, -8.498, -8.5467, -8.5467, -8.5772, -8.6007, -8.6022, -8.6022, -7.6119, -6.6891, -6.8236, -7.2731, -7.7866, -7.1705, -8.1002, -8.0684, -8.124, -8.0163, -8.0996, -8.2484, -4.2289, -4.4614, -4.6002, -4.6504, -4.9434, -4.9465, -5.0393, -5.187, -5.2719, -5.2809, -5.3109, -4.538, -5.426, -5.4694, -5.5102, -5.4725, -5.5585, -5.5598, -5.577, -5.5813, -5.6105, -5.6291, -5.6714, -5.6783, -5.7037, -5.7042, -5.7151, -5.7188, -5.731, -5.759, -5.1803, -3.3572, -4.6782, -5.0098, -5.0411, -5.4857, -4.5293, -5.1528, -4.8415, -4.9584, -4.8924, -5.0004, -5.1086, -4.3044, -5.3605, -5.2347, -5.4212, -5.4657], \"loglift\": [30.0, 29.0, 28.0, 27.0, 26.0, 25.0, 24.0, 23.0, 22.0, 21.0, 20.0, 19.0, 18.0, 17.0, 16.0, 15.0, 14.0, 13.0, 12.0, 11.0, 10.0, 9.0, 8.0, 7.0, 6.0, 5.0, 4.0, 3.0, 2.0, 1.0, 1.6914, 1.691, 1.6909, 1.6907, 1.6905, 1.6904, 1.6903, 1.6903, 1.6902, 1.6902, 1.69, 1.6898, 1.6898, 1.6893, 1.6893, 1.6889, 1.6888, 1.6883, 1.6879, 1.6876, 1.6873, 1.687, 1.687, 1.687, 1.6865, 1.6863, 1.6857, 1.6857, 1.6856, 1.6854, 1.6752, 1.6792, 1.6491, 1.6269, 1.6196, 1.5384, 1.5261, 1.2672, 1.3248, 1.3824, 1.2575, 1.3819, 0.9312, 0.8388, 1.2282, 1.1481, 1.2121, 1.3207, 1.1366, 0.4189, 1.0396, 0.2994, 1.0453, 0.6344, 0.2383, 0.5146, 0.9509, 0.9096, 0.4763, 0.3084, 0.5773, 0.4772, 0.6346, 0.4158, 0.1477, 1.0064, -0.2822, 0.9208, -0.0199, 0.266, 0.2951, 0.1276, -0.1496, 0.4399, 0.2075, 1.8392, 1.8383, 1.8371, 1.8364, 1.8343, 1.8332, 1.833, 1.8327, 1.8323, 1.8316, 1.8314, 1.8312, 1.8302, 1.8299, 1.8297, 1.8291, 1.829, 1.8287, 1.8276, 1.8271, 1.8271, 1.8265, 1.8264, 1.826, 1.8259, 1.8255, 1.8253, 1.8248, 1.8247, 1.8246, 1.8212, 1.8217, 1.8108, 1.7934, 1.8179, 1.71, 1.7785, 1.7298, 1.8015, 1.6829, 1.6855, 1.6131, 1.693, 1.762, 1.6841, 1.5596, 1.7172, 1.5825, 1.7326, 1.6492, 1.7364, 1.6067, 1.3793, 1.5383, 1.4619, 1.3096, 1.7073, 1.316, 1.4414, 1.1597, 0.8375, 0.4387, 1.1053, 0.975, 1.0282, 0.4189, 0.5703, 0.3342, 0.2765, 0.5091, 0.5095, 0.4696, 0.7474, 0.2834, 0.3908, -0.0523, -0.2026, 0.1402, -0.1862, 0.3951, 0.5284, -0.1702, 0.4459, 0.0693, -0.0481, -0.2511, -0.1943, -0.1408, -0.1466, 0.0069, 0.1203, 1.9132, 1.9124, 1.9118, 1.9108, 1.9098, 1.9097, 1.9087, 1.9087, 1.9081, 1.908, 1.907, 1.9069, 1.9065, 1.9062, 1.9058, 1.9053, 1.9045, 1.9036, 1.9029, 1.9029, 1.9021, 1.9008, 1.9007, 1.899, 1.8989, 1.8983, 1.8979, 1.8978, 1.8968, 1.8967, 1.8951, 1.858, 1.8234, 1.8591, 1.7949, 1.84, 1.8526, 1.8083, 1.744, 1.7253, 1.717, 1.5843, 1.6425, 1.645, 1.0883, 1.6591, 1.5337, 1.1813, 0.7337, 1.2158, 0.8621, 1.2073, 0.814, 1.1104, 0.9347, 0.6426, 0.4557, 0.5916, 0.3297, 0.6651, 0.6508, 0.9387, 1.1989, 1.1747, 0.2596, 0.4228, 0.5705, 0.2708, 0.8554, 0.7066, 0.4376, 0.8367, 0.0955, 0.0776, 0.252, 0.3263, 0.4294, 0.3397, 0.6921, 0.2626, 2.3464, 2.345, 2.3387, 2.3384, 2.3381, 2.3376, 2.3373, 2.3368, 2.3368, 2.3355, 2.3345, 2.3331, 2.332, 2.3319, 2.3316, 2.3315, 2.3306, 2.3305, 2.3285, 2.3285, 2.328, 2.3277, 2.3275, 2.3275, 2.3272, 2.3263, 2.3257, 2.3251, 2.3249, 2.324, 2.3211, 2.2838, 2.1846, 2.085, 2.0748, 2.2508, 2.3034, 2.2341, 2.0331, 1.999, 1.9695, 2.2577, 1.7793, 1.9496, 2.0432, 1.652, 1.8688, 1.977, 1.9741, 1.8775, 1.7405, 1.7078, 1.5491, 1.762, 1.8842, 1.8171, 1.544, 1.7792, 1.4344, 1.957, 1.9814, 1.3004, 1.6885, 1.7141, 1.1043, 0.7657, 1.3771, 0.9206, 0.9352, 0.5589, 0.9185, 1.4439, 1.449, 0.4075, 0.7069, 1.0617, 0.0405, 0.4315, 0.7212, 0.6224, 2.3615, 2.3589, 2.3559, 2.3543, 2.354, 2.3539, 2.3536, 2.3531, 2.3511, 2.3503, 2.3501, 2.3497, 2.3486, 2.3478, 2.3478, 2.3473, 2.3465, 2.3462, 2.3462, 2.3457, 2.3445, 2.3439, 2.3437, 2.3436, 2.3434, 2.3433, 2.3432, 2.3428, 2.3426, 2.3421, 2.3271, 2.2733, 2.3074, 2.2589, 2.3299, 2.3213, 2.2801, 2.3092, 2.2905, 2.2619, 2.1451, 2.2568, 2.1279, 1.9585, 2.1241, 2.1726, 1.8958, 1.9737, 2.0421, 2.204, 1.8142, 1.8573, 1.6743, 1.6454, 1.9389, 1.7451, 1.9611, 1.7489, 1.8546, 1.6346, 2.0201, 2.0281, 0.7772, 1.6659, 1.4543, 1.4393, 1.3621, 1.3077, 0.7111, 1.373, 1.1547, 0.5086, 1.3269, 0.9374, 1.1331, 0.901, 1.1005, 0.1846, 2.4468, 2.4432, 2.4429, 2.4422, 2.4419, 2.4418, 2.4415, 2.4412, 2.4406, 2.44, 2.4398, 2.4392, 2.439, 2.4388, 2.438, 2.4379, 2.4373, 2.4357, 2.4349, 2.4326, 2.4325, 2.432, 2.4318, 2.4317, 2.4309, 2.4303, 2.4289, 2.4288, 2.4288, 2.4285, 2.427, 2.4185, 2.3926, 2.3726, 2.2962, 2.4027, 2.363, 2.332, 2.3612, 2.3733, 2.2883, 2.3292, 2.3062, 2.1304, 2.1997, 2.2044, 2.2617, 2.0693, 2.0985, 2.2443, 1.7017, 1.9985, 1.9922, 1.7675, 1.8174, 2.1822, 1.5989, 2.1798, 1.1763, 1.8465, 1.6475, 1.8402, 1.7609, 1.8963, 1.1145, 1.0901, 1.9028, 0.5754, 1.3748, 0.9794, 1.1036, 0.6998, 0.3043, -0.0339, 0.2107, -0.3168, 2.4529, 2.4517, 2.4517, 2.451, 2.4493, 2.4492, 2.449, 2.4487, 2.4487, 2.4481, 2.4478, 2.4467, 2.4465, 2.4464, 2.4453, 2.4441, 2.4437, 2.4436, 2.4431, 2.4424, 2.4419, 2.4418, 2.4408, 2.4405, 2.4404, 2.4401, 2.4387, 2.4378, 2.4367, 2.4364, 2.432, 2.4318, 2.4252, 2.3757, 2.3995, 2.4137, 2.3989, 2.3515, 2.3281, 2.1663, 2.2758, 2.2849, 2.0923, 2.111, 2.2319, 2.1682, 2.2342, 2.1444, 1.672, 1.4485, 1.1926, 0.6315, 1.6054, 1.9928, 0.3548, 0.5782, 0.1164, 1.243, 0.5611, -0.3496, 0.3515, -0.3739, 0.9577, -0.3158, -0.4088, 0.8115, 0.5256, 0.1311, 2.4605, 2.4601, 2.4595, 2.4591, 2.4585, 2.4584, 2.4583, 2.4575, 2.456, 2.4559, 2.4555, 2.4549, 2.4545, 2.4541, 2.454, 2.4532, 2.4531, 2.453, 2.4526, 2.4525, 2.4522, 2.4522, 2.4522, 2.4518, 2.4515, 2.4509, 2.4504, 2.4504, 2.4503, 2.45, 2.4281, 2.4293, 2.4168, 2.3226, 2.4086, 2.1525, 2.2882, 2.3205, 1.5449, 2.0163, 2.3833, 1.4619, 1.8074, 0.8138, 1.6834, 0.9065, 0.9203, 0.7554, 0.6021, 0.4431, 0.3461, 0.8477, 0.8566, 0.298, 0.3746, 0.7675, 0.557, 0.0276, 0.3355, 0.1874, 0.384, 0.367, 0.2617, -0.2718, 0.3222, 2.8367, 2.8365, 2.8218, 2.8192, 2.8148, 2.8126, 2.8006, 2.8004, 2.7989, 2.7963, 2.7932, 2.7923, 2.791, 2.7906, 2.7902, 2.7883, 2.785, 2.7829, 2.7814, 2.7799, 2.7796, 2.7759, 2.7755, 2.7714, 2.7682, 2.7682, 2.7662, 2.7645, 2.7645, 2.7645, 2.7421, 2.4762, 2.4739, 2.5118, 2.5578, 1.6791, 2.2966, 1.9873, 2.1071, 1.4799, 0.8496, -1.8358, 5.4774, 5.4737, 5.4712, 5.4702, 5.463, 5.463, 5.4602, 5.4554, 5.4522, 5.4519, 5.4507, 5.4474, 5.4459, 5.4439, 5.442, 5.4402, 5.4396, 5.4395, 5.4386, 5.4384, 5.4369, 5.4359, 5.4336, 5.4332, 5.4317, 5.4317, 5.4311, 5.4309, 5.4301, 5.4284, 5.4131, 5.2868, 5.313, 5.3343, 5.3187, 5.3932, 5.0021, 4.9029, 4.5365, 4.5155, 4.2729, 4.4427, 4.1889, 1.3468, 4.5821, 2.7002, 2.3629, 3.816]}, \"token.table\": {\"Topic\": [1, 9, 10, 1, 2, 3, 4, 5, 6, 7, 2, 3, 8, 6, 5, 4, 1, 2, 3, 4, 5, 6, 8, 1, 2, 5, 7, 10, 1, 2, 3, 4, 5, 6, 7, 8, 7, 5, 3, 2, 4, 5, 6, 7, 1, 2, 3, 4, 5, 6, 8, 1, 1, 4, 5, 7, 1, 2, 5, 6, 7, 8, 5, 1, 3, 1, 2, 3, 4, 5, 6, 7, 8, 5, 9, 1, 1, 2, 2, 2, 3, 4, 5, 6, 7, 8, 9, 3, 1, 2, 3, 4, 5, 6, 7, 8, 7, 8, 1, 2, 4, 5, 6, 7, 8, 8, 4, 1, 4, 7, 9, 7, 3, 1, 2, 1, 2, 3, 4, 6, 7, 8, 4, 4, 10, 9, 10, 9, 10, 9, 1, 3, 3, 9, 5, 6, 1, 2, 3, 4, 5, 6, 7, 8, 10, 9, 10, 3, 4, 8, 1, 2, 3, 4, 5, 6, 7, 8, 1, 3, 2, 3, 4, 6, 2, 3, 4, 6, 7, 9, 9, 4, 6, 10, 6, 5, 3, 2, 3, 4, 6, 7, 8, 1, 2, 3, 4, 5, 6, 7, 8, 4, 1, 1, 2, 3, 5, 6, 7, 8, 4, 6, 1, 5, 8, 10, 4, 8, 10, 2, 1, 2, 3, 5, 6, 4, 6, 7, 4, 1, 1, 1, 1, 7, 1, 2, 3, 4, 5, 6, 7, 8, 7, 7, 4, 4, 8, 1, 2, 4, 5, 6, 7, 1, 2, 3, 4, 5, 6, 1, 2, 3, 4, 5, 6, 7, 8, 2, 6, 2, 3, 4, 5, 7, 4, 5, 8, 5, 1, 3, 5, 2, 3, 4, 5, 6, 7, 1, 2, 3, 4, 5, 6, 7, 6, 7, 7, 1, 2, 3, 4, 5, 6, 7, 8, 4, 6, 10, 2, 3, 4, 5, 6, 7, 8, 7, 6, 2, 3, 8, 10, 2, 1, 2, 7, 1, 3, 7, 7, 7, 5, 1, 2, 3, 4, 5, 6, 8, 10, 2, 4, 5, 6, 7, 1, 2, 3, 4, 5, 6, 7, 8, 4, 4, 5, 6, 7, 4, 2, 5, 6, 10, 2, 4, 5, 6, 7, 1, 4, 5, 6, 10, 1, 2, 3, 4, 5, 6, 7, 8, 1, 3, 3, 7, 2, 3, 4, 6, 7, 3, 4, 6, 7, 1, 2, 3, 7, 8, 1, 2, 5, 10, 2, 3, 4, 5, 6, 7, 8, 10, 9, 10, 4, 5, 6, 7, 7, 2, 3, 5, 2, 3, 4, 2, 3, 4, 5, 6, 5, 7, 6, 1, 2, 3, 4, 5, 6, 7, 8, 1, 2, 7, 1, 3, 7, 8, 9, 10, 4, 1, 2, 4, 5, 6, 7, 8, 1, 2, 4, 7, 4, 9, 1, 2, 3, 5, 6, 7, 8, 1, 3, 8, 1, 4, 5, 6, 2, 3, 4, 5, 6, 7, 4, 5, 6, 7, 9, 2, 7, 7, 4, 1, 4, 5, 6, 7, 10, 5, 1, 2, 3, 4, 5, 6, 7, 8, 1, 3, 7, 8, 3, 7, 1, 2, 3, 4, 5, 6, 7, 8, 2, 4, 3, 4, 6, 8, 1, 2, 3, 4, 5, 6, 7, 8, 4, 5, 6, 1, 2, 3, 8, 1, 3, 9, 4, 5, 6, 4, 4, 9, 10, 4, 5, 1, 3, 4, 5, 7, 8, 1, 2, 3, 5, 6, 7, 5, 2, 7, 8, 4, 5, 6, 8, 8, 1, 1, 2, 3, 4, 5, 6, 7, 8, 4, 5, 1, 2, 3, 4, 5, 6, 7, 8, 9, 9, 9, 3, 1, 2, 3, 4, 5, 6, 7, 8, 9, 10, 2, 5, 7, 8, 1, 10, 1, 2, 3, 4, 5, 6, 7, 8, 8, 1, 2, 3, 7, 9, 10, 4, 5, 5, 1, 4, 3, 7, 8, 7, 1, 2, 3, 5, 6, 7, 8, 1, 2, 3, 6, 7, 8, 6, 6, 2, 3, 5, 7, 8, 3, 1, 2, 3, 4, 5, 6, 7, 8, 2, 10, 1, 2, 3, 4, 5, 6, 7, 8, 1, 3, 5, 6, 7, 8, 8, 8, 3, 1, 2, 3, 4, 5, 6, 7, 8, 4, 2, 3, 5, 8, 4, 5, 6, 4, 2, 1, 2, 3, 4, 5, 6, 7, 8, 2, 1, 4, 5, 6, 5, 1, 2, 3, 4, 5, 6, 7, 8, 1, 2, 3, 5, 6, 7, 8, 1, 5, 6, 2, 3, 4, 5, 6, 8, 1, 2, 4, 5, 6, 7, 8, 7, 8, 9, 3, 4, 5, 6, 7, 5, 6, 7, 8, 1, 2, 3, 4, 5, 7, 8, 3, 4, 5, 6, 7, 8, 6, 2, 8, 8, 1, 1, 2, 3, 4, 5, 7, 8, 1, 2, 4, 5, 7, 8, 1, 3, 5, 6, 1, 2, 3, 4, 5, 6, 7, 8, 3, 4, 5, 6, 7, 8, 7, 4, 6, 2, 3, 4, 5, 6, 7, 8, 10, 1, 2, 3, 7, 1, 2, 3, 4, 5, 6, 7, 8, 3, 3, 1, 2, 3, 4, 5, 6, 7, 8, 5, 2, 4, 5, 1, 2, 3, 7, 7, 10, 8, 7, 8, 1, 2, 3, 4, 5, 6, 7, 8, 3, 7, 1, 2, 4, 5, 1, 2, 3, 4, 7, 8, 1, 2, 3, 4, 5, 6, 7, 1, 2, 3, 4, 5, 6, 7, 8, 1, 2, 3, 7, 8, 2, 6, 7, 10, 5, 1, 2, 3, 4, 5, 6, 7, 8, 1, 2, 3, 4, 5, 6, 7, 8, 9, 10, 1, 2, 3, 4, 6, 7, 8, 10, 2, 3, 4, 5, 6, 7, 1, 2, 3, 4, 5, 6, 7, 8, 1, 2, 3, 4, 5, 6, 7, 8, 1, 2, 3, 4, 5, 7, 8, 1, 2, 3, 4, 5, 6, 7, 8, 2, 4, 10, 1, 9, 4, 10, 6, 9, 10, 1, 2, 3, 4, 5, 6, 7, 8, 2, 3, 4, 8, 2, 3, 4, 5, 1, 2, 4, 6, 8, 3, 2, 4, 6, 9, 3, 7, 2, 4, 5, 6, 1, 2, 3, 4, 7, 8, 2, 5, 10, 2, 5, 6, 3, 2, 6, 9, 10, 3, 9, 2, 8, 1, 2, 3, 4, 5, 6, 7, 8, 1, 9, 1, 2, 3, 4, 5, 6, 7, 8, 10, 1, 10, 1, 2, 3, 4, 5, 6, 7, 8, 1, 2, 3, 4, 6, 7, 8, 1, 2, 3, 4, 5, 6, 7, 8, 5, 3, 6, 7, 8, 10, 8, 1, 2, 3, 4, 6, 7, 8, 10, 7, 1, 2, 3, 4, 5, 6, 7, 8, 10, 1, 2, 2, 3, 5, 8, 1, 2, 3, 4, 5, 7, 8, 2, 3, 7, 2, 4, 5, 9, 5, 6, 1, 2, 3, 4, 5, 6, 7, 8, 9, 10, 3, 7, 2, 3, 4, 5, 6, 1, 3, 7, 5, 3, 8, 8, 1, 2, 3, 4, 5, 6, 7, 8, 5, 7, 8, 2, 3, 4, 5, 6, 7, 2, 3, 6, 4, 10, 8, 8, 6, 4, 9, 10, 9, 10, 5, 1, 2, 5, 8, 1, 2, 3, 4, 5, 6, 7, 8, 8, 8, 9, 9, 9, 1, 2, 3, 4, 5, 6, 7, 8, 3, 7, 1, 2, 1, 2, 3, 4, 5, 6, 7, 8, 4, 5, 8, 4, 1, 5, 8, 9, 10, 1, 1, 2, 3, 4, 7, 4, 5, 5, 5, 7, 2, 3, 5, 7, 2, 2, 3, 4, 5, 1, 2, 3, 4, 5, 6, 7, 8, 2, 4, 5, 2, 3, 1, 2, 4, 5, 6, 7, 8, 10, 1, 3, 6, 7, 1, 2, 3, 4, 5, 6, 7, 8, 5, 1, 2, 3, 4, 5, 7, 5, 8, 1, 2, 3, 6, 8, 1, 2, 3, 4, 7, 9, 9, 10, 10, 9, 6, 10, 1, 2, 3, 4, 5, 6, 7, 8, 2, 10, 3, 4, 6, 8, 2, 3, 4, 5, 6, 8, 1, 2, 3, 4, 5, 6, 7, 8, 3, 1, 2, 3, 4, 5, 6, 7, 8, 10, 1, 1, 1, 2, 3, 4, 5, 6, 7, 8, 1, 2, 4, 5, 7, 2, 2, 6, 1, 2, 5, 6, 7, 1, 3, 3, 3, 1, 2, 3, 4, 5, 6, 7, 8, 5, 7, 9, 10, 9, 10, 1, 3, 5, 8, 2, 7, 1, 2, 3, 4, 5, 6, 7, 8, 1, 2, 3, 4, 5, 6, 7, 8, 4, 7, 1, 2, 3, 4, 5, 6, 7, 8, 4, 8, 2, 1, 2, 4, 5, 2, 5, 1, 2, 5, 8, 8, 4, 5, 6, 1, 6, 8, 7, 1, 5, 7, 8, 1, 5, 7, 8, 1, 7, 1, 5, 7, 1, 2, 3, 4, 5, 6, 7, 8, 1, 2, 3, 4, 5, 6, 7, 8, 2, 2, 3, 4, 7, 8, 1, 2, 3, 4, 5, 6, 7, 8, 2, 5, 1, 4, 5, 6, 7, 7, 6, 4, 5, 6, 1, 2, 3, 4, 5, 6, 7, 8, 8, 4, 5, 1, 3, 7, 8, 3, 6, 1, 1, 2, 3, 4, 5, 7, 8, 2, 9, 10, 2, 6, 4, 5, 6, 7, 1, 1, 2, 3, 4, 5, 6, 7, 8, 5, 2, 3, 4, 10, 2, 3, 4, 5, 5, 2, 2, 5, 2, 2, 3, 4, 5, 6, 7, 8, 10, 1, 2, 3, 4, 7, 8, 4, 4, 8, 1, 2, 3, 4, 5, 6, 7, 8, 5, 8, 1, 2, 3, 4, 5, 6, 7, 8, 4, 10, 1, 2, 5, 6, 1, 2, 5, 8, 3, 5, 6, 4, 1, 2, 4, 5, 6, 7, 8, 1, 2, 3, 4, 5, 6, 7, 8, 8, 3, 6, 9, 8, 1, 2, 3, 4, 5, 6, 7, 8, 10, 1, 2, 3, 4, 5, 6, 7, 8, 1, 2, 5, 7, 1, 2, 3, 4, 5, 6, 7, 8, 1, 2, 3, 4, 6, 7, 8, 5, 1, 2, 3, 4, 5, 6, 7, 8, 3, 2, 3, 4, 5, 9, 10, 4, 5, 10, 9, 1, 2, 3, 3, 7, 1, 2, 3, 4, 5, 6, 7, 8, 1, 2, 3, 4, 7, 1, 2, 3, 4, 5, 6, 7, 8, 1, 1, 1, 2, 3, 5, 6, 7, 8, 10, 9, 10, 6, 10, 1, 2, 3, 4, 5, 6, 7, 8, 9, 10, 1, 2, 3, 4, 5, 6, 7, 8, 2, 3, 4, 5, 6, 7, 5, 1, 2, 3, 4, 5, 6, 7, 8, 4, 1, 3, 4, 5, 6, 7, 2, 3, 4, 5, 6, 7, 8, 10, 4, 5, 1, 3, 9, 5, 6, 1, 2, 3, 4, 5, 6, 7, 8, 1, 2, 3, 7, 1, 2, 3, 1, 2, 3, 4, 5, 6, 7, 8, 1, 3, 7, 1, 2, 3, 4, 5, 6, 7, 8, 7, 6, 2, 3, 7, 5, 6, 6, 2, 4, 5, 6, 8, 3, 4, 5, 6, 6, 2, 3, 8, 3, 5, 6, 7, 6, 3, 9, 10, 9, 1, 2, 3, 4, 5, 6, 7, 8, 1, 2, 3, 4, 5, 6, 7, 8, 1, 2, 3, 4, 5, 6, 7, 8, 1, 6, 1, 2, 3, 4, 5, 7, 8, 10], \"Freq\": [0.15478680948194706, 0.02579780158032451, 0.8152105299382545, 0.6897954257620058, 0.08408663247925277, 0.008551182963991807, 0.1054645898892323, 0.04418111198062434, 0.03705512617729783, 0.03135433753463663, 0.09027486523118085, 0.9027486523118085, 0.00601832434874539, 0.9746139633810319, 0.9888120469521703, 0.9767707221601504, 0.054952835644470684, 0.028575474535124754, 0.028575474535124754, 0.6902076156945518, 0.03516981481246124, 0.1538679398045179, 0.00879245370311531, 0.022137689168613618, 0.003689614861435603, 0.07010268236727646, 0.9039556410517228, 0.9757334043835861, 0.2132584206939567, 0.13671011820556608, 0.11119401737610256, 0.1470101956046156, 0.15660799499918446, 0.10674625668105846, 0.052904943004208796, 0.07537783914758953, 0.9906869456130409, 0.9963593824354628, 0.9948054406194122, 0.013916579107267952, 0.03827059254498687, 0.6030517613149445, 0.34211590305367046, 0.0011597149256056627, 0.07945554970349716, 0.05537811039940711, 0.002407743930409005, 0.6862070201665664, 0.016854207512863036, 0.11316396472922323, 0.04333939074736209, 0.9976833928283116, 0.03957215494079833, 0.007914430988159665, 0.8270580382626851, 0.12663089581055464, 0.7330784554440268, 0.16117327743804846, 0.04419267284591651, 0.00909849146827693, 0.022096336422958256, 0.02859525890029892, 0.9910952895901839, 0.8566808520844342, 0.14161172841330255, 0.13881606426077303, 0.24570042557801888, 0.20508436827746546, 0.16687320910655007, 0.0008016327098793438, 0.06292816772552849, 0.059187215079424885, 0.12064572283684125, 0.9904770440183898, 0.9423573805489722, 0.9954878249482348, 0.9979448299621267, 0.9875030291229294, 0.9922107937500039, 0.02627676604742634, 0.00145982033596813, 0.23722080459482112, 0.6269928342983119, 0.01167856268774504, 0.08685930999010373, 0.009488832183792845, 0.9999764780570866, 0.9956031574016319, 0.10550293346262353, 0.07093135074605762, 0.48102184917704627, 0.0530494976167994, 0.010133050106579661, 0.08702501856239003, 0.051857374074848854, 0.1406705779501647, 0.946401872598557, 0.04981062487360826, 0.1940973336181897, 0.294544591871961, 0.08987386264811119, 0.2832159537230394, 0.023412518841104592, 0.01586009340849021, 0.098181530623987, 0.9979417554869274, 0.9690456317395691, 0.01693185286516582, 0.8889222754212056, 0.07619333789324619, 0.00846592643258291, 0.989230823205412, 0.9856190602352741, 0.9820383726595726, 0.01499295225434462, 0.6534570507985484, 0.12725216252392785, 0.03482238231229107, 0.018915861996800086, 0.02837379299520013, 0.0662055169888003, 0.0705045765335276, 0.9872858756570582, 0.9796990791745956, 0.9582942180905736, 0.5954977917899191, 0.38707356466344744, 0.9441438363131278, 0.024208816315721228, 0.9796863906154148, 0.9981543676667953, 0.9988945576022266, 0.9784138495871142, 0.9332814597682153, 0.993419612282754, 0.99225902118388, 0.03710522116474923, 0.06802623880204026, 0.054533431105767805, 0.025861214751188855, 0.08657884938441486, 0.5059802886102167, 0.1933969103132384, 0.026985615392544893, 0.0016866009620340558, 0.4233529279165864, 0.5503588062915623, 0.9951528831706532, 0.9905305305755123, 0.9915615638268124, 0.004367311078316667, 0.16333743432904335, 0.17905975421098336, 0.11355008803623334, 0.37122144165691673, 0.09520738150730335, 0.05415465737112667, 0.017469244313266668, 0.15219458348063158, 0.844317570261599, 0.015357578101794835, 0.21807760904548668, 0.0030715156203589672, 0.7648073894693829, 0.04575551301985958, 0.27373034982056343, 0.5442497864467508, 0.06502099218611625, 0.07064009027627444, 0.9319727536400997, 0.9592298096960911, 0.9948276121418237, 0.9888411544303305, 0.9619751184151725, 0.9945088672316568, 0.9811376410403576, 0.999527986191716, 0.0008045839325221693, 0.03459710909845328, 0.40470571805865113, 0.5318299793971539, 0.015287094717921217, 0.012873342920354709, 0.16933402639093129, 0.33440807727517247, 0.08999198257882826, 0.01970238671844169, 0.08999198257882826, 0.089459485640492, 0.17146401414427634, 0.03620979180686581, 0.9953400528593588, 0.996088972413332, 0.18413052731764615, 0.47873937102588, 0.2096255234077818, 0.001888518228898935, 0.11142257550503716, 0.001888518228898935, 0.012275368487843077, 0.9925715992302963, 0.9859806415085136, 0.32137918702968843, 0.09452329030284953, 0.17014192254512917, 0.39699781927196803, 0.9734687905291202, 0.987276949318441, 0.9482262825912702, 0.9818597107177384, 0.6189542376301184, 0.20154377655063357, 0.16880570117185045, 0.007161453989108808, 0.0030691945667609176, 0.06834102432218016, 0.5022029817614754, 0.4276491370463698, 0.9745674299313644, 0.9986916744099396, 0.9945816938875627, 0.9980189767968675, 0.19647602544523918, 0.7995482702146538, 0.6921082652685943, 0.1975176637360315, 0.005575095347387986, 0.006371537539871984, 0.004778653154903988, 0.015132401657195961, 0.05176874251145987, 0.026282592351971935, 0.9981374452797547, 0.9982307014536087, 0.9931878380511873, 0.9712308164121226, 0.9933733538186276, 0.017298615117176556, 0.013591769020638723, 0.04077530706191617, 0.49795299230158235, 0.1643368436131773, 0.2644216882196988, 0.001271278752774568, 0.017797902538843953, 0.016526623786069384, 0.09407462770531803, 0.16526623786069383, 0.7042884290371106, 0.30800268898471206, 0.07730145612213965, 0.28694781766739774, 0.07639910449425474, 0.0006015677519232657, 0.07820380775002454, 0.04752385240193799, 0.1254268762760009, 0.9923968781521108, 0.9888830654324121, 0.1260343795737928, 0.07733927837482739, 0.529917277753447, 0.0544239366341378, 0.2105347022425857, 0.0283261555854149, 0.9630892899041066, 0.004721025930902484, 0.9937880685678759, 0.011482787518635684, 0.9473299702874439, 0.03444836255590705, 0.014373930375174985, 0.022695679539749974, 0.5265397653221995, 0.13163494133054987, 0.1997219799497998, 0.10515664853417489, 0.021585193635481004, 0.012334396363132003, 0.009250797272349003, 0.027752391817047004, 0.14184555817601802, 0.7647325745141842, 0.018501594544698005, 0.9885926520532576, 0.9942736325711039, 0.9885502388589835, 0.12113829430644675, 0.1296691601026754, 0.008530865796228644, 0.01535555843321156, 0.6022791252137423, 0.04947902161812614, 0.054597541095863324, 0.017061731592457288, 0.10850956711807035, 0.8867850829994025, 0.9500138671583677, 0.5864723670867836, 0.11011317912649814, 0.27767671257986487, 0.0011968823818097624, 0.0011968823818097624, 0.0191501181089562, 0.0035906471454292873, 0.9871666815198615, 0.9954759483286039, 0.3904906820856755, 0.3612038809292498, 0.058573602312851324, 0.18548307399069586, 0.9931104906228606, 0.23888870695082465, 0.008766558053241271, 0.7517323530654391, 0.15685719527971656, 0.03921429881992914, 0.8023848835462424, 0.9922948207252161, 0.9959139166501217, 0.9776526944793729, 0.1790360094309551, 0.12663522618287068, 0.44322329164004737, 0.024017025655372025, 0.05895088115409497, 0.07860117487212663, 0.043667319373403686, 0.043667319373403686, 0.10255008738648352, 0.011578235672667494, 0.4829778309169869, 0.2315647134533499, 0.17119248458872652, 0.2506997582046155, 0.11325046992254831, 0.3755656609397328, 0.05323740039094151, 0.04307389667994359, 0.010647480078188302, 0.032426416601755284, 0.12099409179759435, 0.9691332268765596, 0.04871523441793905, 0.014143132572950046, 0.5798684354909519, 0.35672123267329564, 0.991659170224074, 0.9888082952350848, 0.9035298884868723, 0.0936770118498095, 0.943413954100004, 0.9955646772640777, 0.12969371834832913, 0.05620061128427596, 0.7796033514049563, 0.033143950244573, 0.032599044751701084, 0.0040748805939626355, 0.3259904475170109, 0.637039666189492, 0.9338899131910753, 0.11288893027534662, 0.1629261858568516, 0.09153156508811888, 0.08298861901322778, 0.03661262603524755, 0.4485046689317825, 0.00976336694273268, 0.05430872861895054, 0.9916276636579101, 0.995062590182035, 0.828293238525807, 0.1683522842532128, 0.013717091181406125, 0.2540202070630764, 0.003556282898883069, 0.7275138730286508, 0.0010160808282523054, 0.16846084840766049, 0.14368719423006335, 0.6847438014687847, 0.0029728385013116556, 0.018656820474376078, 0.8519948016631741, 0.008291920210833812, 0.11815986300438182, 0.002072980052708453, 0.2501573224054373, 0.6838978410922842, 0.05648713731735681, 0.008069591045336687, 0.1207888014774147, 0.13546407642326883, 0.5554027133354023, 0.04967016135519857, 0.022577346070544804, 0.027092815284653765, 0.08466504776454302, 0.0033866019105817206, 0.695150349506748, 0.2954388985403679, 0.6841829007411946, 0.3084191107478138, 0.0058560590648319075, 0.9970464766128383, 0.9981911240980439, 0.9386035765938481, 0.03236564057220166, 0.02589251245776133, 0.06737555085042243, 0.8888389977574959, 0.0414618774464138, 0.10316101826848136, 0.1004462546298371, 0.7357009460725907, 0.04886574549559643, 0.008144290915932738, 0.9982853679264004, 0.9932635980899265, 0.9842362847549952, 0.2789040911109453, 0.17856094324756608, 0.20723041406567444, 0.009037115801360239, 0.012776611995026544, 0.073543425142104, 0.12215687565976598, 0.11779413010048863, 0.7329250693263996, 0.23549723539012182, 0.03123942918440392, 0.09678038773198826, 0.39921909939445155, 0.15726813006448093, 0.024195096932997064, 0.2540485177964692, 0.07258529079899119, 0.9803696707240824, 0.5732166135993327, 0.19593254677878624, 0.012758398394897709, 0.08930878876428397, 0.08110696122470687, 0.04647702272427023, 0.000911314171064122, 0.9561368760595912, 0.005432595886702222, 0.002716297943351111, 0.03531187326356445, 0.9908211990610039, 0.9652748105785289, 0.4573111403239258, 0.2681879993047642, 0.07843233941931783, 0.0012650377325696426, 0.022138160319968746, 0.1372565939838062, 0.035421056511949996, 0.9992392356304761, 0.003138074603178185, 0.9947696492074847, 0.06193844397601498, 0.25234180879117213, 0.6698528015183842, 0.013764098661336661, 0.046790594064239514, 0.3069919464214739, 0.052496764072073605, 0.047931828065806335, 0.544368618747372, 0.0011412340015668175, 0.6277376997061241, 0.21961102187861312, 0.11855108260703894, 0.013604222594250369, 0.01749114333546476, 0.01869694508669276, 0.9769153807796968, 0.9914220217900409, 0.9772901423992698, 0.00040150019891961564, 0.0036135017902765407, 0.9142159529399648, 0.0666490330206562, 0.010439005171910007, 0.004416502188115772, 0.9925823817269734, 0.22630176715199968, 0.165867042687605, 0.1392626259396921, 0.17801967749838002, 0.11824185221294614, 0.10149092314944544, 0.04007084991660952, 0.030874261411158156, 0.06501988203710628, 0.9135293426213431, 0.01625497050927657, 0.003250994101855314, 0.005438645535521614, 0.9925528102326945, 0.20484159942597105, 0.19048517963714232, 0.17998048223068225, 0.01085485398667539, 0.08613851873297244, 0.06022693179703764, 0.06793037656177502, 0.1992390941425257, 0.9918700774884341, 0.00536145987831586, 0.9910782525507702, 0.015091937694587037, 0.9809759501481573, 0.9942178164582591, 0.3707066917084247, 0.05361698651459331, 0.01383664168118537, 0.10896355323933479, 0.23176374815985495, 0.10665744629247056, 0.06111183409190205, 0.053040459777877254, 0.0619495376142035, 0.10759656532993239, 0.82816750284251, 0.07071578606707253, 0.8542466956902361, 0.06788715462438963, 0.005657262885365803, 0.051538241800705514, 0.9460948673415226, 0.9506768315248373, 0.02647406540128324, 0.7906920866516595, 0.1817885824221449, 0.983822700409227, 0.9889432077916354, 0.9789696301696821, 0.9701409816470833, 0.023204211802451715, 0.9629747898017462, 0.06037752201597613, 0.7629523236564256, 0.04116649228362009, 0.01921102973235604, 0.030188761007988067, 0.08233298456724018, 0.04511818216379446, 0.06081146291641862, 0.0019616600940780197, 0.6551944714220587, 0.1883193690314899, 0.0490415023519505, 0.9909019002227734, 0.79113580912891, 0.1850822305760294, 0.025403443412396195, 0.02856980390143194, 0.0029152861123910145, 0.0005830572224782029, 0.9672919320913386, 0.9960509868659176, 0.994031739470056, 0.04139653174047052, 0.13156335243768288, 0.30723988401130464, 0.14346485531306816, 0.029236300541707304, 0.15355525992480784, 0.06054242767043814, 0.13298635821626154, 0.13935922271706833, 0.8543326262220275, 0.296614810162813, 0.15475555312842418, 0.0968794926088509, 0.07297416326380977, 0.07265961945663818, 0.07297416326380977, 0.08429774032198716, 0.1490937645993355, 0.9596261880237865, 0.9663860588651095, 0.9581690325457589, 0.9888059660392597, 0.11414186508628485, 0.1232939359630974, 0.43809063800893294, 0.03557220001176199, 0.002072166990976427, 0.05974748157315364, 0.03280931069046009, 0.19253884957822634, 0.0010360834954882135, 0.0006907223303254757, 0.31022218056055145, 0.020409353984246807, 0.02653216017952085, 0.6408537151053497, 0.9984753022811564, 0.9481759329465907, 0.14125560820182456, 0.1511054445899074, 0.1898332103885059, 0.19363882899299245, 0.047458302597126474, 0.016117914089590124, 0.04947304185832524, 0.2113237625079594, 0.9954477558959286, 0.21529311753339103, 0.028828423145496804, 0.006133707052233362, 0.7495390017829169, 0.7628871604342436, 0.22604064012866476, 0.6240443717994301, 0.375033965533964, 0.9706549285918858, 0.9978964846332786, 0.9782437839741259, 0.3022805715204432, 0.6961850468437151, 0.0007831102889130653, 0.9936554634231564, 0.2184983615060176, 0.15111101636864768, 0.4778375382468048, 0.0449248967582466, 0.020420407617384822, 0.06432428399476219, 0.024504489140861785, 0.22811201991034652, 0.06118236295608632, 0.44791532386369365, 0.10121526711253787, 0.09064053771272047, 0.07100175454163103, 0.9902205387294982, 0.9942910773824002, 0.9691595358280191, 0.004405270617400087, 0.01321581185220026, 0.004405270617400087, 0.004405270617400087, 0.9938806190766509, 0.11764889177881108, 0.05141349207656704, 0.12737576865816158, 0.27605802952823383, 0.07874138426140899, 0.2603097526759521, 0.04492890749033336, 0.04307616903712374, 0.9893805712361662, 0.9436160270917889, 0.004096890957815197, 0.4199313231760577, 0.11744420745736898, 0.0928628617104778, 0.056673658249776895, 0.15090215027952641, 0.06145336436722795, 0.096959752668293, 0.004956897189694854, 0.4180316629975993, 0.011566093442621325, 0.041307476580790446, 0.003304598126463236, 0.5204742049179596, 0.9934130675736428, 0.9971324738895165, 0.9783829650840024, 0.0006154857087028822, 0.09632351341200107, 0.10432482762513855, 0.5656313662979487, 0.012617457028409086, 0.08555251350970064, 0.04739239957012193, 0.08739897063580929, 0.9811306575546577, 0.9814333747343134, 0.058090662364509854, 0.06389972860096084, 0.8713599354676479, 0.02573531426528296, 0.017156876176855306, 0.9522066278154696, 0.9671568232146184, 0.9940307633269017, 0.15868358737770275, 0.44268652068446307, 0.06510095892418574, 0.05370829111245324, 0.022785335623465013, 0.1269468699021622, 0.10416153427869719, 0.025226621583121975, 0.9825943417560721, 0.024618901220936663, 0.019884497139987304, 0.9014305370127578, 0.05302532570663281, 0.9886986440212285, 0.13788315917332444, 0.06116998334234757, 0.013537619264290037, 0.1860169165574668, 0.48785568682052616, 0.025571058610325624, 0.05114211722065125, 0.03660171134419158, 0.004324593552197463, 0.7719399490672472, 0.012973780656592389, 0.02810985808928351, 0.08432957426785054, 0.012973780656592389, 0.08649187104394926, 0.008844015897480777, 0.955153716927924, 0.017688031794961555, 0.04418677934239348, 0.006025469910326383, 0.6186149107935087, 0.27215039094974164, 0.05021224925271986, 0.009038204865489575, 0.06872552617748123, 0.03919502664809476, 0.2212102873837677, 0.5020184919995699, 0.0010738363465231443, 0.15248476120628648, 0.014496790678062447, 0.9809893970555907, 0.00990898380864233, 0.9694114226068833, 0.013691754650896941, 0.03286021116215266, 0.002738350930179388, 0.9255626144006331, 0.024645158371614493, 0.05471705398373187, 0.9152670848187876, 0.02984566580930829, 0.9927041135454729, 0.09628614432883231, 0.10984757310754108, 0.0054245715114835105, 0.7296048682945321, 0.009493000145096143, 0.025766714679546672, 0.024410571801675798, 0.010172466544323343, 0.5162526771244096, 0.43868761972394416, 0.001271558318040418, 0.006357791590202089, 0.025431166360808357, 0.9936218619832977, 0.9547729174939193, 0.03218335676945795, 0.9901703707430247, 0.9972063807206673, 0.3315609161532081, 0.14842124780680258, 0.01996309181027169, 0.09721157751088823, 0.08679605134900735, 0.2977104561270952, 0.01735921026980147, 0.003328864770434174, 0.1298257260469328, 0.6924038722503082, 0.14314118512866947, 0.03328864770434174, 0.988436488633553, 0.9981417506749569, 0.9856051336561863, 0.9894715449114809, 0.9947992331821355, 0.15788562663860528, 0.1423558928708736, 0.2821234967804586, 0.022647528411275347, 0.03688311769836271, 0.034294828737074096, 0.22388699515146485, 0.10029619724993367, 0.0015658570541787424, 0.0010439047027858282, 0.045931806922576444, 0.018790284650144908, 0.924377614316851, 0.008351237622286626, 0.9910569513550841, 0.18354866718260035, 0.8142886325918997, 0.038557695338129576, 0.09491125006308819, 0.5650185355318219, 0.034108730491422316, 0.131985957118982, 0.022244824233536294, 0.09194527349861668, 0.022244824233536294, 0.4595020788348748, 0.03110749083021396, 0.49327592602196424, 0.015998138141252893, 0.24821727528353787, 0.1336797945281004, 0.191264936786359, 0.20534482047038377, 0.010283061117546184, 0.083530096462529, 0.06264757234689675, 0.06502058645094587, 0.9885544702675172, 0.9904774626056154, 0.12735929209558308, 0.11173975627253988, 0.23549454010126683, 0.06428039742560089, 0.02763456337923029, 0.034242828535133184, 0.031239071646086417, 0.3682605945971341, 0.9821710548252036, 0.952760834817646, 0.045234935777692394, 0.0028271834861057746, 0.47631751373572295, 0.06260173037669502, 0.003402267955255164, 0.45726481318629403, 0.9955148165763649, 0.919013689401781, 0.9937962710568979, 0.026181056376258786, 0.968699085921575, 0.21411535819408256, 0.04236911681579019, 0.49783712258553475, 0.04993503053289558, 0.006809322345394852, 0.06279708385197474, 0.023454332523026714, 0.10213983518092279, 0.9957977666174603, 0.9944263563566449, 0.04541266041987334, 0.02270633020993667, 0.21408825626511716, 0.7168712823422863, 0.5798245193167086, 0.22522753505716236, 0.1831434973648206, 0.0038966701566983107, 0.0038966701566983107, 0.0038966701566983107, 0.06282412786938867, 0.10357491351439753, 0.7199305463951566, 0.0033958988037507388, 0.02037539282250443, 0.08659541949564384, 0.005093848205626108, 0.07416709497822092, 0.02603738440724777, 0.07574511827562988, 0.3242837876175404, 0.39687285929835237, 0.0047340698922268675, 0.018147267920202992, 0.07890116487044779, 0.503679946571074, 0.07151950902972953, 0.36672769523754933, 0.024347066903737714, 0.03347721699263936, 0.022943623637068027, 0.42445703728575845, 0.1950208009150782, 0.3556261663745544, 0.9777569468317775, 0.09337946765358209, 0.0668304033207009, 0.2609132184438323, 0.28807260609471075, 0.0970414075615657, 0.04852070378078285, 0.02197163944790167, 0.12328531023544825, 0.14837700988539226, 0.09067483937440639, 0.16211562191181747, 0.041215836079275626, 0.004121583607927563, 0.0783100885506237, 0.016486334431710253, 0.45886964168260197, 0.9423573805489722, 0.951500021963168, 0.1115144030771175, 0.16972957869742247, 0.2284622225454635, 0.23958778944178843, 0.1102207325077774, 0.028202018411614405, 0.09599035624503618, 0.015782780945949346, 0.003307747896733197, 0.04410330528977596, 0.12128408954688388, 0.2194139438166354, 0.5479835682254663, 0.06394979267017514, 0.01129638654935339, 0.0005648193274676695, 0.002259277309870678, 0.7602468147714831, 0.16040868900081814, 0.009037109239482711, 0.051963378127025596, 0.003953735292273687, 0.23349629351969625, 0.22136883423666887, 0.16226882139261992, 0.05910001284404894, 0.04953469284616819, 0.06268700784325422, 0.09650724640718975, 0.11495464926024548, 0.6473037589839876, 0.06279812587158089, 0.19322500268178733, 0.009661250134089368, 0.01794232167759454, 0.0006900892952920976, 0.06900892952920977, 0.3472626290731402, 0.23508606693984269, 0.10144361946004994, 0.03219882801974281, 0.08897955700079466, 0.040508202992579664, 0.07755416641314399, 0.07720794245594244, 0.9728879994424171, 0.02026849998838369, 0.9398352585287709, 0.9926164390145201, 0.9998869637005274, 0.11297933296714345, 0.8473449972535759, 0.8400362416000708, 0.14000604026667848, 0.021000906040001772, 0.3470277749200634, 0.24733153151393275, 0.09927200407248758, 0.003393914669144875, 0.017393812679367484, 0.0767873193894028, 0.14551409143958652, 0.06321166071282329, 0.8240602459154561, 0.04532331352535009, 0.1071278319690093, 0.020601506147886403, 0.9000033667534019, 0.014173281366195304, 0.06377976614787888, 0.014173281366195304, 0.02742410271992546, 0.020971372668178292, 0.14679960867724806, 0.7840067012872808, 0.0193581901552415, 0.992379139255055, 0.9849873778677642, 0.10717494590159267, 0.8884238936579392, 0.9410149713298659, 0.996369682732537, 0.9947013160234636, 0.020982058950957064, 0.008392823580382826, 0.11749953012535956, 0.8518715934088568, 0.004870762886960492, 0.6295461031396435, 0.08280296907832836, 0.06697298969570675, 0.09497987629572958, 0.12055138145227216, 0.993852856253472, 0.004007471194570451, 0.9245629051644626, 0.9854640626985008, 0.9447119987171061, 0.05128436564464291, 0.996681119050235, 0.014105874902803812, 0.9803583057448648, 0.13893270270286293, 0.8335962162171775, 0.9935562413661632, 0.9207302299477078, 0.9208075802447203, 0.06964090943027297, 0.1141067708949819, 0.36598951903158283, 0.1893536507730969, 0.08372540155452232, 0.014837412933712817, 0.08867120586575993, 0.04062624969945176, 0.10244880358992182, 0.9939466798762968, 0.926317242266579, 0.2957899097780694, 0.02198438518620786, 0.11325289338349503, 0.12924153715528255, 0.29245894232561365, 0.022650578676699007, 0.02931251358161048, 0.09526566914023406, 0.9476610786531452, 0.9970221771647113, 0.9591070833986618, 0.08068718104831185, 0.11765658036499292, 0.1346742403679096, 0.23912746383408787, 0.11325546139872136, 0.17399090313326884, 0.09799824898231331, 0.042544150007291705, 0.303002021379969, 0.11226333885660723, 0.34714440219251846, 0.04523231614125437, 0.06103637840747578, 0.018528900587983718, 0.11280830652095969, 0.06967231527715248, 0.1596064773440891, 0.0732270252402725, 0.3504944023636344, 0.05971912738041641, 0.07820361918864054, 0.15071970243628904, 0.0582972433951684, 0.9922729780097658, 0.22478707673125112, 0.16563258285460608, 0.011830898775329007, 0.21295617795592212, 0.3785887608105282, 0.9981255467431686, 0.00042409609130755066, 0.13040954807707184, 0.1280770195748803, 0.4981008592407183, 0.08524331435281769, 0.054284299687366484, 0.10284330214208104, 0.000636144136961326, 0.975506727352384, 0.11274589100682982, 0.1238277520886977, 0.04673654456266022, 0.18260979782730127, 0.2404282034718294, 0.0717911870086224, 0.08190940799641482, 0.1406914537350184, 0.9575643636613298, 0.13681789750551535, 0.8605125658899518, 0.9780087635478263, 0.015393506569127935, 0.05387727299194777, 0.9236103941476761, 0.11279823974268674, 0.07573596097008967, 0.009668420549373148, 0.5881622500868665, 0.1643631493393435, 0.03545087534770155, 0.012891227399164198, 0.013566045010984979, 0.9812772557945801, 0.986071061986934, 0.9793388207507558, 0.007803496579687298, 0.007803496579687298, 0.9697360065500553, 0.7867929304552964, 0.20895156513730823, 0.2792194831203679, 0.16066200417640214, 0.12520556187540305, 0.10082925779346617, 0.1578919696216366, 0.02714633863670243, 0.09584319559488817, 0.034902435390045984, 0.009418117486202884, 0.009418117486202884, 0.9801013978860822, 0.98308390810351, 0.9950276481634635, 0.003726695311473646, 0.38829527457357244, 0.03543378931469862, 0.5757990763638526, 0.9305580654613244, 0.028284439679675512, 0.03959821555154572, 0.9835507630153809, 0.037060557059379724, 0.9582801182496757, 0.9885027818078489, 0.4669825717285283, 0.2089531984007391, 0.15937108352598744, 0.013154438640240233, 0.007420452566289363, 0.0003372932984676983, 0.12243746734377449, 0.021080831154231143, 0.034358453776903754, 0.962036705753305, 0.9865547620290239, 0.0012798749251983264, 0.040955997606346446, 0.670654460803923, 0.04863524715753641, 0.002559749850396653, 0.23549698623649207, 0.9799536558980076, 0.08023499036513523, 0.9169713184586884, 0.036241863654050334, 0.9422884550053087, 0.994445394062517, 0.9943976128429564, 0.9927465179803175, 0.19377579057677372, 0.7266592146629014, 0.08073991274032237, 0.912804674236748, 0.05705029213979675, 0.9849646474104403, 0.016954030303108106, 0.8816095757616215, 0.06216477777806305, 0.03390806060621621, 0.03299041024087499, 0.004229539774471152, 0.04060358183492306, 0.012688619323413457, 0.0016918159097884609, 0.021147698872355764, 0.01607225114299038, 0.8704392855861631, 0.9995177046121853, 0.9968593599952063, 0.9392409649411553, 0.9367096586493571, 0.9618534050057767, 0.28330756421042025, 0.2020618585750397, 0.10734536236798985, 0.05430412449204192, 0.07787800799246322, 0.03536082525063195, 0.05514604890277125, 0.18396048374435905, 0.367725312213968, 0.6293285544601466, 0.9907622529400822, 0.9902891429087898, 0.2352585360719641, 0.10363619525846746, 0.044602919478327764, 0.4005517082563552, 0.09970064353979148, 0.002186417621486655, 0.05422315701286905, 0.05903327578013969, 0.044359033440340395, 0.9463260467272617, 0.9921249584317701, 0.9794985020535325, 0.17199236798520282, 0.18274189098427798, 0.24723902897872904, 0.010749522999075176, 0.38698282796670636, 0.9973807143553453, 0.013700579214108197, 0.030562830554549055, 0.08536514741098185, 0.8483820205659307, 0.021077814175551074, 0.9742292882022756, 0.025930057100440794, 0.9815865807988142, 0.00959769591410977, 0.9853634471819364, 0.10670069178031212, 0.02462323656468741, 0.021887321390833256, 0.8453977887209345, 0.9883628908715942, 0.874909533486845, 0.0434352250667228, 0.037230192914333826, 0.0434352250667228, 0.08675131011127107, 0.2637882429679761, 0.10088856064792265, 0.014779852833772108, 0.014458551685211846, 0.473597892977828, 0.017992864319374743, 0.027631898776182637, 0.007500537575803033, 0.907565046672167, 0.08250591333383336, 0.9747734270377614, 0.012497095218432838, 0.00045395217546012937, 0.10713271340859054, 0.0340464131595097, 0.6673096979263902, 0.1806729658331315, 0.008625091333742459, 0.0018158087018405175, 0.929311548278093, 0.05805111935182868, 0.17000684953035544, 0.037318576726175584, 0.7339320089481198, 0.12936426057135453, 0.20665737223348457, 0.0016272234034132645, 0.022781127647785702, 0.3547347019440916, 0.028476409559732126, 0.24164267540686976, 0.015458622332426012, 0.9978841726649729, 0.09546322256791502, 0.09932032246964896, 0.016392674582369246, 0.0009642749754334851, 0.07810627301011229, 0.709706381919045, 0.9877514520987, 0.9932012718082929, 0.012192655860984941, 0.021337147756723646, 0.7742336471725438, 0.07315593516590965, 0.11887839464460317, 0.003047207332721283, 0.08532180531619592, 0.0182832439963277, 0.6764800278641248, 0.2163517206232111, 0.9773656502476448, 0.9593569538741572, 0.021803567133503572, 0.9851082047226564, 0.9602031462702448, 0.9857704886037675, 0.9568056867689227, 0.32797801422956185, 0.192049348332199, 0.06012930260875301, 0.1964223885219265, 0.028424761233228697, 0.09839340426886856, 0.07689262333604173, 0.020043100869584336, 0.979533488183493, 0.9712664376488793, 0.9946653548022119, 0.026001394546760523, 0.9707187297457261, 0.9906536203708595, 0.7536109962303318, 0.06910843196872038, 0.026327021702369672, 0.04442684912274882, 0.08556282053270144, 0.02139070513317536, 0.09762437360120721, 0.21171550901466624, 0.37697122577333625, 0.06645514588515912, 0.0058809863615185065, 0.05822176497903322, 0.06057415952364062, 0.12232451631958494, 0.9949182533785357, 0.46219385693021897, 0.2245919778860916, 0.08696091826687083, 0.004793121479276344, 0.016433559357518897, 0.04176863003369386, 0.1027097459844931, 0.06094111595079924, 0.9735025863816691, 0.9993752646050217, 0.9978735674090383, 0.14422979089190852, 0.08076868289946877, 0.07705991684796255, 0.4491727773490865, 0.0016483404673360972, 0.09766417268966376, 0.04986229913691694, 0.09890042804016584, 0.030743429679646047, 0.5908085181914589, 0.23258072888080053, 0.1309937438524049, 0.013366708556367847, 0.9796116121962787, 0.985679116918492, 0.9786730865885902, 0.024638662525898386, 0.1601513064183395, 0.7083615476195786, 0.08007565320916975, 0.024638662525898386, 0.9915474582564823, 0.9830361977975179, 0.9981432363226239, 0.9933874058735725, 0.24719829217672853, 0.08653572975803575, 0.22662564698896911, 0.016980596027991922, 0.0019592995416913756, 0.06433033495220017, 0.28311878377440375, 0.07282063296619612, 0.04909292686487875, 0.9458570575966638, 0.01973207073045515, 0.9668714657923023, 0.14345958698294772, 0.8320656045010968, 0.21936803700003268, 0.6829382283963281, 0.01655607826415341, 0.0786413717547287, 0.9794944343591536, 0.9954697613214422, 0.0032800278624175432, 0.021320181105714032, 0.14227120853236094, 0.04387037265983464, 0.1332511319107127, 0.4276336325626872, 0.027060229864944732, 0.20090170657307452, 0.11912913609680462, 0.1584262796923739, 0.3329427284160046, 0.03775001195794847, 0.0015471316376208391, 0.06869264471036525, 0.06714551307274441, 0.21412301864672412, 0.997771046368441, 0.0011377092889035816, 0.4257999561872114, 0.15030796543443511, 0.23265058997677784, 0.0169913352230231, 0.0034854020970303797, 0.025850065552975317, 0.05707345933887247, 0.08771595277526456, 0.9529318366412886, 0.03595969194872787, 0.995156139383831, 0.023108082724478902, 0.8765666046818996, 0.08164855895982545, 0.01848646617958312, 0.8925753772845383, 0.10554100744918526, 0.053978873907101134, 0.8973987787055564, 0.047231514668713497, 0.9971786857387472, 0.9904782607619025, 0.005930510756461467, 0.04744408605169174, 0.9449280471961938, 0.9976713407449382, 0.9978478690095807, 0.9983318431741984, 0.9927522414117681, 0.0978800347839159, 0.00326266782613053, 0.8809203130552431, 0.01631333913065265, 0.06376226222114544, 0.8041129735666674, 0.1062704370352424, 0.024796435308223227, 0.02696482612393435, 0.9707337404616366, 0.0076665383538063415, 0.013416442119161098, 0.9774836401103085, 0.2505770989021926, 0.13769222964198594, 0.2806190399149895, 0.05302857769683094, 0.0757876239186468, 0.05826315832784859, 0.024807360381779282, 0.11925740220231508, 0.2582250802028716, 0.268658416776725, 0.16693338518165435, 0.014345837789048422, 0.00043472235724389155, 0.16649866282441048, 0.0617305747286326, 0.062165297085876495, 0.9925741399734869, 0.07736373536103013, 0.06299618450826738, 0.7051151880048174, 0.11825599548043177, 0.0353662790221852, 0.12123883461158974, 0.00133965563106729, 0.04420863582522057, 0.3784527157765094, 0.3483104640774954, 0.00669827815533645, 0.04688794708735515, 0.052246569611624306, 0.09484195277388148, 0.9009985513518741, 0.9951982714561969, 0.006685194088342353, 0.006685194088342353, 0.9292419782795871, 0.05348155270673882, 0.9888970821245857, 0.9890439519125689, 0.0027783774732360943, 0.677924103469607, 0.3181242206855328, 0.10667238554018653, 0.08671030169640893, 0.11228672162124897, 0.023704974564485896, 0.2988074425365459, 0.3418506858246913, 0.014347747762715147, 0.015595378002951247, 0.9892675213089558, 0.9367806814337385, 0.06109439226741773, 0.04494470433139922, 0.7615630456153757, 0.03495699225775495, 0.15730646515989727, 0.9848135191271542, 0.9804272163992018, 0.9985615632435803, 0.05350028099206608, 0.027913190082817084, 0.06513077685990654, 0.09304396694272361, 0.7257429421532442, 0.004652198347136181, 0.03256538842995327, 0.07567695179157993, 0.47928736134667294, 0.4288360601522863, 0.9744826616322968, 0.9917798996076311, 0.4069417059876229, 0.4028722889277467, 0.1896348349902323, 0.0008138834119752459, 0.9933811879203881, 0.2196862770823567, 0.12420724127348629, 0.021123680488688144, 0.04309230819692381, 0.5779438981705076, 0.0016898944390950515, 0.0008449472195475257, 0.010984313854117835, 0.9855968846970047, 0.01253079581919638, 0.15036954983035655, 0.21302352892633847, 0.6140089951406226, 0.5049108411034311, 0.007392545257736912, 0.11901997864956428, 0.36740949930952455, 0.9891307255045225, 0.9909445173881228, 0.9873289715794729, 0.007594838242919022, 0.9871073777109455, 0.03747302281455951, 0.2890776045694591, 0.008029933460262753, 0.004014966730131376, 0.6330264211173804, 0.018736511407279756, 0.009368255703639878, 0.9672113525668082, 0.04565763066158025, 0.669645249703177, 0.16741131242579424, 0.052180149327520284, 0.01739338310917343, 0.04565763066158025, 0.9894084305225683, 0.9163288050164806, 0.07330630440131845, 0.11637767571850224, 0.10906893279898279, 0.3406998622483689, 0.0033732659628551375, 0.09501365795375305, 0.09670029093518061, 0.03991698056045246, 0.1990226918084531, 0.047284569233393935, 0.9509452256938113, 0.31959334212576856, 0.1804506625608081, 0.053265557020961425, 0.05109145265275892, 0.008696417472810029, 0.009239943564860655, 0.36579305995007183, 0.011414047933063163, 0.9835766380627571, 0.9448241751456408, 0.004986752654495772, 0.054854279199453494, 0.9325227463907094, 0.004986752654495772, 0.16917611736360652, 0.7949780382307527, 0.017965605383745822, 0.016468471601767006, 0.9923614035639082, 0.9798131798566672, 0.9809918666212025, 0.9834217131478891, 0.004893729405277669, 0.263685655013785, 0.12925202958645138, 0.19171904611264282, 0.2570647269948799, 0.1531449437416306, 0.0002878664356045688, 0.2091826089708958, 0.1596393594777889, 0.34927990892640365, 0.028349748321055614, 0.003027643024578755, 0.06743386736561773, 0.0721129520399667, 0.1109218308095671, 0.9949509586288339, 0.995824098344744, 0.9765122820295125, 0.9451957738455744, 0.9996673846773926, 0.2855777794025208, 0.11556131393580901, 0.2988798011505276, 0.10018085128967615, 0.00041568817962521227, 0.09103571133792149, 0.05861203332715493, 0.04905120519577504, 0.9234131470621093, 0.020356941291248463, 0.003131837121730533, 0.03184034407092708, 0.7678220676776023, 0.002087891414487022, 0.14615239901409155, 0.0026098642681087773, 0.026098642681087775, 0.16672351164873833, 0.7368103579315209, 0.08873993361948976, 0.005378177795120591, 0.24017738880423578, 0.25345352587381664, 0.28272137350448356, 0.027155734915051785, 0.0030173038794501983, 0.09202776832323105, 0.06758760689968445, 0.03409553383778724, 0.27973220211286937, 0.24090447510769009, 0.1934483643235821, 0.03244272300877202, 0.054358817807250985, 0.04314191889464364, 0.15582861104745283, 0.987743103760131, 0.1804023121856847, 0.1822621298370835, 0.26657386336716293, 0.018391530108277133, 0.057241054381941193, 0.1171685120381251, 0.05372806548485455, 0.1241944898322984, 0.996624010761295, 0.18377893385130503, 0.23447657077580297, 0.13941850154236934, 0.0887208646178714, 0.31686023077811215, 0.038023227693373456, 0.9868556491089447, 0.9899898699821277, 0.9648918604076341, 0.9838917790145498, 0.056969855204174684, 0.8545478280626202, 0.08545478280626202, 0.9306498044598446, 0.06743839162752496, 0.5207447736527057, 0.18106355635625684, 0.04189900477665448, 0.011222947708032449, 0.028431467527015537, 0.10100652937229204, 0.05910752459563757, 0.056114738540162246, 0.9366767493024581, 0.01593589932650685, 0.0035413109614459664, 0.023018521249398783, 0.021247865768675798, 0.21971506306381897, 0.159633996534444, 0.1750035716931213, 0.08313542926739095, 0.03772532084402615, 0.23019431885382624, 0.05519074716070492, 0.03947186347569403, 0.9977705793988961, 0.9963530505678656, 0.13842567937151296, 0.09902760139654389, 0.488749129473265, 0.003194438754727222, 0.16930525400054278, 0.05324064591212037, 0.047916581320908334, 0.9352425637827861, 0.04821716370950322, 0.9161261104805611, 0.9784732709324764, 0.9347222128577108, 0.0927306801733986, 0.13851645350901415, 0.10258331494182218, 0.44684596508556446, 0.0098526347684236, 0.08113934515172376, 0.03245573806068951, 0.08461674565822622, 0.005216100759753671, 0.00463653400866993, 0.06024439039335767, 0.12938468142423917, 0.05889311434715151, 0.0994313957333361, 0.20483092733741606, 0.28016456691340913, 0.16159009385881914, 0.005517710522008459, 0.019473821258665282, 0.014891745668391097, 0.1821375047133988, 0.5406849196523537, 0.1248615598349715, 0.11569740865442314, 0.9948238723854321, 0.09486705644889282, 0.18833213669410742, 0.29488232817365206, 0.1299164615408483, 0.0018693016049042919, 0.18225690647816847, 0.014487087438008263, 0.09346508024521459, 0.9820458449472828, 0.03801792433380367, 0.0077985485812930595, 0.15987024591650772, 0.5390746706818828, 0.2456542803107314, 0.009748185726616324, 0.07108764413377285, 0.1269422216674515, 0.4392200869693822, 0.01269422216674515, 0.18787448806782822, 0.04062151093358448, 0.05839342196702769, 0.06093226640037672, 0.9859586882800297, 0.9805769059820462, 0.9860319931266304, 0.011079011158726185, 0.9694114226068833, 0.9807534172615177, 0.9868431619608403, 0.1785150469921261, 0.13656119525422894, 0.20441943866921694, 0.24327602618485322, 0.01604946006080629, 0.09601519089008674, 0.07799474450602355, 0.04702210228341492, 0.8474549714700029, 0.07769843022006423, 0.07227760950703649, 0.0036138804753518246, 0.0873321247806425, 0.0873321247806425, 0.8223775083510503, 0.29641525511669947, 0.14372554204751253, 0.1918332598638317, 0.02151401045201851, 0.045119660809094374, 0.1254983943034413, 0.07828709358928958, 0.09800826983697321, 0.052748467623545396, 0.1105205988302856, 0.8364399866019342, 0.15837553607542892, 0.2104290339463741, 0.22526981844574995, 0.03721271337156932, 0.05316101910224188, 0.07686197345199139, 0.05692659128865068, 0.18163348193265974, 0.97947125494161, 0.9851037037934445, 0.04694569797061218, 0.9389139594122436, 0.9922537219346113, 0.9204378906278129, 0.07751055921076319, 0.9743962470034508, 0.019915805404588816, 0.015723004266780645, 0.05031361365369806, 0.17924224864129934, 0.7347883994008821, 0.03228917013816766, 0.0706618071139611, 0.03790467798828377, 0.8587047420802558, 0.9903861465780662, 0.10928067435048106, 0.04276200300670997, 0.8409860591319629, 0.07563805804004314, 0.053576957778363896, 0.8666860817088278, 0.9892902571762989, 0.989033890564817, 0.02975288124296667, 0.6942338956692223, 0.2677759311867, 0.9645111085693192, 0.628892027345056, 0.07942193128842201, 0.024312836108700615, 0.08590535425074218, 0.047815244347111215, 0.038090109903630966, 0.04619438860653117, 0.049436100087691254, 0.09383012633376837, 0.23430255383926463, 0.16502100706956355, 0.1041950821497079, 0.07337297669704561, 0.2632153253258328, 0.04636953917657158, 0.01991162564641015, 0.5235977850549032, 0.19470080599819362, 0.0566261308281599, 0.07058873842962397, 0.033355118159053086, 0.018616810135285444, 0.03180371731444597, 0.07058873842962397, 0.9961255790790213, 0.9867021063374033, 0.0719767528540161, 0.2801952164674198, 0.1365273327945226, 0.030275935724308357, 0.04827012393781238, 0.032560912005388236, 0.4001564712241133, 0.9891032019220345], \"Term\": [\"_\", \"_\", \"_\", \"accept\", \"accept\", \"accept\", \"accept\", \"accept\", \"accept\", \"accept\", \"accident\", \"accident\", \"accident\", \"adaptec\", \"administrator\", \"adobe\", \"advance\", \"advance\", \"advance\", \"advance\", \"advance\", \"advance\", \"advance\", \"agency\", \"agency\", \"agency\", \"agency\", \"ai\", \"also\", \"also\", \"also\", \"also\", \"also\", \"also\", \"also\", \"also\", \"amendment\", \"anonymous\", \"apartment\", \"application\", \"application\", \"application\", \"application\", \"application\", \"appreciate\", \"appreciate\", \"appreciate\", \"appreciate\", \"appreciate\", \"appreciate\", \"appreciate\", \"arab\", \"archive\", \"archive\", \"archive\", \"archive\", \"argument\", \"argument\", \"argument\", \"argument\", \"argument\", \"argument\", \"arithmetic\", \"armenian\", \"armenian\", \"article\", \"article\", \"article\", \"article\", \"article\", \"article\", \"article\", \"article\", \"ascii\", \"assemble_worthwhile\", \"atheism\", \"atheist\", \"ati\", \"atmosphere\", \"available\", \"available\", \"available\", \"available\", \"available\", \"available\", \"available\", \"ax\", \"azerbaijani\", \"back\", \"back\", \"back\", \"back\", \"back\", \"back\", \"back\", \"back\", \"ban\", \"ban\", \"base\", \"base\", \"base\", \"base\", \"base\", \"base\", \"base\", \"baseball\", \"baud\", \"bb\", \"bb\", \"bb\", \"bb\", \"bear_arm\", \"bed\", \"belief\", \"belief\", \"believe\", \"believe\", \"believe\", \"believe\", \"believe\", \"believe\", \"believe\", \"benchmark\", \"best_offer\", \"bh\", \"bhj\", \"bhj\", \"bhj_bhj\", \"bhj_bhj\", \"bhj_giz\", \"bible\", \"bike\", \"biker\", \"bill_ranck\", \"binary\", \"bio\", \"bit\", \"bit\", \"bit\", \"bit\", \"bit\", \"bit\", \"bit\", \"bit\", \"bit\", \"bj\", \"bj\", \"brake\", \"brand_new\", \"brave\", \"build\", \"build\", \"build\", \"build\", \"build\", \"build\", \"build\", \"build\", \"burn\", \"burn\", \"bus\", \"bus\", \"bus\", \"bus\", \"buy\", \"buy\", \"buy\", \"buy\", \"buy\", \"bxlt\", \"bxn\", \"c\", \"cache\", \"cal\", \"canon\", \"capacitor\", \"car\", \"card\", \"card\", \"card\", \"card\", \"card\", \"card\", \"case\", \"case\", \"case\", \"case\", \"case\", \"case\", \"case\", \"case\", \"catalog\", \"catholic\", \"cause\", \"cause\", \"cause\", \"cause\", \"cause\", \"cause\", \"cause\", \"cd\", \"centris\", \"cf\", \"cf\", \"cf\", \"cf\", \"chapel_hill\", \"chastity\", \"checker\", \"chemical\", \"child\", \"child\", \"child\", \"child\", \"child\", \"chip\", \"chip\", \"chip\", \"chipset\", \"christian\", \"christianity\", \"church\", \"citizen\", \"citizen\", \"claim\", \"claim\", \"claim\", \"claim\", \"claim\", \"claim\", \"claim\", \"claim\", \"clipper\", \"clipper_chip\", \"clone\", \"cmu_edu\", \"coach\", \"code\", \"code\", \"code\", \"code\", \"code\", \"code\", \"color\", \"color\", \"color\", \"color\", \"color\", \"color\", \"come\", \"come\", \"come\", \"come\", \"come\", \"come\", \"come\", \"come\", \"comet\", \"comp_graphic\", \"company\", \"company\", \"company\", \"company\", \"company\", \"compile\", \"compile\", \"compile\", \"compiler\", \"compound\", \"compound\", \"compound\", \"computer\", \"computer\", \"computer\", \"computer\", \"computer\", \"computer\", \"connect\", \"connect\", \"connect\", \"connect\", \"connect\", \"connect\", \"connect\", \"connector\", \"constitution\", \"constitutional\", \"contain\", \"contain\", \"contain\", \"contain\", \"contain\", \"contain\", \"contain\", \"contain\", \"controller\", \"controller\", \"convertible\", \"cost\", \"cost\", \"cost\", \"cost\", \"cost\", \"cost\", \"cost\", \"court_order\", \"cpu\", \"crazy\", \"crazy\", \"crazy\", \"crazy\", \"creator\", \"crime\", \"crime\", \"crime\", \"criminal\", \"criminal\", \"criminal\", \"crypto\", \"cryptography\", \"cursor\", \"cut\", \"cut\", \"cut\", \"cut\", \"cut\", \"cut\", \"cut\", \"cut\", \"datum\", \"datum\", \"datum\", \"datum\", \"datum\", \"day\", \"day\", \"day\", \"day\", \"day\", \"day\", \"day\", \"day\", \"deskjet\", \"device\", \"device\", \"device\", \"device\", \"diamond\", \"diet\", \"directory\", \"directory\", \"disappoint\", \"disease\", \"disk\", \"disk\", \"disk\", \"disk\", \"display\", \"display\", \"display\", \"display\", \"dn\", \"do\", \"do\", \"do\", \"do\", \"do\", \"do\", \"do\", \"do\", \"doctrine\", \"dog\", \"door\", \"door\", \"drive\", \"drive\", \"drive\", \"drive\", \"drive\", \"driver\", \"driver\", \"driver\", \"driver\", \"drug\", \"drug\", \"drug\", \"drug\", \"drug\", \"earth\", \"earth\", \"earth\", \"earth\", \"edu\", \"edu\", \"edu\", \"edu\", \"edu\", \"edu\", \"edu\", \"edu\", \"ei\", \"ei\", \"email\", \"email\", \"email\", \"encrypt\", \"encryption\", \"energy\", \"energy\", \"energy\", \"engine\", \"engine\", \"engine\", \"engineering\", \"engineering\", \"engineering\", \"engineering\", \"engineering\", \"entry\", \"escrow\", \"ethernet\", \"even\", \"even\", \"even\", \"even\", \"even\", \"even\", \"even\", \"even\", \"evidence\", \"evidence\", \"evidence\", \"ex\", \"ex\", \"ex\", \"ex\", \"ex\", \"ex\", \"excellent_condition\", \"exist\", \"exist\", \"exist\", \"exist\", \"exist\", \"exist\", \"exist\", \"existence\", \"existence\", \"existence\", \"existence\", \"expose_event\", \"f_pne\", \"fact\", \"fact\", \"fact\", \"fact\", \"fact\", \"fact\", \"fact\", \"faith\", \"fan\", \"fan\", \"faq\", \"faq\", \"faq\", \"faq\", \"fast\", \"fast\", \"fast\", \"fast\", \"fast\", \"fast\", \"fax\", \"fax\", \"fax\", \"fax\", \"fax\", \"federal\", \"federal\", \"federal_government\", \"ff\", \"file\", \"file\", \"file\", \"file\", \"file\", \"file\", \"filename\", \"find\", \"find\", \"find\", \"find\", \"find\", \"find\", \"find\", \"find\", \"fire\", \"fire\", \"fire\", \"fire\", \"firearm\", \"firearm\", \"first\", \"first\", \"first\", \"first\", \"first\", \"first\", \"first\", \"first\", \"flight\", \"flight\", \"floor\", \"floppy\", \"floppy\", \"flyer\", \"follow\", \"follow\", \"follow\", \"follow\", \"follow\", \"follow\", \"follow\", \"follow\", \"font\", \"font\", \"font\", \"food\", \"food\", \"food\", \"food\", \"foot\", \"foot\", \"fork\", \"format\", \"format\", \"format\", \"forsale\", \"fpu\", \"fq\", \"freenet\", \"frequently_aske\", \"frequently_aske\", \"front\", \"front\", \"front\", \"front\", \"front\", \"front\", \"function\", \"function\", \"function\", \"function\", \"function\", \"function\", \"functionality\", \"fund\", \"fund\", \"fund\", \"game\", \"game\", \"game\", \"game\", \"gary_l\", \"gay\", \"get\", \"get\", \"get\", \"get\", \"get\", \"get\", \"get\", \"get\", \"gif\", \"gif\", \"give\", \"give\", \"give\", \"give\", \"give\", \"give\", \"give\", \"give\", \"giz\", \"giz_giz\", \"gizw\", \"glock\", \"go\", \"go\", \"go\", \"go\", \"go\", \"go\", \"go\", \"go\", \"go\", \"go\", \"goal\", \"goal\", \"goal\", \"goal\", \"god\", \"god_shape\", \"good\", \"good\", \"good\", \"good\", \"good\", \"good\", \"good\", \"good\", \"gordon_bank\", \"government\", \"government\", \"government\", \"government\", \"gq\", \"gq\", \"graphic\", \"graphic\", \"graphics_library\", \"greek\", \"greeting\", \"gun\", \"gun\", \"gun\", \"gun_control\", \"hand\", \"hand\", \"hand\", \"hand\", \"hand\", \"hand\", \"hand\", \"happen\", \"happen\", \"happen\", \"happen\", \"happen\", \"happen\", \"hard_disk\", \"hard_drive\", \"health\", \"health\", \"health\", \"health\", \"health\", \"helmet\", \"help\", \"help\", \"help\", \"help\", \"help\", \"help\", \"help\", \"help\", \"henry_spencer\", \"hh\", \"high\", \"high\", \"high\", \"high\", \"high\", \"high\", \"high\", \"high\", \"hit\", \"hit\", \"hit\", \"hit\", \"hit\", \"hit\", \"hitter\", \"hockey\", \"honda\", \"host\", \"host\", \"host\", \"host\", \"host\", \"host\", \"host\", \"host\", \"hst\", \"hypothesis\", \"ice\", \"ice\", \"ice\", \"icon\", \"icon\", \"icon\", \"id_aa\", \"ide\", \"idea\", \"idea\", \"idea\", \"idea\", \"idea\", \"idea\", \"idea\", \"idea\", \"idle\", \"image\", \"image\", \"image\", \"image\", \"image_processe\", \"include\", \"include\", \"include\", \"include\", \"include\", \"include\", \"include\", \"include\", \"increase\", \"increase\", \"increase\", \"increase\", \"increase\", \"increase\", \"increase\", \"index\", \"index\", \"index\", \"info\", \"info\", \"info\", \"info\", \"info\", \"info\", \"information\", \"information\", \"information\", \"information\", \"information\", \"information\", \"information\", \"initiative\", \"initiative\", \"inst_state\", \"instal\", \"instal\", \"instal\", \"instal\", \"instal\", \"install\", \"install\", \"install\", \"intellect\", \"interested\", \"interested\", \"interested\", \"interested\", \"interested\", \"interested\", \"interested\", \"internet\", \"internet\", \"internet\", \"internet\", \"internet\", \"internet\", \"interrupt\", \"investment\", \"investment\", \"islander\", \"israeli\", \"issue\", \"issue\", \"issue\", \"issue\", \"issue\", \"issue\", \"issue\", \"item\", \"item\", \"item\", \"item\", \"item\", \"jet\", \"jewish\", \"jim_frost\", \"jpeg\", \"jumper\", \"keep\", \"keep\", \"keep\", \"keep\", \"keep\", \"keep\", \"keep\", \"keep\", \"key\", \"key\", \"key\", \"key\", \"key\", \"key\", \"key_escrow\", \"keyboard\", \"keyboard\", \"keyword\", \"keyword\", \"keyword\", \"keyword\", \"keyword\", \"keyword\", \"keyword\", \"keyword\", \"kill\", \"kill\", \"kill\", \"kill\", \"know\", \"know\", \"know\", \"know\", \"know\", \"know\", \"know\", \"know\", \"lamp\", \"lane\", \"last\", \"last\", \"last\", \"last\", \"last\", \"last\", \"last\", \"last\", \"last_modifie\", \"launch\", \"launch\", \"launch\", \"law\", \"law\", \"law\", \"law\", \"law_enforcement\", \"ld\", \"leafs\", \"league\", \"league\", \"leave\", \"leave\", \"leave\", \"leave\", \"leave\", \"leave\", \"leave\", \"leave\", \"leg\", \"libertarian\", \"library\", \"library\", \"library\", \"library\", \"life\", \"life\", \"life\", \"life\", \"life\", \"life\", \"light\", \"light\", \"light\", \"light\", \"light\", \"light\", \"light\", \"list\", \"list\", \"list\", \"list\", \"list\", \"list\", \"list\", \"list\", \"live\", \"live\", \"live\", \"live\", \"live\", \"log\", \"log\", \"log\", \"log\", \"login\", \"look\", \"look\", \"look\", \"look\", \"look\", \"look\", \"look\", \"look\", \"lose\", \"lose\", \"lose\", \"lose\", \"lose\", \"lose\", \"lose\", \"lose\", \"low_dollar\", \"lunatic\", \"m\", \"m\", \"m\", \"m\", \"m\", \"m\", \"m\", \"m\", \"machine\", \"machine\", \"machine\", \"machine\", \"machine\", \"machine\", \"mail\", \"mail\", \"mail\", \"mail\", \"mail\", \"mail\", \"mail\", \"mail\", \"make\", \"make\", \"make\", \"make\", \"make\", \"make\", \"make\", \"make\", \"man\", \"man\", \"man\", \"man\", \"man\", \"man\", \"man\", \"many\", \"many\", \"many\", \"many\", \"many\", \"many\", \"many\", \"many\", \"mar\", \"mar\", \"mario\", \"marriage\", \"max\", \"maxtor\", \"maxtor\", \"mb\", \"mb\", \"mb\", \"mean\", \"mean\", \"mean\", \"mean\", \"mean\", \"mean\", \"mean\", \"mean\", \"medical\", \"medical\", \"medical\", \"medical\", \"medicine\", \"medicine\", \"medicine\", \"medicine\", \"memory\", \"memory\", \"memory\", \"memory\", \"memory\", \"metal\", \"methodology\", \"mhz\", \"mhz\", \"michael_panayiotaki\", \"mile\", \"militia\", \"mode\", \"mode\", \"mode\", \"mode\", \"money\", \"money\", \"money\", \"money\", \"money\", \"money\", \"moon\", \"moon\", \"moon_resident\", \"mormon\", \"motif\", \"motif\", \"motorcycle\", \"mouse\", \"mouse\", \"mp\", \"mp\", \"mph\", \"mq\", \"msg\", \"msg\", \"much\", \"much\", \"much\", \"much\", \"much\", \"much\", \"much\", \"much\", \"muslim\", \"mwt\", \"name\", \"name\", \"name\", \"name\", \"name\", \"name\", \"name\", \"name\", \"national_capital\", \"nazi\", \"nb\", \"need\", \"need\", \"need\", \"need\", \"need\", \"need\", \"need\", \"need\", \"never\", \"never\", \"never\", \"never\", \"never\", \"never\", \"never\", \"new\", \"new\", \"new\", \"new\", \"new\", \"new\", \"new\", \"new\", \"news_answer\", \"newsreader_tin\", \"newsreader_tin\", \"newsreader_tin\", \"newsreader_tin\", \"newsreader_tin\", \"nhl\", \"nntp_poste\", \"nntp_poste\", \"nntp_poste\", \"nntp_poste\", \"nntp_poste\", \"nntp_poste\", \"nntp_poste\", \"nntp_poste\", \"nra\", \"number\", \"number\", \"number\", \"number\", \"number\", \"number\", \"number\", \"number\", \"nyr\", \"objective\", \"objective\", \"objective_morality\", \"offense\", \"offense\", \"offense\", \"offer\", \"offer\", \"offer\", \"offer\", \"offer\", \"offer\", \"offer\", \"oil\", \"oil\", \"once_tappe\", \"orbit\", \"orbit\", \"orbit\", \"orion_drive\", \"output\", \"output\", \"part\", \"part\", \"part\", \"part\", \"part\", \"part\", \"part\", \"part\", \"part\", \"part\", \"passenger\", \"password\", \"patient\", \"patient\", \"pc\", \"pc\", \"pc\", \"peace\", \"peace\", \"peace\", \"pem\", \"pen\", \"pen\", \"penguin\", \"people\", \"people\", \"people\", \"people\", \"people\", \"people\", \"people\", \"people\", \"pgp\", \"pgp\", \"phillie\", \"phone\", \"phone\", \"phone\", \"phone\", \"phone\", \"phone\", \"physics\", \"pin\", \"pin\", \"pit\", \"pit\", \"pitch\", \"pitcher\", \"pixmap\", \"pl\", \"pl\", \"pl\", \"pl_pl\", \"pl_pl\", \"plaintext\", \"planet\", \"planet\", \"planet\", \"planet\", \"play\", \"play\", \"play\", \"play\", \"play\", \"play\", \"play\", \"play\", \"player\", \"playoff\", \"pmf\", \"pmf_l\", \"pmfq\", \"point\", \"point\", \"point\", \"point\", \"point\", \"point\", \"point\", \"point\", \"police\", \"police\", \"policy_research\", \"political_atheist\", \"post\", \"post\", \"post\", \"post\", \"post\", \"post\", \"post\", \"post\", \"postscript\", \"postscript\", \"power_play\", \"powerbook\", \"pp\", \"pp\", \"pp\", \"pp\", \"pp\", \"prayer\", \"price\", \"price\", \"price\", \"price\", \"price\", \"printer\", \"printer\", \"printf\", \"privacy\", \"privacy\", \"private\", \"private\", \"private\", \"private\", \"prize\", \"probe\", \"probe\", \"probe\", \"probe\", \"problem\", \"problem\", \"problem\", \"problem\", \"problem\", \"problem\", \"problem\", \"problem\", \"processor\", \"processor\", \"processor\", \"profit\", \"profit\", \"program\", \"program\", \"program\", \"program\", \"program\", \"program\", \"program\", \"projectile\", \"protect\", \"protect\", \"protect\", \"protect\", \"provide\", \"provide\", \"provide\", \"provide\", \"provide\", \"provide\", \"provide\", \"provide\", \"pub\", \"public\", \"public\", \"public\", \"public\", \"public\", \"public\", \"public_domain\", \"puck\", \"pull\", \"pull\", \"pull\", \"pull\", \"pull\", \"purchase\", \"purchase\", \"purchase\", \"purchase\", \"purchase\", \"qax\", \"qq\", \"qq\", \"qs\", \"qtm\", \"quadra\", \"que\", \"question\", \"question\", \"question\", \"question\", \"question\", \"question\", \"question\", \"question\", \"quicktime\", \"r\", \"radar_detector\", \"ram\", \"ram\", \"ranger\", \"rate\", \"rate\", \"rate\", \"rate\", \"rate\", \"rate\", \"re\", \"re\", \"re\", \"re\", \"re\", \"re\", \"re\", \"re\", \"rear\", \"reason\", \"reason\", \"reason\", \"reason\", \"reason\", \"reason\", \"reason\", \"reason\", \"recall_reade\", \"religion\", \"religious\", \"reply\", \"reply\", \"reply\", \"reply\", \"reply\", \"reply\", \"reply\", \"reply\", \"research\", \"research\", \"research\", \"research\", \"research\", \"researcher\", \"reserve_university\", \"reset\", \"resource\", \"resource\", \"resource\", \"resource\", \"resource\", \"revelation\", \"revolver\", \"ride\", \"rider\", \"right\", \"right\", \"right\", \"right\", \"right\", \"right\", \"right\", \"right\", \"ripem\", \"ripem\", \"rk\", \"rk\", \"rlk\", \"rlk\", \"road\", \"road\", \"road\", \"road\", \"ron_baalke\", \"rsa\", \"run\", \"run\", \"run\", \"run\", \"run\", \"run\", \"run\", \"run\", \"s\", \"s\", \"s\", \"s\", \"s\", \"s\", \"s\", \"s\", \"sale\", \"sale\", \"say\", \"say\", \"say\", \"say\", \"say\", \"say\", \"say\", \"say\", \"sc\", \"sc\", \"schneider\", \"science\", \"science\", \"science\", \"science\", \"scientific\", \"scientific\", \"scientist\", \"scientist\", \"scientist\", \"score\", \"scoring\", \"screen\", \"screen\", \"screen\", \"scripture\", \"scsi\", \"season\", \"second_amendment\", \"secret\", \"secret\", \"secret\", \"secret\", \"section\", \"section\", \"section\", \"section\", \"secure\", \"secure\", \"security\", \"security\", \"security\", \"see\", \"see\", \"see\", \"see\", \"see\", \"see\", \"see\", \"see\", \"seem\", \"seem\", \"seem\", \"seem\", \"seem\", \"seem\", \"seem\", \"seem\", \"seizure\", \"sell\", \"sell\", \"sell\", \"sell\", \"sell\", \"send\", \"send\", \"send\", \"send\", \"send\", \"send\", \"send\", \"send\", \"sequence\", \"sequence\", \"serdar_argic\", \"serial\", \"serial\", \"serial\", \"serial\", \"serial_number\", \"serial_port\", \"server\", \"server\", \"server\", \"set\", \"set\", \"set\", \"set\", \"set\", \"set\", \"set\", \"set\", \"shameful\", \"shipping\", \"shipping\", \"shoot\", \"shoot\", \"shoot\", \"shoot\", \"shout\", \"simm\", \"sin\", \"site\", \"site\", \"site\", \"site\", \"site\", \"site\", \"site\", \"sl\", \"sl\", \"sl\", \"slavery\", \"socket\", \"software\", \"software\", \"software\", \"software\", \"soul\", \"source\", \"source\", \"source\", \"source\", \"source\", \"source\", \"source\", \"source\", \"source_code\", \"sp\", \"sp\", \"sp\", \"sp\", \"space\", \"space\", \"space\", \"space\", \"space_dig\", \"space_station\", \"spacecraft\", \"spacecraft\", \"specie\", \"speed\", \"speed\", \"speed\", \"speed\", \"speed\", \"speed\", \"speed\", \"speedy_mercer\", \"spend\", \"spend\", \"spend\", \"spend\", \"spend\", \"spend\", \"sphere\", \"stack\", \"stack\", \"start\", \"start\", \"start\", \"start\", \"start\", \"start\", \"start\", \"start\", \"stat\", \"stat\", \"state\", \"state\", \"state\", \"state\", \"state\", \"state\", \"state\", \"state\", \"stereo\", \"stl\", \"string\", \"string\", \"string\", \"string\", \"study\", \"study\", \"study\", \"study\", \"sumgait\", \"swap_file\", \"sx\", \"sy\", \"system\", \"system\", \"system\", \"system\", \"system\", \"system\", \"system\", \"take\", \"take\", \"take\", \"take\", \"take\", \"take\", \"take\", \"take\", \"talent\", \"tank\", \"tape_drive\", \"tct\", \"team\", \"tell\", \"tell\", \"tell\", \"tell\", \"tell\", \"tell\", \"tell\", \"tell\", \"temp\", \"thank\", \"thank\", \"thank\", \"thank\", \"thank\", \"thank\", \"thank\", \"thank\", \"theory\", \"theory\", \"theory\", \"theory\", \"thing\", \"thing\", \"thing\", \"thing\", \"thing\", \"thing\", \"thing\", \"thing\", \"think\", \"think\", \"think\", \"think\", \"think\", \"think\", \"think\", \"tiff\", \"time\", \"time\", \"time\", \"time\", \"time\", \"time\", \"time\", \"time\", \"tire\", \"tm\", \"tm\", \"tm\", \"tm\", \"tm\", \"tm\", \"tolerate\", \"toolkit\", \"tor\", \"tq\", \"treatment\", \"treatment\", \"treatment\", \"truck\", \"truck\", \"true\", \"true\", \"true\", \"true\", \"true\", \"true\", \"true\", \"true\", \"truth\", \"truth\", \"truth\", \"truth\", \"truth\", \"try\", \"try\", \"try\", \"try\", \"try\", \"try\", \"try\", \"try\", \"turk\", \"turkish\", \"turn\", \"turn\", \"turn\", \"turn\", \"turn\", \"turn\", \"turn\", \"twm\", \"tz\", \"tz\", \"uart\", \"ultrasound\", \"university\", \"university\", \"university\", \"university\", \"university\", \"university\", \"university\", \"university\", \"university\", \"university\", \"use\", \"use\", \"use\", \"use\", \"use\", \"use\", \"use\", \"use\", \"user\", \"user\", \"user\", \"user\", \"user\", \"user\", \"variable\", \"ve\", \"ve\", \"ve\", \"ve\", \"ve\", \"ve\", \"ve\", \"ve\", \"ver\", \"version\", \"version\", \"version\", \"version\", \"version\", \"version\", \"version_pl\", \"version_pl\", \"version_pl\", \"version_pl\", \"version_pl\", \"version_pl\", \"version_pl\", \"version_pl\", \"video_card\", \"viewer\", \"village\", \"village\", \"virginia_polytchnic\", \"virtual_reality\", \"vram\", \"want\", \"want\", \"want\", \"want\", \"want\", \"want\", \"want\", \"want\", \"war\", \"war\", \"war\", \"war\", \"water\", \"water\", \"water\", \"way\", \"way\", \"way\", \"way\", \"way\", \"way\", \"way\", \"way\", \"weapon\", \"weapon\", \"weapon\", \"well\", \"well\", \"well\", \"well\", \"well\", \"well\", \"well\", \"well\", \"well_regulate\", \"western_digital\", \"wheel\", \"wheel\", \"white_house\", \"widget\", \"widget\", \"width\", \"win\", \"win\", \"win\", \"win\", \"win\", \"window\", \"window\", \"window\", \"window\", \"window_manag\", \"wing\", \"wing\", \"wing\", \"wire\", \"wire\", \"wire\", \"wiretap\", \"wiring\", \"wm\", \"wm\", \"wm\", \"wm_wm\", \"word\", \"word\", \"word\", \"word\", \"word\", \"word\", \"word\", \"word\", \"work\", \"work\", \"work\", \"work\", \"work\", \"work\", \"work\", \"work\", \"world\", \"world\", \"world\", \"world\", \"world\", \"world\", \"world\", \"world\", \"worship\", \"xputimage\", \"year\", \"year\", \"year\", \"year\", \"year\", \"year\", \"year\", \"zd\"]}, \"R\": 30, \"lambda.step\": 0.01, \"plot.opts\": {\"xlab\": \"PC1\", \"ylab\": \"PC2\"}, \"topic.order\": [3, 2, 10, 4, 1, 6, 9, 8, 5, 7]};\n",
              "\n",
              "function LDAvis_load_lib(url, callback){\n",
              "  var s = document.createElement('script');\n",
              "  s.src = url;\n",
              "  s.async = true;\n",
              "  s.onreadystatechange = s.onload = callback;\n",
              "  s.onerror = function(){console.warn(\"failed to load library \" + url);};\n",
              "  document.getElementsByTagName(\"head\")[0].appendChild(s);\n",
              "}\n",
              "\n",
              "if(typeof(LDAvis) !== \"undefined\"){\n",
              "   // already loaded: just create the visualization\n",
              "   !function(LDAvis){\n",
              "       new LDAvis(\"#\" + \"ldavis_el2371349182565734885945031076\", ldavis_el2371349182565734885945031076_data);\n",
              "   }(LDAvis);\n",
              "}else if(typeof define === \"function\" && define.amd){\n",
              "   // require.js is available: use it to load d3/LDAvis\n",
              "   require.config({paths: {d3: \"https://d3js.org/d3.v5\"}});\n",
              "   require([\"d3\"], function(d3){\n",
              "      window.d3 = d3;\n",
              "      LDAvis_load_lib(\"https://cdn.jsdelivr.net/gh/bmabey/pyLDAvis@3.4.0/pyLDAvis/js/ldavis.v3.0.0.js\", function(){\n",
              "        new LDAvis(\"#\" + \"ldavis_el2371349182565734885945031076\", ldavis_el2371349182565734885945031076_data);\n",
              "      });\n",
              "    });\n",
              "}else{\n",
              "    // require.js not available: dynamically load d3 & LDAvis\n",
              "    LDAvis_load_lib(\"https://d3js.org/d3.v5.js\", function(){\n",
              "         LDAvis_load_lib(\"https://cdn.jsdelivr.net/gh/bmabey/pyLDAvis@3.4.0/pyLDAvis/js/ldavis.v3.0.0.js\", function(){\n",
              "                 new LDAvis(\"#\" + \"ldavis_el2371349182565734885945031076\", ldavis_el2371349182565734885945031076_data);\n",
              "            })\n",
              "         });\n",
              "}\n",
              "</script>"
            ]
          },
          "metadata": {},
          "execution_count": 112
        }
      ]
    },
    {
      "cell_type": "code",
      "execution_count": null,
      "metadata": {
        "id": "8ipuFfxlLNis",
        "outputId": "b99c0de8-0a8b-40f4-8138-322418fc510d"
      },
      "outputs": [
        {
          "name": "stderr",
          "output_type": "stream",
          "text": [
            "/Users/subashgandyer/.local/lib/python3.8/site-packages/ipykernel/ipkernel.py:283: DeprecationWarning: `should_run_async` will not call `transform_cell` automatically in the future. Please pass the result to `transformed_cell` argument and any exception that happen during thetransform in `preprocessing_exc_tuple` in IPython 7.17 and above.\n",
            "  and should_run_async(code)\n"
          ]
        },
        {
          "data": {
            "text/html": [
              "\n",
              "<link rel=\"stylesheet\" type=\"text/css\" href=\"https://cdn.jsdelivr.net/gh/bmabey/pyLDAvis@3.2.2/pyLDAvis/js/ldavis.v1.0.0.css\">\n",
              "\n",
              "\n",
              "<div id=\"ldavis_el483091405521639190083403866753\"></div>\n",
              "<script type=\"text/javascript\">\n",
              "\n",
              "var ldavis_el483091405521639190083403866753_data = {\"mdsDat\": {\"x\": [-0.28251375587704197, -0.2794349247211039, -0.1162200708307705, -0.22638237829921884, -0.1436281268462819, -0.09696692396298423, 0.14117042193501322, 0.06291428581502671, 0.08034356468149448, 0.05346158698372631, 0.0064950682625458545, 0.0006855933534032335, -0.041837712584357596, 0.11281646183808071, 0.0940967840645985, 0.10739877240907336, 0.13708946113818346, 0.14791347420883094, 0.11725273478638423, 0.12534568364539803], \"y\": [-0.056497669344378054, -0.019724415017730975, 0.2332016752802688, -0.11197495980515337, -0.027520346134171134, 0.01549423168590524, -0.11702459023474697, 0.1500954537119558, 0.21374964405049793, 0.09566658168070424, 0.22169647562779, -0.13785837775754325, -0.10281366391278716, 0.0055050086183378024, -0.07192738608444195, -0.11496713783224524, -0.022394004626049034, -0.08803060782941595, 0.041413703839039286, -0.10608961591583632], \"topics\": [1, 2, 3, 4, 5, 6, 7, 8, 9, 10, 11, 12, 13, 14, 15, 16, 17, 18, 19, 20], \"cluster\": [1, 1, 1, 1, 1, 1, 1, 1, 1, 1, 1, 1, 1, 1, 1, 1, 1, 1, 1, 1], \"Freq\": [22.24707228218035, 12.727841127557813, 12.067801656898322, 11.18600953201815, 7.532973344549462, 6.243389709247432, 5.269797548956015, 2.888201803935193, 2.6546895705009077, 2.5780276889472202, 2.567291727034248, 2.2014725857710173, 2.1653800619779275, 1.2703747443652975, 1.1900319659512841, 1.154864257135772, 1.1421454271288811, 1.1190329071643357, 0.9442386869797312, 0.8493633717006362]}, \"tinfo\": {\"Term\": [\"ax\", \"may\", \"would\", \"question\", \"people\", \"year\", \"be\", \"good\", \"article\", \"program\", \"key\", \"file\", \"know\", \"system\", \"use\", \"team\", \"run\", \"come\", \"time\", \"say\", \"get\", \"case\", \"go\", \"game\", \"think\", \"car\", \"point\", \"gun\", \"list\", \"drive\", \"be\", \"organization\", \"s\", \"really\", \"have\", \"probably\", \"lot\", \"will\", \"maybe\", \"big\", \"sound\", \"distribution_usa\", \"like\", \"hard\", \"pretty\", \"d\", \"guess\", \"wonder\", \"want\", \"guy\", \"job\", \"nice\", \"serious\", \"nntp_poste\", \"ride\", \"advice\", \"anyway\", \"wait\", \"there\", \"suspect\", \"article\", \"much\", \"little\", \"get\", \"know\", \"good\", \"bad\", \"sure\", \"would\", \"host\", \"look\", \"could\", \"think\", \"reply\", \"try\", \"well\", \"thing\", \"go\", \"make\", \"seem\", \"work\", \"see\", \"way\", \"need\", \"believe\", \"evidence\", \"claim\", \"law\", \"sense\", \"life\", \"faith\", \"god\", \"accept\", \"religion\", \"argument\", \"prove\", \"christian\", \"belief\", \"certainly\", \"israeli\", \"conclusion\", \"religious\", \"statement\", \"indeed\", \"family\", \"therefore\", \"nature\", \"school\", \"argue\", \"respect\", \"direct\", \"term\", \"convince\", \"bomb\", \"action\", \"reason\", \"fact\", \"matter\", \"true\", \"person\", \"word\", \"state\", \"explain\", \"people\", \"exist\", \"human\", \"man\", \"say\", \"mean\", \"view\", \"agree\", \"love\", \"world\", \"right\", \"point\", \"child\", \"would\", \"make\", \"think\", \"many\", \"even\", \"can\", \"follow\", \"window\", \"card\", \"driver\", \"software\", \"machine\", \"sale\", \"computer\", \"memory\", \"color\", \"version\", \"advance\", \"appreciate\", \"screen\", \"com\", \"device\", \"instal\", \"package\", \"slow\", \"product\", \"monitor\", \"server\", \"distribution\", \"video\", \"hardware\", \"mode\", \"pc\", \"ca\", \"object\", \"scsi\", \"period\", \"mail\", \"available\", \"speed\", \"use\", \"system\", \"drive\", \"fast\", \"thank\", \"type\", \"bit\", \"email\", \"run\", \"set\", \"support\", \"problem\", \"number\", \"need\", \"also\", \"work\", \"help\", \"include\", \"build\", \"happen\", \"leave\", \"hand\", \"head\", \"black\", \"later\", \"center\", \"break\", \"character\", \"deny\", \"forget\", \"press\", \"normal\", \"white\", \"steal\", \"flame\", \"mount\", \"light\", \"pull\", \"medium\", \"purchase\", \"owner\", \"pro\", \"firearm\", \"count\", \"folk\", \"fear\", \"night\", \"immediately\", \"push\", \"start\", \"move\", \"place\", \"turn\", \"block\", \"report\", \"sometimes\", \"come\", \"fire\", \"first\", \"back\", \"away\", \"side\", \"second\", \"take\", \"time\", \"never\", \"close\", \"lead\", \"name\", \"right\", \"see\", \"say\", \"go\", \"end\", \"return\", \"tell\", \"find\", \"point\", \"hear\", \"talk\", \"week\", \"ill\", \"news\", \"young\", \"interesting\", \"hour\", \"office\", \"eat\", \"finally\", \"eventually\", \"basis\", \"vote\", \"hide\", \"scripture\", \"upgrade\", \"hole\", \"ago\", \"impression\", \"thread\", \"primarily\", \"btw\", \"wear\", \"frame\", \"clock\", \"unlikely\", \"opportunity\", \"devil\", \"success\", \"ever\", \"age\", \"old\", \"post\", \"month\", \"early\", \"body\", \"net\", \"next\", \"order\", \"last\", \"year\", \"comment\", \"plan\", \"soon\", \"day\", \"show\", \"new\", \"cover\", \"yet\", \"call\", \"also\", \"change\", \"expect\", \"ask\", \"part\", \"long\", \"read\", \"time\", \"may\", \"rule\", \"often\", \"whole\", \"discussion\", \"level\", \"value\", \"atheist\", \"particular\", \"define\", \"obviously\", \"logic\", \"society\", \"legal\", \"possibly\", \"choice\", \"sorry\", \"wish\", \"market\", \"generally\", \"tend\", \"insist\", \"teach\", \"catch\", \"disagree\", \"language\", \"rider\", \"impossible\", \"topic\", \"observation\", \"aspect\", \"example\", \"case\", \"result\", \"common\", \"reduce\", \"assume\", \"cause\", \"research\", \"thus\", \"field\", \"usually\", \"other\", \"may\", \"apply\", \"must\", \"certain\", \"specific\", \"group\", \"produce\", \"large\", \"however\", \"note\", \"many\", \"effect\", \"area\", \"non\", \"different\", \"well\", \"ax\", \"bike\", \"wire\", \"kid\", \"internal\", \"apple\", \"doctor\", \"cable\", \"worry\", \"aware\", \"draft\", \"cap\", \"club\", \"ok\", \"modem\", \"father\", \"pop\", \"shop\", \"meter\", \"diet\", \"sgi\", \"mere\", \"dirt\", \"wash\", \"consent\", \"reflection\", \"incline\", \"silent\", \"chemist\", \"vitamin\", \"receive\", \"die\", \"patient\", \"service\", \"internet\", \"pass\", \"network\", \"publish\", \"license\", \"motif\", \"appropriate\", \"meet\", \"univ\", \"operate\", \"treatment\", \"activity\", \"disease\", \"official\", \"industry\", \"rsa\", \"procedure\", \"medical\", \"independent\", \"past\", \"letter\", \"health\", \"department\", \"magazine\", \"workstation\", \"percent\", \"local\", \"study\", \"issue\", \"information\", \"relate\", \"general\", \"increase\", \"include\", \"address\", \"group\", \"involve\", \"file\", \"info\", \"image\", \"copy\", \"disk\", \"notice\", \"review\", \"box\", \"external\", \"manual\", \"generate\", \"electronic\", \"display\", \"sample\", \"prefer\", \"status\", \"reliable\", \"routine\", \"widget\", \"confirm\", \"reading\", \"band\", \"compression\", \"backup\", \"button\", \"giant\", \"portable\", \"exposure\", \"speaker\", \"working\", \"program\", \"user\", \"source\", \"input\", \"digital\", \"code\", \"data\", \"text\", \"datum\", \"application\", \"include\", \"information\", \"return\", \"car\", \"price\", \"sell\", \"low\", \"rate\", \"engine\", \"dealer\", \"vehicle\", \"air\", \"extra\", \"cool\", \"tax\", \"insurance\", \"cycle\", \"water\", \"oil\", \"fuel\", \"energy\", \"production\", \"recall\", \"gas\", \"nuclear\", \"auto\", \"cylinder\", \"panel\", \"canadian\", \"probe\", \"heat\", \"middle\", \"channel\", \"cost\", \"buy\", \"cheap\", \"model\", \"safety\", \"hot\", \"ground\", \"pay\", \"high\", \"power\", \"risk\", \"less\", \"drive\", \"design\", \"company\", \"money\", \"key\", \"encryption\", \"security\", \"private\", \"secure\", \"clearly\", \"tap\", \"clipper\", \"technical\", \"obtain\", \"agency\", \"secret\", \"listen\", \"associate\", \"communication\", \"federal\", \"description\", \"dual\", \"proposal\", \"privacy\", \"german\", \"restrict\", \"scheme\", \"prohibit\", \"noise\", \"exchange\", \"historical\", \"regulation\", \"cryptography\", \"automatically\", \"court\", \"public\", \"government\", \"citizen\", \"protect\", \"technology\", \"chip\", \"message\", \"provide\", \"system\", \"use\", \"play\", \"player\", \"season\", \"tape\", \"graphic\", \"fan\", \"goal\", \"trade\", \"total\", \"material\", \"pen\", \"star\", \"baseball\", \"convert\", \"mine\", \"hell\", \"sport\", \"impact\", \"specifically\", \"nntp_posting\", \"excellent\", \"series\", \"tie\", \"capture\", \"specification\", \"penguin\", \"latter\", \"mercy\", \"typically\", \"percentage\", \"record\", \"defense\", \"hit\", \"lose\", \"year\", \"double\", \"point\", \"number\", \"last\", \"good\", \"well\", \"war\", \"soldier\", \"murder\", \"village\", \"military\", \"land\", \"turkish\", \"greek\", \"withdraw\", \"occupy\", \"armenian\", \"turk\", \"civilian\", \"terrorism\", \"rocket\", \"girl\", \"inhabitant\", \"russian\", \"alive\", \"proceed\", \"troop\", \"escape\", \"innocent\", \"sad\", \"genocide\", \"muslim\", \"investment\", \"french\", \"moslem\", \"slaughter\", \"kill\", \"attack\", \"death\", \"government\", \"force\", \"child\", \"destroy\", \"woman\", \"country\", \"people\", \"policy\", \"man\", \"jewish\", \"list\", \"entry\", \"section\", \"author\", \"special\", \"site\", \"sun\", \"laboratory\", \"student\", \"session\", \"command\", \"contribute\", \"archive\", \"join\", \"cold\", \"solid\", \"conference\", \"configuration\", \"coverage\", \"implementation\", \"regularly\", \"informed\", \"terminal\", \"threat\", \"collection\", \"danger\", \"hang\", \"park\", \"boot\", \"crew\", \"send\", \"name\", \"address\", \"email\", \"team\", \"game\", \"win\", \"test\", \"score\", \"division\", \"wing\", \"cpu\", \"resource\", \"flight\", \"stat\", \"dog\", \"ice\", \"controller\", \"finish\", \"pitch\", \"ram\", \"staff\", \"origin\", \"deficit\", \"era\", \"quit\", \"core\", \"testing\", \"hitter\", \"rain\", \"tricky\", \"worthwhile\", \"rbi\", \"observer\", \"offense\", \"final\", \"pick\", \"run\", \"predict\", \"second\", \"watch\", \"first\", \"answer\", \"access\", \"page\", \"format\", \"recommend\", \"trial\", \"faq\", \"step\", \"library\", \"rational\", \"should\", \"blind\", \"gateway\", \"usenet\", \"background\", \"trap\", \"bank\", \"constitution\", \"camp\", \"accurate\", \"enable\", \"fish\", \"split\", \"powerful\", \"fancy\", \"camera\", \"custom\", \"unusual\", \"gravity\", \"tiff\", \"question\", \"search\", \"ask\", \"easy\", \"book\", \"science\", \"truth\", \"drug\", \"reality\", \"shall\", \"revelation\", \"moral\", \"atheism\", \"animal\", \"boy\", \"objective\", \"cd\", \"concept\", \"understanding\", \"wave\", \"morality\", \"cry\", \"interpret\", \"immediate\", \"universe\", \"absolute\", \"bible\", \"rich\", \"follower\", \"investigation\", \"evolution\", \"cult\", \"mankind\", \"ancient\", \"authority\", \"experiment\", \"system\", \"suggest\", \"church\", \"community\", \"scientific\", \"ignore\", \"weight\", \"significant\", \"particularly\", \"separate\", \"bill\", \"benefit\", \"requirement\", \"additional\", \"gain\", \"related\", \"unknown\", \"detailed\", \"abuse\", \"consideration\", \"meeting\", \"role\", \"approve\", \"rely\", \"warrant\", \"guilty\", \"sufficient\", \"electrical\", \"location\", \"physics\", \"recommendation\", \"perform\", \"process\", \"member\", \"measure\", \"space\", \"project\", \"orbit\", \"launch\", \"mission\", \"operation\", \"satellite\", \"plane\", \"surface\", \"moon\", \"degree\", \"gmt\", \"schedule\", \"imaging\", \"shuttle\", \"lunar\", \"component\", \"receiver\", \"sky\", \"ozone\", \"distant\", \"spacecraft\", \"solar\", \"planetary\", \"telescope\", \"frequently_asked\", \"tour\", \"atmosphere\", \"transport\", \"archive_name\", \"facility\", \"expire\", \"earth\", \"fly\", \"development\", \"build\", \"base\", \"gun\", \"crime\", \"police\", \"bus\", \"weapon\", \"criminal\", \"master\", \"cop\", \"link\", \"northern\", \"violate\", \"ammunition\", \"radiation\", \"effectively\", \"revolver\", \"trigger\", \"inform\", \"strength\", \"garage\", \"fighting\", \"battle\", \"bullet\", \"hunt\", \"bloody\", \"joint\", \"assault\", \"fatal\", \"horror\", \"silence\", \"hammer\", \"shoot\", \"survey\", \"carry\", \"kill\", \"protect\", \"safe\", \"arm\", \"city\", \"training\"], \"Freq\": [42743.0, 6854.0, 11790.0, 3067.0, 6725.0, 4435.0, 6945.0, 5607.0, 7207.0, 2751.0, 2611.0, 2590.0, 7545.0, 4318.0, 5586.0, 1872.0, 2616.0, 4434.0, 5921.0, 7882.0, 6045.0, 2819.0, 6851.0, 1631.0, 6704.0, 1944.0, 3337.0, 1480.0, 1578.0, 3130.0, 6943.885274734407, 4391.747691215215, 3141.756639148981, 2737.4916997106197, 2580.7134831500007, 1747.031258704025, 1649.7781370426417, 1635.2034253837967, 1305.1242664352444, 1249.119077576961, 943.3968687759128, 919.9324307278029, 913.8795163577627, 1079.6888192411368, 814.7982196678162, 2347.975604646701, 800.0170941029975, 724.5755698454361, 4136.723883908391, 627.4059641571234, 587.5049380773381, 577.8825761440602, 530.2755765647327, 4453.603477135329, 486.9587526484902, 473.48706359277645, 463.3708158331385, 438.95779691757883, 379.4602857766172, 357.72373804382136, 7100.387981440109, 3282.8128781917785, 1779.0117041827675, 5735.583823331474, 7096.660623688416, 5199.100371758636, 1850.5854939386093, 2189.1956265549566, 10164.64966304728, 4237.777228140352, 3291.587462873239, 4024.4487021123955, 5573.543390390462, 2113.6473722703317, 3125.5539941602497, 3832.6514569586343, 3235.9060691021773, 4957.64100048089, 5024.850111115657, 2320.3448720518722, 2377.602199671876, 2608.3405014961904, 2261.8681784522555, 2252.1512670425973, 2861.780674478156, 2534.2955104825833, 1749.201754701057, 1599.943844864248, 1508.5088752922532, 1266.020771023242, 1144.8540928052153, 905.7656909277871, 882.2068958381174, 871.3014235550941, 857.520241542651, 851.5047007824871, 737.593170965529, 734.3550913106294, 665.6086165157301, 611.8048699673272, 590.0185500564445, 558.8239868957902, 553.3991253639308, 503.78485139740525, 438.99178999008564, 432.8353137035408, 427.2302359453757, 425.22392029122085, 393.20061873597155, 390.86065150417375, 387.725882902537, 373.17433667804426, 341.2075968307216, 319.6992730268644, 633.5268157796858, 2832.993827600562, 1807.7454348728452, 833.3293303049469, 1377.3247123560905, 1339.231745798617, 1129.501057804532, 1953.6745163255728, 858.6203511370447, 5593.489170448252, 1402.4748601609322, 628.7667574381211, 1351.1083294824862, 3777.1788555154285, 1560.3465243732976, 793.7218849557821, 898.1644223736818, 763.9872388508854, 882.9038860776742, 1203.6318946984325, 1210.783544548864, 881.5852795430462, 1624.3713777883727, 1404.7035789506199, 1129.8514278980538, 1034.229079464862, 1019.7340324491711, 979.9307773420677, 930.298409878918, 1812.1436319767886, 1724.593182056718, 1362.8148483111952, 1327.2312191037915, 1191.4540795333178, 1022.0496560068755, 1532.7880305982626, 927.6474940950081, 917.0396513675398, 879.5458389293851, 843.0642132374521, 751.3200118849799, 746.8149186596709, 744.0024723648154, 739.1231052978616, 704.1882332181221, 645.0781509093374, 636.5471250482603, 632.0512168206485, 614.8425606836387, 603.8327113472852, 603.1682508364612, 596.3507899973673, 577.1181751742618, 534.5724954865965, 509.75960938517306, 468.9808565932086, 463.8363690120814, 462.93792809217973, 433.67843646046055, 2143.5497264340997, 1414.0318176634798, 868.9861137382397, 4605.638491454801, 3605.1611358457085, 2584.9508497002416, 933.1126269828391, 2317.477790955394, 1093.8646049044535, 1563.3685026729754, 976.5269111624027, 1745.6209009781371, 1344.2772711525377, 1202.1654460735401, 1954.0574166538265, 1509.7069017400675, 1676.6697751044687, 1851.9216644551404, 1593.9668706786852, 1134.6672090614056, 985.716768019586, 913.3878740573173, 1765.398530707263, 1591.5473299834825, 1261.5467089577305, 715.4590978192317, 683.5005159514328, 659.3652848050673, 655.5019186858639, 642.4174471336984, 582.7631414030645, 564.875374521035, 546.9031831885156, 508.90547924291855, 504.09740517057406, 487.4793007303643, 474.9844820578412, 461.0691684509509, 424.61854118738154, 821.0972650296823, 410.0481004360576, 407.7416705882528, 392.92119724185363, 383.4706847057871, 380.90595558769644, 353.79197496177744, 351.75760386691803, 351.7111896439746, 333.34678439556444, 324.229822591834, 311.79641350658994, 311.20796904458626, 1975.0188935384615, 932.5711556580974, 1691.1495060163809, 1169.0075143111105, 542.9222160618307, 1273.1558673571885, 815.2697258948168, 3908.8193205555726, 676.6974542136377, 2602.1779807159323, 1928.8841446380227, 761.2537870105074, 744.2259740626821, 1020.1480381992069, 2858.079530694158, 3647.3104930211834, 1630.235369969261, 947.2131127624064, 915.1685684580317, 1136.1983162817708, 1459.1701211835768, 1818.5936244464046, 2206.288717505013, 1875.2780790455522, 1035.6422593072916, 790.359953970078, 1006.0789809118211, 911.0053499801913, 891.3614776286652, 1872.0519984694429, 1672.604285548916, 1145.11888328984, 941.7773694693939, 740.7811765717387, 674.6441918642065, 559.7845373187739, 516.3560399582168, 507.1869685270704, 472.6460848520678, 388.9619907806636, 370.99393396708246, 349.77725774899744, 331.014024544696, 309.49327112886635, 304.3593952924117, 300.7506956639014, 296.4763035240827, 280.7534169109646, 271.21840232340577, 267.547189409306, 264.95396077052675, 260.0458170792259, 245.18777772866704, 215.5879589427018, 204.28209833285393, 202.65651247181333, 201.6190508617965, 198.7234280752693, 194.4837511535131, 1272.3192152622853, 849.8755156110981, 1776.4415901811876, 2233.195170271575, 659.3796312067668, 758.3730809585982, 644.0680931098606, 939.5373223991404, 1188.1502178412995, 1584.656156568442, 1753.9860781952461, 3350.7393323175606, 721.4207010543437, 520.3037354481384, 615.5411724591161, 1711.1908885048533, 1334.096397666433, 2115.8478938508883, 627.2179883852564, 677.5983699945729, 1589.7027912308947, 2313.4940404629237, 994.2835726898512, 643.4921571000212, 1084.8597749925518, 991.3631295396374, 890.4742325806009, 918.519615981757, 1198.407057431813, 709.182079340314, 1104.633270026241, 1046.8622595170596, 1017.1699047948536, 898.090413882492, 822.4117476386206, 785.079431634073, 759.1727515816774, 688.5915418687123, 525.1272979189251, 487.830176959169, 481.40652944604125, 446.7668183142696, 427.2559485792956, 419.4456530906287, 396.2340611850753, 383.9680975519698, 376.5177235143935, 359.06187037124715, 350.59271015469363, 344.1601719072545, 344.13460338168295, 331.35576700962554, 308.5235948552389, 306.10516183400506, 260.14123043664085, 255.09264228674283, 245.220033672572, 240.99057340095044, 234.4907568209373, 230.17025849573704, 1224.417581565568, 2775.996772215897, 1023.176055687798, 490.77212094282396, 466.2488391492882, 898.7583839486217, 1237.2009859355992, 793.8307347053443, 563.9435694531653, 585.8261805253858, 689.3576165893131, 1090.9460765268952, 4719.589776419889, 632.3092694911289, 1625.3394203760195, 614.9605650252877, 502.7479094026268, 1486.4732630188023, 615.0002360949395, 968.260013254542, 1245.2008073536224, 807.4657487915932, 1397.303489953709, 605.1477695926397, 689.3405709055987, 614.784099278058, 634.340587677361, 654.530893459956, 42741.904867322235, 1388.3426754201837, 1381.9059388589783, 885.621605188972, 850.1628318234442, 723.1974113189342, 718.3255058022131, 688.746959267062, 654.4745406453071, 480.97221658622146, 453.25820795422015, 417.50479961262914, 391.3932729903477, 328.94851316184776, 328.08831152173747, 324.81663671990776, 266.38298559812137, 242.60926045506753, 205.8991165037365, 190.55949221992051, 148.31780042863662, 145.02656265105566, 126.70776369292894, 85.36420268422545, 66.18603661769212, 65.65997112095239, 58.57730055186468, 54.76502387548009, 42.97560096690472, 39.5214871838709, 1171.580555521928, 978.4417707888502, 926.9406703660478, 816.2403727983585, 804.9493317222757, 766.7605340370854, 620.7264496076631, 586.506257088221, 455.54915085263286, 451.628169856541, 439.7090797247526, 427.24198544897394, 420.7843863062513, 415.73551520759065, 401.2895076236459, 375.5362344102869, 353.4058869370649, 332.9501005740268, 308.7257645953215, 297.6554852300398, 292.083457380253, 291.86612778650283, 288.975320833143, 287.8492744298164, 279.62960937441443, 273.7261694946907, 251.42367724145436, 250.04076098678325, 242.90731843107633, 223.4275013530495, 778.8211635414675, 710.2512657219694, 1106.4926397266515, 1164.153340765429, 337.8441860301536, 484.773031884119, 484.2354091850925, 559.5413330974898, 455.3077113457154, 518.7980192007175, 349.7041643277766, 2589.1555954101773, 1183.619743019474, 1093.99542788033, 966.2744565132739, 882.7845131147091, 546.0788043879131, 491.3544894583893, 448.0099904694922, 407.0369121797746, 383.55612166704987, 378.4985995022016, 327.0833340279484, 774.590904194954, 311.35187676362483, 301.70564681197385, 298.06658665726485, 234.48587225005798, 201.5371143988447, 199.96227664409872, 199.72549696545286, 192.70692962793083, 182.77442360698117, 170.67780294441118, 157.0404979491417, 135.5142478161132, 117.95833299598718, 114.50166775779509, 111.6524250413967, 110.2340542808583, 105.02170109678981, 2677.150661961132, 912.4831817884823, 1550.1581269767753, 630.8078130812723, 342.79993064298463, 812.8060284761325, 284.71648326296025, 357.17742632933914, 474.65617749437604, 424.272762506959, 577.2750615114525, 542.3081623087243, 251.23781290807858, 1943.4213819349118, 1250.1582214338055, 1165.092551766379, 1014.7882771305702, 864.934062897784, 511.61193573785107, 339.76689318298304, 323.14319214120854, 312.2124665675733, 306.95311984170274, 298.9942208874411, 282.84096158444714, 279.9918533929229, 269.0511776764891, 211.44690205522687, 206.22300113067445, 203.35679034001424, 203.30296335886965, 189.9706581537815, 184.29298767628285, 173.58059557955272, 171.5801991229476, 171.52062485830356, 159.17173809235823, 156.35364497698743, 155.63372809300083, 152.94955681053887, 142.9495873426595, 141.08459384708974, 126.07663902154455, 1053.5353991097859, 1410.3362784848011, 695.5490095912553, 738.86727274532, 380.5875945393111, 310.73544002664556, 410.8468142980211, 800.8428891549295, 1128.9208204372228, 927.4490124928789, 362.4399265882918, 485.0559920271444, 543.9792185746701, 272.2454013807046, 256.93909418177856, 260.97401633797233, 2610.273755838171, 756.0460929339772, 660.672247960829, 616.4350932709315, 451.6893110975898, 442.5423901410023, 409.5385568092473, 386.92499798149674, 377.61920995465994, 376.5701225199666, 360.7491205553568, 350.1487461788898, 343.4910536164574, 342.1372419457646, 326.81086848205155, 261.60091571087895, 249.67648099571312, 245.30255614572482, 241.4010975755971, 201.7959227212459, 193.23923793582736, 188.7311295359475, 180.0621965047347, 163.89295267783584, 145.70920329953515, 142.19661733026282, 141.60641897858366, 138.34398372149644, 133.95038013030364, 132.04221037778714, 318.44955918105796, 1297.1912552372319, 1390.5567844488126, 400.2699327344098, 428.0153694141855, 567.2108085230575, 630.2626551399708, 430.1535320908115, 343.765799603524, 431.40782807728374, 384.50533223562246, 1469.0367200777087, 1082.2159344170586, 730.307323680817, 708.8935469743471, 671.0425628264608, 622.8535981425678, 580.3529009905935, 496.9969008449023, 493.5948110314008, 444.6246170755318, 365.114356066997, 338.46484711093876, 338.4362217842078, 323.42902669976934, 296.70884086071754, 269.5504107823633, 268.4157106140698, 253.10481465003184, 245.69091988772703, 197.5455850447276, 194.45244985281624, 189.0622402924329, 178.7023259241237, 173.3842093788343, 167.2212781492458, 166.2436064915617, 164.98330297308425, 157.71816694232956, 145.80753387328195, 144.7926428047464, 461.90800128250413, 266.43498502258217, 511.18010162996757, 570.4676070792792, 1048.355632148326, 217.87226956588103, 722.9062065379217, 388.58902657607115, 345.831263612291, 407.15540484563275, 236.30269915380802, 675.6913765335818, 634.2346530816285, 573.9621359128862, 563.4275303031266, 520.4314550019354, 493.6284952081721, 394.6115472069817, 361.5837246510612, 353.7356586824761, 350.58239681552266, 317.2020285331265, 316.85728738389884, 277.01666433510127, 260.383642874128, 223.28636062680292, 218.97559701705362, 195.984375738488, 185.55865142439458, 171.89660072364603, 170.56135877202627, 169.19009242297318, 167.12897162259867, 144.8771011265387, 139.84863539814864, 135.3237988269102, 133.09012669195835, 122.82446000908212, 122.4055434771818, 116.21556738798165, 103.08015552444542, 1143.1180132572294, 749.4270659114572, 620.8855935741643, 606.6987010028995, 373.9253769830757, 442.3783245285999, 201.82747345771546, 253.23279998361215, 274.4176975797769, 454.7754382705944, 195.79289777243744, 227.74672968870303, 189.49760242214606, 1576.695148758245, 1032.3192394094979, 755.6184070892166, 552.3672909264551, 520.139715289972, 431.0046177960341, 428.8039224689387, 301.7130936163838, 301.28526103805393, 298.0036808615423, 293.68093993830314, 260.37090745587767, 233.48023507283537, 226.9434243758669, 226.52629634530936, 212.14220375218287, 193.13966022264873, 192.53187147058074, 182.04407207644604, 177.60512817191199, 166.38945695775104, 159.61961649004758, 151.04517391514887, 150.50484377590686, 147.3339645928491, 144.42446102264594, 141.55639078944947, 125.9373701635217, 124.12313645856399, 122.89223822638095, 364.1081559181913, 299.5794202364127, 166.28926089346294, 150.26067279169794, 1871.121587805718, 1630.5462584261973, 989.6267585321435, 872.757345137374, 540.8269124735538, 490.24558202819475, 456.2693235191155, 346.5993915461108, 253.18527336626659, 232.4776220225543, 218.32773525806917, 217.11421397468538, 210.5664068287984, 206.0223110871818, 190.81824534701227, 189.9619995767845, 187.79289193233794, 109.72315515543568, 97.62524763523848, 93.58241867141118, 89.77828761666791, 86.02033240597042, 79.79531205752718, 73.76717891655477, 68.55574814709361, 59.87414601501981, 44.0776801920982, 38.80476636225642, 38.27526348241334, 37.78340484293255, 148.176530473652, 193.75048741025336, 219.35823611174987, 542.7514085219796, 106.04149936206363, 118.46440254695965, 95.65157799434938, 112.04945467596822, 1179.7492063020811, 684.5367623543648, 654.933475414461, 578.9976366709659, 434.07627520941986, 432.53860591419914, 376.34993599546664, 357.97831747063145, 357.4821838949976, 329.6007789774416, 323.47090256872656, 269.27683842782125, 242.0152829107669, 229.2444027222798, 219.20284697085455, 207.7688870768402, 183.27618200066732, 176.1937912795332, 171.22058070942154, 156.55612706506557, 139.26003548892697, 128.72665602742066, 126.19482550843925, 115.12620611228331, 114.59840636658797, 110.76199088653111, 103.93354198046745, 102.11323623899588, 73.52139535206976, 45.685513389415064, 2137.780418830716, 168.4447664331469, 400.509998843225, 153.80286019068285, 1384.630898870268, 871.5672650709442, 742.0008984278653, 609.5298184576334, 535.5129759143643, 482.25716134051567, 432.9139606217961, 405.03077657999955, 354.34397769484616, 312.6018248881284, 298.4247016251713, 286.4856523533333, 252.8499110446598, 252.20292361528772, 237.9962327576041, 211.70388850703716, 177.64392624519354, 166.0379610876968, 162.81006811742532, 157.29546493041482, 157.13113819948035, 151.0721816846712, 148.3269269791539, 132.11983578917514, 122.53763564523882, 121.85437294980245, 99.26129822519235, 86.1506330123166, 86.00226223870324, 84.07524248482264, 343.30025672766277, 113.91644963096412, 215.3167883518885, 821.660706908315, 750.6840778674508, 503.42200918650514, 453.81454175511277, 419.6510764822523, 364.7685436040912, 350.09117189393095, 338.51696216067523, 326.8743515571156, 315.90539721125083, 289.35792485651353, 256.0055769733792, 247.93924169289792, 243.2789268700148, 221.1302546997041, 199.90009280225104, 191.266614958642, 191.20133520774135, 189.61710335398172, 185.62952164080102, 178.22976515007193, 177.56459306202265, 171.73612237344364, 171.4698051674545, 165.8860346360394, 160.8509217281873, 150.05184859266302, 149.52717083719182, 111.84867671461475, 100.3227893828254, 471.73724023302776, 593.1618409727728, 704.9721191268409, 151.2554247676439, 1448.511575470644, 394.88034454012114, 389.933039876741, 385.47921935774673, 363.0932740797616, 311.8198115259211, 284.96682210465775, 283.9980849837277, 273.34420222841163, 251.59386259956392, 245.9104490331969, 241.82561028857714, 212.4313481511367, 200.53396250523193, 190.1139876734349, 144.57366173884392, 144.1291124228917, 129.89569843407526, 128.615890852693, 123.65517710045273, 111.63010836705458, 111.28359562608819, 107.91325916132658, 107.81219951374845, 100.74840092631922, 79.02041905213389, 77.80414236133319, 58.75084250960892, 54.55397852434248, 45.9282019126671, 194.47848845252528, 92.67562867815066, 326.24647032992203, 117.57458187089811, 135.57198088748692, 117.15099005205788, 103.67432717356077, 1479.567655206639, 564.2835871500661, 480.8135431125129, 477.7071788133576, 455.0746289399181, 366.2482919520749, 348.32180057713225, 309.00210192303393, 265.64226119022976, 230.39491938101173, 148.84474861707176, 145.30285936413694, 144.7936792096014, 120.42350889169, 91.25083597209476, 89.64905640466836, 86.90357756480054, 83.61762970765248, 81.55839545566653, 77.90470544896809, 77.51092956424675, 76.89813164031243, 64.46023313769723, 54.81424210999038, 54.31281535399422, 53.735326882472144, 47.50621146175103, 44.909707147126944, 43.738109820446745, 41.56617393568451, 343.7126699872181, 66.98946347790486, 360.2102004186599, 235.94530170969253, 164.0790631603947, 125.20627556981907, 103.50158103056926, 111.93461771173766, 73.37928153397876], \"Total\": [42743.0, 6854.0, 11790.0, 3067.0, 6725.0, 4435.0, 6945.0, 5607.0, 7207.0, 2751.0, 2611.0, 2590.0, 7545.0, 4318.0, 5586.0, 1872.0, 2616.0, 4434.0, 5921.0, 7882.0, 6045.0, 2819.0, 6851.0, 1631.0, 6704.0, 1944.0, 3337.0, 1480.0, 1578.0, 3130.0, 6945.209021037133, 4393.071437517941, 3143.08038545171, 2738.8154460133487, 2582.0372294527297, 1748.3550050067538, 1651.1018833453704, 1636.5271716865254, 1306.4480127379732, 1250.4428243389107, 944.7206150786409, 921.2561770305309, 915.2032626604907, 1081.2751709126107, 816.1219659705442, 2351.814595389183, 801.3408404057255, 725.8993161481642, 4144.916292451168, 628.7297104598515, 588.8286843800662, 579.2063224467882, 531.599322882974, 4465.443299787829, 488.2824989512185, 474.81080989550475, 464.6945621358668, 440.2815432203071, 380.7840320793455, 359.04748437018714, 7207.287293350086, 3332.691043296367, 1818.6878708900438, 6045.727316592642, 7545.371351865156, 5607.512948874903, 1940.4218496266299, 2315.8455875826153, 11790.534367169765, 4756.95776973863, 3648.9388829048817, 4640.418511213591, 6704.660820393314, 2324.3026410604652, 3717.1713872003083, 4754.651755056598, 4037.8852332657084, 6851.820976366272, 7164.728223476913, 2750.056457970421, 4137.552013556737, 5310.632660052101, 3756.120987619819, 4050.3423382700607, 2863.1106647599217, 2535.625500764349, 1750.5317449828228, 1601.2738351460137, 1509.8388655740189, 1267.3507613452384, 1146.184083086981, 907.095681209552, 883.5368861250741, 872.631413836859, 858.8502318244159, 852.8346910694439, 738.9231612472939, 735.6850815923943, 666.938606797495, 613.134860254284, 591.3485403382094, 560.1539771775551, 554.7291156456957, 505.11484168444883, 440.3217802718508, 434.16530398530597, 428.56022622714084, 426.553910572986, 394.53060902700156, 392.19064179203076, 389.05587320802823, 374.5043269598094, 342.5375871400339, 321.0292633667902, 639.5947417633996, 2986.92078799449, 1893.9609072082603, 852.4558773410033, 1439.1959365565724, 1414.483984159571, 1185.6362435359115, 2122.559865973745, 897.8853164256951, 6725.059581310367, 1532.8444861429457, 648.806732504281, 1881.557073510893, 7882.465244293311, 2328.5509025216566, 911.3684521329482, 1163.5681513241027, 889.917771404288, 1330.4701129483858, 3266.5528734711347, 3337.0227898756957, 1325.2264842022182, 11790.534367169765, 7164.728223476913, 6704.660820393314, 3623.197240719929, 3630.0489492035767, 3217.712068737227, 2066.1914614461493, 1813.4638005107256, 1725.9133505958469, 1364.1350168451322, 1328.5513876377286, 1192.7742480672548, 1023.3698245408119, 1534.8696526037868, 928.9676626289446, 918.3598199014763, 880.8660074633216, 844.3843817713886, 752.6401804189163, 748.1350871936073, 745.3226409132086, 740.443273831798, 705.5084017520586, 646.3983194432739, 637.8672935862697, 633.371385354585, 616.1627292175751, 605.1528798812217, 604.4884193703977, 597.6709585313038, 578.4383437081982, 535.892664020533, 511.07977791910963, 470.3010251271452, 465.1565375505459, 464.2580966261163, 434.99860503802313, 2174.080271809742, 1428.5900022039928, 881.9367228583557, 5586.620160968155, 4318.62299023644, 3130.1874222364586, 996.5494534625639, 2913.621360908541, 1220.5247435775705, 1884.9482978818332, 1132.953146368755, 2616.4848275131735, 1841.6521955922562, 1632.210897110106, 3597.2114856838507, 2744.52798408708, 4050.3423382700607, 5367.7864195170405, 4137.552013556737, 2543.514128539569, 2262.9446503976087, 1378.4954267535297, 1766.71857970358, 1592.8673789746076, 1262.8667579540474, 716.7791468103563, 684.8205649535553, 660.6853337961919, 656.8219676769885, 643.7374974783538, 584.083190400281, 566.1954235813387, 548.2232321796403, 510.2255282340432, 505.4174541686237, 488.79934972556197, 476.3045310530389, 462.38921744207556, 425.9385902122217, 823.6631535566961, 411.3681494271823, 409.0617195793775, 394.2412462432326, 384.79073370309305, 382.2260045940887, 355.1120239740649, 353.07765286323456, 353.03123863509927, 334.6668855514483, 325.5498715882371, 313.1164625022426, 312.52801803571094, 2006.2530272244046, 946.061203719905, 1740.9408921181277, 1197.8848821314114, 550.0211497716748, 1332.8840217580982, 843.520427012666, 4434.288625661363, 710.6548386901561, 3300.4897822533394, 2394.280362350486, 832.276576228739, 825.1982514973587, 1217.0126975919502, 4347.547866570333, 5921.085090684453, 2314.206192712733, 1147.3830569695021, 1117.8842751700647, 1696.2382772123165, 3266.5528734711347, 5310.632660052101, 7882.465244293311, 6851.820976366272, 1998.0224706078964, 1056.2759601882726, 3020.1510006634844, 3597.25581521005, 3337.0227898756957, 1873.3739511839437, 1673.926237800766, 1146.44083554169, 943.0993217212433, 742.1031288235881, 675.9661441343274, 561.1064895706234, 517.6779922100662, 508.50892399066, 473.96803710391737, 390.28394303251315, 372.3158862414735, 351.099210000847, 332.33597680061854, 310.81522343448745, 305.6813475480759, 302.07264791575096, 297.7982557812107, 282.0753691628141, 272.5403545980287, 268.86914166115554, 266.2759130749016, 261.36776933107546, 246.50972998051657, 216.9099111945513, 205.60405058470346, 203.97846473200545, 202.9410031241163, 200.04538033239723, 195.80570341228758, 1283.233302039269, 864.6226488406087, 1822.7092971629495, 2346.256204362254, 681.1161865017684, 802.3057124487594, 684.1528841064232, 1035.1132521911352, 1358.9191707478608, 1870.7628323381239, 2101.0722596331793, 4435.31127786426, 813.8510101687859, 562.7875529486738, 684.6360401204967, 2227.0236609723797, 1711.172311715466, 2995.5705570660857, 738.1972938791497, 817.6538235070182, 2851.7135113323893, 5367.7864195170405, 1661.9857366285855, 786.2908939869133, 2175.7889400321124, 2076.901963740073, 2061.8319444145777, 2278.9259608665743, 5921.085090684453, 6854.923272131309, 1105.9549181113812, 1048.1839076073916, 1018.4915528851852, 899.412065121638, 823.7333957237604, 786.4010797192128, 760.4943996706319, 689.9131899576668, 526.448946004065, 489.1518250512339, 482.72817755073515, 448.0884663994095, 428.5775967104696, 420.76730119894773, 397.55570927021523, 385.2897456371097, 377.8393715995334, 360.38351846256836, 351.9143582398336, 345.48181999239443, 345.45625151547205, 332.6774150985801, 309.84524294037885, 307.4268099322245, 261.4628785217808, 256.4142904007881, 246.54168175771187, 242.31222149061827, 235.81240491060512, 231.49190658087693, 1232.0308714148014, 2819.059116991238, 1034.37030711061, 494.2307425507194, 470.35796472760524, 938.4744681129846, 1316.7353231260624, 836.4186509032573, 588.8254277578467, 616.7588655850033, 740.8581863265389, 1229.6553496519205, 6854.923272131309, 689.6545520939621, 2166.430654186387, 678.8161705220035, 532.4858101182075, 2378.7062622337726, 706.5692302487288, 1354.059605119665, 1974.2792354775906, 1165.3772468425866, 3623.197240719929, 769.4942780782353, 1100.4215921284292, 1083.8035165061115, 1559.7375709933845, 4754.651755056598, 42743.155541543485, 1389.5933496715816, 1383.1566131471925, 886.8722796541513, 851.4135061645551, 724.4480855952348, 719.5761801308174, 689.9976335580653, 655.7252151216605, 482.22289112373306, 454.5088825029942, 418.7554740570681, 392.64394752229464, 330.1991875714056, 329.33898581986153, 326.0673111069379, 267.63365994403205, 243.85993478262264, 207.14979090730935, 191.81016654424693, 149.56847468769735, 146.27723707728313, 127.95843812402993, 86.61487699487472, 67.43671094527102, 66.91064619442223, 59.82797513469987, 56.01569819275149, 44.2262755130632, 40.77216158326136, 1172.9020583459665, 979.7632730584162, 928.2621726349373, 817.5618750627326, 806.2708339866498, 768.0820363014595, 622.0479518720372, 587.8277593525951, 456.870653127172, 452.94967212091524, 441.03058198912686, 428.5634877133482, 422.10588857062555, 417.0570174858455, 402.61100988802013, 376.85773667873417, 354.72738920143917, 334.27160283840107, 310.04726685969575, 298.9769875005696, 293.40495964462724, 293.1876300508771, 290.2968231013319, 289.1707766997286, 280.9511116387887, 275.0476717642568, 252.74517950582856, 251.36226326186667, 244.22882070663357, 224.7490036174237, 791.424329790987, 751.7596395730534, 1747.1928269803634, 2009.2353151559028, 387.9035264028381, 765.0787887971591, 814.4717154938619, 2262.9446503976087, 1293.2780907084311, 2378.7062622337726, 576.2261042860625, 2590.4672771220166, 1184.9314247313132, 1095.3071095921691, 967.5861717820087, 884.0961948265478, 547.390486106457, 492.66617117022827, 449.32167218133117, 408.34859391771624, 384.8678033788888, 379.81028122459855, 328.39501573978737, 777.7905883764757, 312.6635584754638, 303.0173285238128, 299.3782684179005, 235.79755413908737, 202.8487961106836, 201.27395835593762, 201.03717871581358, 194.0186113667509, 184.08610531882007, 171.98948465625008, 158.35217967835746, 136.8259295279521, 119.27001472907278, 115.813349469634, 112.96410677991308, 111.54573599269722, 106.33338280862873, 2751.110611505614, 983.9964485230593, 1767.9387033307303, 696.6580693386351, 375.47804625193044, 953.2852464909028, 366.28969647093214, 523.1978444278984, 954.7590120423662, 879.1801216099503, 2262.9446503976087, 2009.2353151559028, 1056.2759601882726, 1944.746301842216, 1251.4831413411098, 1166.4174716736834, 1016.1131974096066, 866.2589828050878, 512.936855645155, 341.0918130902871, 324.4681120485126, 313.53738647487734, 308.2780397490068, 300.319140821814, 284.1658814917512, 281.31677330022694, 270.3760975837931, 212.77182196253088, 207.54792103797845, 204.68171025637415, 204.6278832875081, 191.2955780610855, 185.61790758358686, 174.90551548685673, 172.9051190494983, 172.84554476560757, 160.4966580104403, 157.67856488429143, 156.95864800558323, 154.27447672689877, 144.2745072499635, 142.40951377631637, 127.40155894192903, 1088.4398157094224, 1497.7540685036688, 735.2212123300216, 814.9386617290887, 403.19879427175766, 325.589784428142, 448.388280994095, 1150.038192360322, 1895.28203854686, 1539.0154331745302, 581.8673500035972, 1368.3385225534075, 3130.1874222364586, 823.7220078828486, 960.8072494525414, 1122.5038735137775, 2611.5958058415913, 757.3681429373974, 661.9942979642492, 617.7571432743516, 453.01136110101, 443.86444015351555, 410.8606068126675, 388.24704798491695, 378.94125996869997, 377.89217255314, 362.071170558777, 351.470796186383, 344.81310364158037, 343.45929200517156, 328.13291848547175, 262.92296571429915, 250.99853099913335, 246.6246062181146, 242.72314757901734, 203.11797272466612, 194.56128794851244, 190.05317954962194, 181.38424650815492, 165.21500268125607, 147.0312533152285, 143.518667338211, 142.9284689955258, 139.66603372898965, 135.27243013372387, 133.36426038502202, 326.63857099805773, 1506.0841851516755, 1998.5104252970148, 509.90530365704217, 684.1753968143746, 1126.4689830794728, 1488.30379825262, 1694.7086447548256, 1744.2674016690364, 4318.62299023644, 5586.620160968155, 1470.3574201363872, 1083.5366344705453, 731.6280237343035, 710.2142470278336, 672.3632628799472, 624.1742981960542, 581.67360104408, 498.3176008983888, 494.91551108941525, 445.9453171335462, 366.43505612048347, 339.7855471644252, 339.7569218376943, 324.7497267532558, 298.029540914204, 270.8711108358498, 269.7364106737375, 254.42551471830046, 247.01161994502812, 198.86628509821406, 195.7731499063027, 190.38294034591937, 180.02302597761016, 174.70490943232076, 168.54197823866303, 167.56430654504817, 166.3040030487683, 159.03886702289745, 147.12823396296247, 146.11334286848708, 469.9814823709693, 291.40274759498146, 615.5889603079021, 1215.3960315398485, 4435.31127786426, 274.61500062602033, 3337.0227898756957, 2744.52798408708, 2101.0722596331793, 5607.512948874903, 4754.651755056598, 677.0120008551579, 635.5552774032046, 575.2827602420916, 564.7481546247027, 521.7520793235116, 494.94911952974826, 395.93217152855783, 362.9043489726373, 355.05628301265324, 351.9030211370988, 318.52265285470264, 318.17791170547497, 278.3372886566774, 261.70426726225173, 224.60698496361618, 220.29622133862972, 197.30500006006412, 186.87927575049864, 173.21722504522214, 171.88198310811367, 170.51071674454928, 168.44959594417477, 146.1977254481148, 141.1692597235394, 136.6444231484863, 134.41075101353445, 124.14508434747728, 123.72616780328585, 117.5361917133724, 104.40077984602152, 1380.3188990813583, 895.6968607669669, 1071.3720266553448, 1998.5104252970148, 923.3235496643558, 1325.2264842022182, 335.8364258549733, 627.3188342031598, 795.7426913317377, 6725.059581310367, 445.58079996966575, 1881.557073510893, 501.1879791618454, 1578.0104482078182, 1033.6345388644372, 756.9337065387896, 553.6825903760281, 521.4550147395449, 432.3199172456071, 430.1192219230397, 303.02839308359097, 302.6005604876269, 299.3189803461826, 294.99623938787613, 261.6862069243591, 234.7955345224084, 228.25872382543992, 227.841595882362, 213.45750320175588, 194.45495967222175, 193.84717092015376, 183.35937152601906, 178.920427621485, 167.70475640732406, 160.9349160531072, 152.36047336472188, 151.8201432344864, 148.64926404778825, 145.73976047629193, 142.87169023902248, 127.25266961309472, 125.43843590813701, 124.20753771924291, 1997.0945648681986, 1696.2382772123165, 1293.2780907084311, 1132.953146368755, 1872.4499400548286, 1631.8746106753078, 990.955110781254, 874.0856973905575, 542.1552647226642, 491.5739342773052, 457.597675768226, 347.9277438005874, 254.5136256237197, 233.80597427619276, 219.65608750717968, 218.4425662237959, 211.8947590779089, 207.3506633362923, 192.14659760131465, 191.29035182589502, 189.12124418144845, 111.05150744132675, 98.9535999375528, 94.91077094252005, 91.10663986577842, 87.34868465508093, 81.12366434024527, 75.09553116566528, 69.88410039620412, 61.20249826794496, 45.40603249794597, 40.133118645638426, 39.603615731523846, 39.111757132772176, 174.80177760666567, 384.88512510686746, 574.3532478385083, 2616.4848275131735, 196.11764241792915, 1217.0126975919502, 531.8732754799702, 3300.4897822533394, 1181.0668030640395, 685.8543591163229, 656.2510721764191, 580.3152334390159, 435.39387197830297, 433.8562026761573, 377.6675327574248, 359.29591423778146, 358.79978065695576, 330.9183757576979, 324.7884993306847, 270.59443520959076, 243.3328796727251, 230.56199948423802, 220.5204437458296, 209.08648388923197, 184.59377877122645, 177.51138804937904, 172.53817754812954, 157.87372382702378, 140.57763227420958, 130.0442527983854, 127.51242227039747, 116.44380288042278, 115.91600312854618, 112.07958765301727, 105.25113874242567, 103.43083304884658, 74.83899212308386, 47.00311015137328, 3067.9592074264933, 369.1247991749848, 2175.7889400321124, 838.6520454106242, 1385.9588768088208, 872.8952430094969, 743.3288763716098, 610.857796396186, 536.8409538619235, 483.5851392790683, 434.24193856034873, 406.3587545185522, 355.67195563721344, 313.92980282668105, 299.7526795637239, 287.81363029188594, 254.17788898321254, 253.5309015583684, 239.3242106999715, 213.0318664455899, 178.9719041837463, 167.36593907815887, 164.13804608288055, 158.6234429394479, 158.4591161380331, 152.40015962322394, 149.65490491770666, 133.44781373909817, 123.86561358760618, 123.18235088835516, 100.58927616374505, 87.47861095086931, 87.33024017725594, 85.40322042337534, 395.51784734801595, 146.7869274100863, 4318.62299023644, 822.980447603904, 752.0038185630399, 504.7417498924779, 455.13428249917644, 420.9708171819143, 366.0882843211675, 351.41091260715416, 339.83670285626425, 328.1940922527046, 317.22513790683985, 290.6776655582838, 257.32531766896824, 249.258982388487, 244.59866756560388, 222.4499954135884, 201.2198334978401, 192.5863556701994, 192.5210759094223, 190.9368440495708, 186.9492623363901, 179.549505845661, 178.88433375761173, 173.05586307284736, 172.78954586304357, 167.20577535592844, 162.17066242830433, 151.3715892882521, 150.8469115327809, 113.16841741020382, 101.64253008395244, 481.3728616642187, 649.6285145867299, 802.3313984553824, 329.85419377848666, 1449.8371622877103, 396.2059313571874, 391.2586266938073, 386.804806174813, 364.4188608968279, 313.1453983470604, 286.292408921724, 285.323671800794, 274.6697890454779, 252.91944941663024, 247.23603586154695, 243.15119721201665, 213.756934968203, 201.8595494590464, 191.43957449050123, 145.89924855591025, 145.45469924613926, 131.22128525114158, 129.94147766975934, 124.98076391751904, 112.95569523819596, 112.6091824431545, 109.23884597839289, 109.13778633081476, 102.07398774338553, 80.34600589156963, 79.1297291783995, 60.076429326675225, 55.8795653584986, 47.25378875757981, 229.98061343890598, 105.00603317624201, 644.3701570444534, 212.5725095457304, 367.84458990690564, 1378.4954267535297, 1462.157847731255, 1480.890349479193, 565.6062814433875, 482.13623739025877, 479.0298730859116, 456.39732321247214, 367.57098622462894, 349.6444948496863, 310.32479619558796, 266.9649554742418, 231.71761372185176, 150.16744292798117, 146.62555365835843, 146.11637354907805, 121.74620316961017, 92.57353024464878, 90.97175067722237, 88.22627183735456, 84.94032399648407, 82.88108973440181, 79.22739972671397, 78.83362383680077, 78.22082591286645, 65.78292741025125, 56.136936382544405, 55.63550967662979, 55.05802115502617, 48.828905864573784, 46.23240146880179, 45.06080409681541, 42.888868208238534, 499.2838745870949, 77.58431066712478, 736.7461047969807, 1380.3188990813583, 684.1753968143746, 381.246488875942, 326.6348844700741, 605.1122734218804, 142.94628256538977], \"Category\": [\"Default\", \"Default\", \"Default\", \"Default\", \"Default\", \"Default\", \"Default\", \"Default\", \"Default\", \"Default\", \"Default\", \"Default\", \"Default\", \"Default\", \"Default\", \"Default\", \"Default\", \"Default\", \"Default\", \"Default\", \"Default\", \"Default\", \"Default\", \"Default\", \"Default\", \"Default\", \"Default\", \"Default\", \"Default\", \"Default\", \"Topic1\", \"Topic1\", \"Topic1\", \"Topic1\", \"Topic1\", \"Topic1\", \"Topic1\", \"Topic1\", \"Topic1\", \"Topic1\", \"Topic1\", \"Topic1\", \"Topic1\", \"Topic1\", \"Topic1\", \"Topic1\", \"Topic1\", \"Topic1\", \"Topic1\", \"Topic1\", \"Topic1\", \"Topic1\", \"Topic1\", \"Topic1\", \"Topic1\", \"Topic1\", \"Topic1\", \"Topic1\", \"Topic1\", \"Topic1\", \"Topic1\", \"Topic1\", \"Topic1\", \"Topic1\", \"Topic1\", \"Topic1\", \"Topic1\", \"Topic1\", \"Topic1\", \"Topic1\", \"Topic1\", \"Topic1\", \"Topic1\", \"Topic1\", \"Topic1\", \"Topic1\", \"Topic1\", \"Topic1\", \"Topic1\", \"Topic1\", \"Topic1\", \"Topic1\", \"Topic1\", \"Topic1\", \"Topic2\", \"Topic2\", \"Topic2\", \"Topic2\", \"Topic2\", \"Topic2\", \"Topic2\", \"Topic2\", \"Topic2\", \"Topic2\", \"Topic2\", \"Topic2\", \"Topic2\", \"Topic2\", \"Topic2\", \"Topic2\", \"Topic2\", \"Topic2\", \"Topic2\", \"Topic2\", \"Topic2\", \"Topic2\", \"Topic2\", \"Topic2\", \"Topic2\", \"Topic2\", \"Topic2\", \"Topic2\", \"Topic2\", \"Topic2\", \"Topic2\", \"Topic2\", \"Topic2\", \"Topic2\", \"Topic2\", \"Topic2\", \"Topic2\", \"Topic2\", \"Topic2\", \"Topic2\", \"Topic2\", \"Topic2\", \"Topic2\", \"Topic2\", \"Topic2\", \"Topic2\", \"Topic2\", \"Topic2\", \"Topic2\", \"Topic2\", \"Topic2\", \"Topic2\", \"Topic2\", \"Topic2\", \"Topic2\", \"Topic2\", \"Topic2\", \"Topic2\", \"Topic2\", \"Topic3\", \"Topic3\", \"Topic3\", \"Topic3\", \"Topic3\", \"Topic3\", \"Topic3\", \"Topic3\", \"Topic3\", \"Topic3\", \"Topic3\", \"Topic3\", \"Topic3\", \"Topic3\", \"Topic3\", \"Topic3\", \"Topic3\", \"Topic3\", \"Topic3\", \"Topic3\", \"Topic3\", \"Topic3\", \"Topic3\", \"Topic3\", \"Topic3\", \"Topic3\", \"Topic3\", \"Topic3\", \"Topic3\", \"Topic3\", \"Topic3\", \"Topic3\", \"Topic3\", \"Topic3\", \"Topic3\", \"Topic3\", \"Topic3\", \"Topic3\", \"Topic3\", \"Topic3\", \"Topic3\", \"Topic3\", \"Topic3\", \"Topic3\", \"Topic3\", \"Topic3\", \"Topic3\", \"Topic3\", \"Topic3\", \"Topic3\", \"Topic3\", \"Topic3\", \"Topic4\", \"Topic4\", \"Topic4\", \"Topic4\", \"Topic4\", \"Topic4\", \"Topic4\", \"Topic4\", \"Topic4\", \"Topic4\", \"Topic4\", \"Topic4\", \"Topic4\", \"Topic4\", \"Topic4\", \"Topic4\", \"Topic4\", \"Topic4\", \"Topic4\", \"Topic4\", \"Topic4\", \"Topic4\", \"Topic4\", \"Topic4\", \"Topic4\", \"Topic4\", \"Topic4\", \"Topic4\", \"Topic4\", \"Topic4\", \"Topic4\", \"Topic4\", \"Topic4\", \"Topic4\", \"Topic4\", \"Topic4\", \"Topic4\", \"Topic4\", \"Topic4\", \"Topic4\", \"Topic4\", \"Topic4\", \"Topic4\", \"Topic4\", \"Topic4\", \"Topic4\", \"Topic4\", \"Topic4\", \"Topic4\", \"Topic4\", \"Topic4\", \"Topic4\", \"Topic4\", \"Topic4\", \"Topic4\", \"Topic4\", \"Topic4\", \"Topic4\", \"Topic4\", \"Topic5\", \"Topic5\", \"Topic5\", \"Topic5\", \"Topic5\", \"Topic5\", \"Topic5\", \"Topic5\", \"Topic5\", \"Topic5\", \"Topic5\", \"Topic5\", \"Topic5\", \"Topic5\", \"Topic5\", \"Topic5\", \"Topic5\", \"Topic5\", \"Topic5\", \"Topic5\", \"Topic5\", \"Topic5\", \"Topic5\", \"Topic5\", \"Topic5\", \"Topic5\", \"Topic5\", \"Topic5\", \"Topic5\", \"Topic5\", \"Topic5\", \"Topic5\", \"Topic5\", \"Topic5\", \"Topic5\", \"Topic5\", \"Topic5\", \"Topic5\", \"Topic5\", \"Topic5\", \"Topic5\", \"Topic5\", \"Topic5\", \"Topic5\", \"Topic5\", \"Topic5\", \"Topic5\", \"Topic5\", \"Topic5\", \"Topic5\", \"Topic5\", \"Topic5\", \"Topic5\", \"Topic5\", \"Topic5\", \"Topic5\", \"Topic5\", \"Topic5\", \"Topic5\", \"Topic5\", \"Topic6\", \"Topic6\", \"Topic6\", \"Topic6\", \"Topic6\", \"Topic6\", \"Topic6\", \"Topic6\", \"Topic6\", \"Topic6\", \"Topic6\", \"Topic6\", \"Topic6\", \"Topic6\", \"Topic6\", \"Topic6\", \"Topic6\", \"Topic6\", \"Topic6\", \"Topic6\", \"Topic6\", \"Topic6\", \"Topic6\", \"Topic6\", \"Topic6\", \"Topic6\", \"Topic6\", \"Topic6\", \"Topic6\", \"Topic6\", \"Topic6\", \"Topic6\", \"Topic6\", \"Topic6\", \"Topic6\", \"Topic6\", \"Topic6\", \"Topic6\", \"Topic6\", \"Topic6\", \"Topic6\", \"Topic6\", \"Topic6\", \"Topic6\", \"Topic6\", \"Topic6\", \"Topic6\", \"Topic6\", \"Topic6\", \"Topic6\", \"Topic6\", \"Topic6\", \"Topic6\", \"Topic6\", \"Topic6\", \"Topic6\", \"Topic6\", \"Topic6\", \"Topic7\", \"Topic7\", \"Topic7\", \"Topic7\", \"Topic7\", \"Topic7\", \"Topic7\", \"Topic7\", \"Topic7\", \"Topic7\", \"Topic7\", \"Topic7\", \"Topic7\", \"Topic7\", \"Topic7\", \"Topic7\", \"Topic7\", \"Topic7\", \"Topic7\", \"Topic7\", \"Topic7\", \"Topic7\", \"Topic7\", \"Topic7\", \"Topic7\", \"Topic7\", \"Topic7\", \"Topic7\", \"Topic7\", \"Topic7\", \"Topic8\", \"Topic8\", \"Topic8\", \"Topic8\", \"Topic8\", \"Topic8\", \"Topic8\", \"Topic8\", \"Topic8\", \"Topic8\", \"Topic8\", \"Topic8\", \"Topic8\", \"Topic8\", \"Topic8\", \"Topic8\", \"Topic8\", \"Topic8\", \"Topic8\", \"Topic8\", \"Topic8\", \"Topic8\", \"Topic8\", \"Topic8\", \"Topic8\", \"Topic8\", \"Topic8\", \"Topic8\", \"Topic8\", \"Topic8\", \"Topic8\", \"Topic8\", \"Topic8\", \"Topic8\", \"Topic8\", \"Topic8\", \"Topic8\", \"Topic8\", \"Topic8\", \"Topic8\", \"Topic8\", \"Topic9\", \"Topic9\", \"Topic9\", \"Topic9\", \"Topic9\", \"Topic9\", \"Topic9\", \"Topic9\", \"Topic9\", \"Topic9\", \"Topic9\", \"Topic9\", \"Topic9\", \"Topic9\", \"Topic9\", \"Topic9\", \"Topic9\", \"Topic9\", \"Topic9\", \"Topic9\", \"Topic9\", \"Topic9\", \"Topic9\", \"Topic9\", \"Topic9\", \"Topic9\", \"Topic9\", \"Topic9\", \"Topic9\", \"Topic9\", \"Topic9\", \"Topic9\", \"Topic9\", \"Topic9\", \"Topic9\", \"Topic9\", \"Topic9\", \"Topic9\", \"Topic9\", \"Topic9\", \"Topic9\", \"Topic9\", \"Topic9\", \"Topic10\", \"Topic10\", \"Topic10\", \"Topic10\", \"Topic10\", \"Topic10\", \"Topic10\", \"Topic10\", \"Topic10\", \"Topic10\", \"Topic10\", \"Topic10\", \"Topic10\", \"Topic10\", \"Topic10\", \"Topic10\", \"Topic10\", \"Topic10\", \"Topic10\", \"Topic10\", \"Topic10\", \"Topic10\", \"Topic10\", \"Topic10\", \"Topic10\", \"Topic10\", \"Topic10\", \"Topic10\", \"Topic10\", \"Topic10\", \"Topic10\", \"Topic10\", \"Topic10\", \"Topic10\", \"Topic10\", \"Topic10\", \"Topic10\", \"Topic10\", \"Topic10\", \"Topic10\", \"Topic10\", \"Topic10\", \"Topic10\", \"Topic10\", \"Topic10\", \"Topic10\", \"Topic11\", \"Topic11\", \"Topic11\", \"Topic11\", \"Topic11\", \"Topic11\", \"Topic11\", \"Topic11\", \"Topic11\", \"Topic11\", \"Topic11\", \"Topic11\", \"Topic11\", \"Topic11\", \"Topic11\", \"Topic11\", \"Topic11\", \"Topic11\", \"Topic11\", \"Topic11\", \"Topic11\", \"Topic11\", \"Topic11\", \"Topic11\", \"Topic11\", \"Topic11\", \"Topic11\", \"Topic11\", \"Topic11\", \"Topic11\", \"Topic11\", \"Topic11\", \"Topic11\", \"Topic11\", \"Topic11\", \"Topic11\", \"Topic11\", \"Topic11\", \"Topic11\", \"Topic11\", \"Topic11\", \"Topic12\", \"Topic12\", \"Topic12\", \"Topic12\", \"Topic12\", \"Topic12\", \"Topic12\", \"Topic12\", \"Topic12\", \"Topic12\", \"Topic12\", \"Topic12\", \"Topic12\", \"Topic12\", \"Topic12\", \"Topic12\", \"Topic12\", \"Topic12\", \"Topic12\", \"Topic12\", \"Topic12\", \"Topic12\", \"Topic12\", \"Topic12\", \"Topic12\", \"Topic12\", \"Topic12\", \"Topic12\", \"Topic12\", \"Topic12\", \"Topic12\", \"Topic12\", \"Topic12\", \"Topic12\", \"Topic12\", \"Topic12\", \"Topic12\", \"Topic12\", \"Topic12\", \"Topic12\", \"Topic12\", \"Topic13\", \"Topic13\", \"Topic13\", \"Topic13\", \"Topic13\", \"Topic13\", \"Topic13\", \"Topic13\", \"Topic13\", \"Topic13\", \"Topic13\", \"Topic13\", \"Topic13\", \"Topic13\", \"Topic13\", \"Topic13\", \"Topic13\", \"Topic13\", \"Topic13\", \"Topic13\", \"Topic13\", \"Topic13\", \"Topic13\", \"Topic13\", \"Topic13\", \"Topic13\", \"Topic13\", \"Topic13\", \"Topic13\", \"Topic13\", \"Topic13\", \"Topic13\", \"Topic13\", \"Topic13\", \"Topic13\", \"Topic13\", \"Topic13\", \"Topic13\", \"Topic13\", \"Topic13\", \"Topic13\", \"Topic13\", \"Topic13\", \"Topic14\", \"Topic14\", \"Topic14\", \"Topic14\", \"Topic14\", \"Topic14\", \"Topic14\", \"Topic14\", \"Topic14\", \"Topic14\", \"Topic14\", \"Topic14\", \"Topic14\", \"Topic14\", \"Topic14\", \"Topic14\", \"Topic14\", \"Topic14\", \"Topic14\", \"Topic14\", \"Topic14\", \"Topic14\", \"Topic14\", \"Topic14\", \"Topic14\", \"Topic14\", \"Topic14\", \"Topic14\", \"Topic14\", \"Topic14\", \"Topic14\", \"Topic14\", \"Topic14\", \"Topic14\", \"Topic15\", \"Topic15\", \"Topic15\", \"Topic15\", \"Topic15\", \"Topic15\", \"Topic15\", \"Topic15\", \"Topic15\", \"Topic15\", \"Topic15\", \"Topic15\", \"Topic15\", \"Topic15\", \"Topic15\", \"Topic15\", \"Topic15\", \"Topic15\", \"Topic15\", \"Topic15\", \"Topic15\", \"Topic15\", \"Topic15\", \"Topic15\", \"Topic15\", \"Topic15\", \"Topic15\", \"Topic15\", \"Topic15\", \"Topic15\", \"Topic15\", \"Topic15\", \"Topic15\", \"Topic15\", \"Topic15\", \"Topic15\", \"Topic15\", \"Topic15\", \"Topic16\", \"Topic16\", \"Topic16\", \"Topic16\", \"Topic16\", \"Topic16\", \"Topic16\", \"Topic16\", \"Topic16\", \"Topic16\", \"Topic16\", \"Topic16\", \"Topic16\", \"Topic16\", \"Topic16\", \"Topic16\", \"Topic16\", \"Topic16\", \"Topic16\", \"Topic16\", \"Topic16\", \"Topic16\", \"Topic16\", \"Topic16\", \"Topic16\", \"Topic16\", \"Topic16\", \"Topic16\", \"Topic16\", \"Topic16\", \"Topic16\", \"Topic16\", \"Topic16\", \"Topic16\", \"Topic17\", \"Topic17\", \"Topic17\", \"Topic17\", \"Topic17\", \"Topic17\", \"Topic17\", \"Topic17\", \"Topic17\", \"Topic17\", \"Topic17\", \"Topic17\", \"Topic17\", \"Topic17\", \"Topic17\", \"Topic17\", \"Topic17\", \"Topic17\", \"Topic17\", \"Topic17\", \"Topic17\", \"Topic17\", \"Topic17\", \"Topic17\", \"Topic17\", \"Topic17\", \"Topic17\", \"Topic17\", \"Topic17\", \"Topic17\", \"Topic17\", \"Topic17\", \"Topic17\", \"Topic18\", \"Topic18\", \"Topic18\", \"Topic18\", \"Topic18\", \"Topic18\", \"Topic18\", \"Topic18\", \"Topic18\", \"Topic18\", \"Topic18\", \"Topic18\", \"Topic18\", \"Topic18\", \"Topic18\", \"Topic18\", \"Topic18\", \"Topic18\", \"Topic18\", \"Topic18\", \"Topic18\", \"Topic18\", \"Topic18\", \"Topic18\", \"Topic18\", \"Topic18\", \"Topic18\", \"Topic18\", \"Topic18\", \"Topic18\", \"Topic18\", \"Topic18\", \"Topic18\", \"Topic18\", \"Topic19\", \"Topic19\", \"Topic19\", \"Topic19\", \"Topic19\", \"Topic19\", \"Topic19\", \"Topic19\", \"Topic19\", \"Topic19\", \"Topic19\", \"Topic19\", \"Topic19\", \"Topic19\", \"Topic19\", \"Topic19\", \"Topic19\", \"Topic19\", \"Topic19\", \"Topic19\", \"Topic19\", \"Topic19\", \"Topic19\", \"Topic19\", \"Topic19\", \"Topic19\", \"Topic19\", \"Topic19\", \"Topic19\", \"Topic19\", \"Topic19\", \"Topic19\", \"Topic19\", \"Topic19\", \"Topic19\", \"Topic19\", \"Topic19\", \"Topic20\", \"Topic20\", \"Topic20\", \"Topic20\", \"Topic20\", \"Topic20\", \"Topic20\", \"Topic20\", \"Topic20\", \"Topic20\", \"Topic20\", \"Topic20\", \"Topic20\", \"Topic20\", \"Topic20\", \"Topic20\", \"Topic20\", \"Topic20\", \"Topic20\", \"Topic20\", \"Topic20\", \"Topic20\", \"Topic20\", \"Topic20\", \"Topic20\", \"Topic20\", \"Topic20\", \"Topic20\", \"Topic20\", \"Topic20\", \"Topic20\", \"Topic20\", \"Topic20\", \"Topic20\", \"Topic20\", \"Topic20\", \"Topic20\", \"Topic20\", \"Topic20\"], \"logprob\": [30.0, 29.0, 28.0, 27.0, 26.0, 25.0, 24.0, 23.0, 22.0, 21.0, 20.0, 19.0, 18.0, 17.0, 16.0, 15.0, 14.0, 13.0, 12.0, 11.0, 10.0, 9.0, 8.0, 7.0, 6.0, 5.0, 4.0, 3.0, 2.0, 1.0, -3.52, -3.9781, -4.3131, -4.4508, -4.5098, -4.8999, -4.9572, -4.9661, -5.1916, -5.2354, -5.5161, -5.5413, -5.5479, -5.3812, -5.6627, -4.6043, -5.681, -5.78, -4.038, -5.924, -5.9897, -6.0063, -6.0922, -3.9642, -6.1774, -6.2055, -6.2271, -6.2812, -6.4269, -6.4859, -3.4977, -4.2692, -4.8818, -3.7112, -3.4982, -3.8094, -4.8424, -4.6743, -3.139, -4.0138, -4.2665, -4.0655, -3.7398, -4.7095, -4.3183, -4.1143, -4.2836, -3.8569, -3.8435, -4.6162, -4.5918, -4.4992, -4.6417, -4.646, -3.848, -3.9695, -4.3403, -4.4295, -4.4883, -4.6636, -4.7642, -4.9984, -5.0248, -5.0372, -5.0532, -5.0602, -5.2038, -5.2082, -5.3065, -5.3908, -5.4271, -5.4814, -5.4911, -5.5851, -5.7227, -5.7368, -5.7499, -5.7546, -5.8329, -5.8389, -5.8469, -5.8852, -5.9747, -6.0398, -5.3559, -3.8581, -4.3074, -5.0818, -4.5793, -4.6074, -4.7777, -4.2297, -5.0519, -3.1778, -4.5612, -5.3634, -4.5985, -3.5705, -4.4545, -5.1305, -5.0069, -5.1687, -5.024, -4.7141, -4.7082, -5.0255, -4.4143, -4.5596, -4.7774, -4.8658, -4.8799, -4.9197, -4.9717, -4.2517, -4.3012, -4.5366, -4.5631, -4.671, -4.8244, -4.4191, -4.9213, -4.9328, -4.9745, -5.0169, -5.1321, -5.1381, -5.1419, -5.1485, -5.1969, -5.2846, -5.2979, -5.305, -5.3326, -5.3507, -5.3518, -5.3631, -5.3959, -5.4725, -5.52, -5.6034, -5.6144, -5.6164, -5.6817, -4.0837, -4.4998, -4.9866, -3.3189, -3.5638, -3.8965, -4.9154, -4.0057, -4.7565, -4.3994, -4.87, -4.2891, -4.5503, -4.6621, -4.1763, -4.4343, -4.3294, -4.23, -4.38, -4.7199, -4.8606, -4.9368, -4.2019, -4.3056, -4.538, -5.1052, -5.1508, -5.1868, -5.1927, -5.2128, -5.3103, -5.3415, -5.3738, -5.4458, -5.4553, -5.4888, -5.5148, -5.5445, -5.6269, -4.9674, -5.6618, -5.6674, -5.7045, -5.7288, -5.7355, -5.8094, -5.8151, -5.8153, -5.8689, -5.8966, -5.9357, -5.9376, -4.0897, -4.8401, -4.2449, -4.6142, -5.3811, -4.5288, -4.9746, -3.4071, -5.1609, -3.814, -4.1134, -5.0431, -5.0657, -4.7504, -3.7202, -3.4763, -4.2816, -4.8246, -4.859, -4.6426, -4.3925, -4.1723, -3.979, -4.1416, -4.7353, -5.0056, -4.7643, -4.8635, -4.8853, -3.7479, -3.8606, -4.2394, -4.4349, -4.675, -4.7685, -4.9552, -5.0359, -5.0538, -5.1244, -5.3192, -5.3665, -5.4254, -5.4805, -5.5478, -5.5645, -5.5764, -5.5907, -5.6452, -5.6798, -5.6934, -5.7031, -5.7218, -5.7807, -5.9093, -5.9632, -5.9712, -5.9763, -5.9908, -6.0124, -4.1341, -4.5376, -3.8003, -3.5715, -4.7914, -4.6515, -4.8149, -4.4373, -4.2025, -3.9146, -3.8131, -3.1658, -4.7015, -5.0283, -4.8602, -3.8378, -4.0867, -3.6255, -4.8414, -4.7641, -3.9114, -3.5362, -4.3807, -4.8158, -4.2935, -4.3836, -4.4909, -4.4599, -4.194, -4.7186, -4.0877, -4.1414, -4.1702, -4.2947, -4.3827, -4.4292, -4.4627, -4.5603, -4.8313, -4.905, -4.9182, -4.9929, -5.0376, -5.056, -5.1129, -5.1444, -5.164, -5.2114, -5.2353, -5.2538, -5.2539, -5.2917, -5.3631, -5.371, -5.5337, -5.5533, -5.5928, -5.6102, -5.6375, -5.6561, -3.9847, -3.1662, -4.1643, -4.899, -4.9502, -4.2939, -3.9743, -4.4181, -4.76, -4.7219, -4.5592, -4.1001, -2.6355, -4.6456, -3.7015, -4.6734, -4.8748, -3.7908, -4.6733, -4.2194, -3.9679, -4.401, -3.8526, -4.6895, -4.5592, -4.6737, -4.6424, -4.611, -0.2625, -3.6895, -3.6942, -4.1391, -4.18, -4.3417, -4.3485, -4.3905, -4.4416, -4.7496, -4.8089, -4.8911, -4.9557, -5.1295, -5.1321, -5.1421, -5.3405, -5.434, -5.598, -5.6754, -5.926, -5.9485, -6.0835, -6.4785, -6.7329, -6.7409, -6.8551, -6.9224, -7.1648, -7.2486, -3.2579, -3.4381, -3.4922, -3.6193, -3.6333, -3.6819, -3.8932, -3.9499, -4.2025, -4.2112, -4.2379, -4.2667, -4.2819, -4.294, -4.3294, -4.3957, -4.4564, -4.5161, -4.5916, -4.6281, -4.647, -4.6478, -4.6577, -4.6616, -4.6906, -4.7119, -4.7969, -4.8024, -4.8314, -4.915, -3.6663, -3.7584, -3.3151, -3.2643, -4.5015, -4.1404, -4.1415, -3.9969, -4.2031, -4.0725, -4.467, -2.3807, -3.1634, -3.2421, -3.3663, -3.4567, -3.937, -4.0426, -4.1349, -4.2308, -4.2903, -4.3035, -4.4495, -3.5874, -4.4988, -4.5303, -4.5424, -4.7823, -4.9338, -4.9416, -4.9428, -4.9786, -5.0315, -5.1, -5.1832, -5.3307, -5.4694, -5.4992, -5.5243, -5.5371, -5.5856, -2.3472, -3.4236, -2.8936, -3.7927, -4.4026, -3.5392, -4.5882, -4.3615, -4.0771, -4.1894, -3.8814, -3.9439, -4.7133, -2.6382, -3.0794, -3.1499, -3.288, -3.4478, -3.9729, -4.3822, -4.4323, -4.4668, -4.4837, -4.51, -4.5656, -4.5757, -4.6155, -4.8565, -4.8815, -4.8955, -4.8957, -4.9636, -4.9939, -5.0538, -5.0654, -5.0657, -5.1405, -5.1583, -5.1629, -5.1803, -5.2479, -5.2611, -5.3735, -3.2505, -2.9589, -3.6657, -3.6053, -4.2687, -4.4715, -4.1922, -3.5248, -3.1814, -3.378, -4.3176, -4.0262, -3.9115, -4.6037, -4.6616, -4.646, -2.3391, -3.5782, -3.713, -3.7823, -4.0933, -4.1137, -4.1912, -4.248, -4.2724, -4.2752, -4.3181, -4.3479, -4.3671, -4.3711, -4.4169, -4.6394, -4.6861, -4.7038, -4.7198, -4.899, -4.9423, -4.9659, -5.013, -5.1071, -5.2247, -5.2491, -5.2532, -5.2765, -5.3088, -5.3231, -4.4428, -3.0383, -2.9688, -4.2141, -4.1471, -3.8655, -3.7601, -4.1421, -4.3663, -4.1392, -4.2543, -2.7602, -3.0658, -3.4591, -3.4888, -3.5437, -3.6182, -3.6889, -3.844, -3.8508, -3.9553, -4.1523, -4.2281, -4.2282, -4.2736, -4.3598, -4.4558, -4.46, -4.5187, -4.5485, -4.7666, -4.7824, -4.8105, -4.8668, -4.897, -4.9332, -4.9391, -4.9467, -4.9917, -5.0703, -5.0772, -3.9172, -4.4674, -3.8158, -3.7061, -3.0976, -4.6686, -3.4693, -4.09, -4.2066, -4.0433, -4.5874, -3.5203, -3.5836, -3.6834, -3.702, -3.7814, -3.8342, -4.0581, -4.1455, -4.1675, -4.1764, -4.2765, -4.2776, -4.4119, -4.4739, -4.6276, -4.647, -4.758, -4.8126, -4.8891, -4.8969, -4.905, -4.9172, -5.0601, -5.0954, -5.1283, -5.145, -5.2253, -5.2287, -5.2806, -5.4005, -2.9945, -3.4167, -3.6049, -3.628, -4.112, -3.9438, -4.7286, -4.5017, -4.4214, -3.9162, -4.759, -4.6078, -4.7916, -2.1396, -2.5632, -2.8752, -3.1885, -3.2486, -3.4366, -3.4417, -3.7932, -3.7947, -3.8056, -3.8202, -3.9406, -4.0496, -4.078, -4.0799, -4.1455, -4.2393, -4.2425, -4.2985, -4.3232, -4.3884, -4.4299, -4.4851, -4.4887, -4.51, -4.53, -4.55, -4.6669, -4.6815, -4.6914, -3.6053, -3.8003, -4.389, -4.4904, -1.9031, -2.0407, -2.5401, -2.6657, -3.1443, -3.2425, -3.3143, -3.5892, -3.9033, -3.9886, -4.0514, -4.057, -4.0876, -4.1094, -4.1861, -4.1906, -4.2021, -4.7394, -4.8563, -4.8986, -4.94, -4.9828, -5.0579, -5.1365, -5.2097, -5.3451, -5.6514, -5.7788, -5.7926, -5.8055, -4.439, -4.1708, -4.0467, -3.1407, -4.7736, -4.6628, -4.8767, -4.7185, -2.3343, -2.8787, -2.9229, -3.0461, -3.3342, -3.3377, -3.4769, -3.5269, -3.5283, -3.6095, -3.6283, -3.8117, -3.9184, -3.9726, -4.0174, -4.071, -4.1964, -4.2358, -4.2644, -4.354, -4.4711, -4.5497, -4.5696, -4.6614, -4.666, -4.7, -4.7636, -4.7813, -5.1098, -5.5856, -1.7399, -4.2808, -3.4147, -4.3717, -2.1631, -2.626, -2.787, -2.9836, -3.1131, -3.2178, -3.3258, -3.3924, -3.5261, -3.6514, -3.6978, -3.7386, -3.8635, -3.8661, -3.9241, -4.0411, -4.2165, -4.2841, -4.3037, -4.3382, -4.3392, -4.3786, -4.3969, -4.5126, -4.5879, -4.5935, -4.7986, -4.9402, -4.9419, -4.9646, -3.5577, -4.6609, -4.0242, -2.6646, -2.7549, -3.1544, -3.2582, -3.3365, -3.4766, -3.5177, -3.5513, -3.5863, -3.6204, -3.7082, -3.8307, -3.8627, -3.8817, -3.9771, -4.0781, -4.1222, -4.1226, -4.1309, -4.1521, -4.1928, -4.1965, -4.2299, -4.2315, -4.2646, -4.2954, -4.3649, -4.3684, -4.6587, -4.7675, -3.2195, -2.9904, -2.8177, -4.3569, -1.9277, -3.2275, -3.2401, -3.2515, -3.3114, -3.4636, -3.5537, -3.5571, -3.5953, -3.6782, -3.7011, -3.7178, -3.8474, -3.9051, -3.9584, -4.2322, -4.2353, -4.3393, -4.3492, -4.3885, -4.4908, -4.494, -4.5247, -4.5256, -4.5934, -4.8363, -4.8518, -5.1327, -5.2068, -5.379, -3.9357, -4.6769, -3.4184, -4.439, -4.2965, -4.4426, -4.5648, -1.8006, -2.7646, -2.9247, -2.9311, -2.9797, -3.1968, -3.247, -3.3668, -3.518, -3.6603, -4.0972, -4.1213, -4.1248, -4.3091, -4.5865, -4.6042, -4.6353, -4.6739, -4.6988, -4.7447, -4.7497, -4.7577, -4.9341, -5.0962, -5.1054, -5.1161, -5.2393, -5.2955, -5.3219, -5.3729, -3.2603, -4.8956, -3.2135, -3.6365, -3.9998, -4.2702, -4.4606, -4.3822, -4.8045], \"loglift\": [30.0, 29.0, 28.0, 27.0, 26.0, 25.0, 24.0, 23.0, 22.0, 21.0, 20.0, 19.0, 18.0, 17.0, 16.0, 15.0, 14.0, 13.0, 12.0, 11.0, 10.0, 9.0, 8.0, 7.0, 6.0, 5.0, 4.0, 3.0, 2.0, 1.0, 1.5028, 1.5027, 1.5025, 1.5025, 1.5024, 1.5022, 1.5022, 1.5022, 1.5019, 1.5019, 1.5016, 1.5015, 1.5015, 1.5015, 1.5013, 1.5013, 1.5013, 1.5011, 1.501, 1.5009, 1.5007, 1.5007, 1.5005, 1.5003, 1.5002, 1.5002, 1.5001, 1.4999, 1.4995, 1.4993, 1.488, 1.4879, 1.4809, 1.4503, 1.4416, 1.4273, 1.4556, 1.4467, 1.3546, 1.3874, 1.3999, 1.3605, 1.3182, 1.408, 1.3296, 1.2874, 1.2815, 1.1794, 1.1482, 1.3331, 0.9489, 0.792, 0.9958, 0.916, 2.0609, 2.0609, 2.0606, 2.0605, 2.0605, 2.0603, 2.0602, 2.0599, 2.0599, 2.0599, 2.0598, 2.0598, 2.0596, 2.0596, 2.0594, 2.0592, 2.0591, 2.059, 2.059, 2.0587, 2.0584, 2.0583, 2.0583, 2.0583, 2.058, 2.058, 2.058, 2.0578, 2.0575, 2.0572, 2.0518, 2.0085, 2.0148, 2.0387, 2.0174, 2.0067, 2.0129, 1.9785, 2.0167, 1.8771, 1.9725, 2.03, 1.7302, 1.3257, 1.661, 1.9232, 1.8025, 1.9088, 1.6513, 1.063, 1.0476, 1.6538, 0.0792, 0.432, 0.2807, 0.8077, 0.7917, 0.8724, 1.2634, 2.1139, 2.1139, 2.1137, 2.1136, 2.1135, 2.1133, 2.1133, 2.1132, 2.1132, 2.1131, 2.1131, 2.1129, 2.1129, 2.1129, 2.1128, 2.1128, 2.1126, 2.1126, 2.1125, 2.1125, 2.1124, 2.1124, 2.1124, 2.1123, 2.1122, 2.112, 2.1118, 2.1118, 2.1118, 2.1116, 2.1005, 2.1044, 2.0998, 1.9215, 1.9341, 1.9232, 2.0489, 1.8857, 2.0051, 1.9276, 1.966, 1.7099, 1.7998, 1.8088, 1.5044, 1.5169, 1.2326, 1.0504, 1.1608, 1.3074, 1.2836, 1.703, 2.1898, 2.1897, 2.1895, 2.1887, 2.1886, 2.1885, 2.1885, 2.1885, 2.1882, 2.1882, 2.1881, 2.1879, 2.1879, 2.1878, 2.1877, 2.1876, 2.1874, 2.1874, 2.1873, 2.1873, 2.1872, 2.1871, 2.187, 2.1868, 2.1868, 2.1868, 2.1866, 2.1864, 2.1863, 2.1863, 2.1748, 2.1761, 2.1615, 2.1661, 2.1775, 2.1447, 2.1564, 2.0644, 2.1415, 1.9528, 1.9744, 2.1013, 2.0872, 2.0141, 1.771, 1.706, 1.8402, 1.9988, 1.9904, 1.7898, 1.3846, 1.1189, 0.9172, 0.8947, 1.5334, 1.9005, 1.0913, 0.8171, 0.8704, 2.5852, 2.5851, 2.5847, 2.5845, 2.5841, 2.5839, 2.5835, 2.5833, 2.5833, 2.5831, 2.5825, 2.5823, 2.5821, 2.5819, 2.5816, 2.5815, 2.5815, 2.5814, 2.5812, 2.581, 2.581, 2.5809, 2.5808, 2.5805, 2.5798, 2.5794, 2.5794, 2.5793, 2.5793, 2.5791, 2.5773, 2.5687, 2.5602, 2.5365, 2.5534, 2.5296, 2.5255, 2.489, 2.4516, 2.4199, 2.4053, 2.3055, 2.4653, 2.5074, 2.4795, 2.3224, 2.337, 2.2382, 2.423, 2.398, 2.0015, 1.7442, 2.0721, 2.3855, 1.8899, 1.8463, 1.7463, 1.6772, 0.9884, 0.3173, 2.7725, 2.7724, 2.7723, 2.7722, 2.772, 2.772, 2.7719, 2.7717, 2.7711, 2.7709, 2.7709, 2.7707, 2.7706, 2.7705, 2.7703, 2.7702, 2.7701, 2.77, 2.7699, 2.7698, 2.7698, 2.7697, 2.7694, 2.7693, 2.7686, 2.7685, 2.7683, 2.7682, 2.768, 2.7679, 2.7674, 2.7583, 2.7628, 2.7666, 2.7649, 2.7304, 2.7113, 2.7214, 2.7305, 2.7222, 2.7016, 2.654, 2.4004, 2.6868, 2.4863, 2.6749, 2.7162, 2.3035, 2.6348, 2.4383, 2.3127, 2.4067, 1.8208, 2.5334, 2.3059, 2.2067, 1.874, 0.7907, 2.9431, 2.9423, 2.9423, 2.9418, 2.9417, 2.9415, 2.9414, 2.9414, 2.9413, 2.9406, 2.9404, 2.9402, 2.94, 2.9394, 2.9394, 2.9393, 2.9385, 2.938, 2.9371, 2.9366, 2.9348, 2.9346, 2.9334, 2.9286, 2.9245, 2.9243, 2.9221, 2.9206, 2.9145, 2.912, 3.5434, 3.5432, 3.5431, 3.5429, 3.5429, 3.5428, 3.5424, 3.5423, 3.5416, 3.5416, 3.5415, 3.5414, 3.5414, 3.5414, 3.5412, 3.541, 3.5408, 3.5406, 3.5403, 3.5401, 3.54, 3.54, 3.54, 3.54, 3.5398, 3.5397, 3.5393, 3.5393, 3.5391, 3.5386, 3.5285, 3.4877, 3.0877, 2.9988, 3.4064, 3.0882, 3.0246, 2.1472, 2.5006, 2.0217, 3.0451, 3.6283, 3.6277, 3.6276, 3.6275, 3.6274, 3.6264, 3.6262, 3.6259, 3.6256, 3.6254, 3.6254, 3.6248, 3.6247, 3.6246, 3.6245, 3.6245, 3.6233, 3.6224, 3.6223, 3.6223, 3.6221, 3.6217, 3.6212, 3.6205, 3.6192, 3.6178, 3.6175, 3.6172, 3.617, 3.6164, 3.6016, 3.5534, 3.4974, 3.5295, 3.5378, 3.4694, 3.3769, 3.2471, 2.93, 2.9002, 2.2627, 2.3192, 2.1927, 3.6575, 3.6571, 3.657, 3.6568, 3.6566, 3.6556, 3.6543, 3.6541, 3.6539, 3.6538, 3.6537, 3.6535, 3.6534, 3.6532, 3.6519, 3.6517, 3.6517, 3.6516, 3.6512, 3.651, 3.6505, 3.6505, 3.6505, 3.6499, 3.6497, 3.6497, 3.6495, 3.6489, 3.6488, 3.6477, 3.6256, 3.598, 3.6027, 3.5602, 3.6004, 3.6114, 3.5707, 3.2963, 3.14, 3.1517, 3.1848, 2.6211, 1.9082, 2.551, 2.3392, 2.1992, 3.6618, 3.6606, 3.6603, 3.6602, 3.6594, 3.6593, 3.6591, 3.6589, 3.6588, 3.6588, 3.6587, 3.6586, 3.6585, 3.6585, 3.6583, 3.6573, 3.657, 3.6569, 3.6569, 3.6558, 3.6555, 3.6553, 3.655, 3.6543, 3.6533, 3.6531, 3.653, 3.6528, 3.6525, 3.6524, 3.6369, 3.513, 3.2996, 3.4202, 3.1933, 2.9762, 2.8031, 2.2912, 2.0382, 1.3587, 0.9861, 3.8151, 3.8148, 3.8142, 3.8142, 3.8141, 3.8139, 3.8138, 3.8134, 3.8134, 3.8131, 3.8124, 3.8121, 3.8121, 3.812, 3.8116, 3.8112, 3.8111, 3.8108, 3.8107, 3.8094, 3.8093, 3.8091, 3.8087, 3.8085, 3.8082, 3.8081, 3.8081, 3.8077, 3.807, 3.807, 3.7987, 3.7265, 3.6302, 3.0597, 2.3737, 3.5846, 2.2865, 1.8612, 2.0118, 1.1934, 0.8143, 3.8306, 3.8305, 3.8303, 3.8302, 3.83, 3.8299, 3.8292, 3.8289, 3.8288, 3.8288, 3.8284, 3.8284, 3.8278, 3.8275, 3.8267, 3.8266, 3.8259, 3.8255, 3.8249, 3.8249, 3.8248, 3.8247, 3.8235, 3.8232, 3.8229, 3.8227, 3.8219, 3.8218, 3.8213, 3.8198, 3.644, 3.6543, 3.287, 2.6404, 2.9287, 2.7354, 3.3234, 2.9254, 2.7679, 1.1388, 3.0103, 1.721, 2.86, 4.365, 4.3646, 4.3641, 4.3635, 4.3633, 4.3628, 4.3628, 4.3615, 4.3615, 4.3615, 4.3614, 4.3608, 4.3602, 4.3601, 4.3601, 4.3597, 4.3591, 4.359, 4.3587, 4.3585, 4.358, 4.3577, 4.3572, 4.3572, 4.357, 4.3568, 4.3566, 4.3555, 4.3553, 4.3552, 2.6639, 2.6321, 2.3147, 2.3456, 4.4305, 4.4304, 4.4298, 4.4297, 4.4287, 4.4285, 4.4283, 4.4274, 4.426, 4.4255, 4.4251, 4.4251, 4.4249, 4.4248, 4.4243, 4.4242, 4.4241, 4.4192, 4.4177, 4.4171, 4.4165, 4.4159, 4.4147, 4.4133, 4.412, 4.4092, 4.4015, 4.3975, 4.3971, 4.3966, 4.2659, 3.7448, 3.4687, 2.8583, 3.8163, 2.1016, 2.7155, 1.0483, 4.4601, 4.4593, 4.4592, 4.4589, 4.4582, 4.4581, 4.4577, 4.4575, 4.4575, 4.4572, 4.4571, 4.4563, 4.4558, 4.4555, 4.4552, 4.4549, 4.454, 4.4537, 4.4535, 4.4528, 4.4518, 4.451, 4.4508, 4.4498, 4.4498, 4.4494, 4.4486, 4.4484, 4.4434, 4.4328, 4.0999, 3.6767, 2.7688, 2.7651, 4.4713, 4.4707, 4.4705, 4.4701, 4.4698, 4.4695, 4.4692, 4.469, 4.4685, 4.468, 4.4678, 4.4676, 4.467, 4.467, 4.4667, 4.466, 4.4648, 4.4643, 4.4641, 4.4639, 4.4638, 4.4635, 4.4633, 4.4623, 4.4615, 4.4614, 4.459, 4.457, 4.4569, 4.4566, 4.3307, 4.2187, 1.4737, 4.4911, 4.4909, 4.4901, 4.4898, 4.4896, 4.4891, 4.4889, 4.4888, 4.4887, 4.4885, 4.4882, 4.4876, 4.4874, 4.4873, 4.4868, 4.4861, 4.4858, 4.4858, 4.4858, 4.4856, 4.4853, 4.4853, 4.4851, 4.485, 4.4848, 4.4845, 4.4839, 4.4839, 4.481, 4.4796, 4.4725, 4.4018, 4.3633, 3.713, 4.6616, 4.6592, 4.6592, 4.6591, 4.6589, 4.6583, 4.6579, 4.6579, 4.6577, 4.6573, 4.6572, 4.6571, 4.6563, 4.656, 4.6556, 4.6534, 4.6534, 4.6524, 4.6523, 4.6519, 4.6507, 4.6507, 4.6503, 4.6503, 4.6495, 4.6459, 4.6457, 4.6402, 4.6385, 4.6341, 4.4949, 4.5376, 3.9819, 4.0703, 3.6644, 2.1973, 2.0161, 4.7675, 4.7661, 4.7657, 4.7657, 4.7655, 4.7648, 4.7646, 4.7642, 4.7635, 4.7627, 4.7596, 4.7594, 4.7593, 4.7575, 4.754, 4.7538, 4.7533, 4.7527, 4.7524, 4.7516, 4.7515, 4.7514, 4.7481, 4.7446, 4.7444, 4.7441, 4.741, 4.7394, 4.7386, 4.7371, 4.3951, 4.6216, 4.0529, 3.002, 3.3406, 3.655, 3.6192, 3.0809, 4.1016]}, \"token.table\": {\"Topic\": [17, 18, 2, 16, 16, 2, 4, 8, 18, 3, 8, 14, 3, 1, 2, 5, 12, 11, 5, 1, 2, 10, 13, 1, 2, 3, 4, 5, 8, 20, 17, 17, 16, 1, 7, 3, 9, 2, 6, 3, 8, 18, 14, 19, 1, 4, 6, 9, 13, 19, 2, 2, 4, 13, 20, 13, 1, 2, 2, 4, 5, 16, 6, 20, 11, 2, 6, 17, 6, 19, 11, 13, 14, 13, 17, 10, 11, 3, 11, 7, 1, 4, 13, 7, 1, 4, 16, 9, 1, 4, 9, 16, 2, 3, 6, 15, 19, 12, 5, 20, 1, 2, 2, 18, 17, 1, 7, 18, 1, 3, 11, 4, 16, 4, 19, 20, 5, 13, 2, 17, 14, 9, 17, 4, 5, 3, 4, 10, 19, 20, 20, 9, 1, 3, 10, 3, 7, 2, 3, 4, 5, 11, 16, 16, 1, 2, 3, 4, 10, 7, 12, 10, 3, 4, 19, 20, 6, 11, 6, 4, 6, 17, 4, 2, 6, 2, 1, 3, 5, 9, 10, 4, 1, 10, 7, 2, 13, 3, 11, 6, 2, 18, 11, 13, 5, 13, 20, 13, 2, 11, 11, 5, 4, 12, 13, 7, 9, 11, 14, 14, 3, 3, 1, 2, 4, 5, 14, 2, 3, 5, 2, 6, 11, 18, 1, 3, 10, 11, 19, 9, 3, 11, 17, 2, 14, 14, 9, 7, 18, 16, 14, 15, 12, 2, 10, 20, 9, 15, 10, 19, 1, 2, 4, 4, 2, 11, 13, 11, 18, 5, 10, 11, 13, 14, 15, 14, 20, 20, 17, 11, 17, 16, 10, 10, 1, 7, 14, 9, 11, 3, 9, 11, 4, 5, 10, 2, 13, 2, 12, 15, 6, 19, 4, 8, 11, 3, 10, 11, 2, 6, 13, 18, 3, 19, 3, 5, 8, 7, 1, 2, 3, 6, 9, 11, 2, 7, 6, 6, 8, 9, 3, 9, 19, 3, 1, 15, 7, 15, 3, 12, 7, 3, 10, 3, 17, 11, 5, 12, 2, 19, 1, 11, 16, 20, 5, 5, 6, 8, 20, 18, 9, 3, 9, 14, 16, 11, 1, 3, 4, 5, 7, 11, 10, 10, 14, 15, 13, 1, 2, 4, 5, 4, 5, 12, 2, 17, 2, 6, 12, 11, 2, 3, 5, 6, 11, 17, 19, 11, 19, 2, 4, 17, 9, 9, 10, 18, 19, 2, 4, 2, 2, 12, 16, 16, 1, 3, 20, 7, 4, 11, 6, 19, 20, 9, 5, 12, 15, 5, 1, 2, 3, 4, 5, 15, 4, 13, 4, 4, 5, 15, 16, 4, 15, 1, 19, 4, 2, 3, 5, 6, 9, 17, 2, 4, 13, 4, 16, 5, 13, 19, 10, 18, 15, 20, 10, 16, 2, 3, 8, 6, 9, 13, 11, 1, 3, 4, 9, 13, 19, 1, 4, 5, 12, 2, 1, 12, 11, 13, 12, 16, 13, 2, 4, 10, 5, 6, 8, 1, 18, 20, 1, 20, 4, 14, 4, 1, 3, 1, 4, 8, 5, 10, 12, 1, 3, 4, 5, 1, 3, 10, 12, 19, 11, 4, 12, 15, 5, 20, 1, 3, 10, 15, 5, 1, 2, 3, 6, 2, 17, 20, 15, 18, 5, 9, 19, 17, 4, 12, 14, 6, 5, 7, 2, 3, 8, 9, 12, 13, 3, 4, 8, 10, 12, 2, 8, 8, 9, 20, 3, 8, 9, 11, 14, 13, 13, 3, 9, 6, 3, 10, 5, 7, 8, 17, 17, 13, 2, 8, 11, 2, 2, 8, 2, 13, 1, 14, 20, 11, 7, 13, 20, 1, 2, 4, 5, 14, 13, 6, 1, 3, 6, 10, 19, 5, 12, 4, 12, 19, 2, 2, 4, 15, 4, 6, 1, 2, 3, 10, 12, 8, 6, 16, 8, 2, 1, 4, 1, 20, 14, 11, 1, 2, 4, 8, 10, 18, 6, 1, 4, 5, 14, 1, 3, 4, 12, 1, 2, 5, 10, 19, 3, 8, 3, 8, 1, 2, 3, 4, 5, 6, 2, 4, 13, 17, 9, 1, 2, 3, 4, 5, 6, 8, 6, 20, 12, 1, 2, 1, 2, 3, 5, 6, 9, 1, 1, 2, 6, 1, 11, 17, 18, 8, 4, 8, 18, 13, 18, 3, 12, 7, 3, 5, 11, 7, 10, 13, 12, 19, 3, 9, 10, 7, 1, 10, 3, 5, 10, 19, 17, 17, 13, 8, 4, 3, 4, 1, 2, 13, 13, 2, 3, 4, 6, 1, 4, 8, 9, 14, 2, 1, 3, 11, 3, 5, 12, 8, 1, 2, 4, 3, 5, 10, 11, 5, 4, 5, 12, 1, 4, 1, 3, 12, 11, 2, 3, 6, 11, 4, 20, 3, 5, 6, 12, 9, 10, 2, 3, 4, 6, 12, 13, 20, 3, 17, 6, 15, 11, 6, 13, 2, 15, 5, 8, 6, 10, 7, 1, 3, 5, 8, 19, 5, 19, 3, 5, 11, 1, 15, 4, 5, 6, 4, 19, 3, 16, 10, 14, 2, 3, 5, 7, 11, 6, 18, 8, 8, 8, 1, 10, 3, 12, 12, 1, 2, 4, 5, 13, 8, 12, 18, 19, 3, 2, 8, 18, 1, 15, 15, 4, 11, 5, 13, 19, 19, 19, 12, 12, 1, 2, 4, 12, 20, 8, 11, 13, 7, 9, 6, 5, 6, 16, 4, 10, 16, 4, 15, 9, 4, 1, 10, 5, 11, 11, 4, 1, 10, 1, 3, 4, 6, 8, 13, 3, 18, 3, 6, 3, 10, 3, 9, 19, 11, 19, 11, 11, 13, 20, 2, 2, 3, 6, 9, 11, 19, 8, 11, 8, 4, 4, 4, 1, 2, 5, 6, 16, 15, 20, 15, 15, 10, 16, 15, 1, 2, 3, 5, 6, 16, 9, 17, 1, 1, 2, 10, 8, 19, 16, 18, 2, 12, 6, 8, 7, 14, 11, 2, 8, 18, 9, 2, 2, 18, 1, 3, 13, 4, 13, 18, 3, 6, 15, 2, 11, 3, 6, 4, 9, 13, 17, 9, 20, 17, 1, 6, 1, 2, 4, 11, 2, 4, 10, 13, 18, 9, 8, 6, 1, 3, 4, 15, 13, 1, 13, 1, 20, 8, 10, 3, 9, 19, 1, 2, 4, 5, 19, 11, 2, 17, 18, 15, 3, 5, 3, 5, 11, 16, 12, 3, 4, 12, 15, 11, 14, 11, 11, 1, 2, 4, 5, 6, 1, 2, 4, 10, 3, 5, 8, 9, 14, 2, 18, 12, 1, 3, 8, 14, 2, 3, 4, 6, 7, 17, 4, 20, 7, 16, 2, 5, 19, 4, 13, 18, 20, 7, 14, 19, 13, 3, 6, 3, 19, 13, 14, 4, 11, 5, 8, 6, 1, 2, 9, 13, 19, 19, 9, 14, 3, 6, 12, 12, 1, 3, 16, 12, 15, 12, 1, 4, 15, 2, 10, 11, 2, 9, 4, 16, 20, 14, 8, 17, 5, 18, 18, 14, 2, 3, 1, 6, 19, 19, 20, 1, 3, 11, 17, 19, 1, 2, 4, 5, 5, 11, 12, 10, 6, 15, 11, 3, 11, 19, 19, 1, 2, 4, 5, 6, 2, 14, 13, 15, 15, 2, 9, 11, 1, 3, 1, 2, 1, 2, 1, 2, 5, 14, 2, 6, 12, 16, 1, 3, 4, 5, 6, 12, 19, 12, 8, 20, 19, 16, 8, 16, 15, 20, 13, 2, 3, 17, 1, 2, 3, 4, 13, 13, 1, 4, 1, 3, 12, 17, 8, 17, 18, 5, 16, 5, 1, 2, 3, 4, 6, 10, 11, 20, 16, 9, 11, 1, 4, 6, 6, 10, 3, 3, 2, 3, 13, 20, 7, 5, 1, 1, 3, 13, 18, 7, 4, 15, 10, 17, 1, 2, 4, 6, 13, 20, 5, 5, 18, 1, 2, 4, 6, 12, 4, 6, 9, 1, 15, 3, 15, 7, 6, 13, 2, 13, 1, 2, 3, 1, 3, 5, 13, 9, 8, 2, 5, 13, 7, 15, 1, 2, 5, 12, 13, 5, 6, 11, 5], \"Freq\": [0.9908126105203201, 0.9920991719881207, 0.9982605297535291, 0.9987543140829145, 0.9944656792413341, 0.9912526770498854, 0.007817450134462818, 0.9977239775245337, 0.994949099220325, 0.5180633653454902, 0.3518191510928329, 0.12835599798112146, 0.9983604839202682, 0.996186249643509, 0.012722313039971992, 0.9830878258160175, 0.0034697217381741796, 0.9970415469502201, 0.9961876530871668, 0.22688830018213937, 0.7717639907710651, 0.9950966406521331, 0.9929728406346173, 0.07135157215037999, 0.14456610963105712, 0.34502117917102804, 0.006334082123010234, 0.43090388089772563, 0.0014903722642377023, 0.988913571899302, 0.9835694670948114, 0.9970381823633534, 0.9990967462117537, 0.9963533850534464, 0.9980011188875666, 0.5163902013260234, 0.48226750079787206, 0.08120007303652259, 0.9164008242693263, 0.9978207642089963, 0.9976632414367305, 0.9950563934860277, 0.9923527739739146, 0.9734669157638984, 0.19810589101432083, 0.001817485238663494, 0.6261236647195736, 0.0054524557159904815, 0.12540648146778108, 0.04180216048926036, 0.9961204302226984, 0.9990100348199129, 0.43779769644629457, 0.24186026586893197, 0.3183983246882142, 0.9952196402954196, 0.9851140534596039, 0.014707336572777185, 0.28219648914611084, 0.034470255188857185, 0.498669691732134, 0.18430096440975643, 0.9935552538189679, 0.9807835237658268, 0.9957511936956139, 0.04049124541065843, 0.9579376216889982, 0.995299163707698, 0.9980349629513654, 0.9820823351397606, 0.1618851269343955, 0.836220414302498, 0.9969610921396582, 0.12894487655098186, 0.867217503078172, 0.9951080904818566, 0.9897704198929803, 0.9897871312402553, 0.009099881687498812, 0.9974640541827383, 0.03724723353439675, 0.9143595070863202, 0.04685942283359591, 0.9999729654601106, 0.19379518259277168, 0.8056700586669323, 0.9931052027648645, 0.9914609342220361, 0.9539162839029893, 0.04586631510932796, 0.9941000146809612, 0.9913660212070219, 0.242107923265112, 0.4048810468162325, 0.24279184395230158, 0.03829955848261658, 0.07112775146771652, 0.9948288858158022, 0.996869232486042, 0.989425529409551, 0.9998259201366768, 0.9977095069146339, 0.9996120776002156, 0.9942284332197947, 0.9889418598166451, 0.9988461492914132, 0.9988533698207767, 0.9961379545299477, 0.045624593574603876, 0.8292004622919286, 0.12467185453525477, 0.9988017810860996, 0.9941076570611818, 0.9872347640184574, 0.010908671425618315, 0.9797470888899821, 0.9413100711270592, 0.05700480244402999, 0.9967938643474561, 0.9993081491631061, 0.9885327340242792, 0.9970585167305311, 0.9941529144417496, 0.9973009223710597, 0.9947668783546799, 0.6623163068086415, 0.21472686398177204, 0.0369968583211837, 0.0848751455603626, 0.984392571944633, 0.9978500858844623, 0.9939636476009953, 0.026038987855304542, 0.031380318697418294, 0.9414095609225488, 0.9972336332314108, 0.9985541493049463, 0.10555057469968838, 0.2370504601228882, 0.09643324931034652, 0.5575595141943672, 0.0031559972501567952, 0.9903676692997879, 0.9910850017660557, 0.6088176810577083, 0.30456423044234515, 0.06837156193603666, 0.017714450137973136, 0.9938923530639158, 0.9981959064325804, 0.990241204795786, 0.9991020413096753, 0.999470801592947, 0.44520086073666365, 0.0651513454736581, 0.4886350910524357, 0.9847257133659564, 0.014543859599425148, 0.9972720480315991, 0.059237417444547726, 0.9394446843449428, 0.995365887300723, 0.9987485685354045, 0.09280863175600777, 0.9059890242848377, 0.9985926638705143, 0.06919433630837457, 0.23947257261507027, 0.5980797416567333, 0.0920585517841853, 0.9889988870342797, 0.9981454860915641, 0.051685124643741635, 0.9466538618958995, 0.9722726931255834, 0.665546614495077, 0.33352789524583226, 0.5758232969681204, 0.4233006733837991, 0.9960868144163468, 0.9987506667868745, 0.9986651416678202, 0.7844593832054677, 0.21180403346547627, 0.5734473010070212, 0.23962495287036908, 0.1850896187688368, 0.9951954383721582, 0.9991249830303204, 0.9980524681066666, 0.9967880039490593, 0.9921983512477415, 0.8253564441689081, 0.057522202022331506, 0.11591595256015289, 0.9958131341825884, 0.8528402206922842, 0.1458115506472663, 0.9963062237204636, 0.988904996884088, 0.9985192950823761, 0.9982254115994812, 0.0011275765792656907, 0.11636590298021927, 0.881539369669917, 0.0006765459475594144, 0.9966228742781829, 0.007372356764361145, 0.10444172082844956, 0.885911537850731, 0.00404669282545643, 0.9934630886495535, 0.9965473793647378, 0.9965492256330114, 0.23105570875583362, 0.2830952827999403, 0.26748341058670827, 0.21752541950436588, 0.9899989532570714, 0.994246830506948, 0.9987818818356236, 0.0006515211231804459, 0.9939616766675838, 0.9977195507450849, 0.9925177548843482, 0.9956296967547558, 0.9948408611658854, 0.9786954178943129, 0.9950934349300988, 0.9914856840116725, 0.9935563782891832, 0.9934860910760545, 0.9946120762879495, 0.9955111870995771, 0.9956075366418397, 0.9957309367094437, 0.9983606919690807, 0.9861487477250479, 0.9683585484357027, 0.031237372530183955, 0.867163164330111, 0.04784051254505085, 0.08469063707299543, 0.9969478304432595, 0.6044667519283261, 0.049010817723918326, 0.3443324117013749, 0.9735531202831857, 0.021430414597428615, 0.8493664298133369, 0.09347094682156339, 0.009482559822477445, 0.04605814770917616, 0.9925862991637372, 0.9973335158890947, 0.9902780641061221, 0.9971600714205501, 0.9957260331105979, 0.9918386077496868, 0.9905935737794759, 0.9830974573693249, 0.9881128246461305, 0.9949104318166784, 0.9906748338003215, 0.9983780203606774, 0.0012756107585528247, 0.9880625543049733, 0.7780726641941371, 0.21840636187905604, 0.3445895727092661, 0.49750774175349965, 0.15606032320267674, 0.23125034952486173, 0.7682899961884242, 0.9967990639224223, 0.41908878412824296, 0.5796305900749196, 0.08236023921558017, 0.9128259846393468, 0.9904039243019991, 0.9972476989173158, 0.9950005837246187, 0.9978886731832318, 0.9930951027068419, 0.9960217655650869, 0.5244487774587174, 0.3302084895110443, 0.14325221236140895, 0.15483728385811116, 0.24118884600975007, 0.6014832949872779, 0.9917628865000384, 0.6279825946562423, 0.36972135442964915, 0.9980507975657216, 0.9947742840616454, 0.9982003070467094, 0.9957762064501412, 0.17182377663013718, 0.2718406018327543, 0.14874297081414858, 0.40647863575935433, 0.9135021432647517, 0.08256141819593965, 0.997286062797814, 0.9925097700622063, 0.9953588630329961, 0.9984300131425888, 0.995130375454436, 0.9987600955269772, 0.002571386218718213, 0.9964121597533075, 0.9915392027274, 0.9975377206201106, 0.9986364519860481, 0.9967981738502486, 0.9978095715584542, 0.9933961303937532, 0.20028039209300438, 0.793838645023181, 0.9966801913866133, 0.8258291441708839, 0.173791510417393, 0.9991679585736629, 0.9985957510876563, 0.9934126353285374, 0.9447770198300949, 0.05359553014867293, 0.49195326092380004, 0.5059203882055483, 0.7535902445579294, 0.04650319547113805, 0.18362800262962203, 0.015501065157046016, 0.9979575899045169, 0.04158575432155004, 0.7862306676418054, 0.17024168175384546, 0.9856570215403149, 0.9909389252322626, 0.9957520191448559, 0.8623481060372155, 0.004413245169074798, 0.13239735507224393, 0.9887775014510682, 0.9981935562643405, 0.14914747175457632, 0.0015014846149789562, 0.5185126870393996, 0.31981622299051765, 0.003503464101617564, 0.0075074230748947805, 0.9920446653635132, 0.9981735458568742, 0.9984186491424397, 0.9878533566004766, 0.9913944825094435, 0.5680364173745914, 0.28098794651895403, 0.1506866732802626, 0.9964656725912038, 0.005454970650212902, 0.9912460952958302, 0.002337844564376958, 0.9993589349989346, 0.9842003419812074, 0.00487000783763633, 0.9934815988778113, 0.9909428340548674, 0.989418328874026, 0.9146394253782482, 0.08415726524521684, 0.8177635082859065, 0.1437127160751282, 0.03688202447945768, 0.7766359171856786, 0.21800306447317294, 0.10475588561218775, 0.8856633965394055, 0.9566923350740494, 0.025615743546802253, 0.016705919704436252, 0.9914653706615727, 0.9966974444437833, 0.9958542627621243, 0.14783854817846223, 0.8435493631359315, 0.9546131565434639, 0.044879490213603115, 0.9989669346272966, 0.9969981492375082, 0.998118637375092, 0.9920976991629847, 0.9955846541924062, 0.06221467463012269, 0.936230506933943, 0.9830242793710606, 0.9967267154032872, 0.995019269538121, 0.9964895964420922, 0.9501282149291391, 0.04864137619091156, 0.9845078882943559, 0.999433585926765, 0.45987747630115366, 0.033776311818728796, 0.504046499448722, 0.9967102335224531, 0.368892307961288, 0.13065515052133034, 0.22767354952546714, 0.25324860026581264, 0.019181288055259135, 0.9940326937055959, 0.9526424969508587, 0.04643604490306992, 0.9968685262706111, 0.7883678398251364, 0.17724642056022474, 0.033934357440590035, 0.9919700196209027, 0.9969955669603182, 0.9922757565037266, 0.44220205237675814, 0.5551047040474199, 0.9970789025948914, 0.45010349590210924, 0.38815376743386193, 0.1021202555218764, 0.005807787043898184, 0.0537220301560582, 0.9930116715807171, 0.33790971768608896, 0.25668142016539447, 0.4050584436365297, 0.9977687334139838, 0.9977335879480164, 0.9958051193256209, 0.9860484824355806, 0.983247382659119, 0.9917837785590724, 0.9934641198927419, 0.9994640454177138, 0.9893692308194146, 0.9948228305760617, 0.9945224020916623, 0.24441927124132862, 0.12024905323102798, 0.6339216393157454, 0.997401759210943, 0.9952337224290986, 0.9879656768231267, 0.9919753412152287, 0.9487692215719707, 0.050779663706868025, 0.000330812141412821, 0.9893517684896939, 0.9941160073888093, 0.9952655087648494, 0.7236032606662437, 0.2736498817565968, 0.0026270388648633293, 0.9971227832222814, 0.9987920996293456, 0.9271489958918656, 0.07258119663935166, 0.6960183856900682, 0.30372621144059775, 0.997972431042547, 0.9887893716993943, 0.9975080238768219, 0.0691365080534035, 0.011151049686032822, 0.916616284191898, 0.15638753128377686, 0.6247093319561623, 0.21818582993623706, 0.9983267539377543, 0.9927886739954902, 0.9993987742039739, 0.9972488806699044, 0.9792750835969183, 0.9993136584294516, 0.9938987896233036, 0.9990272476197831, 0.9988206786330491, 0.9975134018623707, 0.9995982902799007, 0.9975178591365647, 0.9961909448004536, 0.9992665900029861, 0.9911660952842115, 0.9967840393419523, 0.5311549029121042, 0.44623302354199723, 0.0220167835403981, 0.9941597988205682, 0.10763569529546628, 0.25220520760408277, 0.5956897058263796, 0.0400995727571345, 0.0036933817013150194, 0.9935039603932588, 0.16731943982309558, 0.8300993567922509, 0.9873490480496743, 0.9939614965960988, 0.9733433386618813, 0.890905533566016, 0.10889312562227378, 0.9551896738598014, 0.042998892070859225, 0.996758617837118, 0.005065139631872255, 0.2821282774952846, 0.08205526203633053, 0.6306098841680957, 0.9694720607663389, 0.029284529657488772, 0.9728968065052482, 0.9957773421022654, 0.9976938610889629, 0.9988343521239768, 0.9988066273096174, 0.9957418439635387, 0.9897654286821423, 0.9964343538716537, 0.9943971235751304, 0.9948556593916028, 0.9937467703362755, 0.994348159558607, 0.9861607361299506, 0.04109689557968619, 0.4357154735652751, 0.2474651776841319, 0.2549775134352573, 0.011931356781199217, 0.00839613995714019, 0.012277897205965482, 0.001227789720596548, 0.5942502247687294, 0.2394189955163269, 0.15224592535397197, 0.9977928946202985, 0.9955327685384996, 0.9966222348279249, 0.9992139420797922, 0.9861008312850938, 0.06818514435148167, 0.5793248760958005, 0.26975436670440195, 0.08212079429193048, 0.9941907196024591, 0.9933858743586486, 0.9918074960164831, 0.09330258682240924, 0.9057528043836959, 0.9957845559051728, 0.9978619648634762, 0.9953192506625915, 0.9980280221469724, 0.9983398123775101, 0.9984238125291398, 0.9930665308254863, 0.9904016210128449, 0.9907762409321642, 0.36791113492274974, 0.6074004585988793, 0.022560588462244086, 0.9981490854168471, 0.36572952345756266, 0.6330154193177845, 0.618530397553477, 0.3771040165729263, 0.9985926562308379, 0.9944855390219279, 0.9706031330325567, 0.9993889537431399, 0.9990164540327143, 0.8280695140526578, 0.17097498277902645, 0.9405766355350659, 0.054205416927411855, 0.00278316321632188, 0.0023855684711330404, 0.9966062814341384, 0.9980823896996726, 0.9944050240322779, 0.008862239117560485, 0.12333282771938342, 0.7148872888165458, 0.08271423176389786, 0.06942087308755714, 0.8348118404581794, 0.16467782029562716, 0.9974491127470497, 0.9921589196600042, 0.9953340647634111, 0.9992044863794971, 0.1297093117961079, 0.818510484782336, 0.050094630762634776, 0.9994554606453389, 0.996318993987137, 0.23386025806162314, 0.30767240201232293, 0.08550515685378096, 0.35444445362464755, 0.01680870604817916, 0.9966146720928034, 0.9978956835636883, 0.9949838858494829, 0.9980943115492042, 0.9989341850840058, 0.0012140885453985116, 0.9967666957721779, 0.9986852509059104, 0.9963854601345423, 0.9993596695072801, 0.9947417785970657, 0.9781777447767214, 0.003848928731555396, 0.017595102772824667, 0.9843013042140513, 0.013898991458734999, 0.994385622322822, 0.996419977885891, 0.4913106534915115, 0.04801555251299076, 0.43165496703597755, 0.028130323694479435, 0.9021800873187752, 0.09756260968574847, 0.5298684406465297, 0.46898293659708373, 0.9993326375819171, 0.8585062851306025, 0.140462415760897, 0.9989044553181234, 0.99383651002448, 0.9985125030405966, 0.9945804782142358, 0.9861641392915531, 0.013338973898999552, 0.701352492832095, 0.19609955272220764, 0.011724101372715618, 0.01451555408050505, 0.0354514493889258, 0.04075520953372572, 0.7180223332152771, 0.16050536242117963, 0.12117623388089059, 0.9847677027504341, 0.9977451910207347, 0.15373162513485578, 0.2853833041103068, 0.008003980482784234, 0.10405174627619503, 0.027875932026248537, 0.385571059808606, 0.03477591520106253, 0.9961609829759402, 0.9952966659738394, 0.9978801949538958, 0.021115462369906985, 0.9771766752295844, 0.14879816440058638, 0.04682765762018453, 0.010795160946709207, 0.10342931231374092, 0.6885562117360468, 0.001458805533339082, 0.9988916415166506, 0.31178188942049456, 0.6699445557795751, 0.01760751717112986, 0.3698603877140001, 0.1333922709788197, 0.03637971026695083, 0.4577780208591313, 0.9959492491184877, 0.9974045002781751, 0.9963517944057941, 0.9949223531319314, 0.11965130641131022, 0.8786892814580595, 0.9989583462720262, 0.9934678419034016, 0.9912683811726063, 0.47795826291851073, 0.2673025840766486, 0.253730929697481, 0.9944494710698316, 0.9901023903604481, 0.9966419313061804, 0.9965455071633306, 0.9961065108064492, 0.9983342484783506, 0.09203146632026198, 0.9068167148089814, 0.9959343233643346, 0.7661443495138589, 0.23251590142222925, 0.9981129510721111, 0.9675294950552302, 0.02936356585903582, 0.9963646551550267, 0.9966562686211546, 0.9945695153204133, 0.986930053705342, 0.9979033606173762, 0.9977964189350534, 0.012684168796707968, 0.9861941239440445, 0.9850898140119171, 0.014702833044953987, 0.9977702091375868, 0.9895041802616489, 0.2141771762245754, 0.0027695324511798542, 0.032311211930431634, 0.7500817055278772, 0.020633893522035575, 0.6697172297437832, 0.0807669546433964, 0.05128996389763128, 0.17686194447459064, 0.9963593769751421, 0.5560023849642918, 0.4140390761923256, 0.029627125308932065, 0.044439581758447075, 0.9081131924552229, 0.04733781535138928, 0.9983153197934607, 0.14778285577012676, 0.14735074215676383, 0.7043451897815983, 0.23901957452181094, 0.7063762844806591, 0.01001478664197532, 0.04439888744609058, 0.998513510075969, 0.0154534577567575, 0.8742241816679958, 0.10891008323810049, 0.997917283703513, 0.9952392191688607, 0.9974373653365226, 0.002463361252514986, 0.9956438815267946, 0.9929861625200356, 0.23805052859739928, 0.15962302886569799, 0.5674460274705448, 0.034139029294975864, 0.9971954783972483, 0.992587470178622, 0.29260911084705654, 0.006864729873244728, 0.6924796259635619, 0.006864729873244728, 0.9974597912427242, 0.9947652269957422, 0.05064623163105986, 0.5501856817474847, 0.11878180943687419, 0.09655576533979036, 0.14173657629123945, 0.02914891029125747, 0.012752648252425143, 0.9975136594733547, 0.9936985948509574, 0.9923142087826456, 0.9715748610066761, 0.9976390816800669, 0.9976452606486478, 0.9974338920587243, 0.14301914055047163, 0.846673312058792, 0.9970326499310606, 0.9961958992998403, 0.998870515375404, 0.9925418619939094, 0.9963682903636876, 0.006034972234531047, 0.018653550543095965, 0.9743736989570128, 0.9974655324295523, 0.9963422794870805, 0.9953631690509542, 0.9967831336923025, 0.11011550819754971, 0.8472479635588169, 0.04169422155052853, 0.9997561074220667, 0.9903631607323575, 0.06831182414143763, 0.0439147440909242, 0.8872404778370055, 0.9953462140684636, 0.9921526810464505, 0.9978367526628501, 0.9980936074172496, 0.9893545144482815, 0.9901560445301195, 0.34137384064254866, 0.10688997549033258, 0.477152998697836, 0.0062593228890735295, 0.06740809265156109, 0.9986763697651254, 0.9975379267476646, 0.9985912490459093, 0.9959512620428297, 0.9986402843160629, 0.30259864612476023, 0.6964986078906119, 0.9978872615083578, 0.9960837368136207, 0.990664440552394, 0.042081411559012225, 0.8316654941680401, 0.0510032655997922, 0.007434878367316647, 0.06765739314258148, 0.9922179694269038, 0.9923802792638234, 0.9805288947286839, 0.016619133808960743, 0.9977043488727145, 0.9466349672354752, 0.0523158981145819, 0.9896754108881046, 0.6163454308515283, 0.38129844450984374, 0.9932544855839387, 0.9713138496865527, 0.02814569996134895, 0.9239721050607954, 0.012438086029664553, 0.06041356071551355, 0.9953608062295015, 0.9895747717718413, 0.999076809408517, 0.9985818343176776, 0.15313050949197587, 0.36289833071386063, 0.26700446958385615, 0.2166601924906038, 0.9976433271300886, 0.21993766339723714, 0.33888354258145725, 0.4398753267944743, 0.9938959100123143, 0.9929770663454711, 0.9957998133554772, 0.9517289696872475, 0.03580171672804693, 0.011933905576015643, 0.396357298862008, 0.6023331410575106, 0.9876008611475405, 0.4538092488912338, 0.5404919144097841, 0.9966426721244991, 0.9975980656274003, 0.9986252471844573, 0.998814893071975, 0.9952083045733742, 0.9944959438612477, 0.9971556083268611, 0.9967924615820144, 0.9992249829108657, 0.9917389009903765, 0.39336024741147524, 0.5431985324678605, 0.010285744985317728, 0.05309668357285638, 0.9952115340983706, 0.9948686703971823, 0.0846637713170411, 0.9128293889273704, 0.1273760533958122, 0.87040303153805, 0.9978347847940475, 0.9932273496637136, 0.018901457390526986, 0.9730615660469373, 0.007633280869251282, 0.9926459300817848, 0.996956301605439, 0.9929007694725268, 0.6255705802822398, 0.13300682898524258, 0.2397046148745031, 0.9990212744882631, 0.3789556574682925, 0.3290779839437215, 0.004586452737891589, 0.06994340425284673, 0.19721746772933832, 0.019492424136039254, 0.13810648969735556, 0.8611736400839911, 0.998591833510029, 0.996674148377585, 0.9968515566165119, 0.9951107806419572, 0.05801902436288009, 0.11701589745097725, 0.0022816470255065204, 0.12549058640285862, 0.6968801915047058, 0.9845597599963117, 0.9923596957550889, 0.9803521375437909, 0.9940712943894727, 0.9985466438673904, 0.9972247665135092, 0.9595083503891441, 0.02764460148413242, 0.2123807479098427, 0.229932875836276, 0.4032601391098047, 0.11672165071078133, 0.010092473557699138, 0.9947499296094567, 0.9984335139562773, 0.9993371418961466, 0.05122332022160148, 0.9484684064561896, 0.9912836665133816, 0.9992309175863853, 0.9906929333240092, 0.9967985953225074, 0.9838401298885833, 0.014894203841151997, 0.9830174535160318, 0.990734791255998, 0.006378120973751059, 0.9863901150830892, 0.9898347760442553, 0.9880713034908513, 0.12632006843143123, 0.8713506761188521, 0.993481701760018, 0.9923767057480712, 0.99813046629884, 0.9979398929141418, 0.9938987153968721, 0.9095201126801136, 0.05851217375803947, 0.03183750630952148, 0.9550718436258917, 0.0435146637315803, 0.9948496413762397, 0.04901851477812417, 0.9492853837519656, 0.9940528699789242, 0.996964124930186, 0.9944585007621671, 0.009667717577792626, 0.9890075082081856, 0.7479106121653937, 0.23762729576394154, 0.013254112114323433, 0.9971399847641015, 0.9966180524100718, 0.9830023739994539, 0.9891507121882959, 0.9973734488662339, 0.9944843542121716, 0.11296311870436367, 0.3685842680760267, 0.4466482118961154, 0.07132901533364969, 0.2251372241442833, 0.15123721927249567, 0.6221349247345844, 0.9928453473346944, 0.9913700355878844, 0.9958156216504216, 0.9967322317722941, 0.9991365668747042, 0.07376308777736579, 0.6673075194781382, 0.05121375006304153, 0.20753034540471307, 0.9952949531350253, 0.999656265408702, 0.9917173205708577, 0.6688586188736737, 0.3278718719968989, 0.05208348908366505, 0.9449433019464945, 0.9986614569748267, 0.9946793976132836, 0.9954857031431896, 0.23609365120224451, 0.4791648149333033, 0.27986168433753433, 0.0046939629739296326, 0.9917806878711825, 0.9923684303636993, 0.9963570593670126, 0.998974398111725, 0.9975078069422765, 0.997869125695468, 0.9984827777589402, 0.9944996724152053, 0.9972900922240038, 0.4063666281302656, 0.13274643185588675, 0.45513062350589745, 0.9977747930895349, 0.05751788797151085, 0.8381177961563009, 0.005751788797151085, 0.09695872543768971, 0.9958153103975016, 0.998766461936199, 0.9977674707792054, 0.9984980263919088, 0.4910902649354802, 0.10733184471365939, 0.3425203956739411, 0.044627451223047856, 0.01412261114653413, 0.8436190439930792, 0.15308776617288203, 0.0029090311861830315, 0.9987847647106576, 0.3660317407394494, 0.27740298819378245, 0.12818621837113411, 0.045566194811614086, 0.18226477924645634, 0.9994444005958875, 0.9963616278266668, 0.9927360070003824, 0.9969914881111952, 0.99809489482815, 0.9980895940596389, 0.9955933955653025, 0.007058878995237934, 0.729779489969214, 0.2090514163974311, 0.05321308781025519, 0.9895133336689275, 0.9967221091999819, 0.30844176597403067, 0.6889868019160166, 0.9964736528639311, 0.9944933415611378, 0.21973240066224337, 0.779582506604874, 0.9924802669754541, 0.9016015226037853, 0.09694640027997692, 0.9959850062802932, 0.9764583851070163, 0.9818676152307082, 0.9969468969784772, 0.9927546024053069, 0.9865826687493379, 0.998640322846162, 0.9975708671813049, 0.9988322712601376, 0.9886592908658343, 0.9975528841337621, 0.9931719279955304, 0.966188812861745, 0.032008709137751064, 0.8997481346316261, 0.09932284603076393, 0.9966525305910309, 0.9981787048454557, 0.08767272287663923, 0.8767272287663922, 0.03506908915065569, 0.9994225818529928, 0.985710024633499, 0.9861425810772505, 0.9972097022783994, 0.052583560853545055, 0.944626111047613, 0.9959045653590983, 0.990851073098955, 0.013606418339297651, 0.9853314614041382, 0.9881390201560889, 0.993562564766839, 0.9905313537334709, 0.9947450761831221, 0.014953248465127137, 0.9844221906208699, 0.9924605435434356, 0.9205865197604607, 0.024027590843287358, 0.055122120169894526, 0.9968829549469689, 0.9953962309115352, 0.9972611407870616, 0.9963931840401508, 0.9889295925393105, 0.9947106492960631, 0.9444508093081854, 0.05320849629905269, 0.9907780857205906, 0.9927812934178407, 0.9988086623360755, 0.9973978797831083, 0.26283368206863555, 0.7364244425326338, 0.9452270962007349, 0.053975964835583305, 0.9939207400592519, 0.11600283514297716, 0.8635766616199411, 0.9970826021187015, 0.8347568213641705, 0.09980033009929473, 0.04978438740452057, 0.015282649156736548, 0.2836081482807644, 0.05635360610607241, 0.6573820663312446, 0.0023001471880029554, 0.9994466674935552, 0.9979053557376945, 0.9982903088287582, 0.9958971798949585, 0.9949578329563398, 0.9992256454905352, 0.9975160794874178, 0.44120167307344005, 0.5033427537880091, 0.05415151319412443, 0.9894783404946856, 0.5433503158085459, 0.11919933802015631, 0.33309592791188125, 0.0036422019950603317, 0.9957108597134661, 0.9959831519918037, 0.9910706935028669, 0.9934878124836081, 0.9987579050958062, 0.9854114998767574, 0.23127006597725946, 0.6823422607758812, 0.08218688295059634, 0.2042132200096391, 0.7952303038022417, 0.9953148453478907, 0.9973159900742657, 0.8014096025663489, 0.19837116553017473, 0.8313619658500508, 0.16853947280419043, 0.9967674175779871, 0.9945979287266269, 0.04075910935332425, 0.9578390698031198, 0.9943172492960017, 0.9786586430527093, 0.17631903342218613, 0.00506663889144213, 0.6159344012363149, 0.20232777973158908, 0.9945845839613621, 0.9981501669094993, 0.9857230753835577, 0.9973559013448183, 0.4757031717064337, 0.5106813460966126, 0.9842596241961493, 0.9948036627283495, 0.9959985945529204, 0.9980265289031804, 0.9690342357480897, 0.9893181051261699, 0.9911400481248779, 0.9567842466916752, 0.042384777812775734, 0.9982122632204249, 0.8409620311735032, 0.07720924598425957, 0.07882337656232771, 0.0029592393931249313, 0.9962979463308399, 0.9976456282272819, 0.02337453324411212, 0.9758867629416809, 0.10241496590524109, 0.89633578160267, 0.9923316284538121, 0.9944668753065206, 0.9973800683653801, 0.9907918447761499, 0.9939378068422207, 0.9952030978697138, 0.9861662813044264, 0.9964490399142324, 0.007696961447357135, 0.05190973999380393, 0.824469870384348, 0.001610991930842191, 0.0300718493757209, 0.009486952481626237, 0.06891465481936039, 0.005906970413088034, 0.9932252518293033, 0.9268326134396896, 0.07113846813681828, 0.013497859893516009, 0.05534122556341564, 0.930002546663253, 0.998218364959884, 0.9954753271770106, 0.9990168681093559, 0.9972042166221194, 0.8712173415063234, 0.12728112294047042, 0.9969045412359702, 0.9922257254620692, 0.9810615490256871, 0.9959800416028385, 0.9970892642672831, 0.9980901200669394, 0.0016888157699948214, 0.9985051951015941, 0.9896432052407731, 0.981355662550092, 0.817863991394284, 0.18049412223873856, 0.991672666304268, 0.9951562812512209, 0.602217023215055, 0.17145347610543565, 0.18290145665284827, 0.022895961094825258, 0.02049987214304122, 0.996938362384256, 0.9938755765111751, 0.9987432098569577, 0.9970272626364279, 0.8061578844178406, 0.006099290020380219, 0.00042064069106070477, 0.13775982632238082, 0.04963560154516316, 0.9963188377264164, 0.9985355274857607, 0.993670525653971, 0.9990668216740015, 0.9990361714967079, 0.9991928151472815, 0.9965085579476692, 0.9991637872846801, 0.9977784962007001, 0.9970250265572245, 0.5945939762414377, 0.4033036889787768, 0.99876110070893, 0.9530747783401189, 0.046388595405934985, 0.5747359772658943, 0.3852519544835305, 0.01957679317011667, 0.020060170779255353, 0.9874603555966196, 0.9949685679885028, 0.6636751862416732, 0.30816175125604306, 0.02705810498833549, 0.9973689968269095, 0.9717659956694751, 0.8621322565586175, 0.1377376079342051, 0.7555275808316233, 0.236285557956294, 0.007891216153120505, 0.8292017728137983, 0.1382002954689664, 0.03179829807250554, 0.9985707211186373], \"Term\": [\"absolute\", \"abuse\", \"accept\", \"access\", \"accurate\", \"action\", \"action\", \"activity\", \"additional\", \"address\", \"address\", \"address\", \"advance\", \"advice\", \"age\", \"age\", \"age\", \"agency\", \"ago\", \"agree\", \"agree\", \"air\", \"alive\", \"also\", \"also\", \"also\", \"also\", \"also\", \"also\", \"ammunition\", \"ancient\", \"animal\", \"answer\", \"anyway\", \"apple\", \"application\", \"application\", \"apply\", \"apply\", \"appreciate\", \"appropriate\", \"approve\", \"archive\", \"archive_name\", \"area\", \"area\", \"area\", \"area\", \"area\", \"area\", \"argue\", \"argument\", \"arm\", \"arm\", \"arm\", \"armenian\", \"article\", \"article\", \"ask\", \"ask\", \"ask\", \"ask\", \"aspect\", \"assault\", \"associate\", \"assume\", \"assume\", \"atheism\", \"atheist\", \"atmosphere\", \"attack\", \"attack\", \"author\", \"authority\", \"authority\", \"auto\", \"automatically\", \"available\", \"available\", \"aware\", \"away\", \"away\", \"away\", \"ax\", \"back\", \"back\", \"background\", \"backup\", \"bad\", \"bad\", \"band\", \"bank\", \"base\", \"base\", \"base\", \"base\", \"base\", \"baseball\", \"basis\", \"battle\", \"be\", \"belief\", \"believe\", \"benefit\", \"bible\", \"big\", \"bike\", \"bill\", \"bit\", \"bit\", \"bit\", \"black\", \"blind\", \"block\", \"block\", \"bloody\", \"body\", \"body\", \"bomb\", \"book\", \"boot\", \"box\", \"boy\", \"break\", \"btw\", \"build\", \"build\", \"build\", \"build\", \"bullet\", \"bus\", \"button\", \"buy\", \"buy\", \"buy\", \"ca\", \"cable\", \"call\", \"call\", \"call\", \"call\", \"call\", \"camera\", \"camp\", \"can\", \"can\", \"can\", \"can\", \"canadian\", \"cap\", \"capture\", \"car\", \"card\", \"carry\", \"carry\", \"carry\", \"case\", \"case\", \"catch\", \"cause\", \"cause\", \"cd\", \"center\", \"certain\", \"certain\", \"certainly\", \"change\", \"change\", \"change\", \"change\", \"channel\", \"character\", \"cheap\", \"cheap\", \"chemist\", \"child\", \"child\", \"chip\", \"chip\", \"choice\", \"christian\", \"church\", \"citizen\", \"citizen\", \"city\", \"city\", \"city\", \"civilian\", \"claim\", \"clearly\", \"clipper\", \"clock\", \"close\", \"close\", \"close\", \"club\", \"code\", \"code\", \"cold\", \"collection\", \"color\", \"com\", \"come\", \"come\", \"come\", \"come\", \"command\", \"comment\", \"comment\", \"comment\", \"common\", \"common\", \"communication\", \"community\", \"company\", \"company\", \"company\", \"company\", \"component\", \"compression\", \"computer\", \"computer\", \"concept\", \"conclusion\", \"conference\", \"configuration\", \"confirm\", \"consent\", \"consideration\", \"constitution\", \"contribute\", \"controller\", \"convert\", \"convince\", \"cool\", \"cop\", \"copy\", \"core\", \"cost\", \"cost\", \"could\", \"could\", \"could\", \"count\", \"country\", \"country\", \"country\", \"court\", \"court\", \"cover\", \"cover\", \"cover\", \"cover\", \"coverage\", \"cpu\", \"crew\", \"crime\", \"criminal\", \"cry\", \"cryptography\", \"cult\", \"custom\", \"cycle\", \"cylinder\", \"d\", \"d\", \"danger\", \"data\", \"data\", \"datum\", \"datum\", \"datum\", \"day\", \"day\", \"dealer\", \"death\", \"death\", \"defense\", \"defense\", \"deficit\", \"define\", \"degree\", \"deny\", \"department\", \"description\", \"design\", \"design\", \"design\", \"destroy\", \"destroy\", \"destroy\", \"detailed\", \"development\", \"development\", \"device\", \"devil\", \"die\", \"diet\", \"different\", \"different\", \"different\", \"different\", \"digital\", \"digital\", \"direct\", \"dirt\", \"disagree\", \"discussion\", \"disease\", \"disk\", \"display\", \"display\", \"distant\", \"distribution\", \"distribution_usa\", \"division\", \"doctor\", \"dog\", \"double\", \"double\", \"draft\", \"drive\", \"drive\", \"driver\", \"drug\", \"dual\", \"early\", \"early\", \"earth\", \"earth\", \"easy\", \"easy\", \"easy\", \"easy\", \"eat\", \"effect\", \"effect\", \"effect\", \"effectively\", \"electrical\", \"electronic\", \"email\", \"email\", \"email\", \"enable\", \"encryption\", \"end\", \"end\", \"end\", \"end\", \"end\", \"end\", \"energy\", \"engine\", \"entry\", \"era\", \"escape\", \"even\", \"even\", \"even\", \"eventually\", \"ever\", \"ever\", \"ever\", \"evidence\", \"evolution\", \"example\", \"example\", \"excellent\", \"exchange\", \"exist\", \"exist\", \"expect\", \"expect\", \"expect\", \"experiment\", \"experiment\", \"expire\", \"expire\", \"explain\", \"explain\", \"explain\", \"exposure\", \"external\", \"extra\", \"facility\", \"facility\", \"fact\", \"fact\", \"faith\", \"family\", \"fan\", \"fancy\", \"faq\", \"fast\", \"fast\", \"fatal\", \"father\", \"fear\", \"federal\", \"field\", \"field\", \"fighting\", \"file\", \"final\", \"final\", \"final\", \"finally\", \"find\", \"find\", \"find\", \"find\", \"find\", \"finish\", \"fire\", \"fire\", \"firearm\", \"first\", \"first\", \"first\", \"fish\", \"flame\", \"flight\", \"fly\", \"fly\", \"folk\", \"follow\", \"follow\", \"follow\", \"follow\", \"follow\", \"follower\", \"force\", \"force\", \"force\", \"forget\", \"format\", \"frame\", \"french\", \"frequently_asked\", \"fuel\", \"gain\", \"game\", \"garage\", \"gas\", \"gateway\", \"general\", \"general\", \"general\", \"generally\", \"generate\", \"genocide\", \"german\", \"get\", \"get\", \"get\", \"giant\", \"girl\", \"gmt\", \"go\", \"go\", \"go\", \"goal\", \"god\", \"good\", \"good\", \"government\", \"government\", \"graphic\", \"gravity\", \"greek\", \"ground\", \"ground\", \"ground\", \"group\", \"group\", \"group\", \"guess\", \"guilty\", \"gun\", \"guy\", \"hammer\", \"hand\", \"hang\", \"happen\", \"hard\", \"hardware\", \"have\", \"head\", \"health\", \"hear\", \"heat\", \"hell\", \"help\", \"help\", \"help\", \"hide\", \"high\", \"high\", \"high\", \"high\", \"high\", \"historical\", \"hit\", \"hit\", \"hitter\", \"hole\", \"horror\", \"host\", \"host\", \"hot\", \"hot\", \"hour\", \"however\", \"however\", \"however\", \"however\", \"human\", \"human\", \"hunt\", \"ice\", \"ignore\", \"ill\", \"image\", \"imaging\", \"immediate\", \"immediately\", \"impact\", \"implementation\", \"impossible\", \"impression\", \"incline\", \"include\", \"include\", \"include\", \"include\", \"include\", \"include\", \"increase\", \"increase\", \"increase\", \"increase\", \"increase\", \"indeed\", \"independent\", \"industry\", \"info\", \"inform\", \"information\", \"information\", \"information\", \"information\", \"informed\", \"inhabitant\", \"innocent\", \"input\", \"input\", \"insist\", \"instal\", \"insurance\", \"interesting\", \"internal\", \"internet\", \"interpret\", \"investigation\", \"investment\", \"involve\", \"involve\", \"involve\", \"israeli\", \"issue\", \"issue\", \"jewish\", \"jewish\", \"job\", \"join\", \"joint\", \"key\", \"kid\", \"kill\", \"kill\", \"know\", \"know\", \"know\", \"know\", \"laboratory\", \"land\", \"language\", \"large\", \"large\", \"large\", \"large\", \"large\", \"last\", \"last\", \"later\", \"latter\", \"launch\", \"law\", \"lead\", \"lead\", \"lead\", \"leave\", \"legal\", \"less\", \"less\", \"less\", \"less\", \"less\", \"letter\", \"level\", \"library\", \"license\", \"life\", \"light\", \"light\", \"like\", \"link\", \"list\", \"listen\", \"little\", \"little\", \"little\", \"local\", \"local\", \"location\", \"logic\", \"long\", \"long\", \"long\", \"long\", \"look\", \"look\", \"lose\", \"lose\", \"lot\", \"love\", \"love\", \"low\", \"lunar\", \"machine\", \"magazine\", \"mail\", \"mail\", \"make\", \"make\", \"make\", \"make\", \"make\", \"make\", \"man\", \"man\", \"man\", \"mankind\", \"manual\", \"many\", \"many\", \"many\", \"many\", \"many\", \"many\", \"many\", \"market\", \"master\", \"material\", \"matter\", \"matter\", \"may\", \"may\", \"may\", \"may\", \"may\", \"may\", \"maybe\", \"mean\", \"mean\", \"mean\", \"measure\", \"measure\", \"measure\", \"measure\", \"medical\", \"medium\", \"meet\", \"meeting\", \"member\", \"member\", \"memory\", \"mercy\", \"mere\", \"message\", \"message\", \"message\", \"meter\", \"middle\", \"military\", \"mine\", \"mission\", \"mode\", \"model\", \"model\", \"modem\", \"money\", \"money\", \"monitor\", \"month\", \"month\", \"moon\", \"moral\", \"morality\", \"moslem\", \"motif\", \"mount\", \"move\", \"move\", \"much\", \"much\", \"murder\", \"muslim\", \"must\", \"must\", \"must\", \"must\", \"name\", \"name\", \"name\", \"name\", \"name\", \"nature\", \"need\", \"need\", \"need\", \"net\", \"net\", \"net\", \"network\", \"never\", \"never\", \"never\", \"new\", \"new\", \"new\", \"new\", \"news\", \"next\", \"next\", \"next\", \"nice\", \"night\", \"nntp_poste\", \"nntp_poste\", \"nntp_posting\", \"noise\", \"non\", \"non\", \"non\", \"non\", \"normal\", \"northern\", \"note\", \"note\", \"note\", \"note\", \"notice\", \"nuclear\", \"number\", \"number\", \"number\", \"number\", \"number\", \"number\", \"number\", \"object\", \"objective\", \"observation\", \"observer\", \"obtain\", \"obviously\", \"occupy\", \"offense\", \"offense\", \"office\", \"official\", \"often\", \"oil\", \"ok\", \"old\", \"old\", \"old\", \"operate\", \"operation\", \"opportunity\", \"orbit\", \"order\", \"order\", \"order\", \"organization\", \"origin\", \"other\", \"other\", \"other\", \"owner\", \"ozone\", \"package\", \"page\", \"panel\", \"park\", \"part\", \"part\", \"part\", \"part\", \"part\", \"particular\", \"particularly\", \"pass\", \"past\", \"patient\", \"pay\", \"pay\", \"pc\", \"pen\", \"penguin\", \"people\", \"people\", \"people\", \"people\", \"people\", \"percent\", \"percentage\", \"perform\", \"perform\", \"period\", \"person\", \"person\", \"physics\", \"pick\", \"pick\", \"pitch\", \"place\", \"place\", \"plan\", \"plan\", \"plan\", \"plane\", \"planetary\", \"play\", \"player\", \"point\", \"point\", \"point\", \"point\", \"police\", \"policy\", \"policy\", \"policy\", \"pop\", \"portable\", \"possibly\", \"post\", \"post\", \"post\", \"power\", \"power\", \"powerful\", \"predict\", \"predict\", \"prefer\", \"press\", \"pretty\", \"price\", \"primarily\", \"privacy\", \"private\", \"pro\", \"probably\", \"probe\", \"problem\", \"problem\", \"problem\", \"problem\", \"procedure\", \"proceed\", \"process\", \"process\", \"produce\", \"produce\", \"product\", \"production\", \"program\", \"program\", \"program\", \"prohibit\", \"project\", \"proposal\", \"protect\", \"protect\", \"protect\", \"prove\", \"provide\", \"provide\", \"provide\", \"provide\", \"provide\", \"provide\", \"public\", \"public\", \"publish\", \"pull\", \"purchase\", \"push\", \"question\", \"question\", \"question\", \"question\", \"question\", \"quit\", \"radiation\", \"rain\", \"ram\", \"rate\", \"rational\", \"rbi\", \"read\", \"read\", \"read\", \"read\", \"read\", \"read\", \"reading\", \"reality\", \"really\", \"reason\", \"reason\", \"recall\", \"receive\", \"receiver\", \"recommend\", \"recommendation\", \"record\", \"record\", \"reduce\", \"reduce\", \"reflection\", \"regularly\", \"regulation\", \"relate\", \"relate\", \"related\", \"reliable\", \"religion\", \"religious\", \"rely\", \"reply\", \"reply\", \"reply\", \"report\", \"report\", \"requirement\", \"research\", \"research\", \"resource\", \"respect\", \"restrict\", \"result\", \"result\", \"return\", \"return\", \"return\", \"revelation\", \"review\", \"revolver\", \"rich\", \"ride\", \"rider\", \"right\", \"right\", \"right\", \"right\", \"risk\", \"risk\", \"risk\", \"rocket\", \"role\", \"routine\", \"rsa\", \"rule\", \"run\", \"run\", \"run\", \"run\", \"russian\", \"s\", \"sad\", \"safe\", \"safe\", \"safety\", \"safety\", \"sale\", \"sample\", \"satellite\", \"say\", \"say\", \"say\", \"say\", \"schedule\", \"scheme\", \"school\", \"science\", \"scientific\", \"score\", \"screen\", \"scripture\", \"scsi\", \"search\", \"search\", \"search\", \"season\", \"second\", \"second\", \"second\", \"second\", \"secret\", \"section\", \"secure\", \"security\", \"see\", \"see\", \"see\", \"see\", \"see\", \"seem\", \"seem\", \"seem\", \"sell\", \"send\", \"send\", \"send\", \"send\", \"send\", \"sense\", \"separate\", \"series\", \"serious\", \"server\", \"service\", \"session\", \"set\", \"set\", \"set\", \"set\", \"sgi\", \"shall\", \"shoot\", \"shoot\", \"shop\", \"should\", \"show\", \"show\", \"shuttle\", \"side\", \"side\", \"significant\", \"silence\", \"silent\", \"site\", \"sky\", \"slaughter\", \"slow\", \"society\", \"software\", \"solar\", \"soldier\", \"solid\", \"sometimes\", \"sometimes\", \"soon\", \"soon\", \"sorry\", \"sound\", \"source\", \"source\", \"source\", \"space\", \"spacecraft\", \"speaker\", \"special\", \"specific\", \"specific\", \"specifically\", \"specification\", \"speed\", \"speed\", \"split\", \"sport\", \"staff\", \"star\", \"start\", \"start\", \"stat\", \"state\", \"state\", \"state\", \"statement\", \"status\", \"steal\", \"step\", \"strength\", \"student\", \"study\", \"study\", \"success\", \"sufficient\", \"suggest\", \"sun\", \"support\", \"support\", \"sure\", \"sure\", \"surface\", \"survey\", \"survey\", \"suspect\", \"system\", \"system\", \"system\", \"system\", \"take\", \"take\", \"take\", \"take\", \"talk\", \"tap\", \"tape\", \"tax\", \"teach\", \"team\", \"technical\", \"technology\", \"technology\", \"technology\", \"telescope\", \"tell\", \"tell\", \"tell\", \"tell\", \"tend\", \"term\", \"terminal\", \"terrorism\", \"test\", \"testing\", \"text\", \"text\", \"text\", \"thank\", \"thank\", \"there\", \"therefore\", \"thing\", \"thing\", \"think\", \"think\", \"thread\", \"threat\", \"thus\", \"thus\", \"tie\", \"tiff\", \"time\", \"time\", \"time\", \"time\", \"topic\", \"total\", \"tour\", \"trade\", \"training\", \"training\", \"transport\", \"trap\", \"treatment\", \"trial\", \"tricky\", \"trigger\", \"troop\", \"true\", \"true\", \"truth\", \"try\", \"try\", \"try\", \"try\", \"turk\", \"turkish\", \"turn\", \"turn\", \"type\", \"type\", \"typically\", \"understanding\", \"univ\", \"universe\", \"unknown\", \"unlikely\", \"unusual\", \"upgrade\", \"use\", \"use\", \"use\", \"use\", \"use\", \"use\", \"use\", \"use\", \"usenet\", \"user\", \"user\", \"usually\", \"usually\", \"usually\", \"value\", \"vehicle\", \"version\", \"video\", \"view\", \"view\", \"village\", \"violate\", \"vitamin\", \"vote\", \"wait\", \"want\", \"want\", \"war\", \"warrant\", \"wash\", \"watch\", \"watch\", \"water\", \"wave\", \"way\", \"way\", \"way\", \"way\", \"way\", \"weapon\", \"wear\", \"week\", \"weight\", \"well\", \"well\", \"well\", \"well\", \"well\", \"white\", \"whole\", \"widget\", \"will\", \"win\", \"window\", \"wing\", \"wire\", \"wish\", \"withdraw\", \"woman\", \"woman\", \"wonder\", \"word\", \"word\", \"work\", \"work\", \"work\", \"work\", \"working\", \"workstation\", \"world\", \"world\", \"world\", \"worry\", \"worthwhile\", \"would\", \"would\", \"year\", \"year\", \"year\", \"yet\", \"yet\", \"yet\", \"young\"]}, \"R\": 30, \"lambda.step\": 0.01, \"plot.opts\": {\"xlab\": \"PC1\", \"ylab\": \"PC2\"}, \"topic.order\": [15, 6, 12, 14, 7, 9, 20, 16, 19, 8, 13, 17, 18, 3, 2, 5, 10, 4, 11, 1]};\n",
              "\n",
              "function LDAvis_load_lib(url, callback){\n",
              "  var s = document.createElement('script');\n",
              "  s.src = url;\n",
              "  s.async = true;\n",
              "  s.onreadystatechange = s.onload = callback;\n",
              "  s.onerror = function(){console.warn(\"failed to load library \" + url);};\n",
              "  document.getElementsByTagName(\"head\")[0].appendChild(s);\n",
              "}\n",
              "\n",
              "if(typeof(LDAvis) !== \"undefined\"){\n",
              "   // already loaded: just create the visualization\n",
              "   !function(LDAvis){\n",
              "       new LDAvis(\"#\" + \"ldavis_el483091405521639190083403866753\", ldavis_el483091405521639190083403866753_data);\n",
              "   }(LDAvis);\n",
              "}else if(typeof define === \"function\" && define.amd){\n",
              "   // require.js is available: use it to load d3/LDAvis\n",
              "   require.config({paths: {d3: \"https://d3js.org/d3.v5\"}});\n",
              "   require([\"d3\"], function(d3){\n",
              "      window.d3 = d3;\n",
              "      LDAvis_load_lib(\"https://cdn.jsdelivr.net/gh/bmabey/pyLDAvis@3.2.2/pyLDAvis/js/ldavis.v3.0.0.js\", function(){\n",
              "        new LDAvis(\"#\" + \"ldavis_el483091405521639190083403866753\", ldavis_el483091405521639190083403866753_data);\n",
              "      });\n",
              "    });\n",
              "}else{\n",
              "    // require.js not available: dynamically load d3 & LDAvis\n",
              "    LDAvis_load_lib(\"https://d3js.org/d3.v5.js\", function(){\n",
              "         LDAvis_load_lib(\"https://cdn.jsdelivr.net/gh/bmabey/pyLDAvis@3.2.2/pyLDAvis/js/ldavis.v3.0.0.js\", function(){\n",
              "                 new LDAvis(\"#\" + \"ldavis_el483091405521639190083403866753\", ldavis_el483091405521639190083403866753_data);\n",
              "            })\n",
              "         });\n",
              "}\n",
              "</script>"
            ],
            "text/plain": [
              "PreparedData(topic_coordinates=              x         y  topics  cluster       Freq\n",
              "topic                                                \n",
              "14    -0.282514 -0.056498       1        1  22.247072\n",
              "5     -0.279435 -0.019724       2        1  12.727841\n",
              "11    -0.116220  0.233202       3        1  12.067802\n",
              "13    -0.226382 -0.111975       4        1  11.186010\n",
              "6     -0.143628 -0.027520       5        1   7.532973\n",
              "8     -0.096967  0.015494       6        1   6.243390\n",
              "19     0.141170 -0.117025       7        1   5.269798\n",
              "15     0.062914  0.150095       8        1   2.888202\n",
              "18     0.080344  0.213750       9        1   2.654690\n",
              "7      0.053462  0.095667      10        1   2.578028\n",
              "12     0.006495  0.221696      11        1   2.567292\n",
              "16     0.000686 -0.137858      12        1   2.201473\n",
              "17    -0.041838 -0.102814      13        1   2.165380\n",
              "2      0.112816  0.005505      14        1   1.270375\n",
              "1      0.094097 -0.071927      15        1   1.190032\n",
              "4      0.107399 -0.114967      16        1   1.154864\n",
              "9      0.137089 -0.022394      17        1   1.142145\n",
              "3      0.147913 -0.088031      18        1   1.119033\n",
              "10     0.117253  0.041414      19        1   0.944239\n",
              "0      0.125346 -0.106090      20        1   0.849363, topic_info=          Term          Freq         Total Category  logprob  loglift\n",
              "2821        ax  42743.000000  42743.000000  Default  30.0000  30.0000\n",
              "120        may   6854.000000   6854.000000  Default  29.0000  29.0000\n",
              "297      would  11790.000000  11790.000000  Default  28.0000  28.0000\n",
              "139   question   3067.000000   3067.000000  Default  27.0000  27.0000\n",
              "130     people   6725.000000   6725.000000  Default  26.0000  26.0000\n",
              "...        ...           ...           ...      ...      ...      ...\n",
              "1641   protect    164.079063    684.175397  Topic20  -3.9998   3.3406\n",
              "854       safe    125.206276    381.246489  Topic20  -4.2702   3.6550\n",
              "1347       arm    103.501581    326.634884  Topic20  -4.4606   3.6192\n",
              "765       city    111.934618    605.112273  Topic20  -4.3822   3.0809\n",
              "1410  training     73.379282    142.946283  Topic20  -4.8045   4.1016\n",
              "\n",
              "[906 rows x 6 columns], token_table=      Topic      Freq      Term\n",
              "term                           \n",
              "413      17  0.990813  absolute\n",
              "698      18  0.992099     abuse\n",
              "1055      2  0.998261    accept\n",
              "76       16  0.998754    access\n",
              "1688     16  0.994466  accurate\n",
              "...     ...       ...       ...\n",
              "36       13  0.007891      year\n",
              "217       5  0.829202       yet\n",
              "217       6  0.138200       yet\n",
              "217      11  0.031798       yet\n",
              "506       5  0.998571     young\n",
              "\n",
              "[1289 rows x 3 columns], R=30, lambda_step=0.01, plot_opts={'xlab': 'PC1', 'ylab': 'PC2'}, topic_order=[15, 6, 12, 14, 7, 9, 20, 16, 19, 8, 13, 17, 18, 3, 2, 5, 10, 4, 11, 1])"
            ]
          },
          "execution_count": 34,
          "metadata": {},
          "output_type": "execute_result"
        }
      ],
      "source": []
    },
    {
      "cell_type": "code",
      "execution_count": null,
      "metadata": {
        "id": "8UOQEReNLNit"
      },
      "outputs": [],
      "source": []
    }
  ],
  "metadata": {
    "colab": {
      "provenance": []
    },
    "kernelspec": {
      "display_name": "testing",
      "language": "python",
      "name": "testing"
    },
    "language_info": {
      "codemirror_mode": {
        "name": "ipython",
        "version": 3
      },
      "file_extension": ".py",
      "mimetype": "text/x-python",
      "name": "python",
      "nbconvert_exporter": "python",
      "pygments_lexer": "ipython3",
      "version": "3.8.5"
    }
  },
  "nbformat": 4,
  "nbformat_minor": 0
}