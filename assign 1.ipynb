{
 "cells": [
  {
   "cell_type": "code",
   "execution_count": 1,
   "metadata": {},
   "outputs": [
    {
     "name": "stdout",
     "output_type": "stream",
     "text": [
      "  Feature Extractor                Algorithm  Accuracy\n",
      "0   CountVectorizer  Multinomial Naive Bayes  0.772836\n",
      "1   CountVectorizer           Decision Trees  0.567313\n",
      "2   TfidfVectorizer  Multinomial Naive Bayes  0.773898\n",
      "3   TfidfVectorizer           Decision Trees  0.555762\n"
     ]
    }
   ],
   "source": [
    "import pandas as pd\n",
    "from sklearn.datasets import fetch_20newsgroups\n",
    "from sklearn.feature_extraction.text import CountVectorizer, TfidfVectorizer\n",
    "from sklearn.naive_bayes import MultinomialNB\n",
    "from sklearn.tree import DecisionTreeClassifier\n",
    "from sklearn.metrics import accuracy_score\n",
    "\n",
    "# Fetch 20 Newsgroups dataset\n",
    "newsgroups_train = fetch_20newsgroups(subset='train')\n",
    "newsgroups_test = fetch_20newsgroups(subset='test')\n",
    "\n",
    "# Define feature extractors\n",
    "count_vectorizer = CountVectorizer()\n",
    "tfidf_vectorizer = TfidfVectorizer()\n",
    "\n",
    "# Define algorithms\n",
    "algorithms = {\n",
    "    'Multinomial Naive Bayes': MultinomialNB(),\n",
    "    'Decision Trees': DecisionTreeClassifier()\n",
    "}\n",
    "\n",
    "# Benchmark results\n",
    "results = []\n",
    "\n",
    "for feature_extractor in [count_vectorizer, tfidf_vectorizer]:\n",
    "    X_train = feature_extractor.fit_transform(newsgroups_train.data)\n",
    "    X_test = feature_extractor.transform(newsgroups_test.data)\n",
    "    \n",
    "    for name, algo in algorithms.items():\n",
    "        algo.fit(X_train, newsgroups_train.target)\n",
    "        y_pred = algo.predict(X_test)\n",
    "        accuracy = accuracy_score(newsgroups_test.target, y_pred)\n",
    "        results.append({\n",
    "            'Feature Extractor': feature_extractor.__class__.__name__,\n",
    "            'Algorithm': name,\n",
    "            'Accuracy': accuracy\n",
    "        })\n",
    "\n",
    "# Display results in a table\n",
    "benchmark_table = pd.DataFrame(results)\n",
    "print(benchmark_table)"
   ]
  },
  {
   "cell_type": "code",
   "execution_count": null,
   "metadata": {},
   "outputs": [],
   "source": []
  }
 ],
 "metadata": {
  "kernelspec": {
   "display_name": "myenv",
   "language": "python",
   "name": "python3"
  },
  "language_info": {
   "codemirror_mode": {
    "name": "ipython",
    "version": 3
   },
   "file_extension": ".py",
   "mimetype": "text/x-python",
   "name": "python",
   "nbconvert_exporter": "python",
   "pygments_lexer": "ipython3",
   "version": "3.11.4"
  }
 },
 "nbformat": 4,
 "nbformat_minor": 2
}
