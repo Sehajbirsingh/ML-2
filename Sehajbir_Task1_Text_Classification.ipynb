{
 "cells": [
  {
   "cell_type": "code",
   "execution_count": 3,
   "metadata": {},
   "outputs": [
    {
     "name": "stdout",
     "output_type": "stream",
     "text": [
      "\n",
      "Benchmark Results:\n",
      "                 Model Accuracy   Time\n",
      "0             NB-Count    0.914  0.01s\n",
      "1             LR-Count    0.904  0.02s\n",
      "2            SVM-Count    0.888  0.00s\n",
      "3   DecisionTree-Count    0.853  0.03s\n",
      "4            NB-TF-IDF    0.900  0.01s\n",
      "5            LR-TF-IDF    0.907  0.00s\n",
      "6           SVM-TF-IDF    0.912  0.00s\n",
      "7  DecisionTree-TF-IDF    0.842  0.04s\n"
     ]
    }
   ],
   "source": [
    "import pandas as pd\n",
    "from sklearn.datasets import fetch_20newsgroups\n",
    "from sklearn.feature_extraction.text import CountVectorizer, TfidfVectorizer\n",
    "from sklearn.naive_bayes import MultinomialNB\n",
    "from sklearn.linear_model import LogisticRegression\n",
    "from sklearn.svm import LinearSVC\n",
    "from sklearn.tree import DecisionTreeClassifier\n",
    "from sklearn.metrics import accuracy_score\n",
    "from time import time\n",
    "\n",
    "# Load minimal dataset\n",
    "categories = ['alt.atheism', 'comp.graphics']\n",
    "newsgroups_train = fetch_20newsgroups(subset='train', categories=categories, \n",
    "                                     remove=('headers', 'footers', 'quotes'))\n",
    "newsgroups_test = fetch_20newsgroups(subset='test', categories=categories, \n",
    "                                    remove=('headers', 'footers', 'quotes'))\n",
    "\n",
    "# Configure vectorizers\n",
    "vectorizers = {\n",
    "    'Count': CountVectorizer(max_features=500, stop_words='english'),\n",
    "    'TF-IDF': TfidfVectorizer(max_features=500, stop_words='english')\n",
    "}\n",
    "\n",
    "# Configure classifiers\n",
    "classifiers = {\n",
    "    'NB': MultinomialNB(),\n",
    "    'LR': LogisticRegression(max_iter=100, solver='liblinear'),\n",
    "    'SVM': LinearSVC(max_iter=100, tol=0.01),\n",
    "    'DecisionTree': DecisionTreeClassifier(max_depth=50, min_samples_split=5)\n",
    "}\n",
    "\n",
    "# Benchmark results\n",
    "results = []\n",
    "\n",
    "for vec_name, vectorizer in vectorizers.items():\n",
    "    # Transform data\n",
    "    X_train = vectorizer.fit_transform(newsgroups_train.data)\n",
    "    X_test = vectorizer.transform(newsgroups_test.data)\n",
    "    \n",
    "    for clf_name, clf in classifiers.items():\n",
    "        start_time = time()\n",
    "        clf.fit(X_train, newsgroups_train.target)\n",
    "        y_pred = clf.predict(X_test)\n",
    "        train_time = time() - start_time\n",
    "        \n",
    "        accuracy = accuracy_score(newsgroups_test.target, y_pred)\n",
    "        results.append({\n",
    "            'Model': f'{clf_name}-{vec_name}',\n",
    "            'Accuracy': f'{accuracy:.3f}',\n",
    "            'Time': f'{train_time:.2f}s'\n",
    "        })\n",
    "\n",
    "# Print results\n",
    "print(\"\\nBenchmark Results:\")\n",
    "print(pd.DataFrame(results))"
   ]
  },
  {
   "cell_type": "code",
   "execution_count": null,
   "metadata": {},
   "outputs": [],
   "source": []
  }
 ],
 "metadata": {
  "kernelspec": {
   "display_name": "myenv",
   "language": "python",
   "name": "python3"
  },
  "language_info": {
   "codemirror_mode": {
    "name": "ipython",
    "version": 3
   },
   "file_extension": ".py",
   "mimetype": "text/x-python",
   "name": "python",
   "nbconvert_exporter": "python",
   "pygments_lexer": "ipython3",
   "version": "3.11.4"
  }
 },
 "nbformat": 4,
 "nbformat_minor": 2
}
