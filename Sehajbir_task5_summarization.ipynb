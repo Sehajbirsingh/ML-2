{
 "cells": [
  {
   "cell_type": "code",
   "execution_count": 1,
   "metadata": {},
   "outputs": [],
   "source": [
    "#! pip install sumy"
   ]
  },
  {
   "cell_type": "code",
   "execution_count": 2,
   "metadata": {},
   "outputs": [],
   "source": [
    "#! pip install lxml[html_clean]"
   ]
  },
  {
   "cell_type": "code",
   "execution_count": 3,
   "metadata": {},
   "outputs": [
    {
     "name": "stderr",
     "output_type": "stream",
     "text": [
      "[nltk_data] Downloading package punkt_tab to\n",
      "[nltk_data]     C:\\Users\\imehe\\AppData\\Roaming\\nltk_data...\n",
      "[nltk_data]   Package punkt_tab is already up-to-date!\n"
     ]
    },
    {
     "data": {
      "text/plain": [
       "True"
      ]
     },
     "execution_count": 3,
     "metadata": {},
     "output_type": "execute_result"
    }
   ],
   "source": [
    "import nltk\n",
    "nltk.download('punkt_tab')"
   ]
  },
  {
   "cell_type": "code",
   "execution_count": 4,
   "metadata": {},
   "outputs": [
    {
     "name": "stderr",
     "output_type": "stream",
     "text": [
      "c:\\Users\\imehe\\AppData\\Local\\Programs\\Python\\Python312\\Lib\\site-packages\\gensim\\utils.py:1212: UserWarning: detected Windows; aliasing chunkize to chunkize_serial\n",
      "  warnings.warn(\"detected Windows; aliasing chunkize to chunkize_serial\")\n"
     ]
    }
   ],
   "source": [
    "from sumy.parsers.html import HtmlParser\n",
    "from sumy.nlp.tokenizers import Tokenizer\n",
    "from sumy.summarizers.text_rank import TextRankSummarizer\n",
    "from sumy.summarizers.lex_rank import LexRankSummarizer\n",
    "from sumy.summarizers.luhn import LuhnSummarizer\n",
    "from sumy.summarizers.lsa import LsaSummarizer\n",
    "from summa import summarizer as summa_summarizer\n",
    "from gensim.summarization import summarize\n",
    "import requests\n",
    "from bs4 import BeautifulSoup"
   ]
  },
  {
   "cell_type": "code",
   "execution_count": 5,
   "metadata": {},
   "outputs": [],
   "source": [
    "def get_page(url):\n",
    "    res = requests.get(url)\n",
    "    soup = BeautifulSoup(res.text, 'html.parser')\n",
    "    return soup"
   ]
  },
  {
   "cell_type": "code",
   "execution_count": 6,
   "metadata": {},
   "outputs": [],
   "source": [
    "def collect_text(soup):\n",
    "    text = \"\"\n",
    "    for para in soup.find_all('p'):\n",
    "        text += para.text + \"\\n\\n\"\n",
    "    return text"
   ]
  },
  {
   "cell_type": "code",
   "execution_count": 7,
   "metadata": {},
   "outputs": [],
   "source": [
    "url = \"https://medium.com/@subashgandyer/papa-what-is-a-neural-network-c5e5cc427c7\"\n",
    "text = collect_text(get_page(url))"
   ]
  },
  {
   "cell_type": "code",
   "execution_count": 8,
   "metadata": {},
   "outputs": [],
   "source": [
    "summaries = {}"
   ]
  },
  {
   "cell_type": "code",
   "execution_count": 9,
   "metadata": {},
   "outputs": [],
   "source": [
    "parser = HtmlParser.from_url(url, Tokenizer(\"english\"))\n",
    "text_rank_summarizer = TextRankSummarizer()\n",
    "summaries['TextRank'] = \"\\n\".join([str(sentence) for sentence in text_rank_summarizer(parser.document, 5)])\n"
   ]
  },
  {
   "cell_type": "code",
   "execution_count": 10,
   "metadata": {},
   "outputs": [],
   "source": [
    "lex_rank_summarizer = LexRankSummarizer()\n",
    "summaries['LexRank'] = \"\\n\".join([str(sentence) for sentence in lex_rank_summarizer(parser.document, 5)])\n"
   ]
  },
  {
   "cell_type": "code",
   "execution_count": 11,
   "metadata": {},
   "outputs": [],
   "source": [
    "luhn_summarizer = LuhnSummarizer()\n",
    "summaries['Luhn'] = \"\\n\".join([str(sentence) for sentence in luhn_summarizer(parser.document, 5)])\n"
   ]
  },
  {
   "cell_type": "code",
   "execution_count": 12,
   "metadata": {},
   "outputs": [],
   "source": [
    "lsa_summarizer = LsaSummarizer()\n",
    "summaries['LSA'] = \"\\n\".join([str(sentence) for sentence in lsa_summarizer(parser.document, 5)])\n"
   ]
  },
  {
   "cell_type": "code",
   "execution_count": 13,
   "metadata": {},
   "outputs": [],
   "source": [
    "try:\n",
    "    gensim_summary_text = summarize(text, word_count=200)\n",
    "    summaries['Gensim'] = gensim_summary_text\n",
    "except ValueError:\n",
    "    summaries['Gensim'] = \"Gensim summarization failed.\""
   ]
  },
  {
   "cell_type": "code",
   "execution_count": 14,
   "metadata": {},
   "outputs": [],
   "source": [
    "summaries['Summa'] = summa_summarizer.summarize(text, ratio=0.1)"
   ]
  },
  {
   "cell_type": "code",
   "execution_count": 16,
   "metadata": {},
   "outputs": [
    {
     "name": "stdout",
     "output_type": "stream",
     "text": [
      "Summaries have been written to 'summaries_comparison.txt'. You can now evaluate which is best.\n"
     ]
    }
   ],
   "source": [
    "with open(\"summaries_comparison.txt\", \"w\") as file:\n",
    "    file.write(\"Summarization Comparison\\n\")\n",
    "    file.write(\"=\" * 30 + \"\\n\\n\")\n",
    "    for method, summary in summaries.items():\n",
    "        file.write(f\"{method} Summary:\\n{'-' * 20}\\n{summary}\\n\\n\")\n",
    "\n",
    "\n",
    "\n",
    "print(\"Summaries have been written to 'summaries_comparison.txt'. You can now evaluate which is best.\")"
   ]
  },
  {
   "cell_type": "markdown",
   "metadata": {},
   "source": [
    "<p style = \"color: blue; font-size: 20px; font-family: Georgia; font-weight: bold; text-align:center;\"> Sumy Text rank is the best because it effectively captured the essence of the text and provided a clear and concise summary. It was able to identify the main points. It was able to identify the main points and provide a clear and concise summary. it was a conversation and the summary captured the questions and answer effectively. I will use it in this use case because it was more effective than the other tools. </p>"
   ]
  }
 ],
 "metadata": {
  "kernelspec": {
   "display_name": "Python 3",
   "language": "python",
   "name": "python3"
  },
  "language_info": {
   "codemirror_mode": {
    "name": "ipython",
    "version": 3
   },
   "file_extension": ".py",
   "mimetype": "text/x-python",
   "name": "python",
   "nbconvert_exporter": "python",
   "pygments_lexer": "ipython3",
   "version": "3.12.1"
  }
 },
 "nbformat": 4,
 "nbformat_minor": 2
}
